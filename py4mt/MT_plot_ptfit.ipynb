{
 "cells": [
  {
   "cell_type": "code",
   "execution_count": null,
   "id": "dd00e2f5",
   "metadata": {},
   "outputs": [],
   "source": [
    "import os\n",
    "import sys\n",
    "import warnings\n",
    "import time"
   ]
  },
  {
   "cell_type": "code",
   "execution_count": null,
   "id": "f0465be2",
   "metadata": {},
   "outputs": [],
   "source": [
    "from sys import exit as error\n",
    "from datetime import datetime"
   ]
  },
  {
   "cell_type": "code",
   "execution_count": null,
   "id": "b1be7ebf",
   "metadata": {},
   "outputs": [],
   "source": [
    "import numpy as np\n",
    "import matplotlib as mpl\n",
    "import matplotlib.pyplot as plt\n",
    "from cycler import cycler\n",
    "import pyproj as proj"
   ]
  },
  {
   "cell_type": "code",
   "execution_count": null,
   "id": "7179e2fc",
   "metadata": {},
   "outputs": [],
   "source": [
    "mypath = [\"/home/vrath/Py4MT/py4mt/modules/\",\n",
    "          \"/home/vrath/Py4MT/py4mt/scripts/\"]\n",
    "for pth in mypath:\n",
    "    if pth not in sys.path:\n",
    "        sys.path.insert(0,pth)"
   ]
  },
  {
   "cell_type": "code",
   "execution_count": null,
   "id": "79e4a154",
   "metadata": {},
   "outputs": [],
   "source": [
    "import mtplots as mtp"
   ]
  },
  {
   "cell_type": "markdown",
   "id": "4dec610e",
   "metadata": {},
   "source": [
    "import gdal\n",
    "import scipy as sc\n",
    "import vtk\n",
    "import pyvista as pv\n",
    "import pyvistaqt as pvqt\n",
    "import discretize\n",
    "import tarfile\n",
    "import pylab as pl\n",
    "from time import sleep"
   ]
  },
  {
   "cell_type": "code",
   "execution_count": null,
   "id": "eb29e13e",
   "metadata": {},
   "outputs": [],
   "source": [
    "import mtplots as mtp\n",
    "import modem as mod\n",
    "import util as utl\n",
    "from version import versionstrg"
   ]
  },
  {
   "cell_type": "code",
   "execution_count": null,
   "id": "9aeffd81",
   "metadata": {
    "lines_to_next_cell": 2
   },
   "outputs": [],
   "source": [
    "Strng, _ = versionstrg()\n",
    "now = datetime.now()\n",
    "print(\"\\n\\n\"+Strng)\n",
    "print(\"Plot Phase Tensor fit\"+\"\\n\"+\"\".join(\"Date \" + now.strftime(\"%m/%d/%Y, %H:%M:%S\")))\n",
    "print(\"\\n\\n\")"
   ]
  },
  {
   "cell_type": "code",
   "execution_count": null,
   "id": "b5feeb87",
   "metadata": {
    "lines_to_next_cell": 2
   },
   "outputs": [],
   "source": [
    "warnings.simplefilter(action=\"ignore\", category=FutureWarning)"
   ]
  },
  {
   "cell_type": "markdown",
   "id": "fce2a5fe",
   "metadata": {},
   "source": [
    "Graphical paramter. Determine the plot formats produced,\n",
    "and the required resolution:"
   ]
  },
  {
   "cell_type": "code",
   "execution_count": null,
   "id": "ab6229f7",
   "metadata": {},
   "outputs": [],
   "source": [
    "_, Fontsize, Labelsize, Linewidth, Lcycle, Grey = mtp.get_plot_params()"
   ]
  },
  {
   "cell_type": "code",
   "execution_count": null,
   "id": "a952f173",
   "metadata": {},
   "outputs": [],
   "source": [
    "PlotFormat = [\".pdf\", \".png\"]"
   ]
  },
  {
   "cell_type": "code",
   "execution_count": null,
   "id": "37971206",
   "metadata": {},
   "outputs": [],
   "source": [
    "plt.style.use('seaborn-white')\n",
    "# PredFile = r\"/home/vrath/Py4MT/py4mt/tmp/FBB902A_calculated\"\n",
    "# ObsvFile = r\"/home/vrath/Py4MT/py4mt/tmp/FBB902A_observed\"\n",
    "PredFile = r\"/home/vrath/work/MT/Fogo/final_inversions/PTT_100s/run3_NLCG_039_Refsite_FOG933A\"\n",
    "ObsvFile = r\"/home/vrath/work/MT/Fogo/final_inversions/PTT_100s/fogo_modem_phaset_tip_100s_data_Refsite_FOG933A\""
   ]
  },
  {
   "cell_type": "code",
   "execution_count": null,
   "id": "24ceb915",
   "metadata": {},
   "outputs": [],
   "source": [
    "PlotFile = PredFile+\"_PT_\""
   ]
  },
  {
   "cell_type": "code",
   "execution_count": null,
   "id": "38af073b",
   "metadata": {},
   "outputs": [],
   "source": [
    "\"\"\"\n",
    "\n",
    "\"\"\"\n",
    "EPSG = 5015"
   ]
  },
  {
   "cell_type": "code",
   "execution_count": null,
   "id": "d94e0653",
   "metadata": {},
   "outputs": [],
   "source": [
    "start = time.time()"
   ]
  },
  {
   "cell_type": "code",
   "execution_count": null,
   "id": "532592c9",
   "metadata": {},
   "outputs": [],
   "source": [
    "FF = ObsvFile\n",
    "Siteo, Comp, Data, Head = mod.read_data(FF+\".dat\")\n",
    "obs_dat = Data[:, 6]\n",
    "obs_err = Data[:, 7]\n",
    "obs_per = Data[:, 0]\n",
    "obs_cmp = Comp\n",
    "lat = Data[:,1]\n",
    "lon = Data[:,2]\n",
    "x = Data[:,3]\n",
    "y = Data[:,4]\n",
    "z = Data[:,5]"
   ]
  },
  {
   "cell_type": "code",
   "execution_count": null,
   "id": "3e20dac3",
   "metadata": {},
   "outputs": [],
   "source": [
    "FF = PredFile\n",
    "Sitec, Comp, Data, Head = mod.read_data(FF+\".dat\")\n",
    "cal_dat= Data[:, 6]\n",
    "cal_per= Data[:, 0]\n",
    "cal_cmp= Comp"
   ]
  },
  {
   "cell_type": "code",
   "execution_count": null,
   "id": "6273c4f7",
   "metadata": {},
   "outputs": [],
   "source": []
  },
  {
   "cell_type": "code",
   "execution_count": null,
   "id": "56aac369",
   "metadata": {},
   "outputs": [],
   "source": [
    "Sites = np.unique(Siteo)"
   ]
  },
  {
   "cell_type": "code",
   "execution_count": null,
   "id": "44606521",
   "metadata": {},
   "outputs": [],
   "source": [
    "for s in Sites[0:3]:\n",
    "\n",
    "    site = (Siteo==s)\n",
    "    print(s, site)\n",
    "    site_dobs = obs_dat[site].copy()\n",
    "    site_errs = obs_err[site].copy()\n",
    "    site_ocmp = obs_cmp[site].copy()\n",
    "    site_oper = obs_per[site].copy()\n",
    "    site_lat = lat[site][0].copy()\n",
    "    site_lon = lon[site][0].copy()\n",
    "    site_utmx, site_utmy = utl.proj_latlon_to_utm(site_lat, site_lon, utm_zone=EPSG)\n",
    "    site_utmx = int(np.round(site_utmx))\n",
    "    site_utmy = int(np.round(site_utmy))\n",
    "    site_elev = z[site][0]\n",
    "\n",
    "\n",
    "    site = (Sitec==s)\n",
    "    site_dcal = cal_dat[site].copy()\n",
    "    site_ccmp = cal_cmp[site].copy()\n",
    "    site_cper = cal_per[site].copy()\n",
    "\n",
    "    cmp =\"PTXX\"\n",
    "    cmpo = (site_ocmp==cmp)\n",
    "    PTxxo = site_dobs[cmpo]\n",
    "    PTxxe = site_errs[cmpo]\n",
    "    Perxxo = site_oper[cmpo]\n",
    "    cmpc = (site_ccmp==cmp)\n",
    "    PTxxc = site_dcal[cmpc]\n",
    "    Perxxc = site_cper[cmpc]\n",
    "    print(Perxxc)\n",
    "    print(PTxxc)\n",
    "\n",
    "    cmp =\"PTXY\"\n",
    "    cmpo = (site_ocmp==cmp)\n",
    "    PTxyo = site_dobs[cmpo]\n",
    "    PTxye = site_errs[cmpo]\n",
    "    Perxyo = site_oper[cmpo]\n",
    "    cmpc = (site_ccmp==cmp)\n",
    "    PTxyc = site_dcal[cmpc]\n",
    "    Perxyc = site_cper[cmpc]\n",
    "\n",
    "    cmp =\"PTYX\"\n",
    "    cmpo = (site_ocmp==cmp)\n",
    "    PTyxo = site_dobs[cmpo]\n",
    "    PTyxe = site_errs[cmpo]\n",
    "    Peryxo = site_oper[cmpo]\n",
    "    cmpc = (site_ccmp==cmp)\n",
    "    PTyxc = site_dcal[cmpc]\n",
    "    Peryxc = site_cper[cmpc]\n",
    "\n",
    "    cmp =\"PTYY\"\n",
    "    cmpo = (site_ocmp==cmp)\n",
    "    PTyyo = site_dobs[cmpo]\n",
    "    PTyye = site_errs[cmpo]\n",
    "    Peryyo = site_oper[cmpo]\n",
    "    cmpc = (site_ccmp==cmp)\n",
    "    PTyyc = site_dcal[cmpc]\n",
    "    Peryyc = site_cper[cmpc]\n",
    "\n",
    "\n",
    "\n",
    "    # mpl.rcParams[\"figure.dpi\"] = 300\n",
    "    fig, axes = plt.subplots(2, 2)\n",
    "    fig.suptitle(r\"Site: \"+s\n",
    "                 +\"  /  Lat: \"+str(site_lat)+\"   Lon: \"+str(site_lon)\n",
    "                 +\"  /  UTMX: \"+str(site_utmx)+\"   UTMY: \"+str(site_utmy)\n",
    "                 +\" (EPSG=\"+str(EPSG)+\")  /  Elev: \"+ str(site_elev)+\" m\",\n",
    "                 ha=\"left\", x=0.,fontsize=Fontsize)\n",
    "\n",
    "\n",
    "    axes[0,0].plot(Perxxc, PTxxc, \"-r\")\n",
    "    axes[0,0].errorbar(Perxxo,PTxxo, yerr=PTxxe,\n",
    "                            linestyle=\"\",\n",
    "                            marker=\"o\",\n",
    "                            color=\"b\",\n",
    "                            lw=0.99,\n",
    "                            markersize=5)\n",
    "    axes[0,0].set_ylabel(\"PTXX\", fontsize=Fontsize)\n",
    "    axes[0,0].xaxis.set_ticklabels([])\n",
    "    axes[0,0].grid(\"major\", \"both\", linestyle=\":\", lw=0.8)\n",
    "    axes[0,0].set_xscale(\"log\")\n",
    "\n",
    "\n",
    "    axes[0,1].plot(Perxyc, PTxyc, \"-r\")\n",
    "    axes[0,1].errorbar(Perxyo,PTxyo, yerr=PTxye,\n",
    "                            linestyle=\"\",\n",
    "                            marker=\"o\",\n",
    "                            color=\"b\",\n",
    "                            lw=0.99,\n",
    "                            markersize=5)\n",
    "    axes[0,1].set_ylabel(\"PTXY\", fontsize=Fontsize)\n",
    "    axes[0,1].xaxis.set_ticklabels([])\n",
    "    axes[0,1].tick_params(bottom='off', labelbottom='off')\n",
    "\n",
    "    axes[0,1].grid(\"major\", \"both\", linestyle=\":\", lw=0.8)\n",
    "    axes[0,1].set_xscale(\"log\")\n",
    "\n",
    "\n",
    "    axes[1,0].plot(Peryxc, PTyxc, \"-r\")\n",
    "    axes[1,0].errorbar(Peryxo,PTyxo, yerr=PTyxe,\n",
    "                            linestyle=\"\",\n",
    "                            marker=\"o\",\n",
    "                            color=\"b\",\n",
    "                            lw=0.99,\n",
    "                            markersize=5)\n",
    "    axes[1,0].set_xlabel(\"Period (s)\", fontsize=Fontsize)\n",
    "    axes[1,0].set_ylabel(\"PTYX\", fontsize=Fontsize)\n",
    "    axes[1,0].grid(\"major\", \"both\", linestyle=\":\", lw=0.8)\n",
    "    axes[1,0].set_xscale(\"log\")\n",
    "\n",
    "    axes[1,1].plot(Peryyc, PTyyc, \"-r\")\n",
    "    axes[1,1].errorbar(Peryyo,PTyyo, yerr=PTyye,\n",
    "                            linestyle=\"\",\n",
    "                            marker=\"o\",\n",
    "                            color=\"b\",\n",
    "                            lw=0.99,\n",
    "                            markersize=5)\n",
    "    axes[1,1].set_xlabel(\"Period (s)\", fontsize=Fontsize)\n",
    "    axes[1,1].set_ylabel(\"PTYY\", fontsize=Fontsize)\n",
    "    axes[1,1].grid(\"major\", \"both\", linestyle=\":\", lw=0.8)\n",
    "    axes[1,1].set_xscale(\"log\")\n",
    "\n",
    "    fig.tight_layout()\n",
    "    plt.show()\n",
    "\n",
    "    for F in PlotFormat:\n",
    "        fig = plt.savefig(PlotFile+s+F, dpi=400)\n",
    "\n",
    "    #plt.close(fig)"
   ]
  },
  {
   "cell_type": "markdown",
   "id": "5c6d2d5d",
   "metadata": {},
   "source": [
    "elapsed = time.time() - start\n",
    "print(\"Used %7.4f s for processing data files\" % (elapsed))"
   ]
  }
 ],
 "metadata": {
  "jupytext": {
   "cell_metadata_filter": "-all",
   "formats": "py,ipynb",
   "main_language": "python"
  }
 },
 "nbformat": 4,
 "nbformat_minor": 5
}

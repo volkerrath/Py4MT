{
 "cells": [
  {
   "cell_type": "code",
   "execution_count": null,
   "metadata": {},
   "outputs": [],
   "source": [
    "'''\n",
    "@author: sb & vr oct 2019\n",
    "'''"
   ]
  },
  {
   "cell_type": "markdown",
   "metadata": {},
   "source": [
    "Import required modules"
   ]
  },
  {
   "cell_type": "code",
   "execution_count": null,
   "metadata": {},
   "outputs": [],
   "source": [
    "import os\n",
    "import csv\n",
    "import simplekml \n",
    "from mtpy.core.mt import MT"
   ]
  },
  {
   "cell_type": "markdown",
   "metadata": {},
   "source": [
    "Determine what is added to the KML-tags:\n",
    "plotsDA =  site plots produced by MT_siteplot.py, with an \n",
    "additional string strngDA added to the EDI basename.\n",
    "plotsRJ =  MCMC plots produced by MT_mcmcplot.py, with an \n",
    "additional string strnRJ added to the EDI basename."
   ]
  },
  {
   "cell_type": "code",
   "execution_count": null,
   "metadata": {},
   "outputs": [],
   "source": [
    "plotsDA = True\n",
    "strngDA = '' #'_data'"
   ]
  },
  {
   "cell_type": "code",
   "execution_count": null,
   "metadata": {},
   "outputs": [],
   "source": [
    "plotsRJ = True\n",
    "strngRJ ='_rjmcmc'"
   ]
  },
  {
   "cell_type": "markdown",
   "metadata": {},
   "source": [
    "Define the path to your EDI-files"
   ]
  },
  {
   "cell_type": "code",
   "execution_count": null,
   "metadata": {},
   "outputs": [],
   "source": [
    "edi_dir = r'/home/vrath/WestTimor/WT8C_edi/'\n",
    "print(' Edifiles read from: %s' % edi_dir)"
   ]
  },
  {
   "cell_type": "code",
   "execution_count": null,
   "metadata": {
    "lines_to_next_cell": 2
   },
   "outputs": [],
   "source": [
    "if plotsDA or plotsRJ:\n",
    "    plots_dir=r'/home/vrath/WestTimor/WT8C_plots/' #edi_dir #'NEW_plots_bbmt_roi_edit/'\n",
    "    print(' Plots read from: %s' % plots_dir)"
   ]
  },
  {
   "cell_type": "code",
   "execution_count": null,
   "metadata": {},
   "outputs": [],
   "source": [
    "# Determine which geographical info is added to the KML-tags:\n",
    "# define empty list\n",
    "places = []"
   ]
  },
  {
   "cell_type": "code",
   "execution_count": null,
   "metadata": {},
   "outputs": [],
   "source": [
    "# open file and read the content in a list\n",
    "places_file = r'/home/vrath/WestTimor/places.csv'\n",
    "with open(places_file, 'r') as f:\n",
    "    placelist = csv.reader(f, delimiter=' ')\n",
    "    for row in placelist:\n",
    "        print(row)"
   ]
  },
  {
   "cell_type": "markdown",
   "metadata": {},
   "source": [
    "Define the path for saving  kml files"
   ]
  },
  {
   "cell_type": "code",
   "execution_count": null,
   "metadata": {},
   "outputs": [],
   "source": [
    "kml_dir = './'\n",
    "kml_file = 'WT8C'"
   ]
  },
  {
   "cell_type": "code",
   "execution_count": null,
   "metadata": {},
   "outputs": [],
   "source": [
    "site_icon = 'icons/triangle.png'\n",
    "site_tcolor = simplekml.Color.white ###'#555500' #\n",
    "site_tscale = 0.8  # scale the text "
   ]
  },
  {
   "cell_type": "code",
   "execution_count": null,
   "metadata": {
    "lines_to_next_cell": 2
   },
   "outputs": [],
   "source": [
    "site_iscale = 1.\n",
    "site_icolor = simplekml.Color.red \n",
    "site_rcolor = simplekml.Color.blue \n",
    "    # simplekml.Color.rgb(0, 0, 255)\n",
    "    # 'ffff0000'"
   ]
  },
  {
   "cell_type": "markdown",
   "metadata": {},
   "source": [
    "No changes required after this line!"
   ]
  },
  {
   "cell_type": "markdown",
   "metadata": {
    "lines_to_next_cell": 2
   },
   "source": [
    "Construct list of EDI-files:"
   ]
  },
  {
   "cell_type": "code",
   "execution_count": null,
   "metadata": {
    "lines_to_next_cell": 2
   },
   "outputs": [],
   "source": [
    "edi_files=[]\n",
    "files= os.listdir(edi_dir) \n",
    "for entry in files:\n",
    "   # print(entry)\n",
    "   if entry.endswith('.edi') and not entry.startswith('.'):\n",
    "            edi_files.append(entry)"
   ]
  },
  {
   "cell_type": "markdown",
   "metadata": {},
   "source": [
    "Open kml object:"
   ]
  },
  {
   "cell_type": "code",
   "execution_count": null,
   "metadata": {},
   "outputs": [],
   "source": [
    "kml = simplekml.Kml(open=1)"
   ]
  },
  {
   "cell_type": "code",
   "execution_count": null,
   "metadata": {},
   "outputs": [],
   "source": [
    "site_iref   = kml.addfile(site_icon)\n",
    "#iref_alt1 =  kml.addfile('star.png')\n",
    "#iref_alt2 =  kml.addfile('donut.png')"
   ]
  },
  {
   "cell_type": "markdown",
   "metadata": {},
   "source": [
    "Loop over edifiles"
   ]
  },
  {
   "cell_type": "code",
   "execution_count": null,
   "metadata": {},
   "outputs": [],
   "source": [
    "for filename in edi_files :\n",
    "    #print('reading data from '+filename)\n",
    "    name, ext = os.path.splitext(filename)\n",
    "    file_i = edi_dir+filename"
   ]
  },
  {
   "cell_type": "markdown",
   "metadata": {},
   "source": [
    "Create MT object"
   ]
  },
  {
   "cell_type": "code",
   "execution_count": null,
   "metadata": {},
   "outputs": [],
   "source": [
    "    mt_obj = MT(file_i)\n",
    "    lon = mt_obj.lon\n",
    "    lat = mt_obj.lat\n",
    "    hgt = mt_obj.elev\n",
    "    full_name = mt_obj.station\n",
    "    # nam = full_name[3:] \n",
    "    nam = full_name\n",
    "    # print(full_name, nam,plots_dir+full_name+'.png')\n",
    "    # print(full_name)\n",
    "    description = ('')"
   ]
  },
  {
   "cell_type": "markdown",
   "metadata": {},
   "source": [
    " Now add the plots to tag:"
   ]
  },
  {
   "cell_type": "code",
   "execution_count": null,
   "metadata": {},
   "outputs": [],
   "source": [
    "    if plotsDA:\n",
    "        nam_DA = name+strngDA\n",
    "        print(nam_DA)\n",
    "        srcfileDA = kml.addfile(plots_dir+nam_DA+'.png')\n",
    "        descriptionDA = (\n",
    "            '<img width=\"800\" align=\"left\" src=\"'+srcfileDA+'\"/>'\n",
    "            )\n",
    "        description = description+descriptionDA\n",
    "        \n",
    "    if plotsRJ:\n",
    "        nam_RJ = name+strngRJ\n",
    "        print(nam_RJ)\n",
    "        srcfileRJ = kml.addfile(plots_dir+nam_RJ+'.png')\n",
    "        descriptionRJ = (\n",
    "            '<img width=\"900\" align=\"left\" src=\"'+srcfileRJ+'\"/>'\n",
    "            )\n",
    "        description = description+descriptionRJ\n",
    "    \n",
    "\n",
    "\n",
    "    site = kml.newpoint(name=nam) \n",
    "    site.coords = [(lon,lat,hgt)]\n",
    "    site.style.labelstyle.color = site_tcolor \n",
    "    site.style.labelstyle.scale = site_tscale\n",
    "    site.style.iconstyle.icon.href = site_iref\n",
    "    site.style.iconstyle.scale = site_iscale\n",
    "    site.style.iconstyle.color = site_icolor\n",
    "    \n",
    "    if full_name[-1:] =='R':\n",
    "        site.style.labelstyle.color =site_rcolor\n",
    "        site.style.balloonstyle.text = 'repeated site'\n",
    "        site.style.balloonstyle.textcolor = site_rcolor\n",
    "    #print(nam, mt_obj.lat, mt_obj.lon, hgt)\n",
    "        site.description = description+'  - repeated site'\n",
    "\n",
    "    site.description = description"
   ]
  },
  {
   "cell_type": "code",
   "execution_count": null,
   "metadata": {},
   "outputs": [],
   "source": [
    "    "
   ]
  },
  {
   "cell_type": "code",
   "execution_count": null,
   "metadata": {},
   "outputs": [],
   "source": [
    "kml_outfile = kml_dir+kml_file "
   ]
  },
  {
   "cell_type": "markdown",
   "metadata": {},
   "source": [
    "Save raw kml file:    "
   ]
  },
  {
   "cell_type": "code",
   "execution_count": null,
   "metadata": {},
   "outputs": [],
   "source": [
    "kml.save(kml_outfile+'.kml')"
   ]
  },
  {
   "cell_type": "markdown",
   "metadata": {},
   "source": [
    "Compressed kmz file:  "
   ]
  },
  {
   "cell_type": "code",
   "execution_count": null,
   "metadata": {},
   "outputs": [],
   "source": [
    "kml.savekmz(kml_outfile+'.kmz')"
   ]
  },
  {
   "cell_type": "code",
   "execution_count": null,
   "metadata": {},
   "outputs": [],
   "source": [
    "print('kml/z written to '+kml_file)"
   ]
  }
 ],
 "metadata": {
  "jupytext": {
   "cell_metadata_filter": "-all",
   "encoding": "# -*- coding: utf-8 -*-",
   "formats": "py:light,ipynb",
   "main_language": "python"
  }
 },
 "nbformat": 4,
 "nbformat_minor": 4
}

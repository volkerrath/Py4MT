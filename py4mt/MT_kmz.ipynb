{
 "cells": [
  {
   "cell_type": "code",
   "execution_count": null,
   "metadata": {},
   "outputs": [],
   "source": [
    "'''\n",
    "@author: sb & vr oct 2019\n",
    "'''"
   ]
  },
  {
   "cell_type": "code",
   "execution_count": null,
   "metadata": {
    "lines_to_next_cell": 2
   },
   "outputs": [],
   "source": [
    "# import required modules\n",
    "import os\n",
    "import simplekml \n",
    "from mtpy.core.mt import MT"
   ]
  },
  {
   "cell_type": "code",
   "execution_count": null,
   "metadata": {},
   "outputs": [],
   "source": [
    "plotsDA = True\n",
    "strngDA ='MT0_'\n",
    "plotsRJ = False\n",
    "strngRJ ='RJ10_'"
   ]
  },
  {
   "cell_type": "code",
   "execution_count": null,
   "metadata": {},
   "outputs": [],
   "source": [
    "# Define the path to your edi files\n",
    "edi_dir = '/home/vrath/Timor/edifiles_bbmt_roi/'\n",
    "print(' Edifiles read from: %s' % edi_dir)\n",
    "edi_files=[]\n",
    "files= os.listdir(edi_dir) \n",
    "for entry in files:\n",
    "   # print(entry)\n",
    "   if entry.endswith('.edi') and not entry.endswith('.'):\n",
    "            edi_files.append(entry)"
   ]
  },
  {
   "cell_type": "code",
   "execution_count": null,
   "metadata": {},
   "outputs": [],
   "source": []
  },
  {
   "cell_type": "code",
   "execution_count": null,
   "metadata": {},
   "outputs": [],
   "source": [
    "# Define the path to corresponding plot files\n",
    "if plotsDA or plotsRJ:\n",
    "    plots_dir='plots_bbmt_roi/'\n",
    "    print(' Plots read from: %s' % plots_dir)"
   ]
  },
  {
   "cell_type": "code",
   "execution_count": null,
   "metadata": {},
   "outputs": [],
   "source": [
    "# Define the path for saving  kml files\n",
    "kml_dir = './'\n",
    "kml_file = 'Timor_bbmt_roi'"
   ]
  },
  {
   "cell_type": "code",
   "execution_count": null,
   "metadata": {},
   "outputs": [],
   "source": [
    "# now open kml object\n",
    "kml = simplekml.Kml(open=1)"
   ]
  },
  {
   "cell_type": "code",
   "execution_count": null,
   "metadata": {},
   "outputs": [],
   "source": [
    "tcolor = simplekml.Color.white ###'#555500' #\n",
    "tscale = 0.8  # scale the text \n",
    "iref   = kml.addfile('icons/triangle.png')\n",
    "#iref_alt1 =  kml.addfile('star.png')\n",
    "#iref_alt2 =  kml.addfile('donut.png')\n",
    "iscale = 1.\n",
    "icolor = simplekml.Color.red \n",
    "rcolor = simplekml.Color.blue \n",
    "# simplekml.Color.rgb(0, 0, 255)\n",
    "# 'ffff0000'\n",
    "# loop over edifiles"
   ]
  },
  {
   "cell_type": "code",
   "execution_count": null,
   "metadata": {},
   "outputs": [],
   "source": [
    "for filename in edi_files :\n",
    "    #print('reading data from '+filename)\n",
    "    name, ext = os.path.splitext(filename)\n",
    "    file_i = edi_dir+filename\n",
    "    # Create MT object\n",
    "    mt_obj = MT(file_i)\n",
    "    lon = mt_obj.lon\n",
    "    lat = mt_obj.lat\n",
    "    hgt = mt_obj.elev\n",
    "    full_name = mt_obj.station\n",
    "    nam = full_name[3:] \n",
    "    # print(full_name, nam,plots_dir+full_name+'.png')\n",
    "    # print(full_name)\n",
    "    description = ('')\n",
    "\n",
    "    if plotsDA:\n",
    "        nam_DA = strngDA+nam\n",
    "        print(nam_DA)\n",
    "        srcfileDA = kml.addfile(plots_dir+nam_DA+'.png')\n",
    "        descriptionDA = (\n",
    "            '<img width=\"800\" align=\"left\" src=\"'+srcfileDA+'\"/>'\n",
    "            )\n",
    "        description = description+descriptionDA\n",
    "        \n",
    "    if plotsRJ:\n",
    "        nam_RJ = strngRJ+nam\n",
    "        print(nam_RJ)\n",
    "        srcfileRJ = kml.addfile(plots_dir+nam_RJ+'.png')\n",
    "        descriptionRJ = (\n",
    "            '<img width=\"900\" align=\"left\" src=\"'+srcfileRJ+'\"/>'\n",
    "            )\n",
    "        description = description+descriptionRJ\n",
    "    \n",
    "\n",
    "\n",
    "    site = kml.newpoint(name=nam) \n",
    "    site.coords = [(lon,lat,hgt)]\n",
    "    site.style.labelstyle.color = tcolor \n",
    "    site.style.labelstyle.scale = tscale\n",
    "    site.style.iconstyle.icon.href = iref\n",
    "    site.style.iconstyle.scale = iscale\n",
    "    site.style.iconstyle.color = icolor\n",
    "    \n",
    "    if full_name[-1:] =='R':\n",
    "        site.style.labelstyle.color =rcolor\n",
    "        site.style.balloonstyle.text = 'repeated site'\n",
    "        site.style.balloonstyle.textcolor = rcolor\n",
    "    #print(nam, mt_obj.lat, mt_obj.lon, hgt)\n",
    "        site.description = description+'  - repeated site'\n",
    "\n",
    "    site.description = description"
   ]
  },
  {
   "cell_type": "code",
   "execution_count": null,
   "metadata": {},
   "outputs": [],
   "source": [
    "kml_outfile = kml_dir+kml_file \n",
    "# save kml file    \n",
    "kml.save(kml_outfile+'.kml')\n",
    "# save compressed kmz file   \n",
    "kml.savekmz(kml_outfile+'.kmz')\n",
    "print('kml/z written to '+kml_file)"
   ]
  }
 ],
 "metadata": {
  "jupytext": {
   "cell_metadata_filter": "-all",
   "encoding": "# -*- coding: utf-8 -*-",
   "formats": "ipynb,py",
   "main_language": "python"
  }
 },
 "nbformat": 4,
 "nbformat_minor": 2
}

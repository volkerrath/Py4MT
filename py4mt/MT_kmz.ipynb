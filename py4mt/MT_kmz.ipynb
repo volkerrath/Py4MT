{
 "cells": [
  {
   "cell_type": "code",
   "execution_count": null,
   "id": "a6d9212c",
   "metadata": {},
   "outputs": [],
   "source": [
    "'''\n",
    "@author: sb & vr oct 2019\n",
    "'''"
   ]
  },
  {
   "cell_type": "markdown",
   "id": "18c007b3",
   "metadata": {},
   "source": [
    "Import required modules"
   ]
  },
  {
   "cell_type": "code",
   "execution_count": null,
   "id": "29a49c3c",
   "metadata": {},
   "outputs": [],
   "source": [
    "import os\n",
    "import csv\n",
    "import simplekml\n",
    "from mtpy.core.mt import MT"
   ]
  },
  {
   "cell_type": "markdown",
   "id": "bd743432",
   "metadata": {},
   "source": [
    "Determine what is added to the KML-tags:\n",
    "plots_1 =  site plots produced by MT_siteplot.py, with an\n",
    "additional string strng_1 added to the EDI basename.\n",
    "plots_2 =  plots produced by MT_mcmcplot.py or  from\n",
    "other sources, with an additional string strn_2 added to the EDI basename."
   ]
  },
  {
   "cell_type": "code",
   "execution_count": null,
   "id": "fa7b4eea",
   "metadata": {},
   "outputs": [],
   "source": [
    "plots_1 = True\n",
    "strng_1 = ''  # '_data'"
   ]
  },
  {
   "cell_type": "code",
   "execution_count": null,
   "id": "3ee99bcc",
   "metadata": {},
   "outputs": [],
   "source": [
    "plots_2 = True\n",
    "strng_2 = '_fwdres500'"
   ]
  },
  {
   "cell_type": "code",
   "execution_count": null,
   "id": "2e2fad0e",
   "metadata": {},
   "outputs": [],
   "source": [
    "repeats = False\n",
    "repeat_string = 'r'"
   ]
  },
  {
   "cell_type": "code",
   "execution_count": null,
   "id": "4b19e3b8",
   "metadata": {},
   "outputs": [],
   "source": [
    "bads = False\n",
    "bad_string = 'x'"
   ]
  },
  {
   "cell_type": "markdown",
   "id": "b7420a86",
   "metadata": {},
   "source": [
    "Define the path to your EDI-files"
   ]
  },
  {
   "cell_type": "code",
   "execution_count": null,
   "id": "0f18a7fe",
   "metadata": {},
   "outputs": [],
   "source": [
    "# edi_dir = r'/home/vrath/WestTimor/WT8C_edi/'\n",
    "edi_dir = r'/home/vrath/Desktop/MauTopo/MauEdi/'\n",
    "# '/home/vrath/Py4MT/py4mt/M/MauTopo_fwd/'\n",
    "# r'/media/vrath/MT/Ireland/Donegal/Donegal_EDIs_3DGridEdited/'\n",
    "print(' Edifiles read from: %s' % edi_dir)"
   ]
  },
  {
   "cell_type": "code",
   "execution_count": null,
   "id": "eb11204c",
   "metadata": {
    "lines_to_next_cell": 2
   },
   "outputs": [],
   "source": [
    "if plots_1 or plots_2:\n",
    "    plots_dir = edi_dir + 'data_plots/'\n",
    "    # r'/media/vrath/MT/Ireland/Northwest_CarboniferousBasin/MT_DATA/EDI/data_plots/'\n",
    "    # r'/home/vrath/WestTimor/WT8C_plots/' #edi_dir #'NEW_plots_bbmt_roi_edit/'\n",
    "    print(' Plots read from: %s' % plots_dir)"
   ]
  },
  {
   "cell_type": "code",
   "execution_count": null,
   "id": "2e7e58cc",
   "metadata": {},
   "outputs": [],
   "source": [
    "# Determine which geographical info is added to the KML-tags:\n",
    "# define empty list\n",
    "places = []"
   ]
  },
  {
   "cell_type": "code",
   "execution_count": null,
   "id": "fa816c7c",
   "metadata": {},
   "outputs": [],
   "source": [
    "# open file and read the content in a list\n",
    "places_file = edi_dir + 'Sitelist.csv'\n",
    "# r'/home/vrath/Py4MT/py4mt/M/FWD/Sitelist.csv'\n",
    "# r'/home/vrath/WestTimor/places.csv'\n",
    "with open(places_file, 'r') as f:\n",
    "    placelist = csv.reader(f, delimiter=' ')\n",
    "    for row in placelist:\n",
    "        print(row)"
   ]
  },
  {
   "cell_type": "markdown",
   "id": "1f777198",
   "metadata": {},
   "source": [
    "Define the path for saving  kml files"
   ]
  },
  {
   "cell_type": "code",
   "execution_count": null,
   "id": "96fff0f2",
   "metadata": {
    "lines_to_next_cell": 2
   },
   "outputs": [],
   "source": [
    "kml_dir = ''\n",
    "kml_file = edi_dir + 'MauSites'"
   ]
  },
  {
   "cell_type": "code",
   "execution_count": null,
   "id": "5554eb78",
   "metadata": {},
   "outputs": [],
   "source": [
    "site_icon = 'icons/star.png'\n",
    "site_icon_rept = 'icons/donut.png'\n",
    "site_icon_bad = 'icons/triangle.png'"
   ]
  },
  {
   "cell_type": "code",
   "execution_count": null,
   "id": "83c5a98b",
   "metadata": {},
   "outputs": [],
   "source": [
    "site_tcolor = simplekml.Color.white  # '#555500' #\n",
    "site_tscale = 0.8  # scale the text"
   ]
  },
  {
   "cell_type": "code",
   "execution_count": null,
   "id": "d8c2d699",
   "metadata": {},
   "outputs": [],
   "source": [
    "site_iscale = 1.\n",
    "site_icolor = simplekml.Color.blue\n",
    "site_rcolor = simplekml.Color.blue"
   ]
  },
  {
   "cell_type": "code",
   "execution_count": null,
   "id": "12d57b1f",
   "metadata": {},
   "outputs": [],
   "source": [
    "site_icolor_rept = simplekml.Color.green\n",
    "site_rcolor_rept = simplekml.Color.green"
   ]
  },
  {
   "cell_type": "code",
   "execution_count": null,
   "id": "d753dff1",
   "metadata": {
    "lines_to_next_cell": 2
   },
   "outputs": [],
   "source": [
    "site_icolor_bad = simplekml.Color.red\n",
    "site_rcolor_bad = simplekml.Color.red\n",
    "# simplekml.Color.rgb(0, 0, 255)\n",
    "# 'ffff0000'"
   ]
  },
  {
   "cell_type": "markdown",
   "id": "76ac7c26",
   "metadata": {},
   "source": [
    "No changes required after this line!"
   ]
  },
  {
   "cell_type": "markdown",
   "id": "cff60c73",
   "metadata": {
    "lines_to_next_cell": 2
   },
   "source": [
    "Construct list of EDI-files:"
   ]
  },
  {
   "cell_type": "code",
   "execution_count": null,
   "id": "40dd6f13",
   "metadata": {
    "lines_to_next_cell": 2
   },
   "outputs": [],
   "source": [
    "edi_files = []\n",
    "files = os.listdir(edi_dir)\n",
    "for entry in files:\n",
    "   # print(entry)\n",
    "    if entry.endswith('.edi') and not entry.startswith('.'):\n",
    "        edi_files.append(entry)"
   ]
  },
  {
   "cell_type": "markdown",
   "id": "284d1141",
   "metadata": {},
   "source": [
    "Open kml object:"
   ]
  },
  {
   "cell_type": "code",
   "execution_count": null,
   "id": "4916331e",
   "metadata": {},
   "outputs": [],
   "source": [
    "kml = simplekml.Kml(open=1)"
   ]
  },
  {
   "cell_type": "code",
   "execution_count": null,
   "id": "4f94f77d",
   "metadata": {},
   "outputs": [],
   "source": [
    "site_iref = kml.addfile(site_icon)\n",
    "site_iref_rept = kml.addfile(site_icon_rept)\n",
    "site_iref_bad = kml.addfile(site_icon_bad)"
   ]
  },
  {
   "cell_type": "markdown",
   "id": "91e85814",
   "metadata": {},
   "source": [
    "Loop over edifiles"
   ]
  },
  {
   "cell_type": "code",
   "execution_count": null,
   "id": "a208e683",
   "metadata": {},
   "outputs": [],
   "source": [
    "for filename in edi_files:\n",
    "    #print('reading data from '+filename)\n",
    "    name, ext = os.path.splitext(filename)\n",
    "    file_i = edi_dir + filename"
   ]
  },
  {
   "cell_type": "markdown",
   "id": "2f77b8b7",
   "metadata": {},
   "source": [
    "Create MT object"
   ]
  },
  {
   "cell_type": "code",
   "execution_count": null,
   "id": "8b3770ff",
   "metadata": {},
   "outputs": [],
   "source": [
    "    mt_obj = MT(file_i)\n",
    "    lon = mt_obj.lon\n",
    "    lat = mt_obj.lat\n",
    "    hgt = mt_obj.elev\n",
    "    full_name = mt_obj.station\n",
    "    # nam = full_name[3:]\n",
    "    nam = full_name\n",
    "    # print(full_name, nam,plots_dir+full_name+'.png')\n",
    "    # print(full_name)\n",
    "    description = ('')"
   ]
  },
  {
   "cell_type": "markdown",
   "id": "f6a493d7",
   "metadata": {},
   "source": [
    " Now add the plots to tag:"
   ]
  },
  {
   "cell_type": "code",
   "execution_count": null,
   "id": "036f1a5c",
   "metadata": {
    "lines_to_next_cell": 2
   },
   "outputs": [],
   "source": [
    "    if plots_1:\n",
    "        nam_1 = name + strng_1\n",
    "        print(nam_1)\n",
    "        srcfile_1 = kml.addfile(plots_dir + nam_1 + '.png')\n",
    "        description_1 = (\n",
    "            '<img width=\"800\" align=\"left\" src=\"' + srcfile_1 + '\"/>'\n",
    "        )\n",
    "        description = description + description_1\n",
    "\n",
    "    if plots_2:\n",
    "        nam__2 = name + strng_2\n",
    "        print(nam__2)\n",
    "        srcfile_2 = kml.addfile(plots_dir + nam__2 + '.png')\n",
    "        description_2 = (\n",
    "            '<img width=\"900\" align=\"left\" src=\"' + srcfile_2 + '\"/>'\n",
    "        )\n",
    "        description = description + description_2\n",
    "\n",
    "    site = kml.newpoint(name=nam)\n",
    "    site.coords = [(lon, lat, hgt)]\n",
    "    site.style.labelstyle.color = site_tcolor\n",
    "    site.style.labelstyle.scale = site_tscale\n",
    "    site.style.iconstyle.icon.href = site_iref\n",
    "    site.style.iconstyle.scale = site_iscale\n",
    "    site.style.iconstyle.color = site_icolor\n",
    "\n",
    "    if repeats:\n",
    "        if repeat_string in full_name:\n",
    "            site.style.iconstyle.icon.href = site_iref_rept\n",
    "            site.style.labelstyle.color = site_rcolor_rept\n",
    "            site.style.iconstyle.color = site_icolor_rept\n",
    "            site.style.balloonstyle.text = 'repeated site'\n",
    "            site.style.balloonstyle.textcolor = site_rcolor\n",
    "        #print(nam, mt_obj.lat, mt_obj.lon, hgt)\n",
    "            site.description = description + '  - repeated site'\n",
    "\n",
    "    if bads:\n",
    "        if bad_string in full_name:\n",
    "            site.style.iconstyle.icon.href = site_iref_bad\n",
    "            site.style.labelstyle.color = site_rcolor_bad\n",
    "            site.style.iconstyle.color = site_icolor_bad\n",
    "            site.style.balloonstyle.text = 'bad site'\n",
    "            site.style.balloonstyle.textcolor = site_rcolor\n",
    "        #print(nam, mt_obj.lat, mt_obj.lon, hgt)\n",
    "            site.description = description + '  - repeated site'\n",
    "\n",
    "    site.description = description"
   ]
  },
  {
   "cell_type": "code",
   "execution_count": null,
   "id": "682a7726",
   "metadata": {},
   "outputs": [],
   "source": [
    "kml_outfile = kml_dir + kml_file"
   ]
  },
  {
   "cell_type": "markdown",
   "id": "52848330",
   "metadata": {},
   "source": [
    "Save raw kml file:"
   ]
  },
  {
   "cell_type": "code",
   "execution_count": null,
   "id": "c011a748",
   "metadata": {},
   "outputs": [],
   "source": [
    "kml.save(kml_outfile + '.kml')"
   ]
  },
  {
   "cell_type": "markdown",
   "id": "894df3bf",
   "metadata": {},
   "source": [
    "Compressed kmz file:"
   ]
  },
  {
   "cell_type": "code",
   "execution_count": null,
   "id": "51d02bbb",
   "metadata": {},
   "outputs": [],
   "source": [
    "kml.savekmz(kml_outfile + '.kmz')"
   ]
  },
  {
   "cell_type": "code",
   "execution_count": null,
   "id": "b219da55",
   "metadata": {},
   "outputs": [],
   "source": [
    "print('kml/z written to ' + kml_file)"
   ]
  }
 ],
 "metadata": {
  "jupytext": {
   "cell_metadata_filter": "-all",
   "encoding": "# -*- coding: utf-8 -*-",
   "formats": "py,ipynb",
   "main_language": "python"
  }
 },
 "nbformat": 4,
 "nbformat_minor": 5
}

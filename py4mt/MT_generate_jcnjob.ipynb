{
 "cells": [
  {
   "cell_type": "code",
   "execution_count": null,
   "id": "bdc5bdb0",
   "metadata": {},
   "outputs": [],
   "source": [
    "\"\"\"\n",
    "Created on Fri Sep 11 15:41:25 2020\n",
    "\n",
    "@author: vrath\n",
    "\"\"\"\n",
    "import os\n",
    "import sys\n",
    "from sys import exit as error\n",
    "import time\n",
    "from datetime import datetime\n",
    "import warnings"
   ]
  },
  {
   "cell_type": "code",
   "execution_count": null,
   "id": "be8f5382",
   "metadata": {},
   "outputs": [],
   "source": [
    "import numpy as np"
   ]
  },
  {
   "cell_type": "code",
   "execution_count": null,
   "id": "8466ae58",
   "metadata": {},
   "outputs": [],
   "source": [
    "mypath = [\"/home/vrath/Py4MT/py4mt/modules/\",\n",
    "          \"/home/vrath/Py4MT/py4mt/scripts/\"]\n",
    "for pth in mypath:\n",
    "    if pth not in sys.path:\n",
    "        sys.path.insert(0,pth)\n",
    "# Import required modules"
   ]
  },
  {
   "cell_type": "code",
   "execution_count": null,
   "id": "0d84ef82",
   "metadata": {},
   "outputs": [],
   "source": [
    "import util as utl\n",
    "import modem as mod\n",
    "from version import versionstrg"
   ]
  },
  {
   "cell_type": "code",
   "execution_count": null,
   "id": "71ff34f8",
   "metadata": {
    "lines_to_next_cell": 2
   },
   "outputs": [],
   "source": [
    "Strng, _ = versionstrg()\n",
    "now = datetime.now()\n",
    "print(\"\\n\\n\"+Strng)\n",
    "print(\"Generate jacknife job\"+\"\\n\"+\"\".join(\"Date \" + now.strftime(\"%m/%d/%Y, %H:%M:%S\")))\n",
    "print(\"\\n\\n\")"
   ]
  },
  {
   "cell_type": "code",
   "execution_count": null,
   "id": "5a5281a3",
   "metadata": {},
   "outputs": [],
   "source": [
    "Data_tmp = '.TMP'"
   ]
  },
  {
   "cell_type": "code",
   "execution_count": null,
   "id": "b34f9066",
   "metadata": {},
   "outputs": [],
   "source": [
    "Name = 'Maur_PT_R500'\n",
    "Exe_in = '/home/vrath/work/MaurienneJCN/RunGnuFrog.sh'\n",
    "Exe_out = '/home/vrath/work/MaurienneJCN/RunGnuFrog_' + Name + '.sh'\n",
    "utl.strreplace('RUNNAME', Name, Exe_in, Exe_out)"
   ]
  },
  {
   "cell_type": "code",
   "execution_count": null,
   "id": "87d80d3b",
   "metadata": {},
   "outputs": [],
   "source": [
    "Prior_in = '/home/vrath/work/MaurienneJCN/MaurPrior.rho'\n",
    "Prior_out = '/home/vrath/work/MaurienneJCN/MaurPrior_R500.rho'\n",
    "prior_val = 5.00000E+2\n",
    "utl.strreplace('PRIOR-VAL', str(prior_val), Prior_in, Prior_out)"
   ]
  },
  {
   "cell_type": "code",
   "execution_count": null,
   "id": "103c35fc",
   "metadata": {},
   "outputs": [],
   "source": [
    "Covar_in = '/home/vrath/work/MaurienneJCN/Maur.cov'\n",
    "Covar_out = '/home/vrath/work/MaurienneJCN/Maur_02.cov'\n",
    "a_x = 0.2\n",
    "a_y = 0.2\n",
    "a_z = 0.2\n",
    "utl.strreplace('COVX', str(a_x), Covar_in, 'tmp1')\n",
    "utl.strreplace('COVY', str(a_y), 'tmp1', 'tmp2')\n",
    "utl.strreplace('COVZ', str(a_z), 'tmp2', Covar_out)"
   ]
  },
  {
   "cell_type": "code",
   "execution_count": null,
   "id": "ec5ebc64",
   "metadata": {},
   "outputs": [],
   "source": [
    "DataFiles = ['/home/vrath/work/MaurienneJCN/Maur_PT.dat']\n",
    "# '/home/vrath/work/MaurienneJCN/Maur_T.dat',\n",
    "# '/home/vrath/work/MaurienneJCN/Maur_Z.dat']"
   ]
  },
  {
   "cell_type": "code",
   "execution_count": null,
   "id": "6f1238cd",
   "metadata": {},
   "outputs": [],
   "source": [
    "FwdFile = '/home/vrath/work/MaurienneJCN/Maur.fwd'"
   ]
  },
  {
   "cell_type": "code",
   "execution_count": null,
   "id": "bde6cd9b",
   "metadata": {
    "lines_to_next_cell": 2
   },
   "outputs": [],
   "source": [
    "InvFilebase = '/home/vrath/work/MaurienneJCN/Maur.inv'\n",
    "RunNamebase = Name"
   ]
  },
  {
   "cell_type": "code",
   "execution_count": null,
   "id": "ce06791f",
   "metadata": {},
   "outputs": [],
   "source": [
    "for f in DataFiles:\n",
    "    Site, Comp, Data, Head = mod.read_datat(f)\n",
    "    Freqs = utl.unique(Data[:, 0])\n",
    "    NFreq = np.size(Freqs)\n",
    "    Sites = utl.unique(Site)\n",
    "    NSits = np.size(Sites)\n",
    "    sData = np.shape(Data)\n",
    "    NdTot = sData[0]\n",
    "    Nsite = np.size(Sites)\n",
    "    OldHead = Head[7]\n",
    "\n",
    "    for place in Sites:\n",
    "        NdSite = utl.strcount(place, f)\n",
    "        NdJCN = NdTot - NdSite\n",
    "        print('Number of data from site ' + place + ' is ' + str(NdSite))\n",
    "        print('Number of JCN sample is ' + str(NdJCN))\n",
    "\n",
    "        name, ext = os.path.splitext(f)\n",
    "        Data_out = name + '_No' + place + ext\n",
    "        print('New datafile: ' + Data_out)\n",
    "        utl.strdelete(place, f, Data_tmp, out=True)\n",
    "\n",
    "        _, _, D, _ = mod.read_data(Data_tmp)\n",
    "        Freqs_out = utl.unique(D[:, 0])\n",
    "        NFreq_out = np.size(Freqs_out)\n",
    "        Headstr = '> ' + str(NFreq_out) + '   ' + str(NSits - 1) + '  \\n'\n",
    "        utl.strreplace(OldHead, Headstr, Data_tmp, Data_out)\n",
    "\n",
    "        name, ext = os.path.splitext(InvFilebase)\n",
    "        InvFile = name + '_No' + place + ext\n",
    "        RunName = RunNamebase + '_No' + place\n",
    "        utl.strreplace('RUNNAME', RunName, InvFilebase, InvFile)\n",
    "\n",
    "        filep = Prior_out.split(os.sep)[-1]\n",
    "        filed = Data_out.split(os.sep)[-1]\n",
    "        filei = InvFile.split(os.sep)[-1]\n",
    "        filef = FwdFile.split(os.sep)[-1]\n",
    "        filec = Covar_out.split(os.sep)[-1]\n",
    "\n",
    "        exestr1 = 'mpirun --hostfile ${OAR_NODE_FILE} -n 96 -npernode 16 /home/superlana/bin/gMod3DMT7.x -I NLCG '\n",
    "        exestr2 = filep + ' ' + filed + ' ' + filei + ' ' + \\\n",
    "            filef + ' ' + filec + ' >' + RunName + '.out \\n'\n",
    "        with open(Exe_out, 'a') as exe:\n",
    "            exe.write(exestr1 + exestr2)"
   ]
  }
 ],
 "metadata": {
  "jupytext": {
   "cell_metadata_filter": "-all",
   "encoding": "# -*- coding: utf-8 -*-",
   "executable": "/usr/bin/env python3",
   "formats": "py,ipynb",
   "main_language": "python"
  }
 },
 "nbformat": 4,
 "nbformat_minor": 5
}

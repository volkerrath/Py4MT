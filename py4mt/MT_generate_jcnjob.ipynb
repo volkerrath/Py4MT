{
 "cells": [
  {
   "cell_type": "code",
   "execution_count": null,
   "id": "inappropriate-lighting",
   "metadata": {},
   "outputs": [],
   "source": [
    "\"\"\"\n",
    "Created on Fri Sep 11 15:41:25 2020\n",
    "\n",
    "@author: vrath\n",
    "\"\"\"\n",
    "# Import required modules"
   ]
  },
  {
   "cell_type": "code",
   "execution_count": null,
   "id": "hollywood-screw",
   "metadata": {
    "lines_to_next_cell": 2
   },
   "outputs": [],
   "source": [
    "import os\n",
    "import numpy as np\n",
    "from modules.util import strcount, strdelete, strreplace, unique\n",
    "from modules.modem import readDat"
   ]
  },
  {
   "cell_type": "code",
   "execution_count": null,
   "id": "extensive-titanium",
   "metadata": {},
   "outputs": [],
   "source": [
    "Data_tmp = '.TMP'"
   ]
  },
  {
   "cell_type": "code",
   "execution_count": null,
   "id": "large-preliminary",
   "metadata": {},
   "outputs": [],
   "source": [
    "Name = 'Maur_PT_R500'\n",
    "Exe_in = '/home/vrath/work/MaurienneJCN/RunGnuFrog.sh'\n",
    "Exe_out = '/home/vrath/work/MaurienneJCN/RunGnuFrog_' + Name + '.sh'\n",
    "strreplace('RUNNAME', Name, Exe_in, Exe_out)"
   ]
  },
  {
   "cell_type": "code",
   "execution_count": null,
   "id": "missing-greeting",
   "metadata": {},
   "outputs": [],
   "source": [
    "Prior_in = '/home/vrath/work/MaurienneJCN/MaurPrior.rho'\n",
    "Prior_out = '/home/vrath/work/MaurienneJCN/MaurPrior_R500.rho'\n",
    "prior_val = 5.00000E+2\n",
    "strreplace('PRIOR-VAL', str(prior_val), Prior_in, Prior_out)"
   ]
  },
  {
   "cell_type": "code",
   "execution_count": null,
   "id": "annual-blake",
   "metadata": {},
   "outputs": [],
   "source": [
    "Covar_in = '/home/vrath/work/MaurienneJCN/Maur.cov'\n",
    "Covar_out = '/home/vrath/work/MaurienneJCN/Maur_02.cov'\n",
    "a_x = 0.2\n",
    "a_y = 0.2\n",
    "a_z = 0.2\n",
    "strreplace('COVX', str(a_x), Covar_in, 'tmp1')\n",
    "strreplace('COVY', str(a_y), 'tmp1', 'tmp2')\n",
    "strreplace('COVZ', str(a_z), 'tmp2', Covar_out)"
   ]
  },
  {
   "cell_type": "code",
   "execution_count": null,
   "id": "union-tuesday",
   "metadata": {},
   "outputs": [],
   "source": [
    "DataFiles = ['/home/vrath/work/MaurienneJCN/Maur_PT.dat']\n",
    "# '/home/vrath/work/MaurienneJCN/Maur_T.dat',\n",
    "# '/home/vrath/work/MaurienneJCN/Maur_Z.dat']"
   ]
  },
  {
   "cell_type": "code",
   "execution_count": null,
   "id": "foreign-familiar",
   "metadata": {},
   "outputs": [],
   "source": [
    "FwdFile = '/home/vrath/work/MaurienneJCN/Maur.fwd'"
   ]
  },
  {
   "cell_type": "code",
   "execution_count": null,
   "id": "behavioral-doctor",
   "metadata": {
    "lines_to_next_cell": 2
   },
   "outputs": [],
   "source": [
    "InvFilebase = '/home/vrath/work/MaurienneJCN/Maur.inv'\n",
    "RunNamebase = Name"
   ]
  },
  {
   "cell_type": "code",
   "execution_count": null,
   "id": "stretch-engagement",
   "metadata": {},
   "outputs": [],
   "source": [
    "for f in DataFiles:\n",
    "    Site, Comp, Data, Head = readDat(f)\n",
    "    Freqs = unique(Data[:, 0])\n",
    "    NFreq = np.size(Freqs)\n",
    "    Sites = unique(Site)\n",
    "    NSits = np.size(Sites)\n",
    "    sData = np.shape(Data)\n",
    "    NdTot = sData[0]\n",
    "    Nsite = np.size(Sites)\n",
    "    OldHead = Head[7]\n",
    "\n",
    "    for place in Sites:\n",
    "        NdSite = strcount(place, f)\n",
    "        NdJCN = NdTot - NdSite\n",
    "        print('Number of data from site ' + place + ' is ' + str(NdSite))\n",
    "        print('Number of JCN sample is ' + str(NdJCN))\n",
    "\n",
    "        name, ext = os.path.splitext(f)\n",
    "        Data_out = name + '_No' + place + ext\n",
    "        print('New datafile: ' + Data_out)\n",
    "        strdelete(place, f, Data_tmp, out=True)\n",
    "\n",
    "        _, _, D, _ = readDat(Data_tmp)\n",
    "        Freqs_out = unique(D[:, 0])\n",
    "        NFreq_out = np.size(Freqs_out)\n",
    "        Headstr = '> ' + str(NFreq_out) + '   ' + str(NSits - 1) + '  \\n'\n",
    "        strreplace(OldHead, Headstr, Data_tmp, Data_out)\n",
    "\n",
    "        name, ext = os.path.splitext(InvFilebase)\n",
    "        InvFile = name + '_No' + place + ext\n",
    "        RunName = RunNamebase + '_No' + place\n",
    "        strreplace('RUNNAME', RunName, InvFilebase, InvFile)\n",
    "\n",
    "        filep = Prior_out.split(os.sep)[-1]\n",
    "        filed = Data_out.split(os.sep)[-1]\n",
    "        filei = InvFile.split(os.sep)[-1]\n",
    "        filef = FwdFile.split(os.sep)[-1]\n",
    "        filec = Covar_out.split(os.sep)[-1]\n",
    "\n",
    "        exestr1 = 'mpirun --hostfile ${OAR_NODE_FILE} -n 80 -npernode 16 /home/superlana/bin/gMod3DMT7.x -I NLCG '\n",
    "        exestr2 = filep + ' ' + filed + ' ' + filei + ' ' + \\\n",
    "            filef + ' ' + filec + ' >' + RunName + '.out \\n'\n",
    "        with open(Exe_out, 'a') as exe:\n",
    "            exe.write(exestr1 + exestr2)"
   ]
  }
 ],
 "metadata": {
  "jupytext": {
   "cell_metadata_filter": "-all",
   "encoding": "# -*- coding: utf-8 -*-",
   "executable": "/usr/bin/env python3",
   "formats": "py:light,ipynb",
   "main_language": "python"
  }
 },
 "nbformat": 4,
 "nbformat_minor": 5
}

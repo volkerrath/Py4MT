{
 "cells": [
  {
   "cell_type": "code",
   "execution_count": null,
   "id": "94a87417",
   "metadata": {},
   "outputs": [],
   "source": [
    "'''\n",
    "\n",
    "This script produces a site list containing site names,\n",
    "coordinates and elevations, e. g., for WALDIM analysis.\n",
    "\n",
    "@author: sb & vr dec 2019\n",
    "'''"
   ]
  },
  {
   "cell_type": "markdown",
   "id": "b036147a",
   "metadata": {},
   "source": [
    "Import required modules"
   ]
  },
  {
   "cell_type": "code",
   "execution_count": null,
   "id": "10fab301",
   "metadata": {
    "lines_to_next_cell": 2
   },
   "outputs": [],
   "source": [
    "import os\n",
    "from mtpy.core.mt import MT\n",
    "from mtpy.analysis.geometry import dimensionality\n",
    "import numpy as np"
   ]
  },
  {
   "cell_type": "code",
   "execution_count": null,
   "id": "4530abb8",
   "metadata": {
    "lines_to_next_cell": 2
   },
   "outputs": [],
   "source": [
    "# Define the path to your EDI-files and for the list produced\n",
    "edi_dir = r'/home/vrath/RRV_work/edi_work/'\n",
    "print(' Edifiles read from: %s' % edi_dir)"
   ]
  },
  {
   "cell_type": "markdown",
   "id": "5d303e21",
   "metadata": {},
   "source": [
    "No changes required after this line!"
   ]
  },
  {
   "cell_type": "markdown",
   "id": "37f540c7",
   "metadata": {},
   "source": [
    "Construct list of edi-files:"
   ]
  },
  {
   "cell_type": "code",
   "execution_count": null,
   "id": "59d67c93",
   "metadata": {},
   "outputs": [],
   "source": [
    "edi_files = []\n",
    "files = os.listdir(edi_dir)\n",
    "for entry in files:\n",
    "    # print(entry)\n",
    "    if entry.endswith('.edi') and not entry.startswith('.'):\n",
    "        edi_files.append(entry)\n",
    "ns = np.size(edi_files)"
   ]
  },
  {
   "cell_type": "markdown",
   "id": "f440fae1",
   "metadata": {
    "lines_to_next_cell": 2
   },
   "source": [
    "Outputfile (e. g., for WALDIM analysis)"
   ]
  },
  {
   "cell_type": "code",
   "execution_count": null,
   "id": "5cb74398",
   "metadata": {},
   "outputs": [],
   "source": [
    "# Loop over edifiles:\n",
    "n3d = 0\n",
    "n2d = 0\n",
    "n1d = 0\n",
    "nel = 0\n",
    "sit = 0\n",
    "for filename in edi_files:\n",
    "    sit = sit + 1\n",
    "    print('reading data from: ' + filename)\n",
    "    name, ext = os.path.splitext(filename)\n",
    "    file_i = edi_dir + filename"
   ]
  },
  {
   "cell_type": "markdown",
   "id": "e655d54d",
   "metadata": {},
   "source": [
    "Create MT object"
   ]
  },
  {
   "cell_type": "code",
   "execution_count": null,
   "id": "0b9ec422",
   "metadata": {
    "lines_to_next_cell": 2
   },
   "outputs": [],
   "source": [
    "    mt_obj = MT(file_i)\n",
    "    lon = mt_obj.lon\n",
    "    lat = mt_obj.lat\n",
    "    elev = mt_obj.elev\n",
    "    east = mt_obj.east\n",
    "    north = mt_obj.north\n",
    "# use the phase tensor to determine which frequencies are 1D/2D/3D\n",
    "    dim = dimensionality(z_object=mt_obj.Z,\n",
    "                         skew_threshold=5,\n",
    "                         # threshold in skew angle (degrees) to determine if\n",
    "                         # data are 3d\n",
    "                         # threshold in phase ellipse eccentricity to determine\n",
    "                         # if data are 2d (vs 1d)\n",
    "                         eccentricity_threshold=0.1\n",
    "                         )\n",
    "\n",
    "    nel = nel + np.size(dim)\n",
    "    n1d = n1d + sum(map(lambda x: x == 1, dim))\n",
    "    n2d = n2d + sum(map(lambda x: x == 2, dim))\n",
    "    n3d = n3d + sum(map(lambda x: x == 3, dim))"
   ]
  },
  {
   "cell_type": "code",
   "execution_count": null,
   "id": "619d6799",
   "metadata": {},
   "outputs": [],
   "source": [
    "print('number of sites = ' + str(sit))\n",
    "print('total number of elements = ' + str(nel))\n",
    "print('  number of undetermined elements = ' +\n",
    "      str(nel - n1d - n2d - n3d) + '\\n')\n",
    "print('  number of 1-D elements = ' + str(n1d) +\n",
    "      '  (' + str(round(100 * n1d / nel)) + '%)')\n",
    "print('  number of 2-D elements = ' + str(n2d) +\n",
    "      '  (' + str(round(100 * n2d / nel)) + '%)')\n",
    "print('  number of 3-D elements = ' + str(n3d) +\n",
    "      '  (' + str(round(100 * n3d / nel)) + '%)')"
   ]
  }
 ],
 "metadata": {
  "jupytext": {
   "cell_metadata_filter": "-all",
   "encoding": "# -*- coding: utf-8 -*-",
   "formats": "py,ipynb",
   "main_language": "python"
  }
 },
 "nbformat": 4,
 "nbformat_minor": 5
}

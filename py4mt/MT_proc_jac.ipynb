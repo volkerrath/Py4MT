{
 "cells": [
  {
   "cell_type": "code",
   "execution_count": null,
   "id": "8820797e",
   "metadata": {},
   "outputs": [],
   "source": [
    "\"\"\"\n",
    "Reads ModEM's Jacobian, does fancy things.\n",
    "\n",
    "@author: vrath   Feb 2021\n",
    "\n",
    "\"\"\""
   ]
  },
  {
   "cell_type": "markdown",
   "id": "62c0fde9",
   "metadata": {},
   "source": [
    "Import required modules"
   ]
  },
  {
   "cell_type": "code",
   "execution_count": null,
   "id": "e193a6a7",
   "metadata": {},
   "outputs": [],
   "source": [
    "import os\n",
    "import sys"
   ]
  },
  {
   "cell_type": "code",
   "execution_count": null,
   "id": "d43c6c3c",
   "metadata": {
    "lines_to_next_cell": 2
   },
   "outputs": [],
   "source": [
    "# import struct\n",
    "import time\n",
    "from datetime import datetime\n",
    "import warnings"
   ]
  },
  {
   "cell_type": "code",
   "execution_count": null,
   "id": "46e9df05",
   "metadata": {
    "lines_to_next_cell": 2
   },
   "outputs": [],
   "source": [
    "import numpy as np\n",
    "import numpy.linalg as npl\n",
    "import scipy.linalg as spl\n",
    "import scipy.sparse as scp\n",
    "import netCDF4 as nc"
   ]
  },
  {
   "cell_type": "code",
   "execution_count": null,
   "id": "69798ec8",
   "metadata": {
    "lines_to_next_cell": 2
   },
   "outputs": [],
   "source": [
    "import vtk\n",
    "import pyvista as pv\n",
    "import PVGeo as pvg"
   ]
  },
  {
   "cell_type": "code",
   "execution_count": null,
   "id": "ab9cc021",
   "metadata": {
    "lines_to_next_cell": 2
   },
   "outputs": [],
   "source": [
    "mypath = [\"/home/vrath/Py4MT/py4mt/modules/\", \"/home/vrath/Py4MT/py4mt/scripts/\"]\n",
    "for pth in mypath:\n",
    "    if pth not in sys.path:\n",
    "        sys.path.insert(0,pth)"
   ]
  },
  {
   "cell_type": "code",
   "execution_count": null,
   "id": "5f1116d2",
   "metadata": {},
   "outputs": [],
   "source": [
    "import jacproc as jac\n",
    "import modem as mod\n",
    "from version import versionstrg"
   ]
  },
  {
   "cell_type": "code",
   "execution_count": null,
   "id": "c180a9b6",
   "metadata": {},
   "outputs": [],
   "source": [
    "Strng, _ = versionstrg()\n",
    "now = datetime.now()\n",
    "print(\"\\n\\n\"+Strng)\n",
    "print(\"Nullspace Shuttle\"+\"\\n\"+\"\".join(\"Date \" + now.strftime(\"%m/%d/%Y, %H:%M:%S\")))\n",
    "print(\"\\n\\n\")"
   ]
  },
  {
   "cell_type": "code",
   "execution_count": null,
   "id": "1c16fde9",
   "metadata": {},
   "outputs": [],
   "source": []
  },
  {
   "cell_type": "code",
   "execution_count": null,
   "id": "f913e64b",
   "metadata": {},
   "outputs": [],
   "source": [
    "rng = np.random.default_rng()\n",
    "nan = np.nan"
   ]
  },
  {
   "cell_type": "code",
   "execution_count": null,
   "id": "f7113bc8",
   "metadata": {},
   "outputs": [],
   "source": [
    "normalize_err = True\n",
    "normalize_max = True\n",
    "calcsens = True"
   ]
  },
  {
   "cell_type": "markdown",
   "id": "c510d561",
   "metadata": {},
   "source": [
    "JFile = r'/home/vrath/work/MT/Jacobians/Maurienne/Maur_PT.jac'\n",
    "DFile = r'/home/vrath/work/MT/Jacobians/Maurienne/Maur_PT.dat'\n",
    "MFile = r'/home/vrath/work/MT/Jacobians/Maurienne//Maur_PT_R500_NLCG_016.rho'\n",
    "SFile = r'/home/vrath/work/MT/Jacobians/Maurienne/Maur_PT_R500_NLCG_016.sns'"
   ]
  },
  {
   "cell_type": "markdown",
   "id": "854aa75b",
   "metadata": {},
   "source": [
    "JFile = r\"/home/vrath/work/MT/Jacobians/Maurienne/Maur_Z.jac\"\n",
    "DFile = r\"/home/vrath/work/MT/Jacobians/Maurienne/Maur_Z.dat\"\n",
    "MFile = r\"/home/vrath/work/MT/Jacobians/Maurienne//Maur_PT_R500_NLCG_016.rho\"\n",
    "SFile = r\"/home/vrath/work/MT/Jacobians/Maurienne/Maur_PT_R500_NLCG_016.sns\""
   ]
  },
  {
   "cell_type": "code",
   "execution_count": null,
   "id": "2a8284f9",
   "metadata": {
    "lines_to_next_cell": 2
   },
   "outputs": [],
   "source": [
    "JFile = r\"/home/vrath/Py4MT/py4mt/data/ANN21_Jacobian/Ann21_Prior100_T-T3.jac\"\n",
    "DFile = r\"/home/vrath/Py4MT/py4mt/data/ANN21_Jacobian/Ann21_T3.dat\"\n",
    "MFile = r\"/home/vrath/Py4MT/py4mt/data/ANN21_Jacobian/Ann21_Prior100_T_NLCG_033.rho\"\n",
    "SFile = r\"/home/vrath/Py4MT/py4mt/data/ANN21_Jacobian/Ann21_Prior100_T-Z3.sns\""
   ]
  },
  {
   "cell_type": "code",
   "execution_count": null,
   "id": "63e88715",
   "metadata": {
    "lines_to_next_cell": 2
   },
   "outputs": [],
   "source": [
    "total = 0.0"
   ]
  },
  {
   "cell_type": "code",
   "execution_count": null,
   "id": "55e099f5",
   "metadata": {
    "lines_to_next_cell": 2
   },
   "outputs": [],
   "source": [
    "start = time.time()\n",
    "dx, dy, dz, rho, reference = mod.read_model(MFile, trans=\"log10\")\n",
    "elapsed = time.time() - start\n",
    "total = total + elapsed\n",
    "print(\" Used %7.4f s for reading model from %s \" % (elapsed, DFile))"
   ]
  },
  {
   "cell_type": "code",
   "execution_count": null,
   "id": "34db3fe2",
   "metadata": {
    "lines_to_next_cell": 2
   },
   "outputs": [],
   "source": [
    "start = time.time()\n",
    "Site, Comp, Data, Head = mod.read_data_jac(DFile)\n",
    "elapsed = time.time() - start\n",
    "total = total + elapsed\n",
    "print(\" Used %7.4f s for reading data from %s \" % (elapsed, DFile))"
   ]
  },
  {
   "cell_type": "code",
   "execution_count": null,
   "id": "f8a847a5",
   "metadata": {
    "lines_to_next_cell": 2
   },
   "outputs": [],
   "source": [
    "start = time.time()\n",
    "name, ext = os.path.splitext(DFile)\n",
    "NCFile = name + \"_dat.ncd\"\n",
    "mod.write_data_ncd(NCFile, Data, Site, Comp)\n",
    "elapsed = time.time() - start\n",
    "total = total + elapsed\n",
    "print(\" Used %7.4f s for writing data to %s \" % (elapsed, NCFile))"
   ]
  },
  {
   "cell_type": "code",
   "execution_count": null,
   "id": "ea44b402",
   "metadata": {},
   "outputs": [],
   "source": [
    "start = time.time()\n",
    "Jac = mod.read_jac(JFile)\n",
    "elapsed = time.time() - start\n",
    "total = total + elapsed\n",
    "print(\" Used %7.4f s for reading Jacobian from %s \" % (elapsed, JFile))"
   ]
  },
  {
   "cell_type": "markdown",
   "id": "1135e506",
   "metadata": {
    "lines_to_next_cell": 2
   },
   "source": [
    "print(np.shape(Data))\n",
    "print(np.shape(Jac))"
   ]
  },
  {
   "cell_type": "code",
   "execution_count": null,
   "id": "454c0804",
   "metadata": {
    "lines_to_next_cell": 2
   },
   "outputs": [],
   "source": [
    "if normalize_err:\n",
    "    start = time.time()\n",
    "    dsh = np.shape(Data)\n",
    "    err = np.reshape(Data[:, 7], (dsh[0], 1))\n",
    "    Jac = jac.normalize_jac(Jac, err)\n",
    "    elapsed = time.time() - start\n",
    "    total = total + elapsed\n",
    "    print(\" Used %7.4f s for normalizing Jacobian from %s \" % (elapsed, JFile))"
   ]
  },
  {
   "cell_type": "code",
   "execution_count": null,
   "id": "1aadadf5",
   "metadata": {
    "lines_to_next_cell": 2
   },
   "outputs": [],
   "source": [
    "if calcsens:\n",
    "    start = time.time()\n",
    "    Sens, Sens_max = jac.calculate_sens(Jac, normalize=True)\n",
    "    elapsed = time.time() - start\n",
    "    total = total + elapsed\n",
    "    print(\" Used %7.4f s for caculating sensitivity from %s \" % (elapsed, JFile))\n",
    "    sns = np.reshape(Sens, rho.shape)\n",
    "    print(np.shape(sns))\n",
    "    mod.write_model(SFile, dx, dy, dz, sns, reference, trans=\"LOG10\", out=True)"
   ]
  },
  {
   "cell_type": "code",
   "execution_count": null,
   "id": "c4fc5174",
   "metadata": {
    "lines_to_next_cell": 2
   },
   "outputs": [],
   "source": [
    "start = time.time()\n",
    "name, ext = os.path.splitext(JFile)\n",
    "NCFile = name + \"_jac.nc\"\n",
    "mod.write_jac_ncd(NCFile, Jac, Data, Site, Comp)\n",
    "elapsed = time.time() - start\n",
    "total = total + elapsed\n",
    "print(\" Used %7.4f s for writing Jacobian to %s \" % (elapsed, NCFile))"
   ]
  },
  {
   "cell_type": "code",
   "execution_count": null,
   "id": "11e2a6f5",
   "metadata": {},
   "outputs": [],
   "source": [
    "start = time.time()\n",
    "Js = jac.sparsify_jac(Jac,sparse_thresh=1.e-6)\n",
    "elapsed = time.time() - start\n",
    "total = total + elapsed\n",
    "print(\" Used %7.4f s for sparsifying Jacobian from %s \" % (elapsed, JFile))"
   ]
  },
  {
   "cell_type": "code",
   "execution_count": null,
   "id": "ad2a1a23",
   "metadata": {},
   "outputs": [],
   "source": [
    "mu = 0.0\n",
    "sigma = 0.5\n",
    "r = rho.flat\n",
    "nproj = 1000"
   ]
  },
  {
   "cell_type": "code",
   "execution_count": null,
   "id": "73ae9201",
   "metadata": {},
   "outputs": [],
   "source": [
    "rank_results = []\n",
    "for rank in [100, 200, 300, 400, 500, 1000]:\n",
    "    start = time.time()\n",
    "    U, S, Vt = jac.rsvd(Jac.T, rank, n_oversamples=0, n_subspace_iters=0)\n",
    "    elapsed = time.time() - start\n",
    "    print(\n",
    "        \"Used %7.4f s for calculating k = %i SVD from %s \" % (elapsed, rank, JFile)\n",
    "    )\n",
    "\n",
    "    D = U@scp.diags(S[:])@Vt - Jac.T\n",
    "\n",
    "    x_op = np.random.normal(size=np.shape(D)[1])\n",
    "    n_op = npl.norm(D@x_op)/npl.norm(x_op)\n",
    "    j_op = npl.norm(Jac.T@x_op)/npl.norm(x_op)\n",
    "    print(\" Op-norm J_k = \"+str(n_op)+\", explains \"+str(100. - n_op*100./j_op)+\"% of J_full\")\n",
    "\n",
    "    kk= [rank, n_op, j_op, 100. - n_op*100./j_op]\n",
    "\n",
    "    rank_results.append(kk)"
   ]
  },
  {
   "cell_type": "code",
   "execution_count": null,
   "id": "5e9a9e76",
   "metadata": {},
   "outputs": [],
   "source": [
    "Fileout = r\"Rank_Results.npz\"\n",
    "np.savez_compressed(Fileout,\n",
    "                    rank_results=rank_results\n",
    ")"
   ]
  },
  {
   "cell_type": "code",
   "execution_count": null,
   "id": "00297585",
   "metadata": {},
   "outputs": [],
   "source": [
    "rank = 500\n",
    "thresh_results = []\n",
    "for thresh in [1.e-2, 1.e-4, 1.e-6, 1.e-8]:\n",
    "    start = time.time()\n",
    "\n",
    "    Js = jac.sparsify_jac(Jac,sparse_thresh=thresh)\n",
    "\n",
    "    U, S, Vt = jac.rsvd(Js.T, rank, n_oversamples=0, n_subspace_iters=0)\n",
    "    elapsed = time.time() - start\n",
    "    print(\n",
    "        \"Used %7.4f s for thresg = %g SVD from %s \" % (elapsed, thresh, JFile)\n",
    "    )\n",
    "\n",
    "    D = U@scp.diags(S[:])@Vt - Js.T\n",
    "\n",
    "    x_op = np.random.normal(size=np.shape(D)[1])\n",
    "    n_op = npl.norm(D@x_op)/npl.norm(x_op)\n",
    "    j_op = npl.norm(Js.T@x_op)/npl.norm(x_op)\n",
    "    print(\" Op-norm J_thresh = \"+str(n_op)+\", explains \"+str(100. - n_op*100./j_op)+\"% of J_full\")\n",
    "\n",
    "    kk= [rank, n_op, j_op, 100. - n_op*100./j_op]\n",
    "\n",
    "    thresh_results.append(kk)"
   ]
  },
  {
   "cell_type": "code",
   "execution_count": null,
   "id": "b6ff9a70",
   "metadata": {},
   "outputs": [],
   "source": [
    "Fileout = r\"Sparse_Results.npz\"\n",
    "np.savez_compressed(Fileout,\n",
    "                    thresh_results=thresh_results\n",
    ")"
   ]
  },
  {
   "cell_type": "code",
   "execution_count": null,
   "id": "09884e3c",
   "metadata": {},
   "outputs": [],
   "source": []
  },
  {
   "cell_type": "markdown",
   "id": "752671b9",
   "metadata": {},
   "source": [
    "for rank in [50, 100, 200, 400, 1000]:\n",
    "    start = time.time()\n",
    "    U, S, Vt = jac.rsvd(Jac.T, rank, n_oversamples=0, n_subspace_iters=0)\n",
    "    elapsed = time.time() - start\n",
    "    print(\n",
    "        \" Used %7.4f s for calculating k = %i  SVD from %s \" % (elapsed, rank, JFile)\n",
    "    )\n",
    "    # print(U.shape)\n",
    "    # print(S.shape)\n",
    "    # print(Vt.shape)\n",
    "    s = time.time()\n",
    "    m = r + np.random.normal(mu, sigma, size=np.shape(r))\n",
    "    t = time.time() - s\n",
    "    print(\" Used %7.4f s for generating m  \" % (t))"
   ]
  },
  {
   "cell_type": "markdown",
   "id": "33dbe57d",
   "metadata": {},
   "source": [
    "    s = time.time()\n",
    "    for proj in range(nproj):\n",
    "        p = jac.projectMod(m, U)"
   ]
  },
  {
   "cell_type": "markdown",
   "id": "2fe72f59",
   "metadata": {},
   "source": [
    "    t = time.time() - s\n",
    "    print(\" Used %7.4f s for %i projections\" % (t, nproj))"
   ]
  },
  {
   "cell_type": "markdown",
   "id": "0cf14955",
   "metadata": {},
   "source": [
    "total = total + elapsed\n",
    "print(\" Total time used:  %f s \" % (total))"
   ]
  }
 ],
 "metadata": {
  "jupytext": {
   "cell_metadata_filter": "-all",
   "encoding": "# -*- coding: utf-8 -*-",
   "executable": "/usr/bin/env python3",
   "formats": "py,ipynb",
   "main_language": "python"
  }
 },
 "nbformat": 4,
 "nbformat_minor": 5
}

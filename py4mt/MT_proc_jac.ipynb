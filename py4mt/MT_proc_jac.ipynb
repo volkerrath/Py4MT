{
 "cells": [
  {
   "cell_type": "code",
   "execution_count": null,
   "metadata": {},
   "outputs": [],
   "source": [
    "\"\"\"\n",
    "Reads ModEM's Jacobian, does fancy things. \n",
    "\n",
    "@author: vr july 2020\n",
    "\n",
    "Created on Tue Jul  7 16:59:01 2020\n",
    "\n",
    "@author: vrath\n",
    "\n",
    "\"\"\""
   ]
  },
  {
   "cell_type": "markdown",
   "metadata": {},
   "source": [
    "Import required modules"
   ]
  },
  {
   "cell_type": "code",
   "execution_count": null,
   "metadata": {},
   "outputs": [],
   "source": [
    "import os\n",
    "import sys\n",
    "# import struct\n",
    "import time"
   ]
  },
  {
   "cell_type": "code",
   "execution_count": null,
   "metadata": {},
   "outputs": [],
   "source": [
    "import numpy as np\n",
    "import math  as ma\n",
    "import netCDF4 as nc"
   ]
  },
  {
   "cell_type": "code",
   "execution_count": null,
   "metadata": {},
   "outputs": [],
   "source": [
    "from modules.jacproc import *\n",
    "from modules.modem import * \n",
    "#import readJac, writeJacNC, readDat, writeDatNC, sparsifyJac, readMod, rsvd"
   ]
  },
  {
   "cell_type": "code",
   "execution_count": null,
   "metadata": {},
   "outputs": [],
   "source": [
    "normalize_err = True\n",
    "normalize_max = True\n",
    "calcsens = True"
   ]
  },
  {
   "cell_type": "markdown",
   "metadata": {},
   "source": [
    "JacFile = r'./work/AnnPriorZT.jac'\n",
    "DatFile = r'./work/AnnPriorZT.dat'\n",
    "ModFile = r'./work/AnnPriorZT.rho'"
   ]
  },
  {
   "cell_type": "code",
   "execution_count": null,
   "metadata": {},
   "outputs": [],
   "source": [
    "JacFile = r'/home/vrath/work/MaurienneJac/Maur_PT.jac'\n",
    "DatFile = r'/home/vrath/work/MaurienneJac/Maur_PT.dat'\n",
    "ModFile = r'/home/vrath/work/MaurienneJac/Maur_PT_R500_NLCG_016.rho'\n",
    "SnsFile = r'/home/vrath/work/MaurienneJac/Maur_PT_R500_NLCG_016.sns'"
   ]
  },
  {
   "cell_type": "code",
   "execution_count": null,
   "metadata": {
    "lines_to_next_cell": 2
   },
   "outputs": [],
   "source": [
    "total = 0. "
   ]
  },
  {
   "cell_type": "code",
   "execution_count": null,
   "metadata": {},
   "outputs": [],
   "source": [
    "start = time.time()\n",
    "dx, dy, dz, rho, center = readMod(ModFile)\n",
    "elapsed = (time.time() - start)\n",
    "total = total + elapsed\n",
    "print (' Used %7.4f s for reading model from %s ' % (elapsed,DatFile))"
   ]
  },
  {
   "cell_type": "code",
   "execution_count": null,
   "metadata": {},
   "outputs": [],
   "source": []
  },
  {
   "cell_type": "code",
   "execution_count": null,
   "metadata": {},
   "outputs": [],
   "source": [
    "start = time.time()\n",
    "Site, Comp, Data, Head = readDat(DatFile)\n",
    "elapsed = (time.time() - start)\n",
    "total = total + elapsed\n",
    "print (' Used %7.4f s for reading data from %s ' % (elapsed,DatFile))"
   ]
  },
  {
   "cell_type": "code",
   "execution_count": null,
   "metadata": {},
   "outputs": [],
   "source": []
  },
  {
   "cell_type": "code",
   "execution_count": null,
   "metadata": {},
   "outputs": [],
   "source": [
    "start = time.time()\n",
    "name, ext = os.path.splitext(DatFile)\n",
    "NCFile = name+'_dat.nc'\n",
    "writeDatNC(NCFile, Data, Site, Comp) \n",
    "elapsed = (time.time()- start)\n",
    "total = total + elapsed\n",
    "print (' Used %7.4f s for writing data to %s ' % (elapsed,NCFile))"
   ]
  },
  {
   "cell_type": "code",
   "execution_count": null,
   "metadata": {},
   "outputs": [],
   "source": []
  },
  {
   "cell_type": "code",
   "execution_count": null,
   "metadata": {},
   "outputs": [],
   "source": [
    "start = time.time()\n",
    "Jac  = readJac(JacFile)\n",
    "elapsed = (time.time() - start)\n",
    "total = total + elapsed\n",
    "print (' Used %7.4f s for reading Jacobian from %s ' % (elapsed,JacFile))"
   ]
  },
  {
   "cell_type": "markdown",
   "metadata": {
    "lines_to_next_cell": 2
   },
   "source": [
    "print(np.shape(Data))\n",
    "print(np.shape(Jac))"
   ]
  },
  {
   "cell_type": "code",
   "execution_count": null,
   "metadata": {},
   "outputs": [],
   "source": [
    "if normalize_err:\n",
    "    start = time.time()\n",
    "    dsh =np.shape(Data)\n",
    "    err = np.reshape(Data[:,7],(dsh[0],1))\n",
    "    Jac = normalizeJac(Jac,err)\n",
    "    elapsed = (time.time() - start)\n",
    "    total = total + elapsed\n",
    "    print (' Used %7.4f s for normalizing Jacobian from %s ' % (elapsed,JacFile))"
   ]
  },
  {
   "cell_type": "code",
   "execution_count": null,
   "metadata": {
    "lines_to_next_cell": 2
   },
   "outputs": [],
   "source": []
  },
  {
   "cell_type": "code",
   "execution_count": null,
   "metadata": {},
   "outputs": [],
   "source": [
    "if calcsens:\n",
    "    start = time.time()\n",
    "    Sens, Sens_max = calculateSens(Jac,normalize=True)\n",
    "    elapsed = (time.time() - start)\n",
    "    total = total + elapsed\n",
    "    print (' Used %7.4f s for caculating sensitivity from %s ' % (elapsed,JacFile))\n",
    "    sns = np.reshape(Sens, rho.shape)\n",
    "    print(np.shape(sns))\n",
    "    writeMod(SnsFile, dx, dy, dz, sns, center, trans='LOG10',out = True)"
   ]
  },
  {
   "cell_type": "code",
   "execution_count": null,
   "metadata": {},
   "outputs": [],
   "source": []
  },
  {
   "cell_type": "code",
   "execution_count": null,
   "metadata": {},
   "outputs": [],
   "source": [
    "start = time.time()\n",
    "name, ext = os.path.splitext(JacFile)\n",
    "NCFile = name+'_jac.nc'\n",
    "writeJacNC(NCFile, Jac, Data, Site, Comp) \n",
    "elapsed = (time.time()- start)\n",
    "total = total + elapsed\n",
    "print (' Used %7.4f s for writing Jacobian to %s ' % (elapsed,NCFile))"
   ]
  },
  {
   "cell_type": "code",
   "execution_count": null,
   "metadata": {},
   "outputs": [],
   "source": []
  },
  {
   "cell_type": "code",
   "execution_count": null,
   "metadata": {},
   "outputs": [],
   "source": [
    "start = time.time()\n",
    "Js  = sparsifyJac(Jac)\n",
    "elapsed = (time.time() - start)\n",
    "total = total + elapsed\n",
    "print (' Used %7.4f s for sparsifying Jacobian from %s ' % (elapsed,JacFile))"
   ]
  },
  {
   "cell_type": "code",
   "execution_count": null,
   "metadata": {},
   "outputs": [],
   "source": [
    "mu = 0.\n",
    "sigma = 0.5\n",
    "r = rho.flat\n",
    "nproj = 1000"
   ]
  },
  {
   "cell_type": "code",
   "execution_count": null,
   "metadata": {},
   "outputs": [],
   "source": [
    "for rank in [50, 100, 200, 400, 1000]:\n",
    "    start = time.time()\n",
    "    U, S, Vt = rsvd(Jac.T, rank, n_oversamples=0, n_subspace_iters=0)\n",
    "    elapsed = (time.time() - start)\n",
    "    print (' Used %7.4f s for calculating k = %i  SVD from %s ' % (elapsed,rank,JacFile))\n",
    "    # print(U.shape)\n",
    "    # print(S.shape)\n",
    "    # print(Vt.shape)    \n",
    "    s = time.time()\n",
    "    m = r + np.random.normal(mu, sigma, size= np.shape(r))\n",
    "    t = (time.time() - s) \n",
    "    print (' Used %7.4f s for generating m  ' % (t))\n",
    "    \n",
    "    s = time.time()\n",
    "    for proj in range(nproj):\n",
    "        p = projectMod(m,U)\n",
    "    \n",
    "    t = (time.time() - s)\n",
    "    print (' Used %7.4f s for %i projections' % (t,nproj))"
   ]
  },
  {
   "cell_type": "code",
   "execution_count": null,
   "metadata": {
    "lines_to_next_cell": 2
   },
   "outputs": [],
   "source": [
    "total = total + elapsed\n",
    "print (' Total time used:  %f s ' % (total))"
   ]
  }
 ],
 "metadata": {
  "jupytext": {
   "cell_metadata_filter": "-all",
   "encoding": "# -*- coding: utf-8 -*-",
   "executable": "/usr/bin/env python3",
   "formats": "py:light,ipynb",
   "main_language": "python"
  }
 },
 "nbformat": 4,
 "nbformat_minor": 4
}

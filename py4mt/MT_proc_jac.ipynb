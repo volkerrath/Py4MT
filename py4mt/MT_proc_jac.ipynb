{
 "cells": [
  {
   "cell_type": "code",
   "execution_count": null,
   "metadata": {},
   "outputs": [],
   "source": [
    "\"\"\"\n",
    "Reads ModEM's Jacobian, does fancy things. \n",
    "\n",
    "@author: vr july 2020\n",
    "\n",
    "Created on Tue Jul  7 16:59:01 2020\n",
    "\n",
    "@author: vrath\n",
    "\n",
    "\"\"\""
   ]
  },
  {
   "cell_type": "markdown",
   "metadata": {},
   "source": [
    "Import required modules"
   ]
  },
  {
   "cell_type": "code",
   "execution_count": null,
   "metadata": {},
   "outputs": [],
   "source": [
    "import os\n",
    "import sys\n",
    "# import struct\n",
    "import time"
   ]
  },
  {
   "cell_type": "code",
   "execution_count": null,
   "metadata": {},
   "outputs": [],
   "source": [
    "import numpy as np\n",
    "import math  as ma\n",
    "import netCDF4 as nc"
   ]
  },
  {
   "cell_type": "markdown",
   "metadata": {
    "lines_to_next_cell": 2
   },
   "source": [
    "from tqdm import tqdm"
   ]
  },
  {
   "cell_type": "code",
   "execution_count": null,
   "metadata": {},
   "outputs": [],
   "source": [
    "from modules.ModEM import * \n",
    "#import readJac, writeJacNC, readDat, writeDatNC, sparsifyJac, readMod"
   ]
  },
  {
   "cell_type": "code",
   "execution_count": null,
   "metadata": {},
   "outputs": [],
   "source": [
    "normalize_err = True\n",
    "normalize_max = True\n",
    "calcsens = True"
   ]
  },
  {
   "cell_type": "code",
   "execution_count": null,
   "metadata": {},
   "outputs": [],
   "source": [
    "JacFile = r'./work/AnnPriorZT.jac'\n",
    "DatFile = r'./work/AnnPriorZT.dat'\n",
    "ModFile = r'./work/AnnPriorZT.rho'"
   ]
  },
  {
   "cell_type": "code",
   "execution_count": null,
   "metadata": {
    "lines_to_next_cell": 2
   },
   "outputs": [],
   "source": [
    "total = 0. "
   ]
  },
  {
   "cell_type": "code",
   "execution_count": null,
   "metadata": {},
   "outputs": [],
   "source": [
    "start = time.time()\n",
    "dx, dy, dz, rho, center = readMod(ModFile)\n",
    "elapsed = (time.time() - start)\n",
    "total = total + elapsed\n",
    "print (' Used %7.4f s for reading model from %s ' % (elapsed,DatFile))"
   ]
  },
  {
   "cell_type": "code",
   "execution_count": null,
   "metadata": {},
   "outputs": [],
   "source": []
  },
  {
   "cell_type": "markdown",
   "metadata": {},
   "source": [
    "start = time.time()\n",
    "Site, Comp, Data = readDat(DatFile)\n",
    "elapsed = (time.time() - start)\n",
    "total = total + elapsed\n",
    "print (' Used %7.4f s for reading data from %s ' % (elapsed,DatFile))"
   ]
  },
  {
   "cell_type": "code",
   "execution_count": null,
   "metadata": {},
   "outputs": [],
   "source": []
  },
  {
   "cell_type": "markdown",
   "metadata": {},
   "source": [
    "start = time.time()\n",
    "name, ext = os.path.splitext(DatFile)\n",
    "NCFile = name+'_dat.nc'\n",
    "writeDatNC(NCFile, Data, Site, Comp) \n",
    "elapsed = (time.time()- start)\n",
    "total = total + elapsed\n",
    "print (' Used %7.4f s for writing data to %s ' % (elapsed,NCFile))"
   ]
  },
  {
   "cell_type": "code",
   "execution_count": null,
   "metadata": {},
   "outputs": [],
   "source": []
  },
  {
   "cell_type": "markdown",
   "metadata": {},
   "source": [
    "start = time.time()\n",
    "Jac  = readJac(JacFile)\n",
    "elapsed = (time.time() - start)\n",
    "total = total + elapsed\n",
    "print (' Used %7.4f s for reading Jacobian from %s ' % (elapsed,JacFile))"
   ]
  },
  {
   "cell_type": "code",
   "execution_count": null,
   "metadata": {
    "lines_to_next_cell": 2
   },
   "outputs": [],
   "source": []
  },
  {
   "cell_type": "markdown",
   "metadata": {},
   "source": [
    "if normalize_err:\n",
    "    start = time.time()\n",
    "    dsh =np.shape(Data)\n",
    "    err = np.reshape(Data[:,7],(dsh[0],1))\n",
    "    Jac = normalizeJac(Jac,err)\n",
    "    elapsed = (time.time() - start)\n",
    "    total = total + elapsed\n",
    "    print (' Used %7.4f s for normalizing Jacobian from %s ' % (elapsed,JacFile))"
   ]
  },
  {
   "cell_type": "code",
   "execution_count": null,
   "metadata": {
    "lines_to_next_cell": 2
   },
   "outputs": [],
   "source": []
  },
  {
   "cell_type": "markdown",
   "metadata": {},
   "source": [
    "if calcsens:\n",
    "    start = time.time()\n",
    "    Sens = calculateSens(Jac,normalize=True)\n",
    "    elapsed = (time.time() - start)\n",
    "    total = total + elapsed\n",
    "    print (' Used %7.4f s for caculating sensitivity from %s ' % (elapsed,JacFile))"
   ]
  },
  {
   "cell_type": "code",
   "execution_count": null,
   "metadata": {},
   "outputs": [],
   "source": []
  },
  {
   "cell_type": "markdown",
   "metadata": {},
   "source": [
    "start = time.time()\n",
    "name, ext = os.path.splitext(JacFile)\n",
    "NCFile = name+'_jac.nc'\n",
    "writeJacNC(NCFile, Jac, Data, Site, Comp) \n",
    "elapsed = (time.time()- start)\n",
    "total = total + elapsed\n",
    "print (' Used %7.4f s for writing Jacobian to %s ' % (elapsed,NCFile))"
   ]
  },
  {
   "cell_type": "code",
   "execution_count": null,
   "metadata": {},
   "outputs": [],
   "source": []
  },
  {
   "cell_type": "markdown",
   "metadata": {
    "lines_to_next_cell": 2
   },
   "source": [
    "start = time.time()\n",
    "Js  = sparsifyJac(Jac)\n",
    "elapsed = (time.time() - start)\n",
    "total = total + elapsed\n",
    "print (' Used %7.4f s for sparsifying Jacobian from %s ' % (elapsed,JacFile))"
   ]
  },
  {
   "cell_type": "markdown",
   "metadata": {},
   "source": [
    "if calcsens:\n",
    "    start = time.time()\n",
    "    Sens = calculateSens(Js,normalize=True)\n",
    "    elapsed = (time.time() - start)\n",
    "    total = total + elapsed\n",
    "    print (' Used %7.4f s for caculating sensitivity from %s ' % (elapsed,JacFile))"
   ]
  },
  {
   "cell_type": "code",
   "execution_count": null,
   "metadata": {},
   "outputs": [],
   "source": []
  },
  {
   "cell_type": "code",
   "execution_count": null,
   "metadata": {
    "lines_to_next_cell": 2
   },
   "outputs": [],
   "source": [
    "print (' Total time used:  %f s ' % (total))"
   ]
  }
 ],
 "metadata": {
  "jupytext": {
   "cell_metadata_filter": "-all",
   "encoding": "# -*- coding: utf-8 -*-",
   "executable": "/usr/bin/env python3",
   "formats": "py:light,ipynb",
   "main_language": "python"
  }
 },
 "nbformat": 4,
 "nbformat_minor": 4
}

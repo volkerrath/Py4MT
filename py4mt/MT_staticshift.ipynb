{
 "cells": [
  {
   "cell_type": "code",
   "execution_count": null,
   "metadata": {
    "lines_to_next_cell": 2
   },
   "outputs": [],
   "source": [
    "\"\"\"\n",
    "Created on Mon Apr 20 15:20:03 2020\n",
    "\n",
    "@author: sb & vr\n",
    "(based on mtpy)\n",
    "\n",
    "\"\"\"\n",
    "# ==============================================================================\n",
    "import os\n",
    "import csv\n",
    "import numpy as np\n",
    "import mtpy.core.mt as mt\n",
    "import modules.staticshift as ss\n",
    "import mtpy.imaging.mtplot as mtplot\n",
    "from mtpy.imaging.plot_mt_response import PlotMTResponse"
   ]
  },
  {
   "cell_type": "code",
   "execution_count": null,
   "metadata": {},
   "outputs": [],
   "source": [
    "ss_radius   = 1000. \n",
    "freq_interval=[1.e-2,1.e2]\n",
    "prefix_remove = 'AMT_'"
   ]
  },
  {
   "cell_type": "code",
   "execution_count": null,
   "metadata": {
    "lines_to_next_cell": 2
   },
   "outputs": [],
   "source": [
    "plot_it = True\n",
    "plot_pdf=True\n",
    "plot_png=True\n",
    "plot_eps=False\n",
    "dpi = 400"
   ]
  },
  {
   "cell_type": "code",
   "execution_count": null,
   "metadata": {},
   "outputs": [],
   "source": [
    "edi_in_dir =  r'/home/vrath/RRV_work/edifiles_in/'\n",
    "print(' Edifiles reading from: %s' % edi_in_dir)"
   ]
  },
  {
   "cell_type": "code",
   "execution_count": null,
   "metadata": {},
   "outputs": [],
   "source": [
    "edi_files=[]\n",
    "files= os.listdir(edi_in_dir) \n",
    "for entry in files:\n",
    "   if entry.endswith('.edi') and not entry.startswith('.'):\n",
    "            edi_files.append(entry)\n",
    "ns =  np.size(edi_files)"
   ]
  },
  {
   "cell_type": "code",
   "execution_count": null,
   "metadata": {},
   "outputs": [],
   "source": [
    "if plot_it:\n",
    "    plots_dir =  r'/home/vrath/RRV_work/edifiles_out_r1000m/plots/'\n",
    "    print(' Plots written to: %s' % plots_dir)\n",
    "    if not os.path.isdir(plots_dir):\n",
    "        print(' File: %s does not exist, but will be created' % plots_dir)\n",
    "        os.mkdir(plots_dir)"
   ]
  },
  {
   "cell_type": "code",
   "execution_count": null,
   "metadata": {},
   "outputs": [],
   "source": [
    "edi_out_dir =  r'/home/vrath/RRV_work/edifiles_out1/'\n",
    "if not os.path.isdir(edi_out_dir):\n",
    "    print(' File: %s does not exist, but will be created' % edi_out_dir)\n",
    "    os.mkdir(edi_out_dir)\n",
    "ss_out_file = edi_out_dir+'/ss_list.csv'\n",
    "with open(ss_out_file, 'w') as f:\n",
    "    sitelist = csv.writer(f, delimiter=',')\n",
    "    sitelist.writerow(['Sitename', 'Lat', 'Lon', 'SS_x', 'SS_y'])\n",
    "    # sitelist.writerow([ns, ' ', ' '])\n",
    "\n",
    "    for filename in edi_files :\n",
    "        print('reading data from '+filename)\n",
    "        name, ext = os.path.splitext(filename)\n",
    "        # Create an MT object \n",
    "        file_i = edi_in_dir+filename\n",
    "        mt_obj = mt.MT(file_i)\n",
    "        \n",
    "        \n",
    "        sitename = mt_obj.station\n",
    "        lon = mt_obj.lon\n",
    "        lat = mt_obj.lat\n",
    "        # elev = mt_obj.elev\n",
    "        # east = mt_obj.east\n",
    "        # north = mt_obj.north\n",
    "        \n",
    "    \n",
    "        ss_x, ss_y = ss.estimate_static_spatial_median(file_i,\n",
    "                                                    radius=ss_radius,\n",
    "                                                    prefix_remove = prefix_remove,\n",
    "                                                    freq_interval=freq_interval,\n",
    "                                                    shift_tol=.05)\n",
    "        \n",
    "        # write resuklts to list \n",
    "        sitelist.writerow([sitename, lat, lon, ss_x, ss_y])\n",
    "        \n",
    "        # remove static shift\n",
    "        new_z = mt_obj.remove_static_shift(ss_x=ss_x, ss_y=ss_y)\n",
    "        \n",
    "        # write to new edi file\n",
    "        mt_obj.write_mt_file(save_dir=edi_out_dir, \n",
    "                        fn_basename= name, \n",
    "                        file_type='edi', # edi or xml format\n",
    "                        new_Z_obj=new_z, # provide a z object to update the data\n",
    "                        longitude_format='LONG', # write longitudes as 'LON' or 'LONG'\n",
    "                        latlon_format='dd' # write as decimal degrees (any other input\n",
    "                                           # will write as degrees minutes seconds\n",
    "                        )      \n",
    "        \n",
    "        if plot_it == True:\n",
    "            \n",
    "            obj0 = mt.MT(file_i)\n",
    "            obj1 = mt.MT(edi_out_dir+name+'.edi')\n",
    "            # plot_num =1 xy + yx; =2 all 4 components; =3 xy yx det\n",
    "             \n",
    "            plot_obj = PlotMTResponse(z_object=obj0.Z,  # this is mandatory\n",
    "                             # t_object=mt_obj.Tipper,\n",
    "                             # pt_obj=mt_obj.pt,\n",
    "                             station=obj0.station,\n",
    "                             #plot_tipper='yr',  # plots the real part of the tipper\n",
    "                             plot_num=1)\n",
    "            \n",
    "            plot_obj.station = obj0.station + \" and \" + obj1.station+'_no-ss'\n",
    "            plot_obj.plot(overlay_mt_obj=obj1)\n",
    "            \n",
    "            # plot_obj = mtplot.plot_multiple_mt_responses(\n",
    "            #             fn_list=[file_i, edi_out_dir+name+'.edi'],\n",
    "            #             plot_style='compare')\n",
    "            \n",
    "            # Finally save figure\n",
    "    \n",
    "            if plot_png:\n",
    "               plot_obj.save_plot(os.path.join(plots_dir,name+\".png\"),file_format='png',fig_dpi=dpi)\n",
    "            if plot_pdf:\n",
    "                plot_obj.save_plot(os.path.join(plots_dir,name+\".pdf\"),file_format='pdf',fig_dpi=dpi)\n",
    "            if plot_eps:\n",
    "                plot_obj.save_plot(os.path.join(plots_dir,name+\".eps\"),file_format='eps',fig_dpi=dpi)"
   ]
  },
  {
   "cell_type": "code",
   "execution_count": null,
   "metadata": {},
   "outputs": [],
   "source": [
    " "
   ]
  }
 ],
 "metadata": {
  "jupytext": {
   "cell_metadata_filter": "-all",
   "encoding": "# -*- coding: utf-8 -*-",
   "executable": "/usr/bin/env python3",
   "formats": "py,ipynb",
   "main_language": "python"
  }
 },
 "nbformat": 4,
 "nbformat_minor": 4
}

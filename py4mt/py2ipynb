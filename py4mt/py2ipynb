#! /bin/bash

jupytext --set-formats py,ipynb *.py
jupytext --to notebook  *.py

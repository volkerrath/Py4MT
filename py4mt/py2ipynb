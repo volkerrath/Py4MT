#! /bin/bash

jupytext --set-formats py,ipynb MT*.py
jupytext --to notebook  MT*.py

#! /bin/bash

jupytext --set-formats py,ipynb MT*.py
jupytext --to notebook  MT*.py
rm __init__.ipynb version.ipynb

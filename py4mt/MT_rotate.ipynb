{
 "cells": [
  {
   "cell_type": "code",
   "execution_count": null,
   "metadata": {},
   "outputs": [],
   "source": [
    "\"\"\"\n",
    "\n",
    "@author: sb & vr oct 2019\n",
    "\n",
    "\"\"\""
   ]
  },
  {
   "cell_type": "code",
   "execution_count": null,
   "metadata": {
    "lines_to_next_cell": 2
   },
   "outputs": [],
   "source": [
    "# import required modules\n",
    "import os\n",
    "from mtpy.core.mt import MT\n",
    "import numpy as np"
   ]
  },
  {
   "cell_type": "code",
   "execution_count": null,
   "metadata": {},
   "outputs": [],
   "source": [
    "# Define the path to your edi files\n",
    "# edi_in_dir = 'edifiles_bbmt/'\n",
    "edi_in_dir = 'edifiles_test/'\n",
    "print(' Edifiles read from: %s' % edi_in_dir)\n",
    "in_string = 'MT'\n",
    "# Define the path for saving  edifiles\n",
    "# edi_out_dir= 'edifiles_bbmt_rot0/'\n",
    "edi_out_dir= 'edifiles_test/'\n",
    "print(' Edifiles written from: %s' % edi_out_dir)\n",
    "out_string = 'MT0'"
   ]
  },
  {
   "cell_type": "code",
   "execution_count": null,
   "metadata": {},
   "outputs": [],
   "source": [
    "edi_files=[]\n",
    "files= os.listdir(edi_in_dir) \n",
    "for entry in files:\n",
    "   # print(entry)\n",
    "   if entry.endswith('.edi') and not entry.endswith('.'):\n",
    "            edi_files.append(entry)\n",
    "ns =  np.size(edi_files)"
   ]
  },
  {
   "cell_type": "code",
   "execution_count": null,
   "metadata": {},
   "outputs": [],
   "source": [
    "## loop\n",
    "for filename in edi_files :\n",
    "    print('\\n Reading data from '+edi_in_dir+filename)\n",
    "    name, ext = os.path.splitext(filename)\n",
    "    # Create an MT object \n",
    "    file_in = edi_in_dir+filename\n",
    "    mt_obj = MT(file_in)\n",
    "    print(' site %s at :  % 10.6f % 10.6f' % (name, mt_obj.lat, mt_obj.lon))\n",
    "    rot_angle=-1.*mt_obj.Z.rotation_angle\n",
    "    print(mt_obj.Tipper.rotation_angle)\n",
    "    mt_obj.Z.rotate(rot_angle)\n",
    "    mt_obj.Tipper.rotate(-1.*rot_angle)\n",
    "    print(rot_angle)\n",
    "# Write a new edi file \n",
    "    file_out=filename.replace(in_string,out_string)\n",
    "    print('Writing data to '+edi_out_dir+file_out)\n",
    "    mt_obj.write_mt_file(\n",
    "            save_dir=edi_out_dir,\n",
    "            fn_basename=file_out,\n",
    "            file_type='edi',\n",
    "            new_Z_obj=mt_obj.Z, # provide a z object to update the data\n",
    "            longitude_format='LONG', # write longitudes as 'LONG' not ‘LON’\n",
    "            latlon_format='dd'# write as decimal degrees (any other input\n",
    "            # will write as degrees:minutes:seconds\n",
    "            )"
   ]
  },
  {
   "cell_type": "code",
   "execution_count": null,
   "metadata": {},
   "outputs": [],
   "source": [
    "  "
   ]
  }
 ],
 "metadata": {
  "jupytext": {
   "cell_metadata_filter": "-all",
   "encoding": "# -*- coding: utf-8 -*-",
   "formats": "ipynb,py",
   "main_language": "python"
  }
 },
 "nbformat": 4,
 "nbformat_minor": 2
}

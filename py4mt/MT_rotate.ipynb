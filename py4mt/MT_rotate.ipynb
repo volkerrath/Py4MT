{
 "cells": [
  {
   "cell_type": "code",
   "execution_count": null,
   "metadata": {},
   "outputs": [],
   "source": [
    "\"\"\"\n",
    "Rotate imedance tensor (Z) and tipper (T)  \n",
    "by potentially different angles into NS/EW coordinate system\n",
    "\n",
    "@author: sb & vr Jan 2020\n",
    "\n",
    "\"\"\""
   ]
  },
  {
   "cell_type": "markdown",
   "metadata": {},
   "source": [
    "Import required modules"
   ]
  },
  {
   "cell_type": "code",
   "execution_count": null,
   "metadata": {
    "lines_to_next_cell": 2
   },
   "outputs": [],
   "source": [
    "import os\n",
    "from mtpy.core.mt import MT\n",
    "import numpy as np"
   ]
  },
  {
   "cell_type": "markdown",
   "metadata": {},
   "source": [
    "Define the path to your EDI-files:"
   ]
  },
  {
   "cell_type": "code",
   "execution_count": null,
   "metadata": {},
   "outputs": [],
   "source": [
    "edi_in_dir = 'edifiles_test/'\n",
    "print(' Edifiles read from: %s' % edi_in_dir)"
   ]
  },
  {
   "cell_type": "markdown",
   "metadata": {},
   "source": [
    "Define the path anf appended string for saved EDI-files"
   ]
  },
  {
   "cell_type": "code",
   "execution_count": null,
   "metadata": {},
   "outputs": [],
   "source": [
    "edi_out_dir= 'edifiles_test/'\n",
    "print(' Edifiles written from: %s' % edi_out_dir)\n",
    "out_string = '_rot0'"
   ]
  },
  {
   "cell_type": "markdown",
   "metadata": {
    "lines_to_next_cell": 2
   },
   "source": [
    "This example brings both angles to the normal (measurement) coordinate \n",
    "system, i. e., afterwards the ZROT and TROT fields in tehe EDI-files are \n",
    "both zero. Here Z_angle and T_angle are the rotation angles from the \n",
    "input EDI-file. As the actual call is dine using the 'eval' function, "
   ]
  },
  {
   "cell_type": "code",
   "execution_count": null,
   "metadata": {},
   "outputs": [],
   "source": [
    "Z_rot=('-1.*Z_angle')\n",
    "T_rot=('-1.*T_angle')"
   ]
  },
  {
   "cell_type": "markdown",
   "metadata": {
    "lines_to_next_cell": 2
   },
   "source": [
    "As the actual call is dine using the 'eval' function, thid=s function can \n",
    "also be used to do rotations of different kind, e.g. when using a rotated \n",
    "coordinate system for modelling. In this case to rotate from the zero system \n",
    "to a sytem rotated 40 degrees,the string would be '40*np.ones(shape(Z_angle))'."
   ]
  },
  {
   "cell_type": "markdown",
   "metadata": {},
   "source": [
    "No changes required after this line!"
   ]
  },
  {
   "cell_type": "markdown",
   "metadata": {
    "lines_to_next_cell": 2
   },
   "source": [
    "Construct list of EDI-files:"
   ]
  },
  {
   "cell_type": "code",
   "execution_count": null,
   "metadata": {},
   "outputs": [],
   "source": [
    "edi_files=[]\n",
    "files= os.listdir(edi_in_dir) # input EDI-file. As the actual call is dine using the 'eval' function, \n",
    "for entry in files:\n",
    "   # print(entry)\n",
    "   if entry.endswith('.edi') and not entry.startswith('.'):\n",
    "            edi_files.append(entry)\n",
    "ns =  np.size(edi_files)"
   ]
  },
  {
   "cell_type": "markdown",
   "metadata": {},
   "source": [
    "Enter loop:"
   ]
  },
  {
   "cell_type": "code",
   "execution_count": null,
   "metadata": {},
   "outputs": [],
   "source": [
    "for filename in edi_files :\n",
    "    print('\\n Reading data from '+edi_in_dir+filename)\n",
    "    name, ext = os.path.splitext(filename)"
   ]
  },
  {
   "cell_type": "markdown",
   "metadata": {},
   "source": [
    "Create an MT object "
   ]
  },
  {
   "cell_type": "code",
   "execution_count": null,
   "metadata": {
    "lines_to_next_cell": 2
   },
   "outputs": [],
   "source": [
    "    file_in = edi_in_dir+filename\n",
    "    mt_obj = MT(file_in)\n",
    "    print(' site %s at :  % 10.6f % 10.6f' % (name, mt_obj.lat, mt_obj.lon))\n",
    "    \n",
    "    Z_angle=mt_obj.Z.rotation_angle\n",
    "    T_angle=mt_obj.Tipper.rotation_angle\n",
    "    \n",
    "    Z_rot_angle = eval(Z_rot)\n",
    "    T_rot_angle=  eval(T_rot)\n",
    "\n",
    "\n",
    "    mt_obj.Z.rotate(Z_rot_angle)\n",
    "    mt_obj.Tipper.rotate(T_rot_angle)"
   ]
  },
  {
   "cell_type": "markdown",
   "metadata": {},
   "source": [
    "Write a new edi file:"
   ]
  },
  {
   "cell_type": "code",
   "execution_count": null,
   "metadata": {},
   "outputs": [],
   "source": [
    "    file_out=name+out_string+ext\n",
    "    print('Writing data to '+edi_out_dir+file_out)\n",
    "    mt_obj.write_mt_file(\n",
    "            save_dir=edi_out_dir,\n",
    "            fn_basename=file_out,\n",
    "            file_type='edi',\n",
    "            new_Z_obj=mt_obj.Z, \n",
    "            new_Tipper_obj=mt_obj.Tipper,\n",
    "            longitude_format='LONG',\n",
    "            latlon_format='dd'\n",
    "            )"
   ]
  },
  {
   "cell_type": "code",
   "execution_count": null,
   "metadata": {},
   "outputs": [],
   "source": [
    "  "
   ]
  }
 ],
 "metadata": {
  "jupytext": {
   "cell_metadata_filter": "-all",
   "encoding": "# -*- coding: utf-8 -*-",
   "formats": "ipynb,py:light",
   "main_language": "python"
  },
  "kernelspec": {
   "display_name": "Python 3",
   "language": "python",
   "name": "python3"
  },
  "language_info": {
   "codemirror_mode": {
    "name": "ipython",
    "version": 3
   },
   "file_extension": ".py",
   "mimetype": "text/x-python",
   "name": "python",
   "nbconvert_exporter": "python",
   "pygments_lexer": "ipython3",
   "version": "3.7.6"
  }
 },
 "nbformat": 4,
 "nbformat_minor": 2
}

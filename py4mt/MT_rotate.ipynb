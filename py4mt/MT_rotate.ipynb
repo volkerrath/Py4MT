{
 "cells": [
  {
   "cell_type": "code",
   "execution_count": null,
   "id": "unusual-coordinator",
   "metadata": {},
   "outputs": [],
   "source": [
    "\"\"\"\n",
    "Rotate imedance tensor (Z) and tipper (T)\n",
    "by potentially different angles into NS/EW coordinate system\n",
    "\n",
    "@author: sb & vr Jan 2020\n",
    "\n",
    "\"\"\""
   ]
  },
  {
   "cell_type": "markdown",
   "id": "respective-conducting",
   "metadata": {},
   "source": [
    "Import required modules"
   ]
  },
  {
   "cell_type": "code",
   "execution_count": null,
   "id": "greek-nutrition",
   "metadata": {
    "lines_to_next_cell": 2
   },
   "outputs": [],
   "source": [
    "import os\n",
    "from mtpy.core.mt import MT\n",
    "import numpy as np"
   ]
  },
  {
   "cell_type": "markdown",
   "id": "molecular-broadcast",
   "metadata": {},
   "source": [
    "Define the path to your EDI-files:"
   ]
  },
  {
   "cell_type": "code",
   "execution_count": null,
   "id": "dress-linux",
   "metadata": {},
   "outputs": [],
   "source": [
    "# edi_in_dir = 'edifiles_bbmt_roi_corrected/'\n",
    "edi_in_dir = 'test/'\n",
    "print(' Edifiles read from: %s' % edi_in_dir)"
   ]
  },
  {
   "cell_type": "markdown",
   "id": "amazing-invasion",
   "metadata": {},
   "source": [
    "Define the path anf appended string for saved EDI-files:"
   ]
  },
  {
   "cell_type": "code",
   "execution_count": null,
   "id": "appointed-twist",
   "metadata": {},
   "outputs": [],
   "source": [
    "# edi_out_dir= 'edifiles_bbmt_roigeo0/'\n",
    "edi_out_dir = edi_in_dir\n",
    "print(' Edifiles written to: %s' % edi_out_dir)\n",
    "if not os.path.isdir(edi_out_dir):\n",
    "    print(' File: %s does not exist, but will be created' % edi_out_dir)\n",
    "    os.mkdir(edi_out_dir)"
   ]
  },
  {
   "cell_type": "code",
   "execution_count": null,
   "id": "postal-camel",
   "metadata": {},
   "outputs": [],
   "source": [
    "out_string = '_geo0'"
   ]
  },
  {
   "cell_type": "markdown",
   "id": "vocational-dynamics",
   "metadata": {},
   "source": [
    "This example brings both angles to the normal (measurement) coordinate\n",
    "system, i. e., afterwards the ZROT and TROT fields in tehe EDI-files are\n",
    "both zero. Here Z_angle and T_angle are the rotation angles from the\n",
    "input EDI-file. _rot=('-1.*Z_angle') and T_rot=('-1.*T_angle'), where\n",
    "Z_angle has been obtained from the corresponding mt_obj as\n",
    "Z_angle=mt_obj.Z.rotation_angle."
   ]
  },
  {
   "cell_type": "markdown",
   "id": "silver-westminster",
   "metadata": {
    "lines_to_next_cell": 2
   },
   "source": [
    "Z_rot=('-1.*Z_angle')\n",
    "T_rot=('-1.*T_angle')"
   ]
  },
  {
   "cell_type": "markdown",
   "id": "boxed-argentina",
   "metadata": {},
   "source": [
    "Rotate to geographic N:"
   ]
  },
  {
   "cell_type": "code",
   "execution_count": null,
   "id": "binding-vacation",
   "metadata": {},
   "outputs": [],
   "source": [
    "Z_rot = ('-10.2*np.ones(np.shape(Z_angle))')\n",
    "T_rot = ('-10.2*np.ones(np.shape(T_angle))')"
   ]
  },
  {
   "cell_type": "markdown",
   "id": "smoking-raising",
   "metadata": {},
   "source": [
    "Both:"
   ]
  },
  {
   "cell_type": "markdown",
   "id": "innovative-accountability",
   "metadata": {
    "lines_to_next_cell": 2
   },
   "source": [
    "Z_rot=('-1.*Z_angle-10.2*np.ones(np.shape(Z_angle))')\n",
    "T_rot=('-1.*T_angle-10.2*np.ones(np.shape(T_angle))')"
   ]
  },
  {
   "cell_type": "markdown",
   "id": "novel-colleague",
   "metadata": {
    "lines_to_next_cell": 2
   },
   "source": [
    "As the actual call is done using the 'eval' function, this script can\n",
    "also be used to do rotations of different kind, e.g. when using a rotated\n",
    "coordinate system for modelling. In this case to rotate from the zero system\n",
    "to a sytem rotated 40 degrees clockwise, the string would look like\n",
    "'40.*np.ones(shape(Z_angle))'  or simpler '40.' for Z and T. When correcting\n",
    "for declination, i.e., from geomagnetic to geographic north, it should be\n",
    "the negative value of the # declination obtained for the time of acquisition\n",
    "and geographic position at\n",
    "https://www.ngdc.noaa.gov/geomag/calculators/magcalc.shtml)."
   ]
  },
  {
   "cell_type": "markdown",
   "id": "smoking-closer",
   "metadata": {},
   "source": [
    "No changes required after this line!"
   ]
  },
  {
   "cell_type": "markdown",
   "id": "fresh-yorkshire",
   "metadata": {
    "lines_to_next_cell": 2
   },
   "source": [
    "Construct list of EDI-files:"
   ]
  },
  {
   "cell_type": "code",
   "execution_count": null,
   "id": "together-financing",
   "metadata": {},
   "outputs": [],
   "source": [
    "edi_files = []\n",
    "# input EDI-file. As the actual call is dine using the 'eval' function,\n",
    "files = os.listdir(edi_in_dir)\n",
    "for entry in files:\n",
    "    # print(entry)\n",
    "    if entry.endswith('.edi') and not entry.startswith('.'):\n",
    "        edi_files.append(entry)\n",
    "ns = np.size(edi_files)"
   ]
  },
  {
   "cell_type": "markdown",
   "id": "brilliant-touch",
   "metadata": {},
   "source": [
    "Enter loop:"
   ]
  },
  {
   "cell_type": "code",
   "execution_count": null,
   "id": "optional-korea",
   "metadata": {},
   "outputs": [],
   "source": [
    "for filename in edi_files:\n",
    "    print('\\n Reading data from ' + edi_in_dir + filename)\n",
    "    name, ext = os.path.splitext(filename)"
   ]
  },
  {
   "cell_type": "markdown",
   "id": "arabic-technician",
   "metadata": {},
   "source": [
    "Create an MT object"
   ]
  },
  {
   "cell_type": "code",
   "execution_count": null,
   "id": "royal-nightlife",
   "metadata": {
    "lines_to_next_cell": 2
   },
   "outputs": [],
   "source": [
    "    file_in = edi_in_dir + filename\n",
    "    mt_obj = MT(file_in)\n",
    "    print(' site %s at :  % 10.6f % 10.6f' % (name, mt_obj.lat, mt_obj.lon))\n",
    "\n",
    "    Z_angle = mt_obj.Z.rotation_angle\n",
    "    T_angle = mt_obj.Tipper.rotation_angle\n",
    "\n",
    "    Z_rot_angle = eval(Z_rot)\n",
    "    T_rot_angle = eval(T_rot)\n",
    "\n",
    "    mt_obj.Z.rotate(Z_rot_angle)\n",
    "    mt_obj.Tipper.rotate(T_rot_angle)"
   ]
  },
  {
   "cell_type": "markdown",
   "id": "usual-premiere",
   "metadata": {},
   "source": [
    "Write a new edi file:"
   ]
  },
  {
   "cell_type": "code",
   "execution_count": null,
   "id": "south-radiation",
   "metadata": {},
   "outputs": [],
   "source": [
    "    file_out = name + out_string + ext\n",
    "    print('Writing data to ' + edi_out_dir + file_out)\n",
    "    mt_obj.write_mt_file(\n",
    "        save_dir=edi_out_dir,\n",
    "        fn_basename=file_out,\n",
    "        file_type='edi',\n",
    "        new_Z_obj=mt_obj.Z,\n",
    "        new_Tipper_obj=mt_obj.Tipper,\n",
    "        longitude_format='LONG',\n",
    "        latlon_format='dd'\n",
    "    )"
   ]
  }
 ],
 "metadata": {
  "jupytext": {
   "cell_metadata_filter": "-all",
   "encoding": "# -*- coding: utf-8 -*-",
   "formats": "py:light,ipynb"
  },
  "kernelspec": {
   "display_name": "Python 3",
   "language": "python",
   "name": "python3"
  }
 },
 "nbformat": 4,
 "nbformat_minor": 5
}

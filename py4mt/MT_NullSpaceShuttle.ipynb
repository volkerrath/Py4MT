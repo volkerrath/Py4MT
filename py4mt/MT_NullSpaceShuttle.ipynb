{
 "cells": [
  {
   "cell_type": "code",
   "execution_count": null,
   "id": "dressed-resolution",
   "metadata": {},
   "outputs": [],
   "source": [
    "\"\"\"\n",
    "Reads ModEM's Jacobian, does fancy things.\n",
    "\n",
    "@author: vrath   Feb 2021\n",
    "\n",
    "\"\"\""
   ]
  },
  {
   "cell_type": "markdown",
   "id": "preliminary-journal",
   "metadata": {},
   "source": [
    "Import required modules"
   ]
  },
  {
   "cell_type": "code",
   "execution_count": null,
   "id": "varying-colorado",
   "metadata": {},
   "outputs": [],
   "source": [
    "import os\n",
    "import sys"
   ]
  },
  {
   "cell_type": "code",
   "execution_count": null,
   "id": "broad-jefferson",
   "metadata": {
    "lines_to_next_cell": 2
   },
   "outputs": [],
   "source": [
    "# import struct\n",
    "import time\n",
    "from datetime import datetime\n",
    "import warnings"
   ]
  },
  {
   "cell_type": "code",
   "execution_count": null,
   "id": "excited-access",
   "metadata": {
    "lines_to_next_cell": 2
   },
   "outputs": [],
   "source": [
    "import numpy as np\n",
    "import numpy.linalg as npl\n",
    "import scipy.linalg as spl\n",
    "import scipy.sparse as scp\n",
    "import netCDF4 as nc"
   ]
  },
  {
   "cell_type": "code",
   "execution_count": null,
   "id": "typical-aquarium",
   "metadata": {
    "lines_to_next_cell": 2
   },
   "outputs": [],
   "source": [
    "import vtk\n",
    "import pyvista as pv\n",
    "import PVGeo as pvg"
   ]
  },
  {
   "cell_type": "code",
   "execution_count": null,
   "id": "spare-thinking",
   "metadata": {
    "lines_to_next_cell": 2
   },
   "outputs": [],
   "source": [
    "mypath = [\"/home/vrath/Py4MT/py4mt/modules/\", \"/home/vrath/Py4MT/py4mt/scripts/\"]\n",
    "for pth in mypath:\n",
    "    if pth not in sys.path:\n",
    "        sys.path.insert(0,pth)"
   ]
  },
  {
   "cell_type": "code",
   "execution_count": null,
   "id": "acting-setting",
   "metadata": {},
   "outputs": [],
   "source": [
    "import jacproc as jac\n",
    "import modem as mod\n",
    "from version import versionstrg"
   ]
  },
  {
   "cell_type": "code",
   "execution_count": null,
   "id": "listed-boring",
   "metadata": {},
   "outputs": [],
   "source": [
    "Strng, _ = versionstrg()\n",
    "now = datetime.now()\n",
    "print(\"\\n\\n\"+Strng)\n",
    "print(\"Nullspace Shuttle\"+\"\\n\"+\"\".join(\"Date \" + now.strftime(\"%m/%d/%Y, %H:%M:%S\")))\n",
    "print(\"\\n\\n\")"
   ]
  },
  {
   "cell_type": "code",
   "execution_count": null,
   "id": "technological-skirt",
   "metadata": {},
   "outputs": [],
   "source": [
    "rng = np.random.default_rng()\n",
    "nan = np.nan"
   ]
  },
  {
   "cell_type": "code",
   "execution_count": null,
   "id": "mexican-liechtenstein",
   "metadata": {},
   "outputs": [],
   "source": [
    "JFile = r\"/home/vrath/Py4MT/py4mt/data/ANN21_Jacobian/Ann21_Prior100_T-T3.jac\"\n",
    "DFile = r\"/home/vrath/Py4MT/py4mt/data/ANN21_Jacobian/Ann21_Prior100_T-T3.dat\"\n",
    "MFile = r\"/home/vrath/Py4MT/py4mt/data/ANN21_Jacobian/Ann21_Prior100_T_NLCG_033.rho\"\n",
    "SFile = r\"/home/vrath/Py4MT/py4mt/data/ANN21_Jacobian/Ann21_Prior100_T-Z3.sns\""
   ]
  },
  {
   "cell_type": "code",
   "execution_count": null,
   "id": "ecological-strength",
   "metadata": {},
   "outputs": [],
   "source": [
    "NSamples = 1000\n",
    "NBodies  = 32\n",
    "x_bounds = [-3000., 3000.]\n",
    "y_bounds = [-3000., 3000.]\n",
    "z_bounds = [-300., 3000.]\n",
    "rad_bounds = [100.,1000.]\n",
    "res_bounds = [-0.3, 0.3]"
   ]
  },
  {
   "cell_type": "code",
   "execution_count": null,
   "id": "variable-christmas",
   "metadata": {},
   "outputs": [],
   "source": []
  },
  {
   "cell_type": "code",
   "execution_count": null,
   "id": "classical-longer",
   "metadata": {
    "lines_to_next_cell": 2
   },
   "outputs": [],
   "source": [
    "total = 0.0\n",
    "start = time.time()\n",
    "dx, dy, dz, rho, reference = mod.read_model(MFile)\n",
    "elapsed = time.time() - start\n",
    "total = total + elapsed\n",
    "print(\" Used %7.4f s for reading model from %s \" % (elapsed, DFile))"
   ]
  },
  {
   "cell_type": "code",
   "execution_count": null,
   "id": "driven-boards",
   "metadata": {},
   "outputs": [],
   "source": [
    "start = time.time()\n",
    "Site, Comp, Data, Head = mod.read_data(DFile)\n",
    "elapsed = time.time() - start\n",
    "total = total + elapsed\n",
    "print(\" Used %7.4f s for reading data from %s \" % (elapsed, DFile))"
   ]
  },
  {
   "cell_type": "code",
   "execution_count": null,
   "id": "nuclear-pocket",
   "metadata": {},
   "outputs": [],
   "source": [
    "start = time.time()\n",
    "Jac = mod.read_jac(JFile)\n",
    "elapsed = time.time() - start\n",
    "total = total + elapsed\n",
    "print(\" Used %7.4f s for reading Jacobian from %s \" % (elapsed, JFile))"
   ]
  },
  {
   "cell_type": "code",
   "execution_count": null,
   "id": "religious-collectible",
   "metadata": {},
   "outputs": [],
   "source": [
    "start = time.time()\n",
    "dsh = np.shape(Data)\n",
    "err = np.reshape(Data[:, 7], (dsh[0], 1))\n",
    "Jac = jac.normalize_jac(Jac, err)\n",
    "elapsed = time.time() - start\n",
    "total = total + elapsed\n",
    "print(\" Used %7.4f s for normalizing Jacobian from %s \" % (elapsed, JFile))"
   ]
  },
  {
   "cell_type": "code",
   "execution_count": null,
   "id": "fluid-exhaust",
   "metadata": {},
   "outputs": [],
   "source": [
    "start = time.time()\n",
    "Js = jac.sparsify_jac(Jac, sparse_thresh=1.e-4)\n",
    "elapsed = time.time() - start\n",
    "total = total + elapsed\n",
    "print(\" Used %7.4f s for sparsifying Jacobian from %s \" % (elapsed, JFile))"
   ]
  },
  {
   "cell_type": "code",
   "execution_count": null,
   "id": "ceramic-taylor",
   "metadata": {},
   "outputs": [],
   "source": [
    "mu = 0.0\n",
    "sigma = 0.5\n",
    "r = rho.flat\n",
    "nproj = 1000"
   ]
  },
  {
   "cell_type": "code",
   "execution_count": null,
   "id": "separate-patent",
   "metadata": {},
   "outputs": [],
   "source": [
    "rank = 500\n",
    "start = time.time()\n",
    "U, S, Vt = jac.rsvd(Jac.T, rank, n_oversamples=0, n_subspace_iters=0)\n",
    "elapsed = time.time() - start\n",
    "print(\n",
    "    \"Used %7.4f s for calculating k = %i SVD from %s \" % (elapsed, rank, JFile)\n",
    ")"
   ]
  },
  {
   "cell_type": "code",
   "execution_count": null,
   "id": "protecting-antibody",
   "metadata": {
    "lines_to_next_cell": 2
   },
   "outputs": [],
   "source": [
    "D = U@scp.diags(S[:])@Vt - Jac.T\n",
    "x_op = np.random.normal(size=np.shape(D)[1])\n",
    "n_op = npl.norm(D@x_op)/npl.norm(x_op)\n",
    "j_op = npl.norm(Jac.T@x_op)/npl.norm(x_op)\n",
    "print(\" Op-norm J_k = \"+str(n_op)+\", explains \"\n",
    "      +str(100. - n_op*100./j_op)+\"% of variations\")"
   ]
  },
  {
   "cell_type": "code",
   "execution_count": null,
   "id": "upper-humor",
   "metadata": {},
   "outputs": [],
   "source": [
    "# m_avg = 0.\n",
    "# v_avg = 0.\n",
    "# s = time.time()\n",
    "for isample in np.arange(NSamples):\n",
    "\n",
    "    body = [\n",
    "    \"ellipsoid\",\n",
    "    \"add\",\n",
    "    0.,\n",
    "    0.,\n",
    "    0.,\n",
    "    3000.,\n",
    "    1000.,\n",
    "    2000.,\n",
    "    1000.,\n",
    "    0.,\n",
    "    0.,\n",
    "    30.]"
   ]
  },
  {
   "cell_type": "markdown",
   "id": "capital-stocks",
   "metadata": {},
   "source": [
    "m = r + np.random.normal(mu, sigma, size=np.shape(r))\n",
    "    t = time.time() - s\n",
    "    print(\" Used %7.4f s for generating m  \" % (t))"
   ]
  },
  {
   "cell_type": "markdown",
   "id": "hollow-excess",
   "metadata": {},
   "source": [
    "    s = time.time()\n",
    "    for proj in range(nproj):\n",
    "        p = jac.projectMod(m, U)"
   ]
  },
  {
   "cell_type": "markdown",
   "id": "occupational-illness",
   "metadata": {},
   "source": [
    "    t = time.time() - s\n",
    "    print(\" Used %7.4f s for %i projections\" % (t, nproj))"
   ]
  },
  {
   "cell_type": "markdown",
   "id": "theoretical-wealth",
   "metadata": {},
   "source": [
    "total = total + elapsed\n",
    "print(\" Total time used:  %f s \" % (total))"
   ]
  }
 ],
 "metadata": {
  "jupytext": {
   "cell_metadata_filter": "-all",
   "encoding": "# -*- coding: utf-8 -*-",
   "executable": "/usr/bin/env python3",
   "formats": "py:light,ipynb",
   "main_language": "python"
  }
 },
 "nbformat": 4,
 "nbformat_minor": 5
}

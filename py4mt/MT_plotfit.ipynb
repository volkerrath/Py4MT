{
 "cells": [
  {
   "cell_type": "code",
   "execution_count": null,
   "id": "sound-birmingham",
   "metadata": {},
   "outputs": [],
   "source": [
    "\"\"\"\n",
    "Created on Sun Jun  7 20:38:34 2020\n",
    "\n",
    "@author: vrath\n",
    "\"\"\""
   ]
  },
  {
   "cell_type": "code",
   "execution_count": null,
   "id": "dependent-color",
   "metadata": {},
   "outputs": [],
   "source": [
    "import mtpy.modeling.modem as modem"
   ]
  },
  {
   "cell_type": "markdown",
   "id": "lucky-journal",
   "metadata": {},
   "source": [
    "Graphical paramter. Determine the plot formats produced,\n",
    "and the required resolution:"
   ]
  },
  {
   "cell_type": "code",
   "execution_count": null,
   "id": "found-revolution",
   "metadata": {},
   "outputs": [],
   "source": [
    "plot_pdf = True\n",
    "plot_png = True\n",
    "plot_eps = False"
   ]
  },
  {
   "cell_type": "code",
   "execution_count": null,
   "id": "entire-egyptian",
   "metadata": {},
   "outputs": [],
   "source": [
    "dpi = 400"
   ]
  },
  {
   "cell_type": "code",
   "execution_count": null,
   "id": "eight-boston",
   "metadata": {
    "lines_to_next_cell": 2
   },
   "outputs": [],
   "source": [
    "# PerLimits = (0.0001,10.) #AMT\n",
    "# PerLimits = (0.001,100000.) #BBMT\n",
    "PerLimits = (0.0003, 10000.)  # AMT+BBMT\n",
    "RhoLimits = (10., 30000.)\n",
    "PhiLimits = (-10., 100.)"
   ]
  },
  {
   "cell_type": "code",
   "execution_count": null,
   "id": "national-bible",
   "metadata": {},
   "outputs": [],
   "source": [
    "dfn = r\"/home/vrath/RRV_work/lofreq_sscor/data_file.dat\"\n",
    "rfn = r\"/home/vrath/RRV_work/lofreq_sscor/NewRRV_Lfreq_sscor_NLCG_091.dat\""
   ]
  },
  {
   "cell_type": "code",
   "execution_count": null,
   "id": "graphic-spanish",
   "metadata": {},
   "outputs": [],
   "source": [
    "plot_obj = modem.PlotResponse(data_fn=dfn, resp_fn=rfn)"
   ]
  },
  {
   "cell_type": "markdown",
   "id": "little-transition",
   "metadata": {},
   "source": [
    "plot only the TE and TM modes"
   ]
  },
  {
   "cell_type": "code",
   "execution_count": null,
   "id": "latest-graphics",
   "metadata": {},
   "outputs": [],
   "source": [
    "plot_obj.plot_z = False\n",
    "plot_obj.plot_component = 2\n",
    "plot_obj.plot_style = 1\n",
    "plot_obj.phase_limits = PhiLimits\n",
    "plot_obj.res_limits = RhoLimits\n",
    "plot_obj.period_limits = PerLimits\n",
    "plot_obj.plot_tipper = False"
   ]
  },
  {
   "cell_type": "code",
   "execution_count": null,
   "id": "rolled-saturday",
   "metadata": {},
   "outputs": [],
   "source": [
    "plot_obj.redraw_plot()"
   ]
  },
  {
   "cell_type": "code",
   "execution_count": null,
   "id": "verified-welcome",
   "metadata": {},
   "outputs": [],
   "source": [
    "if plot_png:\n",
    "    plot_obj.save_plot(\n",
    "        os.path.join(\n",
    "            plots_dir,\n",
    "            name + \".png\"),\n",
    "        file_format='png',\n",
    "        fig_dpi=dpi)\n",
    "if plot_pdf:\n",
    "    plot_obj.save_plot(\n",
    "        os.path.join(\n",
    "            plots_dir,\n",
    "            name + \".pdf\"),\n",
    "        file_format='pdf',\n",
    "        fig_dpi=dpi)\n",
    "if plot_eps:\n",
    "    plot_obj.save_plot(\n",
    "        os.path.join(\n",
    "            plots_dir,\n",
    "            name + \".eps\"),\n",
    "        file_format='eps',\n",
    "        fig_dpi=dpi)"
   ]
  }
 ],
 "metadata": {
  "jupytext": {
   "cell_metadata_filter": "-all",
   "encoding": "# -*- coding: utf-8 -*-",
   "executable": "/usr/bin/env python3",
   "formats": "py:light,ipynb",
   "main_language": "python"
  }
 },
 "nbformat": 4,
 "nbformat_minor": 5
}

{
 "cells": [
  {
   "cell_type": "code",
   "execution_count": null,
   "metadata": {},
   "outputs": [],
   "source": [
    "\"\"\"\n",
    "Reads ModEM's Jacobian, does fancy things.\n",
    "\n",
    "@author: vr july 2020\n",
    "\n",
    "Created on Tue Jul  7 16:59:01 2020\n",
    "\n",
    "@author: vrath\n",
    "\n",
    "\"\"\""
   ]
  },
  {
   "cell_type": "markdown",
   "metadata": {},
   "source": [
    "Import required modules"
   ]
  },
  {
   "cell_type": "code",
   "execution_count": null,
   "metadata": {},
   "outputs": [],
   "source": [
    "import os\n",
    "import sys\n",
    "from sys import exit as error\n",
    "# import struct\n",
    "import time"
   ]
  },
  {
   "cell_type": "code",
   "execution_count": null,
   "metadata": {},
   "outputs": [],
   "source": [
    "import numpy as np\n",
    "import math  as ma\n",
    "import netCDF4 as nc\n",
    "import scipy.ndimage as scim\n",
    "import scipy.signal  as scsi\n",
    "# from modules.jacproc import *\n",
    "from modules.modem import *\n",
    "#import readJac, writeJacNC, readDat, writeDatNC, sparsifyJac, readMod, rsvd\n",
    "total = 0\n",
    "rhoair = 1.e+17"
   ]
  },
  {
   "cell_type": "code",
   "execution_count": null,
   "metadata": {},
   "outputs": [],
   "source": [
    "ModFile_in  = r'/home/vrath/work/MT/Annecy/ImageProc/In/ANN20_02_PTZ_NLCG_016'\n",
    "ModFile_out = r'/home/vrath/work/MT/Annecy/ImageProc/Out/ANN20_02_PTZ_NLCG_016_ImProc'"
   ]
  },
  {
   "cell_type": "code",
   "execution_count": null,
   "metadata": {
    "lines_to_next_cell": 2
   },
   "outputs": [],
   "source": []
  },
  {
   "cell_type": "code",
   "execution_count": null,
   "metadata": {},
   "outputs": [],
   "source": [
    "start = time.time()\n",
    "dx, dy, dz, rho, reference = readMod(ModFile_in+'.rho',out = True)\n",
    "writeMod(ModFile_out+'.rho', dx, dy, dz, rho,reference,out = True)\n",
    "elapsed = (time.time() - start)\n",
    "total = total + elapsed\n",
    "print (' Used %7.4f s for reading model from %s ' % (elapsed,ModFile_in+'.rho'))"
   ]
  },
  {
   "cell_type": "code",
   "execution_count": null,
   "metadata": {},
   "outputs": [],
   "source": [
    "air = rho > rhoair/100."
   ]
  },
  {
   "cell_type": "code",
   "execution_count": null,
   "metadata": {
    "lines_to_next_cell": 2
   },
   "outputs": [],
   "source": [
    "start = time.time()\n",
    "for kersiz in [3, 5, 7]:\n",
    "    rhonew = scsi.medfilt(rho, kernel_size=kersiz)\n",
    "    rhonew[air] = rhoair\n",
    "    # print(np.shape(rhonew))\n",
    "    writeMod(ModFile_out+'_medker'+str(kersiz)+'.rho', dx, dy, dz, rhonew,reference,out = True)\n",
    "    #rhonew = scim.median_filter(rho, size=kersize)\n",
    "elapsed = (time.time() - start)\n",
    "total = total + elapsed\n",
    "print (' Used %7.4f s for processing/writing model to %s ' % (elapsed,ModFile_out))"
   ]
  },
  {
   "cell_type": "code",
   "execution_count": null,
   "metadata": {
    "lines_to_next_cell": 2
   },
   "outputs": [],
   "source": [
    "total = total + elapsed\n",
    "print (' Total time used:  %f s ' % (total))"
   ]
  }
 ],
 "metadata": {
  "jupytext": {
   "cell_metadata_filter": "-all",
   "encoding": "# -*- coding: utf-8 -*-",
   "executable": "/usr/bin/env python3",
   "formats": "py:light,ipynb",
   "main_language": "python"
  }
 },
 "nbformat": 4,
 "nbformat_minor": 4
}

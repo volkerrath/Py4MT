{
 "cells": [
  {
   "cell_type": "code",
   "execution_count": null,
   "metadata": {},
   "outputs": [],
   "source": [
    "\"\"\"\n",
    "\n",
    "@author: sb & vr oct 2019\n",
    "\n",
    "\"\"\""
   ]
  },
  {
   "cell_type": "code",
   "execution_count": null,
   "metadata": {
    "lines_to_next_cell": 2
   },
   "outputs": [],
   "source": [
    "# import required modules\n",
    "import os\n",
    "from mtpy.core.mt import MT\n",
    "import numpy as np"
   ]
  },
  {
   "cell_type": "code",
   "execution_count": null,
   "metadata": {},
   "outputs": [],
   "source": [
    "ErrPercent = 10.\n",
    "# Define the path to your edi files\n",
    "edi_in_dir = './edifiles_synth/'\n",
    "print(' Edifiles read from: %s' % edi_in_dir)\n",
    "in_string = '.edi'\n",
    "# Define the path for saving  edifiles\n",
    "edi_out_dir= edi_in_dir\n",
    "out_string = '_Err'+str(ErrPercent)+'Percent.edi'"
   ]
  },
  {
   "cell_type": "code",
   "execution_count": null,
   "metadata": {
    "lines_to_next_cell": 2
   },
   "outputs": [],
   "source": []
  },
  {
   "cell_type": "code",
   "execution_count": null,
   "metadata": {
    "lines_to_next_cell": 2
   },
   "outputs": [],
   "source": [
    "edi_files=[]\n",
    "files= os.listdir(edi_in_dir) \n",
    "for entry in files:\n",
    "   # print(entry)\n",
    "   if entry.endswith('.edi') and not entry.endswith('.'):\n",
    "            edi_files.append(entry)\n",
    "ns =  np.size(edi_files)"
   ]
  },
  {
   "cell_type": "code",
   "execution_count": null,
   "metadata": {
    "lines_to_next_cell": 2
   },
   "outputs": [],
   "source": [
    "Z_err_rel=ErrPercent/100. # \n",
    "T_err_rel=ErrPercent/100. # "
   ]
  },
  {
   "cell_type": "code",
   "execution_count": null,
   "metadata": {},
   "outputs": [],
   "source": [
    "## loop\n",
    "for filename in edi_files :\n",
    "    print('\\n Reading data from '+edi_in_dir+filename)\n",
    "    name, ext = os.path.splitext(filename)\n",
    "    # Create an MT object \n",
    "    file_in = edi_in_dir+filename\n",
    "    mt_obj = MT(file_in)\n",
    "    print(' site %s at :  % 10.6f % 10.6f' % (name, mt_obj.lat, mt_obj.lon))\n",
    "\n",
    "    Z           = mt_obj.Z.z[:]   \n",
    "#    print('orig') \n",
    "#    print(Z)  \n",
    "    Z_err       = np.abs(Z*Z_err_rel) \n",
    "    rZ          = np.real(Z)\n",
    "    iZ          = np.imag(Z)   \n",
    "    rZ_err      = np.real(Z_err)\n",
    "    iZ_err      = np.imag(Z_err)\n",
    "\n",
    "    rZ_perturb  = np.random.normal(rZ,rZ_err)\n",
    "    iZ_perturb  = np.random.normal(iZ,iZ_err)\n",
    "    \n",
    "    Z_perturb   = rZ_perturb+iZ_perturb*1j\n",
    "    newZ           = Z_perturb\n",
    "#    print('\\n\\n pert') \n",
    "#    print(Z)   \n",
    "    \n",
    "    T  = mt_obj.Tipper.tipper[:]\n",
    "#    print('orig') \n",
    "#    print(Tipper)  \n",
    "    \n",
    "    T_err       = np.abs(T*T_err_rel) \n",
    "    rT          = np.real(T)\n",
    "    iT          = np.imag(T)   \n",
    "    rT_err      = np.real(T_err)\n",
    "    iT_err      = np.imag(T_err)\n",
    "\n",
    "    rT_perturb  = np.random.normal(rT,rT_err)\n",
    "    iT_perturb  = np.random.normal(iT,iT_err)\n",
    "    \n",
    "    T_perturb   = rT_perturb+iT_perturb*1j\n",
    "    newT        = T_perturb\n",
    "#    print('\\n\\n pert') \n",
    "#    print(T)   \n",
    "\n",
    "    mt_obj.Tipper.tipper    = newT\n",
    "    mt_obj.Z.z              = newZ\n",
    "##    print(mt_obj.Z.rotation_angle)\n",
    "# Write a new edi file \n",
    "    file_out=filename.replace(in_string,out_string)\n",
    "    print('Writing data to '+edi_out_dir+file_out)\n",
    "    mt_obj.write_mt_file(\n",
    "            save_dir=edi_out_dir,\n",
    "            fn_basename=file_out,\n",
    "            file_type='edi',\n",
    "            new_Z_obj=mt_obj.Z, # provide a z object to update the data\n",
    "            new_Tipper_obj=mt_obj.Tipper, # provide a z object to update the data\n",
    "            longitude_format='LONG', # write longitudes as 'LONG' not ‘LON’\n",
    "            latlon_format='dd'# write as decimal degrees (any other input\n",
    "            # will write as degrees:minutes:seconds\n",
    "            )"
   ]
  },
  {
   "cell_type": "code",
   "execution_count": null,
   "metadata": {},
   "outputs": [],
   "source": [
    "  "
   ]
  }
 ],
 "metadata": {
  "jupytext": {
   "cell_metadata_filter": "-all",
   "encoding": "# -*- coding: utf-8 -*-",
   "formats": "ipynb,py",
   "main_language": "python"
  }
 },
 "nbformat": 4,
 "nbformat_minor": 2
}

{
 "cells": [
  {
   "cell_type": "code",
   "execution_count": null,
   "id": "southwest-chess",
   "metadata": {},
   "outputs": [],
   "source": [
    "\"\"\"\n",
    "This script will take EDI-files from a prescribed directory, and add Gaussian\n",
    "noise. This is useful for working with synthetic data.\n",
    "\n",
    "@author: sb & vr dec 2019\n",
    "\n",
    "\"\"\""
   ]
  },
  {
   "cell_type": "markdown",
   "id": "musical-florist",
   "metadata": {},
   "source": [
    "First import required modules:"
   ]
  },
  {
   "cell_type": "code",
   "execution_count": null,
   "id": "referenced-method",
   "metadata": {},
   "outputs": [],
   "source": [
    "import os\n",
    "from mtpy.core.mt import MT\n",
    "import numpy as np"
   ]
  },
  {
   "cell_type": "markdown",
   "id": "naval-polymer",
   "metadata": {},
   "source": [
    "Define errors for Z and T in percent: "
   ]
  },
  {
   "cell_type": "code",
   "execution_count": null,
   "id": "strategic-strand",
   "metadata": {},
   "outputs": [],
   "source": [
    "Z_ErrPercent = 10.\n",
    "T_ErrPercent = 10."
   ]
  },
  {
   "cell_type": "markdown",
   "id": "flush-overhead",
   "metadata": {},
   "source": [
    "Define the path to your edi files:"
   ]
  },
  {
   "cell_type": "code",
   "execution_count": null,
   "id": "twelve-firewall",
   "metadata": {},
   "outputs": [],
   "source": [
    "edi_in_dir = './edifiles_synth/'\n",
    "print(' Edifiles read from: %s' % edi_in_dir)\n",
    "in_string = '.edi'"
   ]
  },
  {
   "cell_type": "markdown",
   "id": "thorough-sierra",
   "metadata": {},
   "source": [
    "Define the path and additional marker string for perturbed edifiles:"
   ]
  },
  {
   "cell_type": "code",
   "execution_count": null,
   "id": "sixth-settlement",
   "metadata": {},
   "outputs": [],
   "source": [
    "edi_out_dir= edi_in_dir\n",
    "if not os.path.isdir(edi_out_dir):\n",
    "    print(' File: %s does not exist, but will be created' % edi_out_dir)\n",
    "    os.mkdir(edi_out_dir)\n",
    "out_string = '_ErrZ'+str(Z_ErrPercent)+'_ErrT'+str(T_ErrPercent)+'Percent.edi'"
   ]
  },
  {
   "cell_type": "code",
   "execution_count": null,
   "id": "pleasant-obligation",
   "metadata": {
    "lines_to_next_cell": 2
   },
   "outputs": [],
   "source": []
  },
  {
   "cell_type": "markdown",
   "id": "thrown-clone",
   "metadata": {},
   "source": [
    "No changes required after this line!"
   ]
  },
  {
   "cell_type": "code",
   "execution_count": null,
   "id": "comparative-pastor",
   "metadata": {},
   "outputs": [],
   "source": []
  },
  {
   "cell_type": "markdown",
   "id": "graduate-valuation",
   "metadata": {},
   "source": [
    "Construct list of edi-files:"
   ]
  },
  {
   "cell_type": "code",
   "execution_count": null,
   "id": "finished-animation",
   "metadata": {
    "lines_to_next_cell": 2
   },
   "outputs": [],
   "source": [
    "edi_files=[]\n",
    "files= os.listdir(edi_in_dir) \n",
    "for entry in files:\n",
    "   # print(entry)\n",
    "   if entry.endswith('.edi') and not entry.endswith('.'):\n",
    "            edi_files.append(entry)\n",
    "ns =  np.size(edi_files)"
   ]
  },
  {
   "cell_type": "code",
   "execution_count": null,
   "id": "labeled-intake",
   "metadata": {},
   "outputs": [],
   "source": [
    "Z_err_rel=Z_ErrPercent/100. # \n",
    "T_err_rel=Z_ErrPercent/100. # "
   ]
  },
  {
   "cell_type": "markdown",
   "id": "original-township",
   "metadata": {},
   "source": [
    "Enter loop "
   ]
  },
  {
   "cell_type": "code",
   "execution_count": null,
   "id": "adolescent-cradle",
   "metadata": {},
   "outputs": [],
   "source": [
    "for filename in edi_files :\n",
    "    print('\\n Reading data from '+edi_in_dir+filename)\n",
    "    name, ext = os.path.splitext(filename)"
   ]
  },
  {
   "cell_type": "markdown",
   "id": "cubic-sunglasses",
   "metadata": {},
   "source": [
    "Create an MT object "
   ]
  },
  {
   "cell_type": "code",
   "execution_count": null,
   "id": "continuing-royalty",
   "metadata": {},
   "outputs": [],
   "source": [
    "    file_in = edi_in_dir+filename\n",
    "    mt_obj = MT(file_in)\n",
    "    print(' site %s at :  % 10.6f % 10.6f' % (name, mt_obj.lat, mt_obj.lon))"
   ]
  },
  {
   "cell_type": "markdown",
   "id": "driving-screen",
   "metadata": {},
   "source": [
    "Extract impedance tensor Z:"
   ]
  },
  {
   "cell_type": "code",
   "execution_count": null,
   "id": "paperback-jaguar",
   "metadata": {},
   "outputs": [],
   "source": [
    "    Z           = mt_obj.Z.z[:]   "
   ]
  },
  {
   "cell_type": "markdown",
   "id": "quantitative-prior",
   "metadata": {},
   "source": [
    "Set perturbation for real and imaginary parts:"
   ]
  },
  {
   "cell_type": "code",
   "execution_count": null,
   "id": "plain-thunder",
   "metadata": {},
   "outputs": [],
   "source": [
    "    Z_err       = np.abs(Z*Z_err_rel) \n",
    "    rZ          = np.real(Z)\n",
    "    iZ          = np.imag(Z)   \n",
    "    rZ_err      = np.real(Z_err)\n",
    "    iZ_err      = np.imag(Z_err)\n",
    "\n",
    "    rZ_perturb  = np.random.normal(rZ,rZ_err)\n",
    "    iZ_perturb  = np.random.normal(iZ,iZ_err)\n",
    "    \n",
    "    Z_perturb   = rZ_perturb+iZ_perturb*1j\n",
    "    newZ           = Z_perturb"
   ]
  },
  {
   "cell_type": "markdown",
   "id": "clinical-implement",
   "metadata": {},
   "source": [
    "Extract tipper T:"
   ]
  },
  {
   "cell_type": "code",
   "execution_count": null,
   "id": "south-graph",
   "metadata": {},
   "outputs": [],
   "source": [
    "    T  = mt_obj.Tipper.tipper[:]"
   ]
  },
  {
   "cell_type": "markdown",
   "id": "driven-slovak",
   "metadata": {},
   "source": [
    "Set perturbation for real and imaginary parts:    "
   ]
  },
  {
   "cell_type": "code",
   "execution_count": null,
   "id": "impressive-domestic",
   "metadata": {},
   "outputs": [],
   "source": [
    "    T_err       = np.abs(T*T_err_rel) \n",
    "    rT          = np.real(T)\n",
    "    iT          = np.imag(T)   \n",
    "    rT_err      = np.real(T_err)\n",
    "    iT_err      = np.imag(T_err)\n",
    "\n",
    "    rT_perturb  = np.random.normal(rT,rT_err)\n",
    "    iT_perturb  = np.random.normal(iT,iT_err)\n",
    "    \n",
    "    T_perturb   = rT_perturb+iT_perturb*1j\n",
    "    newT        = T_perturb\n",
    "\n",
    "\n",
    "    mt_obj.Tipper.tipper    = newT\n",
    "    mt_obj.Z.z              = newZ"
   ]
  },
  {
   "cell_type": "markdown",
   "id": "worth-shannon",
   "metadata": {},
   "source": [
    "Write a new edi file "
   ]
  },
  {
   "cell_type": "code",
   "execution_count": null,
   "id": "super-working",
   "metadata": {},
   "outputs": [],
   "source": [
    "    file_out=filename.replace(in_string,out_string)\n",
    "    print('Writing data to '+edi_out_dir+file_out)\n",
    "    mt_obj.write_mt_file(\n",
    "            save_dir=edi_out_dir,\n",
    "            fn_basename=file_out,\n",
    "            file_type='edi',\n",
    "            new_Z_obj=mt_obj.Z, # provide a z object to update the data\n",
    "            new_Tipper_obj=mt_obj.Tipper, # provide a z object to update the data\n",
    "            longitude_format='LONG', # write longitudes as 'LONG' not ‘LON’\n",
    "            latlon_format='dd'# write as decimal degrees (any other input\n",
    "            # will write as degrees:minutes:seconds\n",
    "            )"
   ]
  },
  {
   "cell_type": "code",
   "execution_count": null,
   "id": "nonprofit-symposium",
   "metadata": {},
   "outputs": [],
   "source": [
    "  "
   ]
  }
 ],
 "metadata": {
  "jupytext": {
   "cell_metadata_filter": "-all",
   "encoding": "# -*- coding: utf-8 -*-",
   "formats": "py:light,ipynb",
   "main_language": "python"
  }
 },
 "nbformat": 4,
 "nbformat_minor": 5
}

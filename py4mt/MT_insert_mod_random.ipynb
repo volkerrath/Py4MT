{
 "cells": [
  {
   "cell_type": "code",
   "execution_count": null,
   "id": "debc5a20",
   "metadata": {},
   "outputs": [],
   "source": [
    "\"\"\"\n",
    "Reads ModEM model, reads ModEM\"s Jacobian, does fancy things.\n",
    "\n",
    "Created on Sun Jan 17 15:09:34 2021\n",
    "\n",
    "@author: vrath jan 2021\n",
    "\n",
    "\"\"\""
   ]
  },
  {
   "cell_type": "markdown",
   "id": "13f6db21",
   "metadata": {},
   "source": [
    "Import required modules"
   ]
  },
  {
   "cell_type": "code",
   "execution_count": null,
   "id": "463cfc5e",
   "metadata": {
    "lines_to_next_cell": 2
   },
   "outputs": [],
   "source": [
    "import os\n",
    "import sys\n",
    "from sys import exit as error\n",
    "# import struct\n",
    "import time\n",
    "from datetime import datetime"
   ]
  },
  {
   "cell_type": "code",
   "execution_count": null,
   "id": "d449e978",
   "metadata": {},
   "outputs": [],
   "source": [
    "import numpy as np\n",
    "import netCDF4 as nc"
   ]
  },
  {
   "cell_type": "code",
   "execution_count": null,
   "id": "42e89cb2",
   "metadata": {
    "lines_to_next_cell": 2
   },
   "outputs": [],
   "source": [
    "mypath = [\"/home/vrath/Py4MT/py4mt/modules/\", \"/home/vrath/Py4MT/py4mt/scripts/\"]\n",
    "for pth in mypath:\n",
    "    if pth not in sys.path:\n",
    "        sys.path.insert(0,pth)"
   ]
  },
  {
   "cell_type": "code",
   "execution_count": null,
   "id": "b8eef126",
   "metadata": {},
   "outputs": [],
   "source": [
    "import jacproc as jac\n",
    "import modem as mod"
   ]
  },
  {
   "cell_type": "code",
   "execution_count": null,
   "id": "fbbc9c31",
   "metadata": {},
   "outputs": [],
   "source": []
  },
  {
   "cell_type": "code",
   "execution_count": null,
   "id": "7c8b1fdd",
   "metadata": {},
   "outputs": [],
   "source": [
    "import numpy as np\n",
    "import math as ma\n",
    "import netCDF4 as nc"
   ]
  },
  {
   "cell_type": "code",
   "execution_count": null,
   "id": "ee1ce915",
   "metadata": {},
   "outputs": [],
   "source": [
    "import modem as mod\n",
    "import util as utl"
   ]
  },
  {
   "cell_type": "code",
   "execution_count": null,
   "id": "01286ff0",
   "metadata": {},
   "outputs": [],
   "source": [
    "from version import versionstrg"
   ]
  },
  {
   "cell_type": "code",
   "execution_count": null,
   "id": "f17df6d4",
   "metadata": {},
   "outputs": [],
   "source": [
    "Strng, _ = versionstrg()\n",
    "now = datetime.now()\n",
    "print(\"\\n\\n\"+Strng)\n",
    "print(\"Generate Random sets of bodies\"+\"\\n\"+\"\".join(\"Date \" + now.strftime(\"%m/%d/%Y, %H:%M:%S\")))\n",
    "print(\"\\n\\n\")"
   ]
  },
  {
   "cell_type": "code",
   "execution_count": null,
   "id": "3f8e4952",
   "metadata": {
    "lines_to_next_cell": 2
   },
   "outputs": [],
   "source": []
  },
  {
   "cell_type": "code",
   "execution_count": null,
   "id": "3bf1a616",
   "metadata": {
    "lines_to_next_cell": 2
   },
   "outputs": [],
   "source": [
    "rng = np.random.default_rng()\n",
    "nan = np.nan  # float(\"NaN\")"
   ]
  },
  {
   "cell_type": "code",
   "execution_count": null,
   "id": "071bc1c0",
   "metadata": {},
   "outputs": [],
   "source": [
    "rhoair = 1.e+17"
   ]
  },
  {
   "cell_type": "code",
   "execution_count": null,
   "id": "47173f1a",
   "metadata": {},
   "outputs": [],
   "source": [
    "total = 0\n",
    "InModDir = r\"/home/vrath/Py4MT/py4mt/data/ANN21_Jacobian/\"\n",
    "OutModDir = InModDir\n",
    "ModFil = r\"Ann21_Prior100_T_NLCG_033\"\n",
    "ModFile_out = r\"/home/vrath/work/MT/Annecy/ImageProc/Out/ANN20_02_PT_NLCG_016_nse\""
   ]
  },
  {
   "cell_type": "code",
   "execution_count": null,
   "id": "c74d33a1",
   "metadata": {
    "lines_to_next_cell": 2
   },
   "outputs": [],
   "source": [
    "if not os.path.isdir(OutModDir):\n",
    "    print(\"File: %s does not exist, but will be created\" % OutModDir)\n",
    "    os.mkdir(OutModDir)"
   ]
  },
  {
   "cell_type": "code",
   "execution_count": null,
   "id": "3afc81e7",
   "metadata": {},
   "outputs": [],
   "source": [
    "geocenter = [45.938251, 6.084900]\n",
    "utm_x, utm_y = utl.proj_latlon_to_utm(geocenter[0], geocenter[1], utm_zone=32631)\n",
    "utmcenter = [utm_x, utm_y, 0.]"
   ]
  },
  {
   "cell_type": "code",
   "execution_count": null,
   "id": "8f212730",
   "metadata": {
    "lines_to_next_cell": 2
   },
   "outputs": [],
   "source": [
    "ssamples = 10000"
   ]
  },
  {
   "cell_type": "code",
   "execution_count": null,
   "id": "8b7ce007",
   "metadata": {},
   "outputs": [],
   "source": [
    "body = [\n",
    "    \"ellipsoid\",\n",
    "    \"add\",\n",
    "    0.,\n",
    "    0.,\n",
    "    0.,\n",
    "    3000.,\n",
    "    1000.,\n",
    "    2000.,\n",
    "    1000.,\n",
    "    0.,\n",
    "    0.,\n",
    "    30.]"
   ]
  },
  {
   "cell_type": "code",
   "execution_count": null,
   "id": "3bd3c9bf",
   "metadata": {},
   "outputs": [],
   "source": [
    "normalize_err = True\n",
    "normalize_max = True\n",
    "calcsens = True"
   ]
  },
  {
   "cell_type": "code",
   "execution_count": null,
   "id": "03bbc5d3",
   "metadata": {},
   "outputs": [],
   "source": [
    "JacFile = r\"/home/vrath/work/MT/Jacobians/Maurienne/Maur_PT.jac\"\n",
    "DatFile = r\"/home/vrath/work/MT/Jacobians/Maurienne/Maur_PT.dat\"\n",
    "ModFile = r\"/home/vrath/work/MT/Jacobians/Maurienne//Maur_PT_R500_NLCG_016.rho\"\n",
    "SnsFile = r\"/home/vrath/work/MT/Jacobians/Maurienne/Maur_PT_R500_NLCG_016.sns\""
   ]
  },
  {
   "cell_type": "code",
   "execution_count": null,
   "id": "86e5cd5d",
   "metadata": {
    "lines_to_next_cell": 2
   },
   "outputs": [],
   "source": [
    "total = 0."
   ]
  },
  {
   "cell_type": "code",
   "execution_count": null,
   "id": "e6768771",
   "metadata": {
    "lines_to_next_cell": 2
   },
   "outputs": [],
   "source": [
    "start = time.time()\n",
    "dx, dy, dz, rho, reference = mod.read_model(ModFile)\n",
    "elapsed = (time.time() - start)\n",
    "total = total + elapsed\n",
    "print(\" Used %7.4f s for reading model from %s \" % (elapsed, DatFile))"
   ]
  },
  {
   "cell_type": "code",
   "execution_count": null,
   "id": "81b3e7a1",
   "metadata": {},
   "outputs": [],
   "source": [
    "nb = np.shape(body)"
   ]
  },
  {
   "cell_type": "code",
   "execution_count": null,
   "id": "3df1e9af",
   "metadata": {},
   "outputs": [],
   "source": [
    "# smoother=[\"gaussian\",0.5]\n",
    "smoother = [\"uniform\", 3]\n",
    "total = 0\n",
    "start = time.time()"
   ]
  },
  {
   "cell_type": "code",
   "execution_count": null,
   "id": "69a36568",
   "metadata": {},
   "outputs": [],
   "source": [
    "dx, dy, dz, rho, reference = mod.read_model(ModFile_in + \".rho\", out=True)\n",
    "# writeMod(ModFile_out+\".rho\", dx, dy, dz, rho,reference,out = True)\n",
    "elapsed = (time.time() - start)\n",
    "total = total + elapsed\n",
    "print(\" Used %7.4f s for reading model from %s \" %\n",
    "      (elapsed, ModFile_in + \".rho\"))"
   ]
  },
  {
   "cell_type": "code",
   "execution_count": null,
   "id": "08e3f26b",
   "metadata": {},
   "outputs": [],
   "source": [
    "air = rho > rhoair / 100."
   ]
  },
  {
   "cell_type": "code",
   "execution_count": null,
   "id": "37013462",
   "metadata": {},
   "outputs": [],
   "source": [
    "rho = mod.prepare_model(rho, rhoair=rhoair)"
   ]
  },
  {
   "cell_type": "code",
   "execution_count": null,
   "id": "9c278335",
   "metadata": {
    "lines_to_next_cell": 2
   },
   "outputs": [],
   "source": [
    "for ibody in range(nb[0]):\n",
    "    body = bodies[ibody]\n",
    "    rhonew = insert_body(dx, dy, dz, rho, body, smooth=smoother)\n",
    "    rhonew[air] = rhoair\n",
    "    Modout = ModFile_out + \"_\" + body[0] + \\\n",
    "        str(ibody) + \"_\" + smoother[0] + \".rho\"\n",
    "    writeMod(Modout, dx, dy, dz, rhonew, reference, out=True)\n",
    "\n",
    "    elapsed = (time.time() - start)\n",
    "    print(\n",
    "        \" Used %7.4f s for processing/writing model to %s \" %\n",
    "        (elapsed, Modout))\n",
    "    print(\"\\n\")"
   ]
  },
  {
   "cell_type": "code",
   "execution_count": null,
   "id": "62c7cf24",
   "metadata": {},
   "outputs": [],
   "source": [
    "total = total + elapsed\n",
    "print(\" Total time used:  %f s \" % (total))"
   ]
  }
 ],
 "metadata": {
  "jupytext": {
   "cell_metadata_filter": "-all",
   "encoding": "# -*- coding: utf-8 -*-",
   "executable": "/usr/bin/env python3",
   "formats": "py,ipynb",
   "main_language": "python"
  }
 },
 "nbformat": 4,
 "nbformat_minor": 5
}

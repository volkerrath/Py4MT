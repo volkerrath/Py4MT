{
 "cells": [
  {
   "cell_type": "code",
   "execution_count": null,
   "id": "b12cd0cf",
   "metadata": {},
   "outputs": [],
   "source": [
    "\"\"\"\n",
    "Reads ModEM model, reads ModEM\"s Jacobian, does fancy things.\n",
    "\n",
    "Created on Sun Jan 17 15:09:34 2021\n",
    "\n",
    "@author: vrath jan 2021\n",
    "\n",
    "\"\"\""
   ]
  },
  {
   "cell_type": "markdown",
   "id": "d652b5e7",
   "metadata": {},
   "source": [
    "Import required modules"
   ]
  },
  {
   "cell_type": "code",
   "execution_count": null,
   "id": "11eedc02",
   "metadata": {
    "lines_to_next_cell": 2
   },
   "outputs": [],
   "source": [
    "import os\n",
    "import sys\n",
    "from sys import exit as error\n",
    "# import struct\n",
    "import time\n",
    "from datetime import datetime"
   ]
  },
  {
   "cell_type": "code",
   "execution_count": null,
   "id": "d8f19c49",
   "metadata": {},
   "outputs": [],
   "source": [
    "import numpy as np\n",
    "import netCDF4 as nc"
   ]
  },
  {
   "cell_type": "code",
   "execution_count": null,
   "id": "274445d7",
   "metadata": {
    "lines_to_next_cell": 2
   },
   "outputs": [],
   "source": [
    "mypath = [\"/home/vrath/Py4MT/py4mt/modules/\", \"/home/vrath/Py4MT/py4mt/scripts/\"]\n",
    "for pth in mypath:\n",
    "    if pth not in sys.path:\n",
    "        sys.path.insert(0,pth)"
   ]
  },
  {
   "cell_type": "code",
   "execution_count": null,
   "id": "a2d9fdb5",
   "metadata": {},
   "outputs": [],
   "source": [
    "import jacproc as jac\n",
    "import modem as mod"
   ]
  },
  {
   "cell_type": "code",
   "execution_count": null,
   "id": "1cf3839e",
   "metadata": {},
   "outputs": [],
   "source": []
  },
  {
   "cell_type": "code",
   "execution_count": null,
   "id": "8fad93d5",
   "metadata": {},
   "outputs": [],
   "source": [
    "import numpy as np\n",
    "import math as ma\n",
    "import netCDF4 as nc"
   ]
  },
  {
   "cell_type": "code",
   "execution_count": null,
   "id": "8fb3bcb2",
   "metadata": {},
   "outputs": [],
   "source": [
    "import modem as mod\n",
    "import util as utl"
   ]
  },
  {
   "cell_type": "code",
   "execution_count": null,
   "id": "9599fffe",
   "metadata": {},
   "outputs": [],
   "source": [
    "from version import versionstrg"
   ]
  },
  {
   "cell_type": "code",
   "execution_count": null,
   "id": "8d8fc276",
   "metadata": {},
   "outputs": [],
   "source": [
    "Strng, _ = versionstrg()\n",
    "now = datetime.now()\n",
    "print(\"\\n\\n\"+Strng)\n",
    "print(\"Generate Random sets of bodies\"+\"\\n\"+\"\".join(\"Date \" + now.strftime(\"%m/%d/%Y, %H:%M:%S\")))\n",
    "print(\"\\n\\n\")"
   ]
  },
  {
   "cell_type": "code",
   "execution_count": null,
   "id": "94544462",
   "metadata": {
    "lines_to_next_cell": 2
   },
   "outputs": [],
   "source": []
  },
  {
   "cell_type": "code",
   "execution_count": null,
   "id": "b2168bca",
   "metadata": {
    "lines_to_next_cell": 2
   },
   "outputs": [],
   "source": [
    "rng = np.random.default_rng()\n",
    "nan = np.nan  # float(\"NaN\")"
   ]
  },
  {
   "cell_type": "code",
   "execution_count": null,
   "id": "a2af2eac",
   "metadata": {},
   "outputs": [],
   "source": [
    "rhoair = 1.e+17"
   ]
  },
  {
   "cell_type": "code",
   "execution_count": null,
   "id": "88599b45",
   "metadata": {},
   "outputs": [],
   "source": [
    "total = 0\n",
    "InModDir = r\"/home/vrath/Py4MT/py4mt/data/ANN21_Jacobian/\"\n",
    "OutModDir = InModDir\n",
    "ModFil = r\"Ann21_Prior100_T_NLCG_033\"\n",
    "ModFile_out = r\"/home/vrath/work/MT/Annecy/ImageProc/Out/ANN20_02_PT_NLCG_016_nse\""
   ]
  },
  {
   "cell_type": "code",
   "execution_count": null,
   "id": "278c65d5",
   "metadata": {
    "lines_to_next_cell": 2
   },
   "outputs": [],
   "source": [
    "if not os.path.isdir(OutModDir):\n",
    "    print(\"File: %s does not exist, but will be created\" % OutModDir)\n",
    "    os.mkdir(OutModDir)"
   ]
  },
  {
   "cell_type": "code",
   "execution_count": null,
   "id": "8801be6c",
   "metadata": {},
   "outputs": [],
   "source": [
    "geocenter = [45.938251, 6.084900]\n",
    "utm_x, utm_y = utl.proj_latlon_to_utm(geocenter[0], geocenter[1], utm_zone=32631)\n",
    "utmcenter = [utm_x, utm_y, 0.]"
   ]
  },
  {
   "cell_type": "code",
   "execution_count": null,
   "id": "c7dc633c",
   "metadata": {
    "lines_to_next_cell": 2
   },
   "outputs": [],
   "source": [
    "ssamples = 10000"
   ]
  },
  {
   "cell_type": "code",
   "execution_count": null,
   "id": "7516b064",
   "metadata": {},
   "outputs": [],
   "source": [
    "body = [\n",
    "    \"ellipsoid\",\n",
    "    \"add\",\n",
    "    0.,\n",
    "    0.,\n",
    "    0.,\n",
    "    3000.,\n",
    "    1000.,\n",
    "    2000.,\n",
    "    1000.,\n",
    "    0.,\n",
    "    0.,\n",
    "    30.]"
   ]
  },
  {
   "cell_type": "code",
   "execution_count": null,
   "id": "84f29d0f",
   "metadata": {},
   "outputs": [],
   "source": [
    "normalize_err = True\n",
    "normalize_max = True\n",
    "calcsens = True"
   ]
  },
  {
   "cell_type": "code",
   "execution_count": null,
   "id": "3e4b3c5c",
   "metadata": {},
   "outputs": [],
   "source": [
    "JacFile = r\"/home/vrath/work/MT/Jacobians/Maurienne/Maur_PT.jac\"\n",
    "DatFile = r\"/home/vrath/work/MT/Jacobians/Maurienne/Maur_PT.dat\"\n",
    "ModFile = r\"/home/vrath/work/MT/Jacobians/Maurienne//Maur_PT_R500_NLCG_016.rho\"\n",
    "SnsFile = r\"/home/vrath/work/MT/Jacobians/Maurienne/Maur_PT_R500_NLCG_016.sns\""
   ]
  },
  {
   "cell_type": "code",
   "execution_count": null,
   "id": "ace5438a",
   "metadata": {
    "lines_to_next_cell": 2
   },
   "outputs": [],
   "source": [
    "total = 0."
   ]
  },
  {
   "cell_type": "code",
   "execution_count": null,
   "id": "d0006143",
   "metadata": {
    "lines_to_next_cell": 2
   },
   "outputs": [],
   "source": [
    "start = time.time()\n",
    "dx, dy, dz, rho, reference = mod.read_model(ModFile)\n",
    "elapsed = (time.time() - start)\n",
    "total = total + elapsed\n",
    "print(\" Used %7.4f s for reading model from %s \" % (elapsed, DatFile))"
   ]
  },
  {
   "cell_type": "code",
   "execution_count": null,
   "id": "808d2c83",
   "metadata": {},
   "outputs": [],
   "source": [
    "nb = np.shape(body)"
   ]
  },
  {
   "cell_type": "code",
   "execution_count": null,
   "id": "ac9fa516",
   "metadata": {},
   "outputs": [],
   "source": [
    "# smoother=[\"gaussian\",0.5]\n",
    "smoother = [\"uniform\", 3]\n",
    "total = 0\n",
    "start = time.time()"
   ]
  },
  {
   "cell_type": "code",
   "execution_count": null,
   "id": "96817152",
   "metadata": {},
   "outputs": [],
   "source": [
    "dx, dy, dz, rho, reference = mod.read_model(ModFile_in + \".rho\", out=True)\n",
    "# writeMod(ModFile_out+\".rho\", dx, dy, dz, rho,reference,out = True)\n",
    "elapsed = (time.time() - start)\n",
    "total = total + elapsed\n",
    "print(\" Used %7.4f s for reading model from %s \" %\n",
    "      (elapsed, ModFile_in + \".rho\"))"
   ]
  },
  {
   "cell_type": "code",
   "execution_count": null,
   "id": "81ee6c0f",
   "metadata": {},
   "outputs": [],
   "source": [
    "air = rho > rhoair / 100."
   ]
  },
  {
   "cell_type": "code",
   "execution_count": null,
   "id": "cc37320a",
   "metadata": {},
   "outputs": [],
   "source": [
    "rho = mod.prepare_model(rho, rhoair=rhoair)"
   ]
  },
  {
   "cell_type": "code",
   "execution_count": null,
   "id": "10963dc5",
   "metadata": {
    "lines_to_next_cell": 2
   },
   "outputs": [],
   "source": [
    "for ibody in range(nb[0]):\n",
    "    body = bodies[ibody]\n",
    "    rhonew = insert_body(dx, dy, dz, rho, body, smooth=smoother)\n",
    "    rhonew[air] = rhoair\n",
    "    Modout = ModFile_out + \"_\" + body[0] + \\\n",
    "        str(ibody) + \"_\" + smoother[0] + \".rho\"\n",
    "    writeMod(Modout, dx, dy, dz, rhonew, reference, out=True)\n",
    "\n",
    "    elapsed = (time.time() - start)\n",
    "    print(\n",
    "        \" Used %7.4f s for processing/writing model to %s \" %\n",
    "        (elapsed, Modout))\n",
    "    print(\"\\n\")"
   ]
  },
  {
   "cell_type": "code",
   "execution_count": null,
   "id": "543bb1be",
   "metadata": {},
   "outputs": [],
   "source": [
    "total = total + elapsed\n",
    "print(\" Total time used:  %f s \" % (total))"
   ]
  }
 ],
 "metadata": {
  "jupytext": {
   "cell_metadata_filter": "-all",
   "encoding": "# -*- coding: utf-8 -*-",
   "executable": "/usr/bin/env python3",
   "formats": "py,ipynb",
   "main_language": "python"
  }
 },
 "nbformat": 4,
 "nbformat_minor": 5
}

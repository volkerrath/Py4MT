{
 "cells": [
  {
   "cell_type": "code",
   "execution_count": null,
   "id": "2000a24b",
   "metadata": {},
   "outputs": [],
   "source": [
    "\"\"\"\n",
    "Reads ModEM model, reads ModEM\"s Jacobian, does fancy things.\n",
    "\n",
    "Created on Sun Jan 17 15:09:34 2021\n",
    "\n",
    "@author: vrath jan 2021\n",
    "\n",
    "\"\"\""
   ]
  },
  {
   "cell_type": "markdown",
   "id": "ad823a3f",
   "metadata": {},
   "source": [
    "Import required modules"
   ]
  },
  {
   "cell_type": "code",
   "execution_count": null,
   "id": "0c698e81",
   "metadata": {
    "lines_to_next_cell": 2
   },
   "outputs": [],
   "source": [
    "import os\n",
    "import sys\n",
    "from sys import exit as error\n",
    "# import struct\n",
    "import time\n",
    "from datetime import datetime"
   ]
  },
  {
   "cell_type": "code",
   "execution_count": null,
   "id": "f23dbaa7",
   "metadata": {},
   "outputs": [],
   "source": [
    "import numpy as np\n",
    "import netCDF4 as nc"
   ]
  },
  {
   "cell_type": "code",
   "execution_count": null,
   "id": "1fb6db89",
   "metadata": {
    "lines_to_next_cell": 2
   },
   "outputs": [],
   "source": [
    "mypath = [\"/home/vrath/Py4MT/py4mt/modules/\", \"/home/vrath/Py4MT/py4mt/scripts/\"]\n",
    "for pth in mypath:\n",
    "    if pth not in sys.path:\n",
    "        sys.path.insert(0,pth)"
   ]
  },
  {
   "cell_type": "code",
   "execution_count": null,
   "id": "ff0e23ea",
   "metadata": {},
   "outputs": [],
   "source": [
    "import jacproc as jac\n",
    "import modem as mod"
   ]
  },
  {
   "cell_type": "code",
   "execution_count": null,
   "id": "084d70d6",
   "metadata": {},
   "outputs": [],
   "source": []
  },
  {
   "cell_type": "code",
   "execution_count": null,
   "id": "a6965ba7",
   "metadata": {},
   "outputs": [],
   "source": [
    "import numpy as np\n",
    "import math as ma\n",
    "import netCDF4 as nc"
   ]
  },
  {
   "cell_type": "code",
   "execution_count": null,
   "id": "ed8e7240",
   "metadata": {},
   "outputs": [],
   "source": [
    "import modem as mod\n",
    "import util as utl"
   ]
  },
  {
   "cell_type": "code",
   "execution_count": null,
   "id": "5d93b3d2",
   "metadata": {},
   "outputs": [],
   "source": [
    "from version import versionstrg"
   ]
  },
  {
   "cell_type": "code",
   "execution_count": null,
   "id": "01a19f39",
   "metadata": {},
   "outputs": [],
   "source": [
    "Strng, _ = versionstrg()\n",
    "now = datetime.now()\n",
    "print(\"\\n\\n\"+Strng)\n",
    "print(\"Generate Random sets of bodies\"+\"\\n\"+\"\".join(\"Date \" + now.strftime(\"%m/%d/%Y, %H:%M:%S\")))\n",
    "print(\"\\n\\n\")"
   ]
  },
  {
   "cell_type": "code",
   "execution_count": null,
   "id": "0643d6bb",
   "metadata": {
    "lines_to_next_cell": 2
   },
   "outputs": [],
   "source": []
  },
  {
   "cell_type": "code",
   "execution_count": null,
   "id": "c013dc3e",
   "metadata": {
    "lines_to_next_cell": 2
   },
   "outputs": [],
   "source": [
    "rng = np.random.default_rng()\n",
    "nan = np.nan  # float(\"NaN\")"
   ]
  },
  {
   "cell_type": "code",
   "execution_count": null,
   "id": "642e40f7",
   "metadata": {},
   "outputs": [],
   "source": [
    "rhoair = 1.e+17"
   ]
  },
  {
   "cell_type": "code",
   "execution_count": null,
   "id": "9ea836a8",
   "metadata": {},
   "outputs": [],
   "source": [
    "total = 0\n",
    "InModDir = r\"/home/vrath/Py4MT/py4mt/data/ANN21_Jacobian/\"\n",
    "OutModDir = InModDir\n",
    "ModFil = r\"Ann21_Prior100_T_NLCG_033\"\n",
    "ModFile_out = r\"/home/vrath/work/MT/Annecy/ImageProc/Out/ANN20_02_PT_NLCG_016_nse\""
   ]
  },
  {
   "cell_type": "code",
   "execution_count": null,
   "id": "b1bf17ea",
   "metadata": {
    "lines_to_next_cell": 2
   },
   "outputs": [],
   "source": [
    "if not os.path.isdir(OutModDir):\n",
    "    print(\"File: %s does not exist, but will be created\" % OutModDir)\n",
    "    os.mkdir(OutModDir)"
   ]
  },
  {
   "cell_type": "code",
   "execution_count": null,
   "id": "75191f98",
   "metadata": {},
   "outputs": [],
   "source": [
    "geocenter = [45.938251, 6.084900]\n",
    "utm_x, utm_y = utl.proj_latlon_to_utm(geocenter[0], geocenter[1], utm_zone=32631)\n",
    "utmcenter = [utm_x, utm_y, 0.]"
   ]
  },
  {
   "cell_type": "code",
   "execution_count": null,
   "id": "3b63e8b6",
   "metadata": {
    "lines_to_next_cell": 2
   },
   "outputs": [],
   "source": [
    "ssamples = 10000"
   ]
  },
  {
   "cell_type": "code",
   "execution_count": null,
   "id": "7017166a",
   "metadata": {},
   "outputs": [],
   "source": [
    "body = [\n",
    "    \"ellipsoid\",\n",
    "    \"add\",\n",
    "    0.,\n",
    "    0.,\n",
    "    0.,\n",
    "    3000.,\n",
    "    1000.,\n",
    "    2000.,\n",
    "    1000.,\n",
    "    0.,\n",
    "    0.,\n",
    "    30.]"
   ]
  },
  {
   "cell_type": "code",
   "execution_count": null,
   "id": "75ac2924",
   "metadata": {},
   "outputs": [],
   "source": [
    "normalize_err = True\n",
    "normalize_max = True\n",
    "calcsens = True"
   ]
  },
  {
   "cell_type": "code",
   "execution_count": null,
   "id": "68808b24",
   "metadata": {},
   "outputs": [],
   "source": [
    "JacFile = r\"/home/vrath/work/MT/Jacobians/Maurienne/Maur_PT.jac\"\n",
    "DatFile = r\"/home/vrath/work/MT/Jacobians/Maurienne/Maur_PT.dat\"\n",
    "ModFile = r\"/home/vrath/work/MT/Jacobians/Maurienne//Maur_PT_R500_NLCG_016.rho\"\n",
    "SnsFile = r\"/home/vrath/work/MT/Jacobians/Maurienne/Maur_PT_R500_NLCG_016.sns\""
   ]
  },
  {
   "cell_type": "code",
   "execution_count": null,
   "id": "e21a381c",
   "metadata": {
    "lines_to_next_cell": 2
   },
   "outputs": [],
   "source": [
    "total = 0."
   ]
  },
  {
   "cell_type": "code",
   "execution_count": null,
   "id": "cde989d5",
   "metadata": {
    "lines_to_next_cell": 2
   },
   "outputs": [],
   "source": [
    "start = time.time()\n",
    "dx, dy, dz, rho, reference = mod.read_model(ModFile)\n",
    "elapsed = (time.time() - start)\n",
    "total = total + elapsed\n",
    "print(\" Used %7.4f s for reading model from %s \" % (elapsed, DatFile))"
   ]
  },
  {
   "cell_type": "code",
   "execution_count": null,
   "id": "bb0f1e5a",
   "metadata": {},
   "outputs": [],
   "source": [
    "nb = np.shape(body)"
   ]
  },
  {
   "cell_type": "code",
   "execution_count": null,
   "id": "fbcb4e3e",
   "metadata": {},
   "outputs": [],
   "source": [
    "# smoother=[\"gaussian\",0.5]\n",
    "smoother = [\"uniform\", 3]\n",
    "total = 0\n",
    "start = time.time()"
   ]
  },
  {
   "cell_type": "code",
   "execution_count": null,
   "id": "b0f479c4",
   "metadata": {},
   "outputs": [],
   "source": [
    "dx, dy, dz, rho, reference = mod.read_model(ModFile_in + \".rho\", out=True)\n",
    "# writeMod(ModFile_out+\".rho\", dx, dy, dz, rho,reference,out = True)\n",
    "elapsed = (time.time() - start)\n",
    "total = total + elapsed\n",
    "print(\" Used %7.4f s for reading model from %s \" %\n",
    "      (elapsed, ModFile_in + \".rho\"))"
   ]
  },
  {
   "cell_type": "code",
   "execution_count": null,
   "id": "2a4a2229",
   "metadata": {},
   "outputs": [],
   "source": [
    "air = rho > rhoair / 100."
   ]
  },
  {
   "cell_type": "code",
   "execution_count": null,
   "id": "dc2bde48",
   "metadata": {},
   "outputs": [],
   "source": [
    "rho = mod.prepare_model(rho, rhoair=rhoair)"
   ]
  },
  {
   "cell_type": "code",
   "execution_count": null,
   "id": "2a38d2b0",
   "metadata": {
    "lines_to_next_cell": 2
   },
   "outputs": [],
   "source": [
    "for ibody in range(nb[0]):\n",
    "    body = bodies[ibody]\n",
    "    rhonew = insert_body(dx, dy, dz, rho, body, smooth=smoother)\n",
    "    rhonew[air] = rhoair\n",
    "    Modout = ModFile_out + \"_\" + body[0] + \\\n",
    "        str(ibody) + \"_\" + smoother[0] + \".rho\"\n",
    "    writeMod(Modout, dx, dy, dz, rhonew, reference, out=True)\n",
    "\n",
    "    elapsed = (time.time() - start)\n",
    "    print(\n",
    "        \" Used %7.4f s for processing/writing model to %s \" %\n",
    "        (elapsed, Modout))\n",
    "    print(\"\\n\")"
   ]
  },
  {
   "cell_type": "code",
   "execution_count": null,
   "id": "b10b09a2",
   "metadata": {},
   "outputs": [],
   "source": [
    "total = total + elapsed\n",
    "print(\" Total time used:  %f s \" % (total))"
   ]
  }
 ],
 "metadata": {
  "jupytext": {
   "cell_metadata_filter": "-all",
   "encoding": "# -*- coding: utf-8 -*-",
   "executable": "/usr/bin/env python3",
   "formats": "py,ipynb",
   "main_language": "python"
  }
 },
 "nbformat": 4,
 "nbformat_minor": 5
}

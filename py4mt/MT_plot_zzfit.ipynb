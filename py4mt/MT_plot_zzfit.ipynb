{
 "cells": [
  {
   "cell_type": "code",
   "execution_count": null,
   "id": "d6d9c1db",
   "metadata": {},
   "outputs": [],
   "source": [
    "import os\n",
    "import sys\n",
    "import warnings\n",
    "import time"
   ]
  },
  {
   "cell_type": "code",
   "execution_count": null,
   "id": "15d683b1",
   "metadata": {},
   "outputs": [],
   "source": [
    "from sys import exit as error\n",
    "from datetime import datetime"
   ]
  },
  {
   "cell_type": "code",
   "execution_count": null,
   "id": "d03f43c5",
   "metadata": {},
   "outputs": [],
   "source": [
    "import numpy as np\n",
    "import matplotlib as mpl\n",
    "import matplotlib.pyplot as plt\n",
    "from cycler import cycler\n",
    "import pyproj as proj"
   ]
  },
  {
   "cell_type": "code",
   "execution_count": null,
   "id": "6543f024",
   "metadata": {},
   "outputs": [],
   "source": [
    "mypath = [\"/home/vrath/Py4MT/py4mt/modules/\",\n",
    "          \"/home/vrath/Py4MT/py4mt/scripts/\"]\n",
    "for pth in mypath:\n",
    "    if pth not in sys.path:\n",
    "        sys.path.insert(0,pth)"
   ]
  },
  {
   "cell_type": "code",
   "execution_count": null,
   "id": "7b3a6410",
   "metadata": {},
   "outputs": [],
   "source": [
    "import mtplots as mtp"
   ]
  },
  {
   "cell_type": "markdown",
   "id": "35459fd4",
   "metadata": {},
   "source": [
    "import gdal\n",
    "import scipy as sc\n",
    "import vtk\n",
    "import pyvista as pv\n",
    "import pyvistaqt as pvqt\n",
    "import discretize\n",
    "import tarfile\n",
    "import pylab as pl\n",
    "from time import sleep"
   ]
  },
  {
   "cell_type": "code",
   "execution_count": null,
   "id": "bedea934",
   "metadata": {},
   "outputs": [],
   "source": [
    "import mtplots as mtp\n",
    "import modem as mod\n",
    "import util as utl\n",
    "from version import versionstrg"
   ]
  },
  {
   "cell_type": "code",
   "execution_count": null,
   "id": "077ca124",
   "metadata": {},
   "outputs": [],
   "source": [
    "Strng, _ = versionstrg()\n",
    "now = datetime.now()\n",
    "print(\"\\n\\n\"+Strng)\n",
    "print(\"Plot Impedance fit\"+\"\\n\"+\"\".join(\"Date \" + now.strftime(\"%m/%d/%Y, %H:%M:%S\")))\n",
    "print(\"\\n\\n\")"
   ]
  },
  {
   "cell_type": "code",
   "execution_count": null,
   "id": "f5717ff7",
   "metadata": {
    "lines_to_next_cell": 2
   },
   "outputs": [],
   "source": [
    "warnings.simplefilter(action=\"ignore\", category=FutureWarning)"
   ]
  },
  {
   "cell_type": "code",
   "execution_count": null,
   "id": "6cffdb53",
   "metadata": {},
   "outputs": [],
   "source": [
    "# Graphical paramter. Determine the plot formats produced,\n",
    "# and the required resolution:\n",
    "WorkDir =  r\"/home/vrath/work/MT/Fogo/final_inversions/ZZT_100s/\"\n",
    "PredFile = r\"/home/vrath/work/MT/Fogo/final_inversions/ZZT_100s/run7_NLCG_035_Refsite_FOG933A\"\n",
    "ObsvFile = r\"/home/vrath/work/MT/Fogo/final_inversions/ZZT_100s/fogo_modem_data_zzt_3pc_003_100s_edited_Refsite_FOG933A\""
   ]
  },
  {
   "cell_type": "code",
   "execution_count": null,
   "id": "7c03df58",
   "metadata": {},
   "outputs": [],
   "source": [
    "PerLimits = (0.001, 200.)\n",
    "ZLimitsXX = ()\n",
    "ZLimitsXY = ()\n",
    "PlotFile = \"Fogo_ZZ_final\""
   ]
  },
  {
   "cell_type": "code",
   "execution_count": null,
   "id": "dddda3cc",
   "metadata": {},
   "outputs": [],
   "source": []
  },
  {
   "cell_type": "code",
   "execution_count": null,
   "id": "f572739c",
   "metadata": {
    "lines_to_next_cell": 2
   },
   "outputs": [],
   "source": [
    "PlotFormat = [\".pdf\", \".png\", \".svg\"]\n",
    "PdfCatalog = True\n",
    "if not \".pdf\" in PlotFormat:\n",
    "    error(\" No pdfs generated. No catalog possible!\")\n",
    "    PdfCatalog = False\n",
    "PdfCName = PlotFile"
   ]
  },
  {
   "cell_type": "code",
   "execution_count": null,
   "id": "e92a27aa",
   "metadata": {},
   "outputs": [],
   "source": [
    "\"\"\"\n",
    "\n",
    "\"\"\"\n",
    "EPSG = 5015"
   ]
  },
  {
   "cell_type": "code",
   "execution_count": null,
   "id": "f67113cc",
   "metadata": {},
   "outputs": [],
   "source": [
    "start = time.time()\n",
    "FF = ObsvFile\n",
    "SiteObs, CompObs, DataObs, HeadObs = mod.read_data(FF+\".dat\")\n",
    "obs_rdat = DataObs[:, 6]\n",
    "obs_idat = DataObs[:, 7]\n",
    "obs_err = DataObs[:, 8]\n",
    "obs_per = DataObs[:, 0]\n",
    "obs_cmp = CompObs\n",
    "obs_sit = SiteObs\n",
    "lat = DataObs[:,1]\n",
    "lon = DataObs[:,2]\n",
    "x = DataObs[:,3]\n",
    "y = DataObs[:,4]\n",
    "z = DataObs[:,5]"
   ]
  },
  {
   "cell_type": "code",
   "execution_count": null,
   "id": "793e1a8d",
   "metadata": {
    "lines_to_next_cell": 2
   },
   "outputs": [],
   "source": [
    "FF = PredFile\n",
    "SiteCal, CompCal, DataCal, HeadCal = mod.read_data(FF+\".dat\")\n",
    "cal_rdat = DataCal[:, 6]\n",
    "cal_idat = DataCal[:, 7]\n",
    "cal_per = DataCal[:, 0]\n",
    "cal_cmp = CompCal\n",
    "cal_sit = SiteCal"
   ]
  },
  {
   "cell_type": "code",
   "execution_count": null,
   "id": "63f6b035",
   "metadata": {
    "lines_to_next_cell": 2
   },
   "outputs": [],
   "source": [
    "# Determine graphical parameter.\n",
    "# print(plt.style.available)\n",
    "plt.style.use(\"seaborn-paper\")\n",
    "mpl.rcParams[\"figure.dpi\"] = 400\n",
    "mpl.rcParams[\"axes.linewidth\"] = 0.5\n",
    "Fontsize = 10\n",
    "Labelsize = Fontsize\n",
    "Linewidth= 1\n",
    "Grey = 0.7\n",
    "Lcycle =Lcycle = (cycler(\"linestyle\", [\"-\", \"--\", \":\", \"-.\"])\n",
    "          * cycler(\"color\", [\"r\", \"g\", \"b\", \"y\"]))\n",
    "mpl.rcParams[\"figure.dpi\"] = 400\n",
    "mpl.rcParams[\"axes.linewidth\"] = 0.5"
   ]
  },
  {
   "cell_type": "code",
   "execution_count": null,
   "id": "50cd1b4b",
   "metadata": {},
   "outputs": [],
   "source": [
    "plt.style.use(\"seaborn-paper\")"
   ]
  },
  {
   "cell_type": "code",
   "execution_count": null,
   "id": "a0d15c54",
   "metadata": {},
   "outputs": [],
   "source": [
    "Sites = np.unique(SiteObs)"
   ]
  },
  {
   "cell_type": "code",
   "execution_count": null,
   "id": "72e0978f",
   "metadata": {},
   "outputs": [],
   "source": [
    "for s in Sites:\n",
    "    print(\"Plotting site: \"+s)\n",
    "    site = (obs_sit==s)\n",
    "    site_lon = lon[site][0]\n",
    "    site_lat = lat[site][0]\n",
    "    site_utmx, site_utmy = utl.proj_latlon_to_utm(site_lat, site_lon, utm_zone=EPSG)\n",
    "    site_utmx = int(np.round(site_utmx))\n",
    "    site_utmy = int(np.round(site_utmy))\n",
    "    site_elev = z[site][0]\n",
    "\n",
    "    cmp =\"ZXX\"\n",
    "    cmpo = np.where((obs_cmp==cmp) & (obs_sit==s))\n",
    "    Zxxro = np.abs(obs_rdat[cmpo])\n",
    "    Zxxio = np.abs(obs_idat[cmpo])\n",
    "    Zxxe = obs_err[cmpo]\n",
    "    Perxxo = obs_per[cmpo]\n",
    "    cmpc = np.where((cal_cmp==cmp) & (cal_sit==s))\n",
    "    Zxxrc = np.abs(cal_rdat[cmpc])\n",
    "    Zxxic = np.abs(cal_idat[cmpc])\n",
    "    Perxxc = cal_per[cmpc]\n",
    "\n",
    "    cmp =\"ZXY\"\n",
    "    cmpo = np.where((obs_cmp==cmp) & (obs_sit==s))\n",
    "    Zxyro = np.abs(obs_rdat[cmpo])\n",
    "    Zxyio = np.abs(obs_idat[cmpo])\n",
    "    Zxye = obs_err[cmpo]\n",
    "    Perxyo = obs_per[cmpo]\n",
    "    cmpc = np.where((cal_cmp==cmp) & (cal_sit==s))\n",
    "    Zxyrc = np.abs(cal_rdat[cmpc])\n",
    "    Zxyic = np.abs(cal_idat[cmpc])\n",
    "    Perxyc = cal_per[cmpc]\n",
    "\n",
    "    cmp =\"ZYX\"\n",
    "    cmpo = np.where((obs_cmp==cmp) & (obs_sit==s))\n",
    "    Zyxro = np.abs(obs_rdat[cmpo])\n",
    "    Zyxio = np.abs(obs_idat[cmpo])\n",
    "    Zyxe = obs_err[cmpo]\n",
    "    Peryxo = obs_per[cmpo]\n",
    "    cmpc = np.where((cal_cmp==cmp) & (cal_sit==s))\n",
    "    Zyxrc = np.abs(cal_rdat[cmpc])\n",
    "    Zyxic = np.abs(cal_idat[cmpc])\n",
    "    Peryxc = cal_per[cmpc]\n",
    "\n",
    "    cmp =\"ZYY\"\n",
    "    cmpo = np.where((obs_cmp==cmp) & (obs_sit==s))\n",
    "    Zyyro = np.abs(obs_rdat[cmpo])\n",
    "    Zyyio = np.abs(obs_idat[cmpo])\n",
    "    Zyye = obs_err[cmpo]\n",
    "    Peryyo = obs_per[cmpo]\n",
    "    cmpc = np.where((cal_cmp==cmp) & (cal_sit==s))\n",
    "    Zyyrc = np.abs(cal_rdat[cmpc])\n",
    "    Zyyic = np.abs(cal_idat[cmpc])\n",
    "    Peryyc = cal_per[cmpc]\n",
    "\n",
    "\n",
    "    cm = 1/2.54  # centimeters in inches\n",
    "    fig, axes = plt.subplots(2,2, figsize = (16*cm, 12*cm))\n",
    "    fig.suptitle(r\"Site: \"+s\n",
    "                 +\"\\nLat: \"+str(site_lat)+\"   Lon: \"+str(site_lon)\n",
    "                 +\"\\nUTMX: \"+str(site_utmx)+\"   UTMY: \"+str(site_utmy)\n",
    "                 +\" (EPSG=\"+str(EPSG)+\")  \\nElev: \"+ str(abs(site_elev))+\" m\",\n",
    "                 ha=\"left\", x=0.1,fontsize=Fontsize-1)\n",
    "\n",
    "    axes[0,0].plot(Perxxc, Zxxrc, color=\"r\",linestyle=\":\")\n",
    "    axes[0,0].errorbar(Perxxo,Zxxro, yerr=Zxxe,\n",
    "                            linestyle=\"\",\n",
    "                            marker=\"o\",\n",
    "                            color=\"r\",\n",
    "                            lw=0.99,\n",
    "                            markersize=3)\n",
    "    axes[0,0].plot(Perxxc, Zxxic, color=\"b\",linestyle=\":\")\n",
    "    axes[0,0].errorbar(Perxxo,Zxxio, yerr=Zxxe,\n",
    "                            linestyle=\"\",\n",
    "                            marker=\"o\",\n",
    "                            color=\"b\",\n",
    "                            lw=0.99,\n",
    "                            markersize=3)\n",
    "    axes[0,0].set_xscale(\"log\")\n",
    "    axes[0,0].set_yscale(\"log\")\n",
    "    axes[0,0].set_xlim(PerLimits)\n",
    "    if ZLimitsXX != ():\n",
    "        axes[0,0].set_ylim(ZLimitsXX)\n",
    "    axes[0,0].legend([\"real\", \"imag\"])\n",
    "    axes[0,0].xaxis.set_ticklabels([])\n",
    "    axes[0,0].tick_params(labelsize=Labelsize-1)\n",
    "    axes[0,0].set_ylabel(\"|ZXX|\", fontsize=Fontsize)\n",
    "    axes[0,0].grid(\"major\", \"both\", linestyle=\":\", lw=0.5)\n",
    "\n",
    "\n",
    "    axes[0,1].plot(Perxyc, Zxyrc, color=\"r\",linestyle=\":\")\n",
    "    axes[0,1].errorbar(Perxyo,Zxyro, yerr=Zxye,\n",
    "                            linestyle=\"\",\n",
    "                            marker=\"o\",\n",
    "                            color=\"r\",\n",
    "                            lw=0.99,\n",
    "                            markersize=3)\n",
    "    axes[0,1].plot(Perxyc, Zxyic, color=\"b\",linestyle=\":\")\n",
    "    axes[0,1].errorbar(Perxyo,Zxyio, yerr=Zxye,\n",
    "                            linestyle=\"\",\n",
    "                            marker=\"o\",\n",
    "                            color=\"b\",\n",
    "                            lw=0.99,\n",
    "                            markersize=3)\n",
    "    axes[0,1].set_xscale(\"log\")\n",
    "    axes[0,1].set_yscale(\"log\")\n",
    "    axes[0,1].set_xlim(PerLimits)\n",
    "    if ZLimitsXY != ():\n",
    "        axes[0,1].set_ylim(ZLimitsXY)\n",
    "    axes[0,1].legend([\"real\", \"imag\"])\n",
    "    axes[0,1].xaxis.set_ticklabels([])\n",
    "    axes[0,1].tick_params(labelsize=Labelsize-1)\n",
    "    axes[0,1].set_ylabel(\"|ZXY|\", fontsize=Fontsize)\n",
    "    axes[0,1].grid(\"major\", \"both\", linestyle=\":\", lw=0.5)\n",
    "\n",
    "\n",
    "    axes[1,0].plot(Peryxc, Zyxrc, color=\"r\",linestyle=\":\")\n",
    "    axes[1,0].errorbar(Peryxo,Zyxro, yerr=Zyxe,\n",
    "                            linestyle=\"\",\n",
    "                            marker=\"o\",\n",
    "                            color=\"r\",\n",
    "                            lw=0.99,\n",
    "                            markersize=3)\n",
    "    axes[1,0].plot(Peryxc, Zyxic, color=\"b\",linestyle=\":\")\n",
    "    axes[1,0].errorbar(Peryxo,Zyxio, yerr=Zyxe,\n",
    "                            linestyle=\"\",\n",
    "                            marker=\"o\",\n",
    "                            color=\"b\",\n",
    "                            lw=0.99,\n",
    "                            markersize=3)\n",
    "    axes[1,0].set_xscale(\"log\")\n",
    "    axes[1,0].set_yscale(\"log\")\n",
    "    axes[1,0].set_xlim(PerLimits)\n",
    "    if ZLimitsXY != ():\n",
    "        axes[1,0].set_ylim(ZLimitsXY)\n",
    "    axes[1,0].legend([\"real\", \"imag\"])\n",
    "    axes[1,0].tick_params(labelsize=Labelsize-1)\n",
    "    axes[1,0].set_ylabel(\"|ZYX|\", fontsize=Fontsize)\n",
    "    axes[1,0].grid(\"major\", \"both\", linestyle=\":\", lw=0.5)\n",
    "\n",
    "    axes[1,1].plot(Peryyc, Zyyrc, color=\"r\",linestyle=\":\")\n",
    "    axes[1,1].errorbar(Peryyo,Zyyro, yerr=Zyye,\n",
    "                            linestyle=\"\",\n",
    "                            marker=\"o\",\n",
    "                            color=\"r\",\n",
    "                            lw=0.99,\n",
    "                            markersize=3)\n",
    "    axes[1,1].plot(Peryyc, Zyyic, color=\"b\",linestyle=\":\")\n",
    "    axes[1,1].errorbar(Peryyo,Zyyio, yerr=Zyye,\n",
    "                            linestyle=\"\",\n",
    "                            marker=\"o\",\n",
    "                            color=\"b\",\n",
    "                            lw=0.99,\n",
    "                            markersize=3)\n",
    "    axes[1,1].set_xscale(\"log\")\n",
    "    axes[1,1].set_yscale(\"log\")\n",
    "    axes[1,1].set_xlim(PerLimits)\n",
    "    if ZLimitsXX != ():\n",
    "        axes[1,1].set_ylim(ZLimitsXX)\n",
    "    axes[1,1].legend([\"real\", \"imag\"])\n",
    "    axes[1,1].tick_params(labelsize=Labelsize-1)\n",
    "    axes[1,1].set_ylabel(\"|ZYY|\", fontsize=Fontsize)\n",
    "    axes[1,1].grid(\"major\", \"both\", linestyle=\":\", lw=0.5)\n",
    "\n",
    "\n",
    "\n",
    "    fig.tight_layout()\n",
    "\n",
    "    for F in PlotFormat:\n",
    "        plt.savefig(WorkDir+PlotFile+\"_\"+s+F, dpi=400)\n",
    "\n",
    "\n",
    "    plt.show()\n",
    "    plt.close(fig)"
   ]
  },
  {
   "cell_type": "code",
   "execution_count": null,
   "id": "b3eb922a",
   "metadata": {
    "lines_to_next_cell": 2
   },
   "outputs": [],
   "source": [
    "if PdfCatalog:\n",
    "    utl.make_pdf_catalog(WorkDir, PdfCName)"
   ]
  }
 ],
 "metadata": {
  "jupytext": {
   "cell_metadata_filter": "-all",
   "formats": "py,ipynb",
   "main_language": "python"
  }
 },
 "nbformat": 4,
 "nbformat_minor": 5
}

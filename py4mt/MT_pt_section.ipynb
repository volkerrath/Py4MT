{
 "cells": [
  {
   "cell_type": "code",
   "execution_count": null,
   "metadata": {},
   "outputs": [],
   "source": []
  },
  {
   "cell_type": "code",
   "execution_count": null,
   "metadata": {},
   "outputs": [],
   "source": [
    "\"\"\"\n",
    "This script constructs a list of edifiles in a given directory, and produces \n",
    "plots for all of them. \n",
    "\n",
    "@author: sb & vr oct 2019\n",
    "\n",
    "\"\"\""
   ]
  },
  {
   "cell_type": "markdown",
   "metadata": {},
   "source": [
    "Import required modules"
   ]
  },
  {
   "cell_type": "code",
   "execution_count": null,
   "metadata": {
    "lines_to_next_cell": 2
   },
   "outputs": [],
   "source": [
    "import os\n",
    "#from mtpy.core.mt import MT\n",
    "from mtpy.imaging.phase_tensor_pseudosection import PlotPhaseTensorPseudoSection"
   ]
  },
  {
   "cell_type": "markdown",
   "metadata": {},
   "source": [
    "Graphical paramter. Determine the plot formats produced, \n",
    "and the required resolution: "
   ]
  },
  {
   "cell_type": "code",
   "execution_count": null,
   "metadata": {},
   "outputs": [],
   "source": [
    "plot_pdf=True\n",
    "plot_png=True\n",
    "plot_eps=False\n",
    "dpi = 400       \n",
    "fsiz=5\n",
    "lwid=0.,"
   ]
  },
  {
   "cell_type": "code",
   "execution_count": null,
   "metadata": {},
   "outputs": [],
   "source": [
    "plot_name = 'PhaseTensorSection'"
   ]
  },
  {
   "cell_type": "markdown",
   "metadata": {
    "lines_to_next_cell": 2
   },
   "source": [
    "colorby:          - colour by phimin, phimax, skew, skew_seg\n",
    "ellipse_range     - 3 numbers, the 3rd indicates interval, e.g. [-12,12,3]\n",
    "set color limits  - default 0,90 for phimin or max, [-12,12] for skew. \n",
    "                    \n",
    "If plotting skew_seg need to provide ellipse_dic, e.g: \n",
    "                  ellipse_dict={'ellipse_colorby':'skew_seg',\n",
    "                                'ellipse_range':[-12, 12, 3]} "
   ]
  },
  {
   "cell_type": "code",
   "execution_count": null,
   "metadata": {},
   "outputs": [],
   "source": [
    "edict =  {'ellipse_colorby':'skew_seg',\n",
    "          'ellipse_range':[-12, 12, 3]} "
   ]
  },
  {
   "cell_type": "code",
   "execution_count": null,
   "metadata": {},
   "outputs": [],
   "source": [
    "# Plot tipper?\n",
    "# plot tipper       - 'n'/'y' + 'ri/r/i' means real+imag\n",
    "plot_t = 'n'"
   ]
  },
  {
   "cell_type": "code",
   "execution_count": null,
   "metadata": {
    "lines_to_next_cell": 2
   },
   "outputs": [],
   "source": []
  },
  {
   "cell_type": "code",
   "execution_count": null,
   "metadata": {},
   "outputs": [],
   "source": [
    "# Define the path to your EDI-files:\n",
    "edi_in_dir =  r'/home/vrath/RRV_work/edifiles_in/'\n",
    "print(' Edifiles read from: %s' % edi_in_dir)"
   ]
  },
  {
   "cell_type": "code",
   "execution_count": null,
   "metadata": {},
   "outputs": [],
   "source": [
    "# Define the path for saving  plots:\n",
    "plots_dir = edi_in_dir \n",
    "# plots_dir = r'/home/vrath/RRV_work/edifiles_in/' \n",
    "print(' Plots written to: %s' % plots_dir)\n",
    "if not os.path.isdir(plots_dir):\n",
    "    print(' File: %s does not exist, but will be created' % plots_dir)\n",
    "    os.mkdir(plots_dir)"
   ]
  },
  {
   "cell_type": "markdown",
   "metadata": {},
   "source": [
    "No changes required after this line!"
   ]
  },
  {
   "cell_type": "markdown",
   "metadata": {
    "lines_to_next_cell": 2
   },
   "source": [
    "Construct list of EDI-files:"
   ]
  },
  {
   "cell_type": "code",
   "execution_count": null,
   "metadata": {},
   "outputs": [],
   "source": [
    "edi_files=[]\n",
    "files= os.listdir(edi_in_dir) \n",
    "for entry in files:\n",
    "   # print(entry)\n",
    "   if entry.endswith('.edi') and not entry.startswith('.'):\n",
    "            edi_files.append(entry)"
   ]
  },
  {
   "cell_type": "code",
   "execution_count": null,
   "metadata": {},
   "outputs": [],
   "source": [
    "print(edi_files)\n",
    "#  create a plot object"
   ]
  },
  {
   "cell_type": "code",
   "execution_count": null,
   "metadata": {},
   "outputs": [],
   "source": [
    "plot_obj = PlotPhaseTensorPseudoSection(fn_list = edi_files,\n",
    "                                 linedir='ns',          # 'ns' if the line is closer to north-south, 'ew' if line is closer to east-west\n",
    "                                 stretch=(17,8),        # determines (x,y) aspect ratio of plot\n",
    "                                 station_id=(0,10),     # indices for showing station names\n",
    "                                 plot_tipper = plot_t,   # plot tipper ('y') + 'ri' means real+imag\n",
    "                                 font_size=fsiz,\n",
    "                                 lw=lwid,\n",
    "                                 ellipse_dict = {'ellipse_colorby':'skew_seg',# option to colour by phimin, phimax, skew, skew_seg\n",
    "                                                 'ellipse_range':[-12, 12, 3]} # set color limits - default 0,90 for phimin or max,\n",
    "                                                                         # [-12,12] for skew. If plotting skew_seg need to provide\n",
    "                                                                         # 3 numbers, the 3rd indicates interval, e.g. [-12,12,3]\n",
    "                                 )"
   ]
  },
  {
   "cell_type": "code",
   "execution_count": null,
   "metadata": {},
   "outputs": [],
   "source": [
    "# update ellipse size (tweak for your dataset)\n",
    "plot_obj.ellipse_size = 2.5"
   ]
  },
  {
   "cell_type": "code",
   "execution_count": null,
   "metadata": {},
   "outputs": [],
   "source": []
  },
  {
   "cell_type": "code",
   "execution_count": null,
   "metadata": {},
   "outputs": [],
   "source": []
  },
  {
   "cell_type": "markdown",
   "metadata": {},
   "source": [
    "Finally save figure"
   ]
  },
  {
   "cell_type": "code",
   "execution_count": null,
   "metadata": {},
   "outputs": [],
   "source": [
    "if plot_png:\n",
    "    plot_obj.save_plot(os.path.join(plots_dir,plot_name+\".png\"),file_format='png',fig_dpi=dpi)\n",
    "if plot_pdf:\n",
    "    plot_obj.save_plot(os.path.join(plots_dir,plot_name+\".pdf\"),file_format='pdf',fig_dpi=dpi)\n",
    "if plot_eps:\n",
    "    plot_obj.save_plot(os.path.join(plots_dir,plot_name+\".eps\"),file_format='eps',fig_dpi=dpi)"
   ]
  },
  {
   "cell_type": "code",
   "execution_count": null,
   "metadata": {},
   "outputs": [],
   "source": [
    "        "
   ]
  },
  {
   "cell_type": "code",
   "execution_count": null,
   "metadata": {},
   "outputs": [],
   "source": [
    "  "
   ]
  }
 ],
 "metadata": {
  "jupytext": {
   "cell_metadata_filter": "-all",
   "encoding": "# -*- coding: utf-8 -*-",
   "main_language": "python",
   "notebook_metadata_filter": "-all"
  }
 },
 "nbformat": 4,
 "nbformat_minor": 4
}

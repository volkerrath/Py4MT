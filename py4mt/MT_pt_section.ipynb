{
 "cells": [
  {
   "cell_type": "code",
   "execution_count": null,
   "id": "conscious-cameroon",
   "metadata": {
    "lines_to_next_cell": 0
   },
   "outputs": [],
   "source": []
  },
  {
   "cell_type": "code",
   "execution_count": null,
   "id": "angry-poultry",
   "metadata": {},
   "outputs": [],
   "source": [
    "\"\"\"\n",
    "This script constructs a list of edifiles in a given directory, and produces\n",
    "plots for all of them.\n",
    "\n",
    "@author: sb & vr oct 2019\n",
    "\n",
    "\"\"\""
   ]
  },
  {
   "cell_type": "markdown",
   "id": "cellular-fighter",
   "metadata": {},
   "source": [
    "Import required modules"
   ]
  },
  {
   "cell_type": "code",
   "execution_count": null,
   "id": "facial-deadline",
   "metadata": {
    "lines_to_next_cell": 2
   },
   "outputs": [],
   "source": [
    "import os\n",
    "#from mtpy.core.mt import MT\n",
    "from modules.phase_tensor_pseudosection import PlotPhaseTensorPseudoSection"
   ]
  },
  {
   "cell_type": "markdown",
   "id": "falling-enough",
   "metadata": {},
   "source": [
    "Graphical paramter. Determine the plot formats produced,\n",
    "and the required resolution:"
   ]
  },
  {
   "cell_type": "code",
   "execution_count": null,
   "id": "constant-sleeping",
   "metadata": {},
   "outputs": [],
   "source": [
    "plot_pdf = True\n",
    "plot_png = True\n",
    "plot_eps = False\n",
    "dpi = 600\n",
    "fsiz = 8\n",
    "lwid = 0.1\n",
    "stretch = (15000, 200)\n",
    "prefix_remove = 'ARR'\n",
    "plot_name = 'RRV_BBMT_PhaseTensorSection_Skew'"
   ]
  },
  {
   "cell_type": "markdown",
   "id": "turkish-electric",
   "metadata": {
    "lines_to_next_cell": 2
   },
   "source": [
    "colorby:          - colour by phimin, phimax, skew, skew_seg\n",
    "ellipse_range     - 3 numbers, the 3rd indicates interval, e.g. [-12,12,3]\n",
    "set color limits  - default 0,90 for phimin or max, [-12,12] for skew.\n",
    "\n",
    "If plotting skew_seg need to provide ellipse_dic, e.g:\n",
    "                  ellipse_dict={'ellipse_colorby':'skew_seg',\n",
    "                                'ellipse_range':[-12, 12, 3]}"
   ]
  },
  {
   "cell_type": "code",
   "execution_count": null,
   "id": "appropriate-triangle",
   "metadata": {},
   "outputs": [],
   "source": [
    "edict = {'ellipse_colorby': 'skew',\n",
    "         'ellipse_range': [-12, 12, 3]}"
   ]
  },
  {
   "cell_type": "markdown",
   "id": "boolean-owner",
   "metadata": {
    "lines_to_next_cell": 2
   },
   "source": [
    "edict =  {'ellipse_colorby':'phimin',\n",
    "          'ellipse_range':[0.,90.]}"
   ]
  },
  {
   "cell_type": "code",
   "execution_count": null,
   "id": "official-december",
   "metadata": {
    "lines_to_next_cell": 2
   },
   "outputs": [],
   "source": [
    "# Plot tipper?\n",
    "# plot tipper       - 'n'/'y' + 'ri/r/i' means real+imag\n",
    "plot_t = 'n'"
   ]
  },
  {
   "cell_type": "code",
   "execution_count": null,
   "id": "specified-humor",
   "metadata": {},
   "outputs": [],
   "source": [
    "# Define the path to your EDI-files:\n",
    "edi_in_dir = r'/home/vrath/RRV_work/edi_work/'\n",
    "print(' Edifiles read from: %s' % edi_in_dir)"
   ]
  },
  {
   "cell_type": "code",
   "execution_count": null,
   "id": "pretty-death",
   "metadata": {},
   "outputs": [],
   "source": [
    "# Define the path for saving  plots:\n",
    "plots_dir = edi_in_dir\n",
    "# plots_dir = r'/home/vrath/RRV_work/edifiles_in/'\n",
    "print(' Plots written to: %s' % plots_dir)\n",
    "if not os.path.isdir(plots_dir):\n",
    "    print(' File: %s does not exist, but will be created' % plots_dir)\n",
    "    os.mkdir(plots_dir)"
   ]
  },
  {
   "cell_type": "markdown",
   "id": "proprietary-deficit",
   "metadata": {},
   "source": [
    "No changes required after this line!"
   ]
  },
  {
   "cell_type": "markdown",
   "id": "laden-atmosphere",
   "metadata": {
    "lines_to_next_cell": 2
   },
   "source": [
    "Construct list of EDI-files:"
   ]
  },
  {
   "cell_type": "code",
   "execution_count": null,
   "id": "absolute-petroleum",
   "metadata": {
    "lines_to_next_cell": 2
   },
   "outputs": [],
   "source": [
    "edi_files = []\n",
    "files = os.listdir(edi_in_dir)\n",
    "for entry in files:\n",
    "    if entry.endswith('.edi') and not entry.startswith(prefix_remove):\n",
    "        full = os.path.join(edi_in_dir, entry)\n",
    "        edi_files.append(full)"
   ]
  },
  {
   "cell_type": "markdown",
   "id": "specific-sleep",
   "metadata": {},
   "source": [
    " print(edi_files)\n",
    " create a plot object"
   ]
  },
  {
   "cell_type": "code",
   "execution_count": null,
   "id": "included-customs",
   "metadata": {},
   "outputs": [],
   "source": [
    "plot_obj = PlotPhaseTensorPseudoSection(fn_list=edi_files,\n",
    "                                        ellipse_dict=edict,\n",
    "                                        plot_tipper=plot_t,\n",
    "                                        )"
   ]
  },
  {
   "cell_type": "markdown",
   "id": "central-liquid",
   "metadata": {},
   "source": [
    "update parameters (tweak for your dataset)"
   ]
  },
  {
   "cell_type": "code",
   "execution_count": null,
   "id": "vocal-denmark",
   "metadata": {},
   "outputs": [],
   "source": [
    "plot_obj.fig_size = (15, 8)"
   ]
  },
  {
   "cell_type": "code",
   "execution_count": null,
   "id": "static-relaxation",
   "metadata": {},
   "outputs": [],
   "source": [
    "plot_obj.linedir = 'ns'\n",
    "plot_obj.xstretch = stretch[0]\n",
    "plot_obj.ystretch = stretch[1]\n",
    "plot_obj.ylimits = (.001, 10000.)"
   ]
  },
  {
   "cell_type": "code",
   "execution_count": null,
   "id": "typical-analysis",
   "metadata": {},
   "outputs": [],
   "source": [
    "plot_obj.lw = lwid\n",
    "plot_obj.font_size = fsiz + 2\n",
    "plot_obj.station_id = (0, 34)"
   ]
  },
  {
   "cell_type": "code",
   "execution_count": null,
   "id": "sixth-identification",
   "metadata": {},
   "outputs": [],
   "source": [
    "plot_obj.ellipse_size = 36"
   ]
  },
  {
   "cell_type": "code",
   "execution_count": null,
   "id": "documented-salon",
   "metadata": {},
   "outputs": [],
   "source": [
    "plot_obj.plot_title = 'Rainy River Transect - BBMT'\n",
    "plot_obj.cb_orientation = 'vertical'\n",
    "plot_obj.plot_reference = True"
   ]
  },
  {
   "cell_type": "code",
   "execution_count": null,
   "id": "organizational-monaco",
   "metadata": {
    "lines_to_next_cell": 2
   },
   "outputs": [],
   "source": [
    "plot_obj.plot()"
   ]
  },
  {
   "cell_type": "markdown",
   "id": "utility-tunisia",
   "metadata": {},
   "source": [
    "Finally save figure"
   ]
  },
  {
   "cell_type": "code",
   "execution_count": null,
   "id": "worldwide-scope",
   "metadata": {},
   "outputs": [],
   "source": [
    "if plot_png:\n",
    "    plot_obj.save_figure(\n",
    "        os.path.join(\n",
    "            plots_dir,\n",
    "            plot_name + \".png\"),\n",
    "        file_format='png',\n",
    "        fig_dpi=dpi)\n",
    "if plot_pdf:\n",
    "    plot_obj.save_figure(\n",
    "        os.path.join(\n",
    "            plots_dir,\n",
    "            plot_name + \".pdf\"),\n",
    "        file_format='pdf',\n",
    "        fig_dpi=dpi)\n",
    "if plot_eps:\n",
    "    plot_obj.save_figure(\n",
    "        os.path.join(\n",
    "            plots_dir,\n",
    "            plot_name + \".eps\"),\n",
    "        file_format='eps',\n",
    "        fig_dpi=dpi)"
   ]
  }
 ],
 "metadata": {
  "jupytext": {
   "cell_metadata_filter": "-all",
   "encoding": "# -*- coding: utf-8 -*-",
   "formats": "py:light,ipynb",
   "main_language": "python"
  }
 },
 "nbformat": 4,
 "nbformat_minor": 5
}

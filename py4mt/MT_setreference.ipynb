{
 "cells": [
  {
   "cell_type": "code",
   "execution_count": null,
   "id": "e2da840a",
   "metadata": {},
   "outputs": [],
   "source": [
    "import os\n",
    "import sys\n",
    "import warnings\n",
    "import time"
   ]
  },
  {
   "cell_type": "code",
   "execution_count": null,
   "id": "1d153453",
   "metadata": {},
   "outputs": [],
   "source": [
    "from sys import exit as error\n",
    "from datetime import datetime"
   ]
  },
  {
   "cell_type": "code",
   "execution_count": null,
   "id": "b2417b9e",
   "metadata": {},
   "outputs": [],
   "source": [
    "import numpy as np\n",
    "# import gdal\n",
    "# import scipy as sc\n",
    "# import vtk\n",
    "# import pyvista as pv\n",
    "# import pyvistaqt as pvqt\n",
    "# import discretize\n",
    "# import tarfile\n",
    "# import pylab as pl\n",
    "# from time import sleep"
   ]
  },
  {
   "cell_type": "code",
   "execution_count": null,
   "id": "27b065d9",
   "metadata": {
    "lines_to_next_cell": 2
   },
   "outputs": [],
   "source": [
    "mypath = [\"/home/vrath/Py4MT/py4mt/modules/\",\n",
    "          \"/home/vrath/Py4MT/py4mt/scripts/\"]\n",
    "for pth in mypath:\n",
    "    if pth not in sys.path:\n",
    "        sys.path.insert(0,pth)"
   ]
  },
  {
   "cell_type": "code",
   "execution_count": null,
   "id": "b9c88def",
   "metadata": {},
   "outputs": [],
   "source": [
    "import modem as mod\n",
    "import util as utl\n",
    "from version import versionstrg"
   ]
  },
  {
   "cell_type": "code",
   "execution_count": null,
   "id": "a2f2a350",
   "metadata": {
    "lines_to_next_cell": 2
   },
   "outputs": [],
   "source": [
    "Strng, _ = versionstrg()\n",
    "now = datetime.now()\n",
    "print(\"\\n\\n\"+Strng)\n",
    "print(\"Set new reference\"+\"\\n\"+\"\".join(\"Date \" + now.strftime(\"%m/%d/%Y, %H:%M:%S\")))\n",
    "print(\"\\n\\n\")"
   ]
  },
  {
   "cell_type": "code",
   "execution_count": null,
   "id": "20cf4e9f",
   "metadata": {},
   "outputs": [],
   "source": [
    "warnings.simplefilter(action=\"ignore\", category=FutureWarning)"
   ]
  },
  {
   "cell_type": "code",
   "execution_count": null,
   "id": "a9793829",
   "metadata": {},
   "outputs": [],
   "source": [
    "rhoair = 1.e17"
   ]
  },
  {
   "cell_type": "code",
   "execution_count": null,
   "id": "9c4cc9d1",
   "metadata": {},
   "outputs": [],
   "source": [
    "total = 0"
   ]
  },
  {
   "cell_type": "code",
   "execution_count": null,
   "id": "2e234e31",
   "metadata": {},
   "outputs": [],
   "source": [
    "OFile = r\"/home/vrath/work/MT/Fogo/final_inversions/ZZT_100s/fogo_modem_data_zzt_3pc_003_100s_edited\"\n",
    "PFile = r\"/home/vrath/work/MT/Fogo/final_inversions/ZZT_100s/run7_NLCG_035\"\n",
    "MFile = r\"/home/vrath/work/MT/Fogo/final_inversions/ZZT_100s/run7_NLCG_035\"\n",
    "# PFile = r\"/home/vrath/work/MT/Fogo/final_inversions/PTT_100s/run3_NLCG_039\"\n",
    "# OFile = r\"/home/vrath/work/MT/Fogo/final_inversions/PTT_100s/fogo_modem_phaset_tip_100s_data\"\n",
    "# MFile = r\"/home/vrath/work/MT/Fogo/final_inversions/PTT_100s/run3_NLCG_039\"\n",
    "\"\"\"\n",
    "\n",
    "\"\"\"\n",
    "EPSG = 5015\n",
    "ReferenceType = \"Site\""
   ]
  },
  {
   "cell_type": "code",
   "execution_count": null,
   "id": "1777e796",
   "metadata": {},
   "outputs": [],
   "source": [
    "if ReferenceType.lower()[0:3] == \"sit\":\n",
    "\n",
    "    SiteReference = \"FOG933A\"\n",
    "    # values from edi file\n",
    "    longitude = -25.46609\n",
    "    latitude  =  37.76242\n",
    "    elevation = 566.\n",
    "\n",
    "\n",
    "    NewReferenceMod = [409426.000, 412426.000, 350.0+elevation]\n",
    "    NewReferenceGeo = [37.76242, -25.46609, 350.0+elevation]\n",
    "\n",
    "    utm_x, utm_y = utl.proj_latlon_to_utm(longitude, latitude, utm_zone=EPSG)\n",
    "\n",
    "    addstr = \"_Refsite_\"+SiteReference+\".dat\""
   ]
  },
  {
   "cell_type": "code",
   "execution_count": null,
   "id": "b9af2708",
   "metadata": {
    "lines_to_next_cell": 2
   },
   "outputs": [],
   "source": [
    "elif ReferenceType.lower()[0:3] == \"cen\":\n",
    "    error(\"Center reference not yet implemented! Exit.\")\n",
    "    addstr =\"_RefCenter.dat\""
   ]
  },
  {
   "cell_type": "code",
   "execution_count": null,
   "id": "df0b6026",
   "metadata": {
    "lines_to_next_cell": 2
   },
   "outputs": [],
   "source": [
    "else:\n",
    "    error(\"Reference type \"+ReferenceType+\" does not exist! Exit\")"
   ]
  },
  {
   "cell_type": "code",
   "execution_count": null,
   "id": "ad0061f1",
   "metadata": {},
   "outputs": [],
   "source": [
    "start = time.time()\n",
    "dx, dy, dz, rho, refer = mod.read_model(MFile+\".rho\")"
   ]
  },
  {
   "cell_type": "code",
   "execution_count": null,
   "id": "ec324c84",
   "metadata": {},
   "outputs": [],
   "source": [
    "print(\"ModEM reference is \"+str(refer))\n",
    "print(\"Min/max rho = \"+str(np.min(rho))+\"/\"+str(np.max(rho)))\n",
    "print('New reference will be set.')"
   ]
  },
  {
   "cell_type": "code",
   "execution_count": null,
   "id": "abdd8b02",
   "metadata": {},
   "outputs": [],
   "source": [
    "refer = [-NewReferenceMod[0],-NewReferenceMod[1], NewReferenceMod[2]]\n",
    "mod.write_model(ModFile=MFile+addstr,\n",
    "                dx=dx, dy=dy, dz=dz, rho=rho, reference=refer,\n",
    "                out=True)\n",
    "elapsed = time.time() - start\n",
    "print(\"Used %7.4f s for processing model from %s \" % (elapsed, MFile))"
   ]
  },
  {
   "cell_type": "code",
   "execution_count": null,
   "id": "1695631f",
   "metadata": {},
   "outputs": [],
   "source": [
    "start = time.time()\n",
    "for FF in [OFile, PFile]:\n",
    "\n",
    "    Site, Comp, Data, Head = mod.read_data(FF+\".dat\")\n",
    "\n",
    "    Data[:,1] = NewReferenceGeo[0]\n",
    "    Data[:,2] = NewReferenceGeo[1]\n",
    "    Data[:,5] = Data[:,5]-NewReferenceGeo[2]\n",
    "\n",
    "    Data[:,3] = Data[:,3] - NewReferenceMod[0]\n",
    "    Data[:,4] = Data[:,4] - NewReferenceMod[1]\n",
    "\n",
    "    print(\"New reference will be set in %s\" % (FF))\n",
    "    hlin = 0\n",
    "    nhead = len(Head)\n",
    "    nblck = int(nhead/8)\n",
    "    print(str(nblck)+\" blocks will be written.\")\n",
    "\n",
    "\n",
    "    for ib in np.arange(nblck):\n",
    "        blockheader = Head[hlin:hlin+8]\n",
    "        print(\"Original: %s\" % blockheader[6].replace(\"\\n\",\"\"))\n",
    "        blockheader[6] = \"> \"+str(NewReferenceGeo[0])+\"  \"+str(NewReferenceGeo[1])+\"\\n\"\n",
    "        print(\"New     : %s\" % blockheader[6].replace(\"\\n\",\"\"))\n",
    "        Head[hlin:hlin+8] = blockheader\n",
    "        hlin = hlin+8\n",
    "\n",
    "    mod.write_data(DatFile=FF+addstr,\n",
    "               Dat=Data, Site=Site, Comp=Comp, Head=Head, out=True)"
   ]
  },
  {
   "cell_type": "code",
   "execution_count": null,
   "id": "42bfa069",
   "metadata": {},
   "outputs": [],
   "source": [
    "elapsed = time.time() - start\n",
    "print(\"Used %7.4f s for processing data files\" % (elapsed))"
   ]
  }
 ],
 "metadata": {
  "jupytext": {
   "cell_metadata_filter": "-all",
   "formats": "py,ipynb",
   "main_language": "python"
  }
 },
 "nbformat": 4,
 "nbformat_minor": 5
}

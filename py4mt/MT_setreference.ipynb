{
 "cells": [
  {
   "cell_type": "code",
   "execution_count": null,
   "id": "f0e19502",
   "metadata": {},
   "outputs": [],
   "source": [
    "import os\n",
    "import sys\n",
    "import warnings\n",
    "import time"
   ]
  },
  {
   "cell_type": "code",
   "execution_count": null,
   "id": "b23d85a2",
   "metadata": {},
   "outputs": [],
   "source": [
    "from sys import exit as error\n",
    "from datetime import datetime"
   ]
  },
  {
   "cell_type": "code",
   "execution_count": null,
   "id": "e2b4a3f0",
   "metadata": {},
   "outputs": [],
   "source": [
    "import numpy as np\n",
    "# import gdal\n",
    "# import scipy as sc\n",
    "# import vtk\n",
    "# import pyvista as pv\n",
    "# import pyvistaqt as pvqt\n",
    "# import discretize\n",
    "# import tarfile\n",
    "# import pylab as pl\n",
    "# from time import sleep"
   ]
  },
  {
   "cell_type": "code",
   "execution_count": null,
   "id": "afaefaab",
   "metadata": {
    "lines_to_next_cell": 2
   },
   "outputs": [],
   "source": [
    "mypath = [\"/home/vrath/Py4MT/py4mt/modules/\",\n",
    "          \"/home/vrath/Py4MT/py4mt/scripts/\"]\n",
    "for pth in mypath:\n",
    "    if pth not in sys.path:\n",
    "        sys.path.insert(0,pth)"
   ]
  },
  {
   "cell_type": "code",
   "execution_count": null,
   "id": "da92a46c",
   "metadata": {},
   "outputs": [],
   "source": [
    "import modem as mod\n",
    "import util as utl\n",
    "from version import versionstrg"
   ]
  },
  {
   "cell_type": "code",
   "execution_count": null,
   "id": "40f95287",
   "metadata": {
    "lines_to_next_cell": 2
   },
   "outputs": [],
   "source": [
    "Strng, _ = versionstrg()\n",
    "now = datetime.now()\n",
    "print(\"\\n\\n\"+Strng)\n",
    "print(\"Set reference based on site\"+\"\\n\"+\"\".join(\"Date \" + now.strftime(\"%m/%d/%Y, %H:%M:%S\")))\n",
    "print(\"\\n\\n\")"
   ]
  },
  {
   "cell_type": "code",
   "execution_count": null,
   "id": "af9b6d5f",
   "metadata": {},
   "outputs": [],
   "source": [
    "warnings.simplefilter(action=\"ignore\", category=FutureWarning)"
   ]
  },
  {
   "cell_type": "code",
   "execution_count": null,
   "id": "576c902d",
   "metadata": {},
   "outputs": [],
   "source": [
    "rhoair = 1.e17"
   ]
  },
  {
   "cell_type": "code",
   "execution_count": null,
   "id": "1470cae5",
   "metadata": {},
   "outputs": [],
   "source": [
    "total = 0"
   ]
  },
  {
   "cell_type": "code",
   "execution_count": null,
   "id": "0c3d765b",
   "metadata": {},
   "outputs": [],
   "source": [
    "# MFile = r\"/home/vrath/work/MT/Fogo/final_inversions/PTT_100s/run3_NLCG_039\"\n",
    "# DFile = r\"/home/vrath/work/MT/Fogo/final_inversions/PTT_100s/fogo_modem_phaset_tip_100s_data\"\n",
    "DFile = r\"/home/vrath/work/MT/Fogo/final_inversions/ZZT_100s/fogo_modem_data_zzt_3pc_003_100s_edited\"\n",
    "MFile = r\"/home/vrath/work/MT/Fogo/final_inversions/ZZT_100s/run7_NLCG_035\"\n",
    "\"\"\"\n",
    "\n",
    "\"\"\""
   ]
  },
  {
   "cell_type": "code",
   "execution_count": null,
   "id": "f46151e4",
   "metadata": {},
   "outputs": [],
   "source": [
    "ReferenceType = \"Site\""
   ]
  },
  {
   "cell_type": "code",
   "execution_count": null,
   "id": "17346ba2",
   "metadata": {},
   "outputs": [],
   "source": [
    "if ReferenceType.lower()[0:3] == \"sit\":\n",
    "\n",
    "    EPSG = 5015\n",
    "    # values from edi file\n",
    "    SiteReference = \"FOG933A\"\n",
    "    longitude = -25.46609\n",
    "    latitude  =  37.76242\n",
    "    elevation = 566.\n",
    "\n",
    "\n",
    "    NewReferenceMod = [409426.000, 412426.000, 350.0+elevation]\n",
    "    NewReferenceGeo = [37.76242, -25.46609, 350.+elevation]\n",
    "\n",
    "    utm_x, utm_y = utl.proj_latlon_to_utm(longitude, latitude, utm_zone=EPSG)\n",
    "\n",
    "    Dfile_out = DFile+\"_reference\"+SiteReference+\".dat\"\n",
    "    Mfile_out = MFile+\"_reference\"+SiteReference+\".rho\""
   ]
  },
  {
   "cell_type": "code",
   "execution_count": null,
   "id": "0f223e75",
   "metadata": {
    "lines_to_next_cell": 2
   },
   "outputs": [],
   "source": [
    "elif ReferenceType.lower()[0:3] == \"cen\":\n",
    "    EPSG = 5015\n",
    "    Dfile_out = DFile+\"_referenceCenter.dat\"\n",
    "    Mfile_out = MFile+\"_referenceCenter.rho\""
   ]
  },
  {
   "cell_type": "code",
   "execution_count": null,
   "id": "efd0cb7f",
   "metadata": {
    "lines_to_next_cell": 2
   },
   "outputs": [],
   "source": [
    "else:\n",
    "    error(\"Reference type \"+ReferenceType+\" does not exist! Exit\")"
   ]
  },
  {
   "cell_type": "code",
   "execution_count": null,
   "id": "b4202244",
   "metadata": {},
   "outputs": [],
   "source": [
    "start = time.time()\n",
    "dx, dy, dz, rho, refer = mod.read_model(MFile+\".rho\")\n",
    "elapsed = time.time() - start\n",
    "total = total + elapsed\n",
    "print(\"Used %7.4f s for reading model from %s \" % (elapsed, MFile))\n",
    "print(\"ModEM reference is \"+str(refer))\n",
    "print(\"Min/max rho = \"+str(np.min(rho))+\"/\"+str(np.max(rho)))"
   ]
  },
  {
   "cell_type": "code",
   "execution_count": null,
   "id": "2117390e",
   "metadata": {},
   "outputs": [],
   "source": [
    "start = time.time()\n",
    "Site, Comp, Data, Head = mod.read_data(DFile+\".dat\")\n",
    "elapsed = time.time() - start\n",
    "total = total + elapsed\n",
    "print(\"Used %7.4f s for reading data from %s \" % (elapsed, DFile))"
   ]
  },
  {
   "cell_type": "code",
   "execution_count": null,
   "id": "d15720fa",
   "metadata": {},
   "outputs": [],
   "source": [
    "if all(refer) == 0:\n",
    "    print('Reference values are zero. New reference will be set.')\n",
    "    hlin = 0\n",
    "    nhead = len(Head)\n",
    "    nblck = int(nhead/8)\n",
    "    print(str(nblck)+\" blocks will be written.\")\n",
    "\n",
    "\n",
    "    for ib in np.arange(nblck):\n",
    "        blockheader = Head[hlin:hlin+8]\n",
    "        print(\"Original: %s\" % blockheader[6].replace(\"\\n\",\"\"))\n",
    "        blockheader[6] = \"> \"+str(NewReferenceGeo[0])+\"  \"+str(NewReferenceGeo[1])+\"\\n\"\n",
    "        print(\"New     : %s\" % blockheader[6].replace(\"\\n\",\"\"))\n",
    "        Head[hlin:hlin+8] = blockheader\n",
    "        hlin = hlin+8\n",
    "\n",
    "\n",
    "    x, y, z = mod.cells3d(dx, dy, dz, reference=refer)\n",
    "\n",
    "    in_lat = Data[:,1]\n",
    "    in_lon = Data[:,2]\n",
    "    Data[:,3] = Data[:,3] - NewReferenceMod[0]\n",
    "    Data[:,4] = Data[:,4] - NewReferenceMod[1]\n",
    "\n",
    "    refer = [-NewReferenceMod[0],-NewReferenceMod[1], 0.]"
   ]
  },
  {
   "cell_type": "code",
   "execution_count": null,
   "id": "b23da962",
   "metadata": {
    "lines_to_next_cell": 2
   },
   "outputs": [],
   "source": [
    "else:\n",
    "    error(\"reference exits and is nonzero! Exit.)\")"
   ]
  },
  {
   "cell_type": "code",
   "execution_count": null,
   "id": "7b0f1599",
   "metadata": {
    "lines_to_next_cell": 2
   },
   "outputs": [],
   "source": [
    "mod.write_data(DatFile=Dfile_out,\n",
    "               Dat=Data, Site=Site, Comp=Comp, Head=Head, out=True)"
   ]
  },
  {
   "cell_type": "code",
   "execution_count": null,
   "id": "4b7c4b3d",
   "metadata": {},
   "outputs": [],
   "source": [
    "mod.write_model(ModFile=Mfile_out,\n",
    "                dx=dx, dy=dy, dz=dz, rho=rho, reference=refer,\n",
    "                out=True)"
   ]
  }
 ],
 "metadata": {
  "jupytext": {
   "cell_metadata_filter": "-all",
   "formats": "py:light,ipynb",
   "main_language": "python"
  }
 },
 "nbformat": 4,
 "nbformat_minor": 5
}

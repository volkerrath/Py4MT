{
 "cells": [
  {
   "cell_type": "code",
   "execution_count": null,
   "id": "7a5531b5",
   "metadata": {},
   "outputs": [],
   "source": [
    "\"\"\"\n",
    "Reads ModEM's Jacobian, does fancy things.\n",
    "\n",
    "@author: vr july 2020\n",
    "\n",
    "Created on Tue Jul  7 16:59:01 2020\n",
    "\n",
    "@author: vrath\n",
    "\n",
    "\"\"\""
   ]
  },
  {
   "cell_type": "markdown",
   "id": "d585e0fc",
   "metadata": {},
   "source": [
    "Import required modules"
   ]
  },
  {
   "cell_type": "code",
   "execution_count": null,
   "id": "ac693289",
   "metadata": {},
   "outputs": [],
   "source": [
    "import os\n",
    "import sys\n",
    "# import struct\n",
    "import time"
   ]
  },
  {
   "cell_type": "code",
   "execution_count": null,
   "id": "ceb1df73",
   "metadata": {},
   "outputs": [],
   "source": [
    "import numpy as np\n",
    "import math as ma\n",
    "import netCDF4 as nc"
   ]
  },
  {
   "cell_type": "code",
   "execution_count": null,
   "id": "b4e790ad",
   "metadata": {
    "lines_to_next_cell": 2
   },
   "outputs": [],
   "source": [
    "from scipy.interpolate import interp2d\n",
    "from scipy.interpolate import Rbf\n",
    "import pyresample as prs\n",
    "import matplotlib.pyplot as plt"
   ]
  },
  {
   "cell_type": "code",
   "execution_count": null,
   "id": "0a7831f2",
   "metadata": {},
   "outputs": [],
   "source": [
    "# import mtpy.modeling.modem as modem\n",
    "# from modules.ModEM import readDat, writeDatNC\n",
    "from modules.ModEM import *"
   ]
  },
  {
   "cell_type": "code",
   "execution_count": null,
   "id": "1b855203",
   "metadata": {
    "lines_to_next_cell": 2
   },
   "outputs": [],
   "source": [
    "DatFile = r'./work/MauTopoDense.dat'"
   ]
  },
  {
   "cell_type": "code",
   "execution_count": null,
   "id": "938bc97d",
   "metadata": {},
   "outputs": [],
   "source": [
    "Site, Comp, Data = readDat(DatFile)"
   ]
  },
  {
   "cell_type": "code",
   "execution_count": null,
   "id": "feca00f9",
   "metadata": {
    "lines_to_next_cell": 2
   },
   "outputs": [],
   "source": [
    "start = time.time()\n",
    "name, ext = os.path.splitext(DatFile)\n",
    "NCFile = name + '_dat.nc'\n",
    "writeDatNC(NCFile, Data, Site, Comp)\n",
    "elapsed = (time.time() - start)\n",
    "print(' Used %7.4f s for writing data to %s ' % (elapsed, NCFile))"
   ]
  },
  {
   "cell_type": "code",
   "execution_count": null,
   "id": "e9512dba",
   "metadata": {},
   "outputs": [],
   "source": [
    "print('Available Periods:')\n",
    "print(np.unique(np.sort(Data[:, 0])))"
   ]
  },
  {
   "cell_type": "code",
   "execution_count": null,
   "id": "448048d7",
   "metadata": {},
   "outputs": [],
   "source": [
    "print('Available Components:')\n",
    "print(np.unique(np.sort(Comp)))"
   ]
  },
  {
   "cell_type": "code",
   "execution_count": null,
   "id": "855efbf5",
   "metadata": {},
   "outputs": [],
   "source": [
    "print('Available Sites:')\n",
    "print(np.unique(np.sort(Site)))"
   ]
  },
  {
   "cell_type": "code",
   "execution_count": null,
   "id": "3f271a41",
   "metadata": {},
   "outputs": [],
   "source": [
    "Periods = [1.05400e-03, 1.11030e-02, 1.16999e-01]\n",
    "Components = ['ZXXI', 'ZXXR', 'ZXYI', 'ZXYR', 'ZYXI', 'ZYXR', 'ZYYI', 'ZYYR']\n",
    "pp = np.log10(Data[:, 0])\n",
    "for p in np.log10(Periods):\n",
    "    i1 = np.isclose(pp, p, rtol=1e-03, atol=1e-12, equal_nan=False)\n",
    "    d1 = Data[i1, :]\n",
    "    c1 = Comp[i1]\n",
    "    for c in Components:\n",
    "        i2 = (c1 == c)\n",
    "        tmp = d1[i2, :]\n",
    "        print(np.shape(tmp))\n",
    "        lat = tmp[:, 1]\n",
    "        lon = tmp[:, 2]\n",
    "        val = tmp[:, 6]\n",
    "        f = interp2d(lon, lat, val, kind=\"cubic\", bounds_error=False)"
   ]
  }
 ],
 "metadata": {
  "jupytext": {
   "cell_metadata_filter": "-all",
   "encoding": "# -*- coding: utf-8 -*-",
   "executable": "/usr/bin/env python3",
   "formats": "py,ipynb",
   "main_language": "python"
  }
 },
 "nbformat": 4,
 "nbformat_minor": 5
}

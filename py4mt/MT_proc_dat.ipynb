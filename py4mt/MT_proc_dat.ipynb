{
 "cells": [
  {
   "cell_type": "code",
   "execution_count": null,
   "id": "764eda54",
   "metadata": {},
   "outputs": [],
   "source": [
    "\"\"\"\n",
    "Reads ModEM's Jacobian, does fancy things.\n",
    "\n",
    "@author: vr july 2020\n",
    "\n",
    "Created on Tue Jul  7 16:59:01 2020\n",
    "\n",
    "@author: vrath\n",
    "\n",
    "\"\"\""
   ]
  },
  {
   "cell_type": "markdown",
   "id": "becf1eb0",
   "metadata": {},
   "source": [
    "Import required modules"
   ]
  },
  {
   "cell_type": "code",
   "execution_count": null,
   "id": "8121f54c",
   "metadata": {},
   "outputs": [],
   "source": [
    "import os\n",
    "import sys\n",
    "# import struct\n",
    "import time"
   ]
  },
  {
   "cell_type": "code",
   "execution_count": null,
   "id": "d7d6e627",
   "metadata": {},
   "outputs": [],
   "source": [
    "import numpy as np\n",
    "import math as ma\n",
    "import netCDF4 as nc"
   ]
  },
  {
   "cell_type": "code",
   "execution_count": null,
   "id": "c3b59c80",
   "metadata": {
    "lines_to_next_cell": 2
   },
   "outputs": [],
   "source": [
    "from scipy.interpolate import interp2d\n",
    "from scipy.interpolate import Rbf\n",
    "import pyresample as prs\n",
    "import matplotlib.pyplot as plt"
   ]
  },
  {
   "cell_type": "code",
   "execution_count": null,
   "id": "0dfb8d68",
   "metadata": {},
   "outputs": [],
   "source": [
    "# import mtpy.modeling.modem as modem\n",
    "# from modules.ModEM import readDat, writeDatNC\n",
    "from modules.ModEM import *"
   ]
  },
  {
   "cell_type": "code",
   "execution_count": null,
   "id": "6c3a965f",
   "metadata": {
    "lines_to_next_cell": 2
   },
   "outputs": [],
   "source": [
    "DatFile = r'./work/MauTopoDense.dat'"
   ]
  },
  {
   "cell_type": "code",
   "execution_count": null,
   "id": "33f1d8ff",
   "metadata": {},
   "outputs": [],
   "source": [
    "Site, Comp, Data = readDat(DatFile)"
   ]
  },
  {
   "cell_type": "code",
   "execution_count": null,
   "id": "0bc020f8",
   "metadata": {
    "lines_to_next_cell": 2
   },
   "outputs": [],
   "source": [
    "start = time.time()\n",
    "name, ext = os.path.splitext(DatFile)\n",
    "NCFile = name + '_dat.nc'\n",
    "writeDatNC(NCFile, Data, Site, Comp)\n",
    "elapsed = (time.time() - start)\n",
    "print(' Used %7.4f s for writing data to %s ' % (elapsed, NCFile))"
   ]
  },
  {
   "cell_type": "code",
   "execution_count": null,
   "id": "e62308e9",
   "metadata": {},
   "outputs": [],
   "source": [
    "print('Available Periods:')\n",
    "print(np.unique(np.sort(Data[:, 0])))"
   ]
  },
  {
   "cell_type": "code",
   "execution_count": null,
   "id": "b0d2f4b1",
   "metadata": {},
   "outputs": [],
   "source": [
    "print('Available Components:')\n",
    "print(np.unique(np.sort(Comp)))"
   ]
  },
  {
   "cell_type": "code",
   "execution_count": null,
   "id": "2fd2a763",
   "metadata": {},
   "outputs": [],
   "source": [
    "print('Available Sites:')\n",
    "print(np.unique(np.sort(Site)))"
   ]
  },
  {
   "cell_type": "code",
   "execution_count": null,
   "id": "e66762d9",
   "metadata": {},
   "outputs": [],
   "source": [
    "Periods = [1.05400e-03, 1.11030e-02, 1.16999e-01]\n",
    "Components = ['ZXXI', 'ZXXR', 'ZXYI', 'ZXYR', 'ZYXI', 'ZYXR', 'ZYYI', 'ZYYR']\n",
    "pp = np.log10(Data[:, 0])\n",
    "for p in np.log10(Periods):\n",
    "    i1 = np.isclose(pp, p, rtol=1e-03, atol=1e-12, equal_nan=False)\n",
    "    d1 = Data[i1, :]\n",
    "    c1 = Comp[i1]\n",
    "    for c in Components:\n",
    "        i2 = (c1 == c)\n",
    "        tmp = d1[i2, :]\n",
    "        print(np.shape(tmp))\n",
    "        lat = tmp[:, 1]\n",
    "        lon = tmp[:, 2]\n",
    "        val = tmp[:, 6]\n",
    "        f = interp2d(lon, lat, val, kind=\"cubic\", bounds_error=False)"
   ]
  }
 ],
 "metadata": {
  "jupytext": {
   "cell_metadata_filter": "-all",
   "encoding": "# -*- coding: utf-8 -*-",
   "executable": "/usr/bin/env python3",
   "formats": "py,ipynb",
   "main_language": "python"
  }
 },
 "nbformat": 4,
 "nbformat_minor": 5
}

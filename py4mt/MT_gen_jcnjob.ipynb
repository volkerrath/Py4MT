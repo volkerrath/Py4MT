{
 "cells": [
  {
   "cell_type": "code",
   "execution_count": null,
   "metadata": {},
   "outputs": [],
   "source": [
    "\"\"\"\n",
    "Created on Fri Sep 11 15:41:25 2020\n",
    "\n",
    "@author: vrath\n",
    "\"\"\"\n",
    "# Import required modules"
   ]
  },
  {
   "cell_type": "code",
   "execution_count": null,
   "metadata": {
    "lines_to_next_cell": 2
   },
   "outputs": [],
   "source": [
    "import os\n",
    "import csv\n",
    "import simplekml \n",
    "from mtpy.core.mt import MT\n",
    "import numpy as np\n",
    "from modules.util import keycount, unique\n",
    "from modules.modem import readDat"
   ]
  },
  {
   "cell_type": "code",
   "execution_count": null,
   "metadata": {},
   "outputs": [],
   "source": [
    "ExecFile    = '/home/vrath/work/MaurienneJCN/RunGnuFrog_PT_A.sh'\n",
    "PriorFile    = '/home/vrath/work/MaurienneJCN/MaurPrior_1000.rho' \n",
    "CovarFile    = '/home/vrath/work/MaurienneJCN/Maur_02.rho' "
   ]
  },
  {
   "cell_type": "code",
   "execution_count": null,
   "metadata": {},
   "outputs": [],
   "source": [
    "DataFiles    = ['/home/vrath/work/MaurienneJCN/Maur_P.dat',\n",
    "               '/home/vrath/work/MaurienneJCN/Maur_T.dat',\n",
    "               '/home/vrath/work/MaurienneJCN/Maur_Z.dat']"
   ]
  },
  {
   "cell_type": "code",
   "execution_count": null,
   "metadata": {
    "lines_to_next_cell": 2
   },
   "outputs": [],
   "source": [
    "ForwdFile    = '/home/vrath/work/MaurienneJCN/Maur.fwd'\n",
    "SiteFil     = '/home/vrath/work/MaurienneJCN/Sitelist.csv' \n",
    "# open file and read the content in a list\n",
    "# SiteFil     = '/home/vrath/work/MaurienneJCN/Sitelist.csv'\n",
    "# data        = np.loadtxt(open(SiteFil, \"r\"), delimiter=\" \",dtype=object)  "
   ]
  },
  {
   "cell_type": "code",
   "execution_count": null,
   "metadata": {},
   "outputs": [],
   "source": [
    "for f in DataFiles:\n",
    "    Site, Comp, Data = readDat(f)\n",
    "    Freqs  = unique(Data[:,0])\n",
    "    NFreq  = np.size(Freqs)\n",
    "    Sites  = unique(Site)\n",
    "      \n",
    "    for place in Sites:\n",
    "        print(place)"
   ]
  },
  {
   "cell_type": "markdown",
   "metadata": {},
   "source": [
    "# for place in placelist:\n",
    "with open(DataFile, 'r') as f:"
   ]
  },
  {
   "cell_type": "markdown",
   "metadata": {
    "lines_to_next_cell": 2
   },
   "source": [
    "#         print(place)"
   ]
  },
  {
   "cell_type": "markdown",
   "metadata": {},
   "source": [
    "for place in placelist:"
   ]
  },
  {
   "cell_type": "markdown",
   "metadata": {
    "lines_to_next_cell": 2
   },
   "source": [
    "    Ndata = keycount(place, DataFile, what = 'pos')\n",
    "    print('Number of data from site '+place+' is '+str(Ndata))"
   ]
  },
  {
   "cell_type": "markdown",
   "metadata": {},
   "source": [
    "bad_words = ['bad', 'naughty']"
   ]
  },
  {
   "cell_type": "markdown",
   "metadata": {},
   "source": [
    "with open('oldfile.txt') as oldfile, open('newfile.txt', 'w') as newfile:\n",
    "    for line in oldfile:\n",
    "        if not any(bad_word in line for bad_word in bad_words):\n",
    "            newfile.write(line)\n",
    "# np.shape(placelist)\n",
    "#input file\n",
    "fin = open(\"data.txt\", \"rt\")\n",
    "#output file to write the result to\n",
    "fout = open(\"out.txt\", \"wt\")\n",
    "#for each line in the input file\n",
    "for line in fin:\n",
    "\t#read replace the string and write to output file\n",
    "\tfout.write(line.replace('pyton', 'python'))\n",
    "#close input and output files\n",
    "fin.close()\n",
    "fout.close()"
   ]
  }
 ],
 "metadata": {
  "jupytext": {
   "cell_metadata_filter": "-all",
   "encoding": "# -*- coding: utf-8 -*-",
   "executable": "/usr/bin/env python3",
   "formats": "py:light,ipynb",
   "main_language": "python"
  }
 },
 "nbformat": 4,
 "nbformat_minor": 4
}

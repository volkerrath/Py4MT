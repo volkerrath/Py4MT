{
 "cells": [
  {
   "cell_type": "code",
   "execution_count": null,
   "metadata": {
    "lines_to_next_cell": 2
   },
   "outputs": [],
   "source": [
    "\"\"\"\n",
    "Created on Wed Jul 29 17:24:03 2020\n",
    "\n",
    "@author: vrath\n",
    "\"\"\"\n",
    "import time\n",
    "import numpy as np\n",
    "from modules.ModEM import readMod, writeMod"
   ]
  },
  {
   "cell_type": "code",
   "execution_count": null,
   "metadata": {
    "lines_to_next_cell": 2
   },
   "outputs": [],
   "source": [
    "ModFile_inp = r\"./work/AnnPriorZTP.rho\""
   ]
  },
  {
   "cell_type": "code",
   "execution_count": null,
   "metadata": {},
   "outputs": [],
   "source": [
    "start = time.time()\n",
    "dx, dy,dz, rho1, center = readMod(ModFile_inp, trans=\"LINEAR\",out = True)\n",
    "print (' min (rho) = %7.4g , max(rho) %7.4g ' % (np.min(rho1),np.max(rho1)))\n",
    "# dx, dy,dz, rho2, center = readMod(ModFile_inp, trans=\"LOGE\",out = True)\n",
    "# print (' min (rho) = %7.4g , max(rho) %7.4g ' % (np.min(rho2),np.max(rho2)))\n",
    "# dx, dy,dz, rho3, center = readMod(ModFile_inp, trans=\"LOG10\",out = True)\n",
    "# print (' min (rho) = %7.4g , max(rho) %7.4g ' % (np.min(rho3),np.max(rho3)))\n",
    "elapsed  = time.time()\n",
    "print (' Used %7.4f s for reading model from %s ' % (elapsed-start,ModFile_inp))"
   ]
  },
  {
   "cell_type": "code",
   "execution_count": null,
   "metadata": {},
   "outputs": [],
   "source": [
    "ModFile_out = r\"./work/AnnPriorZTP_log10.rho\"\n",
    "writeMod(ModFile_out, dx, dy, dz, rho1, center, trans=\"LOG10\",out = True)\n",
    "ModFile_out = r\"./work/AnnPriorZTP_loge.rho\"\n",
    "writeMod(ModFile_out, dx, dy, dz, rho1, center, trans=\"LOGE\",out = True)\n",
    "ModFile_out = r\"./work/AnnPriorZTP_linear.rho\"\n",
    "writeMod(ModFile_out, dx, dy, dz, rho1, center, trans=\"LINEAR\",out = True)"
   ]
  },
  {
   "cell_type": "code",
   "execution_count": null,
   "metadata": {
    "lines_to_next_cell": 2
   },
   "outputs": [],
   "source": []
  },
  {
   "cell_type": "markdown",
   "metadata": {},
   "source": [
    "print(np.shape(rho))\n",
    "d[d<0.8] = 0.0\n",
    "scipy.sparse.csr_matrix(d)"
   ]
  }
 ],
 "metadata": {
  "jupytext": {
   "cell_metadata_filter": "-all",
   "encoding": "# -*- coding: utf-8 -*-",
   "executable": "/usr/bin/env python3",
   "formats": "py:light,ipynb",
   "main_language": "python"
  }
 },
 "nbformat": 4,
 "nbformat_minor": 4
}

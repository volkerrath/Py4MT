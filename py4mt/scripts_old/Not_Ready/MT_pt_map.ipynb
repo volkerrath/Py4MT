{
 "cells": [
  {
   "cell_type": "code",
   "execution_count": null,
   "metadata": {},
   "outputs": [],
   "source": [
    "\"\"\"\n",
    "Created on Fri Nov 22 07:29:58 2013\n",
    "\n",
    "@author: Alison Kirkby\n",
    "\n",
    "plots phase tensor ellipses as a map for a given frequency\n",
    "\"\"\""
   ]
  },
  {
   "cell_type": "code",
   "execution_count": null,
   "metadata": {},
   "outputs": [],
   "source": [
    "import os\n",
    "import os.path as op"
   ]
  },
  {
   "cell_type": "code",
   "execution_count": null,
   "metadata": {},
   "outputs": [],
   "source": [
    "os.chdir(r'/home/geothest/mtpy4') # change to your path to mtpy installation to ensure correct version is used\n",
    "import mtpy.imaging.phase_tensor_maps as pptmaps"
   ]
  },
  {
   "cell_type": "code",
   "execution_count": null,
   "metadata": {},
   "outputs": [],
   "source": [
    "# directory containing edis\n",
    "edipath = r\"/home/geothest/Desktop/WEST_TIMOR/WT8_2/interp_dist_ss/\""
   ]
  },
  {
   "cell_type": "code",
   "execution_count": null,
   "metadata": {},
   "outputs": [],
   "source": [
    "# whether or not to save the figure to file\n",
    "save = True"
   ]
  },
  {
   "cell_type": "code",
   "execution_count": null,
   "metadata": {
    "lines_to_next_cell": 2
   },
   "outputs": [],
   "source": [
    "# full path to file to save to\n",
    "savepath = r\"/home/geothest/Desktop/WEST_TIMOR/WT8_2/Plots/\""
   ]
  },
  {
   "cell_type": "code",
   "execution_count": null,
   "metadata": {},
   "outputs": [],
   "source": [
    "# frequency to plot\n",
    "plot_freq = 100"
   ]
  },
  {
   "cell_type": "code",
   "execution_count": null,
   "metadata": {},
   "outputs": [],
   "source": [
    "# value to color ellipses by, options are phimin,phimax,skew\n",
    "colorby='skew'\n",
    "colorby='phimax'\n",
    "ellipse_range = [-4,4]\n",
    "ellipse_range = [10,70]"
   ]
  },
  {
   "cell_type": "code",
   "execution_count": null,
   "metadata": {},
   "outputs": [],
   "source": [
    "image_fn = 'phase_tensor_map%1is_'%(float(1./plot_freq))+colorby+'.png'"
   ]
  },
  {
   "cell_type": "code",
   "execution_count": null,
   "metadata": {},
   "outputs": [],
   "source": [
    "# gets edi file names as a list\n",
    "elst = [op.join(edipath,f) for f in os.listdir(edipath) if f.endswith('.edi')]"
   ]
  },
  {
   "cell_type": "code",
   "execution_count": null,
   "metadata": {
    "lines_to_next_cell": 2
   },
   "outputs": [],
   "source": []
  },
  {
   "cell_type": "code",
   "execution_count": null,
   "metadata": {
    "lines_to_next_cell": 2
   },
   "outputs": [],
   "source": [
    "m = pptmaps.PlotPhaseTensorMaps(fn_list = elst,\n",
    "                                plot_freq = plot_freq ,\n",
    "                                fig_size=(6,4),\n",
    "                                ftol = .1,\n",
    "                                xpad = 0.02,\n",
    "                                plot_tipper = 'n',\n",
    "                                edgecolor='k',\n",
    "                                lw=0.01,\n",
    "                                minorticks_on=False,\n",
    "                                font_size = 2,\n",
    "                                ellipse_colorby=colorby,\n",
    "                                ellipse_range = ellipse_range,\n",
    "                                ellipse_size=0.02,\n",
    "                                arrow_lw=0.0001,\n",
    "                                arrow_head_width=0.00001,\n",
    "                                arrow_head_length=0.00001,\n",
    "                                arrow_size=0.03,\n",
    "                                arrow_threshold = 1.5,\n",
    "#                                ellipse_cmap='mt_seg_bl2wh2rd'\n",
    "                                station_dict={'id':(3,9)}\n",
    "                                )"
   ]
  },
  {
   "cell_type": "code",
   "execution_count": null,
   "metadata": {},
   "outputs": [],
   "source": [
    "if save:\n",
    "    m.save_figure(op.join(savepath,image_fn), fig_dpi=500) # change to your preferred file resolution"
   ]
  }
 ],
 "metadata": {
  "jupytext": {
   "cell_metadata_filter": "-all",
   "encoding": "# -*- coding: utf-8 -*-",
   "formats": "py:light,ipynb",
   "main_language": "python"
  }
 },
 "nbformat": 4,
 "nbformat_minor": 4
}

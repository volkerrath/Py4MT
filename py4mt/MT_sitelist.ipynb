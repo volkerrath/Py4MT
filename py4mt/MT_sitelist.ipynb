{
 "cells": [
  {
   "cell_type": "code",
   "execution_count": null,
   "id": "loaded-steps",
   "metadata": {},
   "outputs": [],
   "source": [
    "'''\n",
    "\n",
    "This script produces a site list containing site names,\n",
    "coordinates and elevations, e. g., for WALDIM analysis.\n",
    "\n",
    "@author: sb & vr dec 2019\n",
    "'''"
   ]
  },
  {
   "cell_type": "markdown",
   "id": "unable-space",
   "metadata": {},
   "source": [
    "Import required modules"
   ]
  },
  {
   "cell_type": "code",
   "execution_count": null,
   "id": "corrected-period",
   "metadata": {},
   "outputs": [],
   "source": [
    "import os\n",
    "import csv\n",
    "from mtpy.core.mt import MT"
   ]
  },
  {
   "cell_type": "code",
   "execution_count": null,
   "id": "cultural-management",
   "metadata": {},
   "outputs": [],
   "source": [
    "import numpy as np"
   ]
  },
  {
   "cell_type": "code",
   "execution_count": null,
   "id": "hearing-shareware",
   "metadata": {},
   "outputs": [],
   "source": [
    "dialect = 'unix'\n",
    "delim = ','\n",
    "whatfor = 'nix'"
   ]
  },
  {
   "cell_type": "code",
   "execution_count": null,
   "id": "reduced-stationery",
   "metadata": {
    "lines_to_next_cell": 2
   },
   "outputs": [],
   "source": [
    "# Define the path to your EDI-files and for the list produced\n",
    "# edi_dir = r'/home/vrath/RRV_work/edi_work/BBMT/'\n",
    "edi_dir = r'/home/vrath/work/MT/Annecy/ANN22_6/ANN22_edis/'\n",
    "# r'/home/vrath/Desktop/MauTopo/MauEdi/'\n",
    "# r'/media/vrath/MT/Ireland/Northwest_CarboniferousBasin/MT_DATA/EDI/'\n",
    "print(' Edifiles read from: %s' % edi_dir)\n",
    "csv_file = edi_dir + 'Sitelist.csv'\n",
    "print('Writing data to CSV file: ' + csv_file)"
   ]
  },
  {
   "cell_type": "markdown",
   "id": "returning-daisy",
   "metadata": {},
   "source": [
    "No changes required after this line!"
   ]
  },
  {
   "cell_type": "markdown",
   "id": "outer-captain",
   "metadata": {},
   "source": [
    "Construct list of edi-files:"
   ]
  },
  {
   "cell_type": "code",
   "execution_count": null,
   "id": "drawn-concrete",
   "metadata": {},
   "outputs": [],
   "source": [
    "edi_files = []\n",
    "files = os.listdir(edi_dir)\n",
    "for entry in files:\n",
    "    # print(entry)\n",
    "    if entry.endswith('.edi') and not entry.startswith('.'):\n",
    "        edi_files.append(entry)\n",
    "ns = np.size(edi_files)"
   ]
  },
  {
   "cell_type": "markdown",
   "id": "exceptional-luxury",
   "metadata": {},
   "source": [
    "Outputfile (e. g., for WALDIM analysis)"
   ]
  },
  {
   "cell_type": "code",
   "execution_count": null,
   "id": "fatty-language",
   "metadata": {},
   "outputs": [],
   "source": [
    "with open(csv_file, 'w') as f:\n",
    "    sitelist = csv.writer(f, delimiter=delim)\n",
    "    if whatfor != 'waldim':\n",
    "        sitelist.writerow(['Sitename', 'Latitude', 'Longitude'])\n",
    "        sitelist.writerow([ns, ' ', ' '])"
   ]
  },
  {
   "cell_type": "markdown",
   "id": "industrial-perspective",
   "metadata": {},
   "source": [
    "Loop over edifiles:"
   ]
  },
  {
   "cell_type": "code",
   "execution_count": null,
   "id": "opening-objective",
   "metadata": {},
   "outputs": [],
   "source": [
    "    for filename in edi_files:\n",
    "        print('reading data from: ' + filename)\n",
    "        name, ext = os.path.splitext(filename)\n",
    "        file_i = edi_dir + filename"
   ]
  },
  {
   "cell_type": "markdown",
   "id": "precise-forum",
   "metadata": {},
   "source": [
    "Create MT object"
   ]
  },
  {
   "cell_type": "code",
   "execution_count": null,
   "id": "breeding-monkey",
   "metadata": {},
   "outputs": [],
   "source": [
    "        mt_obj = MT(file_i)\n",
    "        lon = mt_obj.lon\n",
    "        lat = mt_obj.lat\n",
    "        elev = mt_obj.elev\n",
    "        east = mt_obj.east\n",
    "        north = mt_obj.north\n",
    "        # sitename = mt_obj.station\n",
    "        sitelist.writerow([name, lat, lon, elev])"
   ]
  }
 ],
 "metadata": {
  "jupytext": {
   "cell_metadata_filter": "-all",
   "encoding": "# -*- coding: utf-8 -*-",
   "formats": "py:light,ipynb",
   "main_language": "python"
  }
 },
 "nbformat": 4,
 "nbformat_minor": 5
}

{
 "cells": [
  {
   "cell_type": "code",
   "execution_count": null,
   "metadata": {},
   "outputs": [],
   "source": [
    "'''\n",
    "@author: sb & vr oct 2019\n",
    "'''"
   ]
  },
  {
   "cell_type": "code",
   "execution_count": null,
   "metadata": {},
   "outputs": [],
   "source": [
    "# import required modules\n",
    "import os\n",
    "import csv\n",
    "from mtpy.core.mt import MT\n",
    "import numpy as np"
   ]
  },
  {
   "cell_type": "code",
   "execution_count": null,
   "metadata": {},
   "outputs": [],
   "source": []
  },
  {
   "cell_type": "code",
   "execution_count": null,
   "metadata": {},
   "outputs": [],
   "source": [
    "dialect = 'unix'"
   ]
  },
  {
   "cell_type": "code",
   "execution_count": null,
   "metadata": {},
   "outputs": [],
   "source": [
    "# Define the path to your edi files\n",
    "edi_dir = './edifiles_bbmt_roi/'\n",
    "print(' Edifiles read from: %s' % edi_dir)\n",
    "csv_file ='Timor_bbmt.csv'\n",
    "print('Writing data to CSV file: '+csv_file)"
   ]
  },
  {
   "cell_type": "code",
   "execution_count": null,
   "metadata": {},
   "outputs": [],
   "source": []
  },
  {
   "cell_type": "code",
   "execution_count": null,
   "metadata": {},
   "outputs": [],
   "source": [
    "edi_files=[]\n",
    "files= os.listdir(edi_dir) \n",
    "for entry in files:\n",
    "   # print(entry)\n",
    "   if entry.endswith('.edi') and not entry.endswith('.'):\n",
    "            edi_files.append(entry)\n",
    "ns =  np.size(edi_files)"
   ]
  },
  {
   "cell_type": "code",
   "execution_count": null,
   "metadata": {},
   "outputs": [],
   "source": [
    "with open(csv_file, 'w') as f:\n",
    "    sitelist = csv.writer(f, delimiter=' ')\n",
    "    sitelist.writerow(['Sitename', 'Latitude', 'Longitude'])\n",
    "    sitelist.writerow([ns, ' ', ' '])"
   ]
  },
  {
   "cell_type": "code",
   "execution_count": null,
   "metadata": {},
   "outputs": [],
   "source": [
    "## loop over edifiles\n",
    "#\n",
    "    for filename in edi_files :\n",
    "        print('reading data from: '+filename)\n",
    "        name, ext = os.path.splitext(filename)\n",
    "        file_i = edi_dir+filename\n",
    "        # Create MT object\n",
    "        mt_obj = MT(file_i)\n",
    "        lon = mt_obj.lon\n",
    "        lat = mt_obj.lat\n",
    "        elev = mt_obj.elev\n",
    "        east = mt_obj.east\n",
    "        north = mt_obj.north\n",
    "\n",
    "        sitename = mt_obj.station\n",
    "        sitelist.writerow([sitename, lat, lon])"
   ]
  }
 ],
 "metadata": {
  "jupytext": {
   "cell_metadata_filter": "-all",
   "encoding": "# -*- coding: utf-8 -*-",
   "formats": "ipynb,py",
   "main_language": "python"
  }
 },
 "nbformat": 4,
 "nbformat_minor": 2
}

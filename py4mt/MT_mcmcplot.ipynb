{
 "cells": [
  {
   "cell_type": "code",
   "execution_count": null,
   "metadata": {
    "lines_to_next_cell": 2
   },
   "outputs": [],
   "source": [
    "\"\"\"\n",
    "script to visualise rjmcmcmt based on Ross Brodie's original matlab \n",
    "plotting routines for rjmcmc inversion results.\n",
    " \n",
    "CreationDate:   2017/10/17\n",
    "Developer:      rakib.hassan@ga.gov.au\n",
    " \n",
    "Revision History:\n",
    "    \n",
    "10/19   VR (Volker Rath)\n",
    "    * adapted colorbar, sizes, and more \n",
    "\n",
    "\n",
    "\"\"\"\n",
    "import os\n",
    "import plotrjmcmc as  pmc"
   ]
  },
  {
   "cell_type": "code",
   "execution_count": null,
   "metadata": {},
   "outputs": [],
   "source": [
    "results_dir = 'results_bbmt_roi/'\n",
    "plots_dir='plots_bbmt_roi/'\n",
    "outstrng='TIM'"
   ]
  },
  {
   "cell_type": "code",
   "execution_count": null,
   "metadata": {},
   "outputs": [],
   "source": [
    "result_files = os.listdir(results_dir)\n",
    "result_files = sorted(result_files)\n",
    "nfiles = len(result_files)"
   ]
  },
  {
   "cell_type": "code",
   "execution_count": null,
   "metadata": {},
   "outputs": [],
   "source": [
    "count=0\n",
    "for path in result_files:\n",
    "    count=count+1 \n",
    "    print('\\n') \n",
    "    print(str(count)+' of '+str(nfiles))\n",
    "    print(os.path.basename(path).replace('MT0',outstrng))\n",
    "\n",
    "    r = pmc.Results(os.path.join(results_dir, path), \n",
    "                         os.path.join(plots_dir,'%s.png'%(os.path.basename(path).replace('MT0',outstrng))), \n",
    "                         plotSizeInches='11x8', \n",
    "                         maxDepth=10000,\n",
    "                         colormap='gray_r')\n",
    "#                          colormap='OrRd')\n",
    "#                         colormap='gray_r'\n",
    "#                         colormap='rainbow')\n",
    "#                         \n",
    "                 \n",
    "    r.plot()\n",
    "#    r.close()"
   ]
  }
 ],
 "metadata": {
  "jupytext": {
   "cell_metadata_filter": "-all",
   "encoding": "# -*- coding: utf-8 -*-",
   "formats": "ipynb,py",
   "main_language": "python"
  }
 },
 "nbformat": 4,
 "nbformat_minor": 2
}

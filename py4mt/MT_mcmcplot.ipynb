{
 "cells": [
  {
   "cell_type": "code",
   "execution_count": null,
   "id": "7d4d7af9",
   "metadata": {},
   "outputs": [],
   "source": [
    "\"\"\"\n",
    "script to visualise rjmcmcmt based on Ross Brodie's original matlab\n",
    "plotting routines for rjmcmc inversion results.\n",
    "\n",
    "CreationDate:   2017/10/17  -  Developer:      rakib.hassan@ga.gov.au\n",
    "\n",
    "Revision History:\n",
    "\n",
    "10/19  VR (Volker Rath)\n",
    "    * adapted colorbar, sizes, and more\n",
    "03/20  VR (Volker Rath)\n",
    "    * minor improvements, less memory\n",
    "\n",
    "\"\"\"\n",
    "import os\n",
    "import modules.plotrjmcmc as pmc"
   ]
  },
  {
   "cell_type": "code",
   "execution_count": null,
   "id": "1c0687c3",
   "metadata": {},
   "outputs": [],
   "source": [
    "plot_format = 'pdf'"
   ]
  },
  {
   "cell_type": "code",
   "execution_count": null,
   "id": "5910eebd",
   "metadata": {
    "lines_to_next_cell": 2
   },
   "outputs": [],
   "source": [
    "RhoPlotLim = [0.1, 100000]"
   ]
  },
  {
   "cell_type": "code",
   "execution_count": null,
   "id": "2341a889",
   "metadata": {},
   "outputs": [],
   "source": [
    "results_in_dir = r'/media/vrath/MT/RainyRiverTransect/1-D_Results/RRV_results/'\n",
    "result_files = []\n",
    "files = os.listdir(results_in_dir)\n",
    "for entry in files:\n",
    "    if not entry.startswith('.'):\n",
    "        result_files.append(entry)"
   ]
  },
  {
   "cell_type": "code",
   "execution_count": null,
   "id": "0176bc3a",
   "metadata": {
    "lines_to_next_cell": 2
   },
   "outputs": [],
   "source": [
    "result_files = sorted(result_files)\n",
    "nfiles = len(result_files)"
   ]
  },
  {
   "cell_type": "code",
   "execution_count": null,
   "id": "b4c69ffa",
   "metadata": {},
   "outputs": [],
   "source": [
    "plots_dir = r'/media/vrath/MT/RainyRiverTransect/1-D_Results/RRV_plots/'\n",
    "if not os.path.isdir(plots_dir):\n",
    "    print(' File: %s does not exist, but will be created' % plots_dir)\n",
    "    os.mkdir(plots_dir)"
   ]
  },
  {
   "cell_type": "code",
   "execution_count": null,
   "id": "97e55812",
   "metadata": {
    "lines_to_next_cell": 2
   },
   "outputs": [],
   "source": [
    "outstrng = '_rjmcmc'"
   ]
  },
  {
   "cell_type": "code",
   "execution_count": null,
   "id": "4459354d",
   "metadata": {},
   "outputs": [],
   "source": [
    "count = 0\n",
    "for path in result_files:\n",
    "    count = count + 1\n",
    "    print('\\n')\n",
    "    print(str(count) + ' of ' + str(nfiles))\n",
    "    basefile = os.path.basename(path)\n",
    "    print(basefile)\n",
    "    outfile = os.path.join(plots_dir, basefile + outstrng + '.' + plot_format)\n",
    "    print(outfile)\n",
    "    r = pmc.Results(os.path.join(results_in_dir, path),\n",
    "                    outfile,\n",
    "                    plotSizeInches='11x8',\n",
    "                    maxDepth=32000,\n",
    "                    zLog=True,\n",
    "                    colormap='rainbow')\n",
    "\n",
    "    r.plot()\n",
    "# for other available colormaps see:\n",
    "# https://matplotlib.org/tutorials/colors/colormaps.html"
   ]
  }
 ],
 "metadata": {
  "jupytext": {
   "cell_metadata_filter": "-all",
   "encoding": "# -*- coding: utf-8 -*-",
   "formats": "py,ipynb",
   "main_language": "python"
  }
 },
 "nbformat": 4,
 "nbformat_minor": 5
}

{
 "cells": [
  {
   "cell_type": "code",
   "execution_count": null,
   "id": "dfd8ec81",
   "metadata": {},
   "outputs": [],
   "source": [
    "\"\"\"\n",
    "Reads ModEM's Jacobian, does fancy things.\n",
    "\n",
    "@author: vr july 2020\n",
    "\n",
    "Created on Tue Jul  7 16:59:01 2020\n",
    "\n",
    "@author: vrath\n",
    "\n",
    "\"\"\""
   ]
  },
  {
   "cell_type": "markdown",
   "id": "3d3da793",
   "metadata": {},
   "source": [
    "Import required modules"
   ]
  },
  {
   "cell_type": "code",
   "execution_count": null,
   "id": "9d3439f2",
   "metadata": {},
   "outputs": [],
   "source": [
    "import os\n",
    "import sys\n",
    "from sys import exit as error\n",
    "# import struct\n",
    "import time"
   ]
  },
  {
   "cell_type": "code",
   "execution_count": null,
   "id": "ffb6e90d",
   "metadata": {},
   "outputs": [],
   "source": [
    "import numpy as np\n",
    "import math as ma\n",
    "import netCDF4 as nc"
   ]
  },
  {
   "cell_type": "code",
   "execution_count": null,
   "id": "c893d36f",
   "metadata": {
    "lines_to_next_cell": 2
   },
   "outputs": [],
   "source": [
    "# from modules.jacproc import *\n",
    "from modules.modem import *\n",
    "#import readJac, writeJacNC, readDat, writeDatNC, sparsifyJac, readMod, rsvd"
   ]
  },
  {
   "cell_type": "code",
   "execution_count": null,
   "id": "258a20a9",
   "metadata": {
    "lines_to_next_cell": 2
   },
   "outputs": [],
   "source": [
    "ModFile_in = r'/home/vrath/work/MT/Annecy/ImageProc/In'\n",
    "SnsFile_in = r'/home/vrath/work/MT/Annecy/ImageProc/Out/'"
   ]
  },
  {
   "cell_type": "code",
   "execution_count": null,
   "id": "0e9bbf4f",
   "metadata": {},
   "outputs": [],
   "source": [
    "rhomt = model.flat[0 * nlyr:1 * nlyr]\n",
    "delmt = model.flat[6 * nlyr:7 * nlyr - 1]"
   ]
  },
  {
   "cell_type": "code",
   "execution_count": null,
   "id": "a59ee417",
   "metadata": {},
   "outputs": [],
   "source": [
    "mt1dfwd(freq, sig, d, inmod='r', out=\"imp\"):"
   ]
  },
  {
   "cell_type": "code",
   "execution_count": null,
   "id": "3bf53744",
   "metadata": {},
   "outputs": [],
   "source": [
    "Fileout = file.replace(InStrng, OutStrng) + '_MTdata.npz'\n",
    "np.savez_compressed(OutDatDir + Fileout,\n",
    "                    header=Header,\n",
    "                    Nlyr=Nlyr,\n",
    "                    mt_num=site_num,\n",
    "                    mt_model=site_model,\n",
    "                    mt_error=site_error,\n",
    "                    mt_data=site_data,\n",
    "                    mt_y=site_y, mt_x=site_x, mt_z=site_dem)"
   ]
  },
  {
   "cell_type": "code",
   "execution_count": null,
   "id": "e38973b3",
   "metadata": {
    "lines_to_next_cell": 2
   },
   "outputs": [],
   "source": [
    "start = time.time()\n",
    "dx, dy, dz, rho, reference = readMod(ModFile)\n",
    "elapsed = (time.time() - start)\n",
    "total = total + elapsed\n",
    "print(' Used %7.4f s for reading model from %s ' % (elapsed, DatFile))"
   ]
  },
  {
   "cell_type": "code",
   "execution_count": null,
   "id": "5a7887d2",
   "metadata": {
    "lines_to_next_cell": 2
   },
   "outputs": [],
   "source": [
    "start = time.time()\n",
    "elapsed = (time.time() - start)\n",
    "total = total + elapsed\n",
    "print(' Used %7.4f s for reading model from %s ' % (elapsed, DatFile))"
   ]
  },
  {
   "cell_type": "code",
   "execution_count": null,
   "id": "b62f4b15",
   "metadata": {
    "lines_to_next_cell": 2
   },
   "outputs": [],
   "source": [
    "start = time.time()\n",
    "elapsed = (time.time() - start)\n",
    "total = total + elapsed\n",
    "print(' Used %7.4f s for reading model from %s ' % (elapsed, DatFile))"
   ]
  },
  {
   "cell_type": "code",
   "execution_count": null,
   "id": "bedce5aa",
   "metadata": {},
   "outputs": [],
   "source": [
    "total = total + elapsed\n",
    "print(' Total time used:  %f s ' % (total))"
   ]
  }
 ],
 "metadata": {
  "jupytext": {
   "cell_metadata_filter": "-all",
   "encoding": "# -*- coding: utf-8 -*-",
   "executable": "/usr/bin/env python3",
   "formats": "py,ipynb",
   "main_language": "python"
  }
 },
 "nbformat": 4,
 "nbformat_minor": 5
}

{
 "cells": [
  {
   "cell_type": "code",
   "execution_count": null,
   "id": "ef6f5adf",
   "metadata": {},
   "outputs": [],
   "source": [
    "\"\"\"\n",
    "Reads ModEM's Jacobian, does fancy things.\n",
    "\n",
    "@author: vr july 2020\n",
    "\n",
    "Created on Tue Jul  7 16:59:01 2020\n",
    "\n",
    "@author: vrath\n",
    "\n",
    "\"\"\""
   ]
  },
  {
   "cell_type": "markdown",
   "id": "41f2bfb3",
   "metadata": {},
   "source": [
    "Import required modules"
   ]
  },
  {
   "cell_type": "code",
   "execution_count": null,
   "id": "70feae3c",
   "metadata": {},
   "outputs": [],
   "source": [
    "import os\n",
    "import sys\n",
    "from sys import exit as error\n",
    "# import struct\n",
    "import time"
   ]
  },
  {
   "cell_type": "code",
   "execution_count": null,
   "id": "a2f9a592",
   "metadata": {},
   "outputs": [],
   "source": [
    "import numpy as np\n",
    "import math as ma\n",
    "import netCDF4 as nc"
   ]
  },
  {
   "cell_type": "code",
   "execution_count": null,
   "id": "bb3c9c44",
   "metadata": {
    "lines_to_next_cell": 2
   },
   "outputs": [],
   "source": [
    "# from modules.jacproc import *\n",
    "from modules.modem import *\n",
    "#import readJac, writeJacNC, readDat, writeDatNC, sparsifyJac, readMod, rsvd"
   ]
  },
  {
   "cell_type": "code",
   "execution_count": null,
   "id": "e99b2a89",
   "metadata": {
    "lines_to_next_cell": 2
   },
   "outputs": [],
   "source": [
    "ModFile_in = r'/home/vrath/work/MT/Annecy/ImageProc/In'\n",
    "SnsFile_in = r'/home/vrath/work/MT/Annecy/ImageProc/Out/'"
   ]
  },
  {
   "cell_type": "code",
   "execution_count": null,
   "id": "4bb3b4f3",
   "metadata": {},
   "outputs": [],
   "source": [
    "rhomt = model.flat[0 * nlyr:1 * nlyr]\n",
    "delmt = model.flat[6 * nlyr:7 * nlyr - 1]"
   ]
  },
  {
   "cell_type": "code",
   "execution_count": null,
   "id": "c5ae03ff",
   "metadata": {},
   "outputs": [],
   "source": [
    "mt1dfwd(freq, sig, d, inmod='r', out=\"imp\"):"
   ]
  },
  {
   "cell_type": "code",
   "execution_count": null,
   "id": "6e574a4c",
   "metadata": {},
   "outputs": [],
   "source": [
    "Fileout = file.replace(InStrng, OutStrng) + '_MTdata.npz'\n",
    "np.savez_compressed(OutDatDir + Fileout,\n",
    "                    header=Header,\n",
    "                    Nlyr=Nlyr,\n",
    "                    mt_num=site_num,\n",
    "                    mt_model=site_model,\n",
    "                    mt_error=site_error,\n",
    "                    mt_data=site_data,\n",
    "                    mt_y=site_y, mt_x=site_x, mt_z=site_dem)"
   ]
  },
  {
   "cell_type": "code",
   "execution_count": null,
   "id": "153063ba",
   "metadata": {
    "lines_to_next_cell": 2
   },
   "outputs": [],
   "source": [
    "start = time.time()\n",
    "dx, dy, dz, rho, reference = readMod(ModFile)\n",
    "elapsed = (time.time() - start)\n",
    "total = total + elapsed\n",
    "print(' Used %7.4f s for reading model from %s ' % (elapsed, DatFile))"
   ]
  },
  {
   "cell_type": "code",
   "execution_count": null,
   "id": "486a5667",
   "metadata": {
    "lines_to_next_cell": 2
   },
   "outputs": [],
   "source": [
    "start = time.time()\n",
    "elapsed = (time.time() - start)\n",
    "total = total + elapsed\n",
    "print(' Used %7.4f s for reading model from %s ' % (elapsed, DatFile))"
   ]
  },
  {
   "cell_type": "code",
   "execution_count": null,
   "id": "0b43fd62",
   "metadata": {
    "lines_to_next_cell": 2
   },
   "outputs": [],
   "source": [
    "start = time.time()\n",
    "elapsed = (time.time() - start)\n",
    "total = total + elapsed\n",
    "print(' Used %7.4f s for reading model from %s ' % (elapsed, DatFile))"
   ]
  },
  {
   "cell_type": "code",
   "execution_count": null,
   "id": "433d8c3a",
   "metadata": {},
   "outputs": [],
   "source": [
    "total = total + elapsed\n",
    "print(' Total time used:  %f s ' % (total))"
   ]
  }
 ],
 "metadata": {
  "jupytext": {
   "cell_metadata_filter": "-all",
   "encoding": "# -*- coding: utf-8 -*-",
   "executable": "/usr/bin/env python3",
   "formats": "py,ipynb",
   "main_language": "python"
  }
 },
 "nbformat": 4,
 "nbformat_minor": 5
}

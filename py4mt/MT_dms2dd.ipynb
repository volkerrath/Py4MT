{
 "cells": [
  {
   "cell_type": "code",
   "execution_count": null,
   "id": "7a8d32dd",
   "metadata": {},
   "outputs": [],
   "source": [
    "'''\n",
    "\n",
    "This script produces a site list containing site names,\n",
    "coordinates and elevations, e. g., for WALDIM analysis.\n",
    "\n",
    "@author: sb & vr dec 2019\n",
    "'''"
   ]
  },
  {
   "cell_type": "markdown",
   "id": "a191e28f",
   "metadata": {},
   "source": [
    "Import required modules"
   ]
  },
  {
   "cell_type": "code",
   "execution_count": null,
   "id": "4acb6dcc",
   "metadata": {},
   "outputs": [],
   "source": [
    "import os\n",
    "import csv\n",
    "from mtpy.core.mt import MT\n",
    "import numpy as np"
   ]
  },
  {
   "cell_type": "code",
   "execution_count": null,
   "id": "abb16257",
   "metadata": {},
   "outputs": [],
   "source": [
    "dialect = 'unix'"
   ]
  },
  {
   "cell_type": "markdown",
   "id": "39d3c69f",
   "metadata": {
    "lines_to_next_cell": 2
   },
   "source": [
    "Define the path to your EDI-files and for the list produced"
   ]
  },
  {
   "cell_type": "code",
   "execution_count": null,
   "id": "a71a58cd",
   "metadata": {},
   "outputs": [],
   "source": [
    "#edi_in_dir       = '/home/vrath/WT7_Svet_edited/set1/'\n",
    "edi_in_dir = '/home/vrath/RainyRiverTranssect/RRV/hfreq_amt/'\n",
    "print(' Edifiles read from: %s' % edi_in_dir)"
   ]
  },
  {
   "cell_type": "markdown",
   "id": "a5da5142",
   "metadata": {},
   "source": [
    "Define the path and append string for resampled data:"
   ]
  },
  {
   "cell_type": "code",
   "execution_count": null,
   "id": "e856520e",
   "metadata": {},
   "outputs": [],
   "source": [
    "edi_out_dir = edi_in_dir + 'coords'\n",
    "print(' Edifiles written to: %s' % edi_out_dir)\n",
    "if not os.path.isdir(edi_out_dir):\n",
    "    print(' File: %s does not exist, but will be created' % edi_out_dir)\n",
    "    os.mkdir(edi_out_dir)"
   ]
  },
  {
   "cell_type": "code",
   "execution_count": null,
   "id": "ad1a16df",
   "metadata": {},
   "outputs": [],
   "source": [
    "out_string = ''\n",
    "# No changes required after this line!"
   ]
  },
  {
   "cell_type": "markdown",
   "id": "5482313d",
   "metadata": {},
   "source": [
    "Construct list of edi-files:"
   ]
  },
  {
   "cell_type": "code",
   "execution_count": null,
   "id": "d7cba9d6",
   "metadata": {},
   "outputs": [],
   "source": [
    "edi_files = []\n",
    "files = os.listdir(edi_in_dir)\n",
    "for entry in files:\n",
    "    if entry.endswith('.edi') and not entry.startswith('.'):\n",
    "        edi_files.append(entry)\n",
    "# Loop over edifiles:"
   ]
  },
  {
   "cell_type": "code",
   "execution_count": null,
   "id": "46c5a2cd",
   "metadata": {},
   "outputs": [],
   "source": [
    "for filename in edi_files:\n",
    "    print('reading data from: ' + filename)\n",
    "    name, ext = os.path.splitext(filename)\n",
    "    file_i = edi_in_dir + filename"
   ]
  },
  {
   "cell_type": "markdown",
   "id": "5732e6fe",
   "metadata": {},
   "source": [
    "Create MT object"
   ]
  },
  {
   "cell_type": "code",
   "execution_count": null,
   "id": "04417960",
   "metadata": {},
   "outputs": [],
   "source": [
    "    mt_obj = MT(file_i)\n",
    "    Z = mt_obj.Z\n",
    "    T = mt_obj.Tipper\n",
    "    lon = mt_obj.lon\n",
    "    lat = mt_obj.lat\n",
    "    elev = mt_obj.elev\n",
    "    east = mt_obj.east\n",
    "    north = mt_obj.north\n",
    "    sname = mt_obj.station\n",
    "    print(' site %s at :  % 10.6f % 10.6f' % (sname, mt_obj.lat, mt_obj.lon))\n",
    "    file_out = name + out_string + ext\n",
    "\n",
    "    mt_obj.write_mt_file(save_dir=edi_out_dir,\n",
    "                         fn_basename=file_out,\n",
    "                         file_type='edi',  # edi or xml format\n",
    "                         new_Z_obj=Z,  # provide a z object to update the data\n",
    "                         new_Tipper_obj=T,  # provide a tipper object to update the data\n",
    "                         longitude_format='LONG',  # write longitudes as 'LON' or 'LONG'\n",
    "                         # write as decimal degrees (any other input\n",
    "                         latlon_format='dd'\n",
    "                         # will write as degrees minutes seconds\n",
    "                         )\n",
    "\n",
    "    print('Writing data to ' + edi_out_dir + file_out)"
   ]
  }
 ],
 "metadata": {
  "jupytext": {
   "cell_metadata_filter": "-all",
   "encoding": "# -*- coding: utf-8 -*-",
   "formats": "py,ipynb",
   "main_language": "python"
  }
 },
 "nbformat": 4,
 "nbformat_minor": 5
}

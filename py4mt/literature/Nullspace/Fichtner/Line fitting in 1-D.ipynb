{
 "cells": [
  {
   "cell_type": "markdown",
   "metadata": {},
   "source": [
    "# Line fitting through noisy data in 1-D\n",
    "\n",
    "In this simple example, we fit a straight line through a cloud of artificially computed data points $d_i^{obs}$ that are polluted by random errors. We proceed in the following steps: (1) Computation of artificial data. (2) Computation of the inverse data weighting matrix $\\mathbf{C}_D^{-1}$ and of the Moore-Penrose inverse $(\\mathbf{G}^T\\mathbf{C}_D^{-1}\\mathbf{G})^{-1}\\mathbf{G}^T\\mathbf{C}_D^{-1}$. (3) Computation and visualisation of the estimated model $\\mathbf{m}^{est}$. "
   ]
  },
  {
   "cell_type": "markdown",
   "metadata": {},
   "source": [
    "# 0. Import some Python packages\n",
    "\n",
    "Before running any computations, we import a couple of Python packages, mostly for plotting and for matrix inversion."
   ]
  },
  {
   "cell_type": "code",
   "execution_count": 1,
   "metadata": {
    "collapsed": true
   },
   "outputs": [],
   "source": [
    "# Some Python packages.\n",
    "\n",
    "import numpy as np\n",
    "import matplotlib as mpl\n",
    "import matplotlib.pyplot as plt\n",
    "import scipy.special as special\n",
    "import random\n",
    "\n",
    "# Set some parameters to make plots nicer.\n",
    "\n",
    "plt.rcParams[\"font.family\"] = \"serif\"\n",
    "plt.rcParams.update({'font.size': 20})"
   ]
  },
  {
   "cell_type": "markdown",
   "metadata": {},
   "source": [
    "# 1. Setup and artificial data\n",
    "\n",
    "In the absence of any real observed data, we compute artificial data $\\mathbf{d}^{obs}$ using a random number generator. The artificial data will therefore look different each time you run the code."
   ]
  },
  {
   "cell_type": "code",
   "execution_count": 2,
   "metadata": {},
   "outputs": [
    {
     "data": {
      "image/png": "[encoded data removed]",
      "text/plain": [
       "<Figure size 432x288 with 1 Axes>"
      ]
     },
     "metadata": {},
     "output_type": "display_data"
    }
   ],
   "source": [
    "# Input. ----------------------------------------------------\n",
    "\n",
    "N=4 # Total number of experiments (measurement points).\n",
    "\n",
    "# Make artificial data. -------------------------------------\n",
    "\n",
    "# Control variable (e.g., position, temperature, ..., of the measurements)\n",
    "c=np.arange(N,dtype=float)+1.0\n",
    "\n",
    "# Data with random errors.\n",
    "d=c+1.0\n",
    "\n",
    "for i in range(N):\n",
    "    d[i]+=random.gauss(0.0,1.0)\n",
    "\n",
    "# To make things a bit more difficult, we introduce an outlier.\n",
    "d[-1]=2.0*d[-1]\n",
    "\n",
    "\n",
    "# Plot the artificial data. ---------------------------------\n",
    "\n",
    "plt.plot(c,d,'ko',markersize=7)\n",
    "plt.grid()\n",
    "plt.xlabel(r'$c$')\n",
    "plt.ylabel(r'$d_i^{obs}$')\n",
    "plt.title(r'artificial data, $d_i^{obs}$')\n",
    "plt.show()"
   ]
  },
  {
   "cell_type": "markdown",
   "metadata": {},
   "source": [
    "# 2. Data weights and Moore-Penrose inverse\n",
    "\n",
    "We continue with the computation of the inverse data weighting matrix $\\mathbf{C}_D^{-1}$ and of the Moore-Penrose inverse $(\\mathbf{G}^T\\mathbf{C}_D^{-1}\\mathbf{G})^{-1}\\mathbf{G}^T\\mathbf{C}_D^{-1}$."
   ]
  },
  {
   "cell_type": "code",
   "execution_count": 3,
   "metadata": {
    "collapsed": true
   },
   "outputs": [],
   "source": [
    "# Inverse of the data weighting matrix. ---------------------\n",
    "\n",
    "# These weights can be adjusted depending on the credibility (observational errors) of the individual data points.\n",
    "\n",
    "Cinv=np.identity(N)\n",
    "Cinv[3,3]=1.0 \n",
    "\n",
    "# Forward modelling matrix, G. ------------------------------\n",
    "\n",
    "G=np.ones((N,2))\n",
    "G[:,0]=c\n",
    "\n",
    "GT=np.dot(np.transpose(G),Cinv)\n",
    "\n",
    "# Moore-Penrose inverse. ------------------------------------\n",
    "\n",
    "GTGinv=np.linalg.inv(np.dot(GT,G))"
   ]
  },
  {
   "cell_type": "markdown",
   "metadata": {},
   "source": [
    "# 3. Estimated model and best-fitting line\n",
    "\n",
    "Finally, we use the Moore-Penrose inverse to compute the estimated model $\\mathbf{m}^{est}$. The estimated model parameters $m_1$ and $m_2$ are then used to predict observations for arbitrary values of the control parameter $c$."
   ]
  },
  {
   "cell_type": "code",
   "execution_count": 4,
   "metadata": {},
   "outputs": [
    {
     "name": "stdout",
     "output_type": "stream",
     "text": [
      "m1=1.995926, m2=-0.332694\n"
     ]
    },
    {
     "data": {
      "image/png": "[encoded data removed]",
      "text/plain": [
       "<Figure size 432x288 with 1 Axes>"
      ]
     },
     "metadata": {},
     "output_type": "display_data"
    }
   ],
   "source": [
    "# Compute estimated model. ----------------------------------\n",
    "\n",
    "m_est=np.dot(GTGinv,np.dot(GT,d))\n",
    "\n",
    "# Compute line using the esitmated model parameters. --------\n",
    "\n",
    "x=np.arange(0.0,np.max(c)+1.0,0.1)\n",
    "y=m_est[1]+x*m_est[0]\n",
    "\n",
    "# Print the estimated model parameters. ---------------------\n",
    "\n",
    "print('m1=%f, m2=%f' % (m_est[0], m_est[1]))\n",
    "\n",
    "# Plot line and data points. --------------------------------\n",
    "\n",
    "plt.plot(c,d,'ko',markersize=7)\n",
    "plt.plot(x,y,'b')\n",
    "plt.grid()\n",
    "plt.xlabel(r'$c$',fontsize=20)\n",
    "plt.ylabel(r'$d_i^{obs}$',fontsize=20)\n",
    "plt.title('best-fitting line')\n",
    "\n",
    "plt.xlim((0.0,c[-1]+1.0))\n",
    "plt.ylim((0.0,d[-1]+1.0))\n",
    "\n",
    "plt.show()"
   ]
  }
 ],
 "metadata": {
  "kernelspec": {
   "display_name": "Python 3",
   "language": "python",
   "name": "python3"
  },
  "language_info": {
   "codemirror_mode": {
    "name": "ipython",
    "version": 3
   },
   "file_extension": ".py",
   "mimetype": "text/x-python",
   "name": "python",
   "nbconvert_exporter": "python",
   "pygments_lexer": "ipython3",
   "version": "3.6.3"
  }
 },
 "nbformat": 4,
 "nbformat_minor": 2
}

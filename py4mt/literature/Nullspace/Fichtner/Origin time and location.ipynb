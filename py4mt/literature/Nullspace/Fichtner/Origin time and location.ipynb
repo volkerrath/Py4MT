{
 "cells": [
  {
   "cell_type": "markdown",
   "metadata": {},
   "source": [
    "# Earthquake origin time and location\n",
    "\n",
    "In this exercise we will estimate the origin time and the location of an earthquake based on measurements of the P-wave and S-wave arrival times at 3 (or more) stations. For this, we will use the concept of the Wadati diagram and plots similar to Fig. 7.4."
   ]
  },
  {
   "cell_type": "markdown",
   "metadata": {},
   "source": [
    "## 0. Import Python packages\n",
    "\n",
    "As usual, we start by importing some Python package for basic math and plotting."
   ]
  },
  {
   "cell_type": "code",
   "execution_count": null,
   "metadata": {
    "collapsed": true
   },
   "outputs": [],
   "source": [
    "import numpy as np\n",
    "import matplotlib.pyplot as plt"
   ]
  },
  {
   "cell_type": "markdown",
   "metadata": {},
   "source": [
    "## 1. Setup\n",
    "\n",
    "**First, we set the $x-$ and $y-$coordinates of the stations and the P-wave and S-wave velocities.** For simplicity, we work in Cartesian coordinates, thus ignoring the spherical geometry of the Earth."
   ]
  },
  {
   "cell_type": "code",
   "execution_count": null,
   "metadata": {
    "collapsed": true
   },
   "outputs": [],
   "source": [
    "# Station coordinates [m]\n",
    "xs=np.array([100.0, 300.0, 600.0])\n",
    "ys=np.array([100.0, 500.0, 200.0])\n",
    "\n",
    "# P-wave velocity [m/s]\n",
    "alpha=5000.0\n",
    "\n",
    "# S-wave velocity [m/s]\n",
    "beta=3000.0"
   ]
  },
  {
   "cell_type": "markdown",
   "metadata": {},
   "source": [
    "## 2. Artificial data\n",
    "\n",
    "**In the absence of actual data, and in order to have a ground truth again which we can check our results, we work with artificial data that we generate randomly.** For this, we compute an earthquake origin time and some epicentral coordinates using a random number generator. Based on this, we then compute artificial P-wave and S-wave arrival times that we will use as data."
   ]
  },
  {
   "cell_type": "code",
   "execution_count": null,
   "metadata": {},
   "outputs": [],
   "source": [
    "# Randomly generated origin time [s] in the range from 0 s to 100 s\n",
    "t0=100.0*np.random.rand()\n",
    "\n",
    "# Randomly generated epicenter coordinates in the range from 0 m to 1000 m\n",
    "xe=1000.0*np.random.rand()\n",
    "ye=1000.0*np.random.rand()\n",
    "\n",
    "# Distances to stations [m]\n",
    "D=np.sqrt((xs-xe)**2+(ys-ye)**2)\n",
    "\n",
    "# Compute P-wave and S-wave traveltimes and plot\n",
    "tp=t0+D/alpha\n",
    "ts=t0+D/beta\n",
    "\n",
    "plt.plot(tp,ts-tp,'bo')\n",
    "plt.ylim([0.0,1.1*np.max(ts-tp)])\n",
    "plt.xlim([t0-0.01,np.max(tp)+0.01])\n",
    "plt.title('Wadati diagram')\n",
    "plt.xlabel(r'$t_p$ [s]')\n",
    "plt.ylabel(r'$t_s-t_p$ [s]')\n",
    "plt.grid()\n",
    "plt.show()"
   ]
  },
  {
   "cell_type": "code",
   "execution_count": null,
   "metadata": {
    "collapsed": true
   },
   "outputs": [],
   "source": [
    "D1=\n",
    "D2=\n",
    "D3="
   ]
  },
  {
   "cell_type": "markdown",
   "metadata": {},
   "source": [
    "## 3. Epicentral distance plots\n",
    "\n",
    "**Using the distances between the stations and the epicenter, we can produce epicentral distance plots in the form of circles around the stations.** The intersection of the circles is an estimate of the epicentral coordinates. "
   ]
  },
  {
   "cell_type": "code",
   "execution_count": null,
   "metadata": {
    "collapsed": true
   },
   "outputs": [],
   "source": [
    "theta=np.linspace(0.0,2.0*np.pi,1000)\n",
    "\n",
    "# Circle around station 1\n",
    "x=x1+D1*np.cos(theta)\n",
    "y=y1+D1*np.sin(theta)\n",
    "plt.plot(x,y)\n",
    "\n",
    "# Circle around station 2\n",
    "x=x2+D2*np.cos(theta)\n",
    "y=y2+D2*np.sin(theta)\n",
    "plt.plot(x,y)\n",
    "\n",
    "# Circle around station 3\n",
    "x=x3+D3*np.cos(theta)\n",
    "y=y3+D3*np.sin(theta)\n",
    "plt.plot(x,y)\n",
    "\n",
    "plt.xlabel('x [m]')\n",
    "plt.ylabel('y [m]')\n",
    "plt.show()"
   ]
  },
  {
   "cell_type": "markdown",
   "metadata": {},
   "source": [
    "## 4. Exercises\n",
    "\n",
    "1) Using the Wadati diagram produced in part 2, estimate the origin time of the earthquake and the distances between the stations and the epicenter. Enter these numbers in the field below the Wadati diagram (variables D1, D2, D3).\n",
    "\n",
    "2) Compute the epicentral distance plot and use it in order to estimate the epicentral coordinates.\n",
    "\n",
    "3) Check your estimates agains the ground truth values, i.e., the actual values of origin time and epicentral coordinates used to compute the artificial data in part 2.\n",
    "\n",
    "4) The estimation of distances between stations and the epicenter requires knowledge of the P-wave and S-wave velocities. Mostly, this knowledge is not perfect. Repeat exercises 1 and 2 using P-wave and S-wave velocities that are 1 %, 5 %, and 10 % lower (or higher) than the actual P-wave and S-wave velocities used to compute the artificial data. How large are the resulting errors in your estimates (approximately)?"
   ]
  }
 ],
 "metadata": {
  "kernelspec": {
   "display_name": "Python 3",
   "language": "python",
   "name": "python3"
  },
  "language_info": {
   "codemirror_mode": {
    "name": "ipython",
    "version": 3
   },
   "file_extension": ".py",
   "mimetype": "text/x-python",
   "name": "python",
   "nbconvert_exporter": "python",
   "pygments_lexer": "ipython3",
   "version": "3.6.3"
  }
 },
 "nbformat": 4,
 "nbformat_minor": 2
}

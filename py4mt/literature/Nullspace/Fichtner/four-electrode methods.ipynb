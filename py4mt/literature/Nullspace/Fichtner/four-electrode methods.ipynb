{
 "cells": [
  {
   "cell_type": "markdown",
   "metadata": {},
   "source": [
    "# Four-electrode methods\n",
    "\n",
    "In this exercise, we will be concerned with the potential distributions, measured voltages and electric fields related to four-electrode configurations of geoelectrics. We will pay particular attention to some numerical difficulties that arise because the electric potential may become infinitely large when electrode locations coincide."
   ]
  },
  {
   "cell_type": "markdown",
   "metadata": {},
   "source": [
    "## 0. Import Python packages\n",
    "\n",
    "As usual, we start by importing some Python packages for basic math and plotting."
   ]
  },
  {
   "cell_type": "code",
   "execution_count": null,
   "metadata": {
    "collapsed": true
   },
   "outputs": [],
   "source": [
    "import numpy as np\n",
    "import matplotlib.pyplot as plt"
   ]
  },
  {
   "cell_type": "markdown",
   "metadata": {},
   "source": [
    "## 1. Setup\n",
    "\n",
    "**We start by plotting the measured voltage for a four-electrode configuration when the positions of three electrodes are fixed, and the position of the fourth electrode is allowed to vary along a profile at the surface of the Earth.** We will see that this apparently simple task may already lead to numerical problems."
   ]
  },
  {
   "cell_type": "code",
   "execution_count": null,
   "metadata": {
    "collapsed": true
   },
   "outputs": [],
   "source": [
    "# x-positions of the current electrodes [m]\n",
    "xA=-10.0\n",
    "xB=10.0\n",
    "\n",
    "# x-position of current electrode C [m]\n",
    "xC=2.0\n",
    "\n",
    "# x-position of currect electrode D is variable [m]\n",
    "xD=np.linspace(-20.0,20.0,101)+0.2\n",
    "\n",
    "# Measured voltage (assuming rho*I/(2pi)=1)\n",
    "V=(1.0/np.abs(xA-xC)-1.0/np.abs(xC-xB))-(1.0/np.abs(xA-xD)-1.0/np.abs(xD-xB))\n",
    "\n",
    "# Plot\n",
    "plt.plot(xD,V,'kx')\n",
    "plt.xlabel(r'$x_D$ [m]')\n",
    "plt.ylabel('V [V]')\n",
    "plt.grid()\n",
    "plt.show()"
   ]
  },
  {
   "cell_type": "markdown",
   "metadata": {},
   "source": [
    "## 2. Exercises\n",
    "\n",
    "1) When plotting the voltage $V$ as a function of the detection electrode position $x_D$, we do not consider values where $x_D$ equals either $x_A$ or $x_B$. Why is is this done?\n",
    "\n",
    "2) Consider a new configuration where the detection electrode D moves down into a borehole instead of moving across the surface. For this, keep $x_C=2$ m, $z_C=0$ m, and set $x_D=-2$ m. Then let $z_D$ be a variable. Plot the measured voltage as a function of depth $y_D$ by modifying the above calculations. \n",
    "\n",
    "3) Display the potential \n",
    "\n",
    "\\begin{equation}\n",
    "U = \\frac{\\rho I}{2\\pi}\\left( \\frac{1}{r_{AC}} - \\frac{1}{r_{CB}} \\right)\\,,\n",
    "\\end{equation}\n",
    "\n",
    "as a function of $x_C$ and $z_C$ in a two-dimensional plot. Remember what you learned from exercise 1).\n",
    "\n",
    "4) Using exercise 3), compute the vertical electric field $E_z$ using a finite-difference approximation\n",
    "\n",
    "\\begin{equation}\n",
    "E_z(x,z) = -\\frac{\\partial U}{\\partial z} \\approx -\\frac{1}{\\Delta z}\\left[ U(x,z+\\Delta z) - U(x,z)   \\right]\\,,\n",
    "\\end{equation}\n",
    "\n",
    "with some suitable increment $\\Delta z$ in $z$-direction. Check your result against an analytic (by hand) differentiation of $U$."
   ]
  }
 ],
 "metadata": {
  "kernelspec": {
   "display_name": "Python 3",
   "language": "python",
   "name": "python3"
  },
  "language_info": {
   "codemirror_mode": {
    "name": "ipython",
    "version": 3
   },
   "file_extension": ".py",
   "mimetype": "text/x-python",
   "name": "python",
   "nbconvert_exporter": "python",
   "pygments_lexer": "ipython3",
   "version": "3.6.3"
  }
 },
 "nbformat": 4,
 "nbformat_minor": 2
}

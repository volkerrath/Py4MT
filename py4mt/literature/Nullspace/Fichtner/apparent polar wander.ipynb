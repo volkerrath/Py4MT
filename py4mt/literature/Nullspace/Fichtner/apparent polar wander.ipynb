{
 "cells": [
  {
   "cell_type": "markdown",
   "metadata": {},
   "source": [
    "# Apparent polar wander\n",
    "\n",
    "In this exercise, we will compute the locations of virtual geomagnetic poles based on measurements of inclination and declination in rock samples of different age. This will allow us to estimate the plate velocity."
   ]
  },
  {
   "cell_type": "markdown",
   "metadata": {},
   "source": [
    "## 0. Import Python packages\n",
    "\n",
    "We start by importing some Python packages for basic math and plotting. Furthermore, we define the magnetic permeability constant $\\mu_0$."
   ]
  },
  {
   "cell_type": "code",
   "execution_count": null,
   "metadata": {
    "collapsed": true
   },
   "outputs": [],
   "source": [
    "import numpy as np\n",
    "import matplotlib.pyplot as plt"
   ]
  },
  {
   "cell_type": "markdown",
   "metadata": {},
   "source": [
    "## 1. Measurements of inclination and declination\n",
    "\n",
    "**We first produce a series of measurements of inclination, declination and age of the sampled rock.** In the absence of real data, we use artificial measurements for which a ground truth is known."
   ]
  },
  {
   "cell_type": "code",
   "execution_count": null,
   "metadata": {
    "collapsed": true
   },
   "outputs": [],
   "source": [
    "# Sample latitude and longitude [°]\n",
    "lat_s=47.37\n",
    "lon_s=8.54\n",
    "\n",
    "# Declination and inclination [°]\n",
    "D=np.array([80.10, 80.11, 80.09, 80.07, 80.08])\n",
    "I=np.array([30.00, 30.22, 30.40, 30.59, 30.80])\n",
    "\n",
    "# Age [Ma]\n",
    "t=np.array([305.0, 316.0, 324.0, 334.0, 345.0])"
   ]
  },
  {
   "cell_type": "markdown",
   "metadata": {},
   "source": [
    "## 2. Exercises\n",
    "\n",
    "1) Plot inclination and declination as a function of age.\n",
    "\n",
    "2) Using Eqs. (12.13) to (12.15), compute the latitudes and longitudes of the virtual geomagnetic poles corresponding to the inclination and declination measurements.\n",
    "\n",
    "3) Plot the positions of the virtual geomagnetic poles as a function of age. From this, estimate the average plate velocity."
   ]
  }
 ],
 "metadata": {
  "kernelspec": {
   "display_name": "Python 3",
   "language": "python",
   "name": "python3"
  },
  "language_info": {
   "codemirror_mode": {
    "name": "ipython",
    "version": 3
   },
   "file_extension": ".py",
   "mimetype": "text/x-python",
   "name": "python",
   "nbconvert_exporter": "python",
   "pygments_lexer": "ipython3",
   "version": "3.6.3"
  }
 },
 "nbformat": 4,
 "nbformat_minor": 2
}

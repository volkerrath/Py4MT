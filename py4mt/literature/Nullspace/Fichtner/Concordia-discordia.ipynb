{
 "cells": [
  {
   "cell_type": "markdown",
   "metadata": {},
   "source": [
    "# Concordia-discordia diagram\n",
    "\n",
    "In this exercise we will estimate the age of a volcanic rock using the uranium-lead method and the concordia-discordia diagram. For this, we will use the actual U-Pb data measured in a pioneering study by Pidgeon (1978)."
   ]
  },
  {
   "cell_type": "markdown",
   "metadata": {},
   "source": [
    "## 0. Import Python packages\n",
    "\n",
    "As usual, we start by importing some Python package for basic math and plotting."
   ]
  },
  {
   "cell_type": "code",
   "execution_count": null,
   "metadata": {
    "collapsed": true
   },
   "outputs": [],
   "source": [
    "import numpy as np\n",
    "import matplotlib.pyplot as plt"
   ]
  },
  {
   "cell_type": "markdown",
   "metadata": {},
   "source": [
    "## 1. Setup\n",
    "\n",
    "First, we write Pidgeon's (1978) U-Pb data into two arrays, and we define the decay constants for the two different Pb-U ratios."
   ]
  },
  {
   "cell_type": "code",
   "execution_count": null,
   "metadata": {
    "collapsed": true
   },
   "outputs": [],
   "source": [
    "# Measured U-Pb data\n",
    "Pb207_U235=np.array([25.02, 24.64, 24.45, 23.82, 24.12, 23.73, 23.92, 22.95, 21.64, 21.65, 22.12, 21.80, 17.04])\n",
    "Pb206_U238=np.array([0.6266, 0.6182, 0.6154, 0.5960, 0.6064, 0.5971, 0.6031, 0.5873, 0.5574, 0.5553, 0.5638, 0.5585, 0.4368])\n",
    "\n",
    "# Decay constants [1/Ga]\n",
    "lambda_238=0.155125\n",
    "lambda_235=0.984850"
   ]
  },
  {
   "cell_type": "markdown",
   "metadata": {},
   "source": [
    "## 2. Plotting data\n",
    "\n",
    "Next, we plot the actual data in order to check if they roughly fall onto a straight line."
   ]
  },
  {
   "cell_type": "code",
   "execution_count": null,
   "metadata": {},
   "outputs": [],
   "source": [
    "plt.plot(Pb207_U235,Pb206_U238,'rx')\n",
    "plt.xlabel(r'$^{207}$Pb/$^{235}$U')\n",
    "plt.ylabel(r'$^{206}$Pb/$^{238}$U')\n",
    "plt.show()"
   ]
  },
  {
   "cell_type": "markdown",
   "metadata": {},
   "source": [
    "## 3. Exercises\n",
    "\n",
    "1) Plot the concordia curve on top of the data.\n",
    "\n",
    "2) To estimate the discordia, fit a straight line through the data points using trial and error.\n",
    "\n",
    "3) Estimate the age of the rock and the time of lead loss.\n"
   ]
  }
 ],
 "metadata": {
  "kernelspec": {
   "display_name": "Python 3",
   "language": "python",
   "name": "python3"
  },
  "language_info": {
   "codemirror_mode": {
    "name": "ipython",
    "version": 3
   },
   "file_extension": ".py",
   "mimetype": "text/x-python",
   "name": "python",
   "nbconvert_exporter": "python",
   "pygments_lexer": "ipython3",
   "version": "3.6.3"
  }
 },
 "nbformat": 4,
 "nbformat_minor": 2
}

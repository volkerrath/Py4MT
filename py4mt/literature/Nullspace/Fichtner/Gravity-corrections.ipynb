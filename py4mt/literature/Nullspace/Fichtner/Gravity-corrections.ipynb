{
 "cells": [
  {
   "cell_type": "markdown",
   "metadata": {},
   "source": [
    "# Gravity corrections\n",
    "\n",
    "In this exercise, we study simple versions of terrain and Bouguer corrections to gravity measurements. The vertical component of gravitational acceleration caused by an extended body is given by the integral\n",
    "\n",
    "\\begin{equation}\n",
    "g_z = -G\\, \\int_x \\int_y \\int_z \\frac{\\rho(x,y,z)}{r^2(x,y,z)}\\,\\hat{r}_z\\,dx\\,dy\\,dz\\,,\n",
    "\\end{equation}\n",
    "\n",
    "where $G$ is the gravitational constant, $\\rho(x,y,z)$ is the density at some location $(x,y,z)$, $r(x,y,z)$ is the distance between $(x,y,z)$ and the observation point $P$, and $\\hat{r}_z$ is the vertical component of the unit vector between $(x,y,z)$ and the observation point $P$.\n",
    "\n",
    "To numerically solve the integral, we discretize the spatial domain into evenly-spaced grid points $(x_i, y_i, z_i)$, separated by some small distance $h$. We then obtain an approximation of $g_z$ by summing over all grid points,\n",
    "\n",
    "\\begin{equation}\n",
    "g_z \\approx -G\\,\\sum_i \\frac{\\rho(x_i,y_i,z_i)}{r^2(x_i,y_i,z_i)}\\,\\hat{r}_z\\,V\\,,\n",
    "\\end{equation}\n",
    "\n",
    "where the small volume $V$ is given by $V=h^3\\approx dx\\,dy\\,dz$. The product $\\rho(x_i,y_i,z_i) V$ equals the mass $m_i$ contained in the small volume $V$. Renaming $r_i=r(x_i,y_i,z_i)$, we may rewrite the above equation as\n",
    "\n",
    "\\begin{equation}\n",
    "g_z \\approx -G\\,\\sum_i \\frac{m_i}{r_i^2}\\,\\hat{r}_z\\,.\n",
    "\\end{equation}\n",
    "\n",
    "Considering a large extended body, e.g., the whole Earth, would require us to sum over a large number of grid points, which may take a long time to compute. Thus, for convenience, we limit ourselves to a small Cartesian box for which calculations can be performed quickly."
   ]
  },
  {
   "cell_type": "markdown",
   "metadata": {},
   "source": [
    "## 0. Import Python packages and define gravitational constant\n",
    "\n",
    "We start by importing some essential Python packages and defining the gravitational constant."
   ]
  },
  {
   "cell_type": "code",
   "execution_count": null,
   "metadata": {
    "collapsed": true
   },
   "outputs": [],
   "source": [
    "import numpy as np\n",
    "import matplotlib.pyplot as plt\n",
    "\n",
    "G=6.67508e-11"
   ]
  },
  {
   "cell_type": "markdown",
   "metadata": {},
   "source": [
    "## 1. Computational domain and density distribution\n",
    "\n",
    "**As a first step, we set up the computational domain, and we define some density distribution.** For convenience, we limit ourselves to a 2D density distribution, meaning that we ignore the spatial extension of the body in $y$-direction.\n",
    "\n",
    "The density distribution that we consider, mimics two mountains with densities of $\\rho=3000$ kg$/$m$^3$ and $\\rho=2700$ kg$/$m$^3$, respectively. Their corresponding heights are $5$ km and $8$ km. Both mountains are embedded within a homogeneous crust of density $\\rho=3500$ kg$/$m$^3$, which reaches a constant altitude of $3$ km. This is intended to simulate a high plateau."
   ]
  },
  {
   "cell_type": "code",
   "execution_count": null,
   "metadata": {
    "collapsed": true
   },
   "outputs": [],
   "source": [
    "# Dimension of the computational domain [m].\n",
    "x_min=-200.0e3\n",
    "x_max=200.0e3\n",
    "z_min=-100.0e3\n",
    "z_max=10.0e3\n",
    "\n",
    "# Grid spacing [m] and cell volume.\n",
    "h=1.0e3\n",
    "V=h**3\n",
    "\n",
    "nx=np.int((x_max-x_min)/h)\n",
    "nz=np.int((z_max-z_min)/h)\n",
    "\n",
    "# Coordinate axes.\n",
    "x=np.linspace(x_min,x_max,nx)\n",
    "z=np.linspace(z_min,z_max,nz)\n",
    "\n",
    "xv,zv=np.meshgrid(x,z,indexing='ij')\n",
    "\n",
    "# Define some density distribution.\n",
    "rho=np.zeros(np.shape(xv)) # To initialize, set all densities to zero.\n",
    "rho[:,0:103]=3500.0 # Set density below the surface of the Earth.\n",
    "rho[130:180,50:105]=3000.0 # A mountain with lower density.\n",
    "rho[220:260,40:108]=2700.0 # Another mountain with even lower density.\n",
    "\n",
    "# Plot density distribution.\n",
    "fig=plt.figure(figsize=(18, 10))\n",
    "plt.pcolor(xv/1000.0,zv/1000.0,rho,cmap='Greys')\n",
    "plt.xlabel('x [km]')\n",
    "plt.ylabel('z [km]')\n",
    "plt.title(r'density distribution [kg$/$m$^3$]')\n",
    "plt.colorbar()\n",
    "plt.show()"
   ]
  },
  {
   "cell_type": "markdown",
   "metadata": {},
   "source": [
    "## 2. Gravitational acceleration\n",
    "\n",
    "**Based on the setup above, we can compute the gravitational acceleration at some observation points.** For this, we initially choose a line of closely spaced points located $12$ km above the surface."
   ]
  },
  {
   "cell_type": "code",
   "execution_count": null,
   "metadata": {
    "collapsed": true
   },
   "outputs": [],
   "source": [
    "# Define observation points.\n",
    "x_obs=np.linspace(-100.0e3,100.0e3,100)\n",
    "z_obs=12.0e3*np.ones(nx)\n",
    "\n",
    "# Initialize gravitational potential.\n",
    "gz=np.zeros(len(x_obs))\n",
    "\n",
    "# Loop over all observation points.\n",
    "for k in range(len(x_obs)):\n",
    "    \n",
    "    r=np.sqrt((x_obs[k]-xv)**2 + (z_obs[k]-zv)**2) # distance to observation point\n",
    "    rz=(z_obs[k]-zv)/r # z-component of unit vector to observation point\n",
    "    gz[k]=-G*V*np.sum(rz*rho/r**2) # sum over all masses\n",
    "            \n",
    "# Plot gravitational potential.\n",
    "plt.plot(x_obs/1000.0,gz,'k')\n",
    "plt.xlabel('x [km]')\n",
    "plt.ylabel(r'$g_z$ [$m$/$s^2$]')\n",
    "plt.title('vertical gravity acceleration')\n",
    "plt.show()"
   ]
  },
  {
   "cell_type": "markdown",
   "metadata": {},
   "source": [
    "## 3. Terrain correction\n",
    "\n",
    "**To extract the gravity signal of the mountain roots, we first perform a simple terrain correction.** We do this by computing separately the vertical gravitational acceleration of the two mountains above the high plateau, i.e., the parts of the mountains above $3$ km altitude. Subsequently, we subtract this acceleration from the total acceleration computed before."
   ]
  },
  {
   "cell_type": "code",
   "execution_count": null,
   "metadata": {
    "collapsed": true
   },
   "outputs": [],
   "source": [
    "# Density distribution of the mountains above the high plateau.\n",
    "rho_mountain=np.zeros(np.shape(xv)) # To initialize, set all densities to zero.\n",
    "rho_mountain[130:180,103:105]=3000.0 # A mountain with lower density.\n",
    "rho_mountain[220:260,103:108]=2700.0 # Another mountain with even lower density.\n",
    "\n",
    "# Plot density distribution.\n",
    "fig=plt.figure(figsize=(18, 10))\n",
    "plt.pcolor(xv,zv,rho_mountain,cmap='Greys')\n",
    "plt.xlabel('x [m]')\n",
    "plt.ylabel('z [m]')\n",
    "plt.title(r'density distribution [kg$/$m$^3$]')\n",
    "plt.colorbar()\n",
    "plt.show()\n",
    "\n",
    "# Initialize gravitational potential.\n",
    "gz_mountain=np.zeros(len(x_obs))\n",
    "\n",
    "# Loop over all observation points.\n",
    "for k in range(len(x_obs)):\n",
    "    \n",
    "    r=np.sqrt((x_obs[k]-xv)**2 + (z_obs[k]-zv)**2) # distance to observation point\n",
    "    rz=(z_obs[k]-zv)/r # z-component of unit vector to observation point\n",
    "    gz_mountain[k]=-G*V*np.sum(rz*rho_mountain/r**2) # sum over all masses\n",
    "            \n",
    "# Plot vertical gravitational acceleration of the mountains.\n",
    "plt.plot(x_obs,gz_mountain,'k')\n",
    "plt.xlabel('x [m]')\n",
    "plt.ylabel(r'$g_z$ [$m$/$s^2$]')\n",
    "plt.title('vertical gravity acceleration of mountains above surface')\n",
    "plt.show()\n",
    "\n",
    "# Plot terrain-corrected gravitational acceleration.\n",
    "plt.plot(x_obs,gz-gz_mountain,'b')\n",
    "plt.plot(x_obs,gz,'k')\n",
    "plt.xlabel('x [m]')\n",
    "plt.ylabel(r'$g_z$ [$m$/$s^2$]')\n",
    "plt.title(r'corrected $g_z$ (blue), original $g_z$ (black)')\n",
    "plt.show()"
   ]
  },
  {
   "cell_type": "markdown",
   "metadata": {},
   "source": [
    "## 4. Exercises"
   ]
  },
  {
   "cell_type": "markdown",
   "metadata": {},
   "source": [
    "1) Following the example from point 3, apply a Bouguer correction to the total vertical gravity measurement.\n",
    "\n",
    "2) The two mountains are not isostatically compensated. Compute the densities of the mountains, assuming the same geometry (depth of the mountain root and height) and isostatic equilibrium.\n",
    "\n",
    "3) Repeat the calculation of the total gravity acceleration and of the terrain and Bourguer corrections for the densities computed in exercise 2.\n",
    "\n",
    "4) **Optional:** Extend the above calculations to include the horizontal components of gravitational acceleration."
   ]
  }
 ],
 "metadata": {
  "kernelspec": {
   "display_name": "Python 3",
   "language": "python",
   "name": "python3"
  },
  "language_info": {
   "codemirror_mode": {
    "name": "ipython",
    "version": 3
   },
   "file_extension": ".py",
   "mimetype": "text/x-python",
   "name": "python",
   "nbconvert_exporter": "python",
   "pygments_lexer": "ipython3",
   "version": "3.6.3"
  }
 },
 "nbformat": 4,
 "nbformat_minor": 2
}

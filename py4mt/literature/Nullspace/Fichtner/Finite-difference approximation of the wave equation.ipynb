{
 "cells": [
  {
   "cell_type": "markdown",
   "metadata": {},
   "source": [
    "# Finite-difference approximation of the wave equation\n",
    "\n",
    "In this notebook, we study the finite-difference solution of the 1D wave equation\n",
    "\n",
    "\\begin{equation}\n",
    "\\frac{\\partial^2 u(x,t)}{\\partial t^2} = c^2(x) \\frac{\\partial^2 u(x,t)}{\\partial x^2}\\,,\n",
    "\\end{equation}\n",
    "\n",
    "covered in chapter 6.3.7.1. Specifically, we will consider the accuracy of the approximation as a function of the discretization in space and time."
   ]
  },
  {
   "cell_type": "markdown",
   "metadata": {},
   "source": [
    "## 0. Import Python packages\n",
    "\n",
    "We first import some essential Python packages."
   ]
  },
  {
   "cell_type": "code",
   "execution_count": null,
   "metadata": {
    "collapsed": true
   },
   "outputs": [],
   "source": [
    "import time\n",
    "import numpy as np\n",
    "import matplotlib.pyplot as plt"
   ]
  },
  {
   "cell_type": "markdown",
   "metadata": {},
   "source": [
    "## 1. Setup\n",
    "\n",
    "**We start by setting up the computational domain.** The grid points along the $x$-axis range from *x_min* to *x_max* in increments of *dx*, which corresponds to $\\Delta x$ in the text. The velocity values, *c*, are defined on each grid point. Time starts to run at $t=0$ in increments of *dt*, which is $\\Delta t$ in the text. In total, we perform *nt* time steps. All numbers are assumed to have SI units, i.e., m for length, s for time, etc. Here, we do not run any computations. We merely plot the velocity distribution as a function of the $x$-coordinate."
   ]
  },
  {
   "cell_type": "code",
   "execution_count": null,
   "metadata": {},
   "outputs": [],
   "source": [
    "# x-coordinate axis.\n",
    "x_min=0.0  # minimum x value in m\n",
    "x_max=600.0  # maximum x value in m\n",
    "dx=0.5  # x increment (grid spacing) in m\n",
    "\n",
    "x=np.arange(x_min, x_max + dx, dx)\n",
    "nx=len(x)  # number of grid points\n",
    "\n",
    "# Velocity distribution (some subjectively chosen velocity values along the x-axis).\n",
    "c=1.0*np.ones(np.shape(x))  # velocity in m/s\n",
    "c[100:300]=1.0+np.arange(0.0,0.5,0.0025) \n",
    "c[900:1100]=1.25\n",
    "\n",
    "# Time axis.\n",
    "nt=1000  # number of time steps\n",
    "dt=0.25  # time increment in s\n",
    "\n",
    "# Plot velocity distribution.\n",
    "plt.plot(x,c,'k')\n",
    "plt.xlabel('x [m]')\n",
    "plt.ylabel('c [m/s]')\n",
    "plt.title('velocity distribution')\n",
    "plt.show()"
   ]
  },
  {
   "cell_type": "markdown",
   "metadata": {},
   "source": [
    "## 2. Initializing the displacement field"
   ]
  },
  {
   "cell_type": "markdown",
   "metadata": {},
   "source": [
    "**We initialize the displacement field at the beginning of the simulation.** The initial shape of the wave is something we are free to choose. For convenience, we let $u(x,t=0)$ be the first derivative of a Gaussian (also known as *Ricker wavelet*) with variance $l$. This will roughly be the wavelength of the propagating wave. For the previous time step, i.e., $t=-\\Delta t$, we choose the same wave shape. Again, there are no computations; only plotting."
   ]
  },
  {
   "cell_type": "code",
   "execution_count": null,
   "metadata": {},
   "outputs": [],
   "source": [
    "# Dominant wavelength of the displacement field [m].\n",
    "l=5.0\n",
    "\n",
    "# Initial displacement field [m].\n",
    "u=(x-300.0)*np.exp(-(x-300.0)**2/l**2)  # Subjectively chosen. This is the derivative of a Gaussian.\n",
    "\n",
    "# Displacement field in previous time step [m].\n",
    "u_previous=u\n",
    "\n",
    "# Plot initial displacement field.\n",
    "plt.plot(x,u,'k')\n",
    "plt.xlabel('x [m]')\n",
    "plt.ylabel('u [m]')\n",
    "plt.title('initial displacement field')\n",
    "plt.show()"
   ]
  },
  {
   "cell_type": "markdown",
   "metadata": {},
   "source": [
    "## 3. Time stepping"
   ]
  },
  {
   "cell_type": "markdown",
   "metadata": {},
   "source": [
    "**With everything set up, we can now loop from one time step to the next.** For this, we define an auxiliary variable *ddu* which will take the discrete version of the second derivative $\\partial^2 u / \\partial x^2$. The loop runs over all time steps until the time index *i* has reached the value *nt*, defined above. Within the loop, we first compute *ddu*, and then the displacement field in the next time step, *u_next*, as described in the text (Eq. 6.102). Finally, in each loop iteration, we set the previous time step to the current one, and the current one to the next one, which we just computed. With this, we can continue to the next step. In the end, we plot the resulting wavefield."
   ]
  },
  {
   "cell_type": "code",
   "execution_count": null,
   "metadata": {
    "scrolled": true
   },
   "outputs": [],
   "source": [
    "# Initialize second derivative of the displacement field\n",
    "ddu=np.zeros(np.shape(u))\n",
    "\n",
    "# Loop through the time steps.\n",
    "for i in range(nt+1):\n",
    "    \n",
    "    # Approximate 2nd derivative of the wavefield.\n",
    "    ddu[1:nx-1]=(u[2:nx]-2.0*u[1:nx-1]+u[0:nx-2])/dx**2\n",
    "    \n",
    "    # Compute next time step.\n",
    "    u_next=2.0*u-u_previous+dt**2 * c**2 * ddu \n",
    "    u_previous=u\n",
    "    u=u_next\n",
    "\n",
    "# Plot wavefield.\n",
    "plt.plot(x,u)\n",
    "plt.xlabel('x [m]')\n",
    "plt.ylabel('u [m]')\n",
    "plt.title('displacement field')\n",
    "plt.show()"
   ]
  },
  {
   "cell_type": "markdown",
   "metadata": {},
   "source": [
    "## 4. Exercises"
   ]
  },
  {
   "cell_type": "markdown",
   "metadata": {},
   "source": [
    "1) Compute the wavefield for different numbers of time steps, nt=100, 200, ..., 1000. What do you observe at the boundaries of the high-velocity regions? What happens at the boundaries of the domain, and why?\n",
    "\n",
    "\n",
    "2) Change the initial wavelength of the wave (variable \"l\" in step 2) from 5.0 m to 2.0 m. What do you observe and why?\n",
    "\n",
    "\n",
    "3) Increase the time step (variable *dt* in step 1) from 0.25 s to 1.0 s. Does this numerical simulation still produce accurate results?"
   ]
  }
 ],
 "metadata": {
  "kernelspec": {
   "display_name": "Python 3",
   "language": "python",
   "name": "python3"
  },
  "language_info": {
   "codemirror_mode": {
    "name": "ipython",
    "version": 3
   },
   "file_extension": ".py",
   "mimetype": "text/x-python",
   "name": "python",
   "nbconvert_exporter": "python",
   "pygments_lexer": "ipython3",
   "version": "3.6.3"
  }
 },
 "nbformat": 4,
 "nbformat_minor": 2
}

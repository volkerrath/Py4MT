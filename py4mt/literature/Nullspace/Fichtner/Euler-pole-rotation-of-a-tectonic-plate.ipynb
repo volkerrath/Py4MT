{
 "cells": [
  {
   "cell_type": "markdown",
   "metadata": {},
   "source": [
    "# Euler pole rotation of tectonic plates\n",
    "\n",
    "In this exercise, we will study the rotation of rigid plates across the surface of a sphere, e.g., the Earth. We will start by plotting a plate, represented by a collection of points with constant distance to each other, at its original position on the surface. Subsequently, we will rotate this plate about the $x$-axis, and then plot its new position. Finally, we will generalise the rotation about the $x$-axis to a rotation about some arbitrary axis, defined by its Euler pole."
   ]
  },
  {
   "cell_type": "markdown",
   "metadata": {},
   "source": [
    "## 0. Import Python packages and define constant\n",
    "\n",
    "First, we import some essential Python packages, e.g., for plotting in 3D."
   ]
  },
  {
   "cell_type": "code",
   "execution_count": null,
   "metadata": {
    "collapsed": true
   },
   "outputs": [],
   "source": [
    "import numpy as np\n",
    "import matplotlib.pyplot as plt\n",
    "from mpl_toolkits.mplot3d import Axes3D"
   ]
  },
  {
   "cell_type": "markdown",
   "metadata": {},
   "source": [
    "## 1. Plotting a spherical coordinate system\n",
    "\n",
    "**Before we actually get started, we program a little helper function that plots a spherical coordinate system** in the form of circles at constant latitudes and longitudes. This function does not really add anything to the physics of this problem, but it will turn out to be useful for plotting purposes."
   ]
  },
  {
   "cell_type": "code",
   "execution_count": null,
   "metadata": {
    "collapsed": true
   },
   "outputs": [],
   "source": [
    "def plot_sphere():\n",
    "    \"\"\"\n",
    "    Plot latitudes and longitudes of a unit sphere (radius 1) in increments of 10°.\n",
    "    \"\"\"\n",
    "\n",
    "    # Pre-compute 10 degrees for later reuse.\n",
    "    d=np.pi*10.0/180.0\n",
    "\n",
    "    # Colatitude (theta) and longitude (phi) coordinate lines.\n",
    "    theta=np.arange(0.0,19.0*d,d)\n",
    "    phi=np.arange(0.0,37.0*d,d)\n",
    "\n",
    "    # Plot lines of constant colatitude.\n",
    "    for i in range(len(theta)):\n",
    "        x=np.cos(phi)*np.sin(theta[i])\n",
    "        y=np.sin(phi)*np.sin(theta[i])\n",
    "        z=np.cos(theta[i])\n",
    "        ax.plot(x,y,z,color=(0.7,0.7,0.7),linewidth=0.5)\n",
    "    \n",
    "    # Plot lines of constant longitude.\n",
    "    for i in range(len(phi)):\n",
    "        x=np.cos(phi[i])*np.sin(theta)\n",
    "        y=np.sin(phi[i])*np.sin(theta)\n",
    "        z=np.cos(theta)\n",
    "        ax.plot(x,y,z,color=(0.7,0.7,0.7),linewidth=0.5)\n",
    "\n",
    "    # Make the panes transparent.\n",
    "    ax.xaxis.set_pane_color((1.0, 1.0, 1.0, 0.0))\n",
    "    ax.yaxis.set_pane_color((1.0, 1.0, 1.0, 0.0))\n",
    "    ax.zaxis.set_pane_color((1.0, 1.0, 1.0, 0.0))\n",
    "    # Make the grid lines transparent.\n",
    "    ax.xaxis._axinfo[\"grid\"]['color'] =  (1,1,1,0)\n",
    "    ax.yaxis._axinfo[\"grid\"]['color'] =  (1,1,1,0)\n",
    "    ax.zaxis._axinfo[\"grid\"]['color'] =  (1,1,1,0)\n",
    "    # Arrange and label axes.\n",
    "    ax.set_aspect('equal', 'box')\n",
    "    ax.set_xlabel('x')\n",
    "    ax.set_ylabel('y')\n",
    "    ax.set_zlabel('z')"
   ]
  },
  {
   "cell_type": "markdown",
   "metadata": {},
   "source": [
    "## 2. Plotting a tectonic plate\n",
    "\n",
    "**We illustrate the use of the *plot_sphere* function by plotting a simply-shaped tectonic plate**, defined by its extent in latitude and longitude."
   ]
  },
  {
   "cell_type": "code",
   "execution_count": null,
   "metadata": {
    "collapsed": true
   },
   "outputs": [],
   "source": [
    "# Latitude and longitude ranges [degrees] of the tectonic plate.\n",
    "lat_min=-10.0\n",
    "lat_max=30.0\n",
    "lon_min=-50.0\n",
    "lon_max=-20.0\n",
    "\n",
    "# Initiate a new figure.\n",
    "fig=plt.figure(figsize=(18, 16))\n",
    "ax=fig.gca(projection='3d')\n",
    "\n",
    "# Plot the spherical coordinate system.\n",
    "plot_sphere()\n",
    "    \n",
    "# Compute longitude and colatitude points of the tectonic plate on the unit sphere.\n",
    "phi=np.linspace(lon_min*np.pi/180.0,lon_max*np.pi/180.0,40)\n",
    "theta=np.linspace((90.0-lat_max)*np.pi/180.0,(90.0-lat_min)*np.pi/180.0,20)\n",
    "\n",
    "# Compute the corresponding Cartesian x, y, and z coordinates.\n",
    "x=np.outer(np.cos(phi), np.sin(theta))\n",
    "y=np.outer(np.sin(phi), np.sin(theta))\n",
    "z=np.outer(np.ones(np.size(phi)), np.cos(theta))\n",
    "\n",
    "# Plot the plate.\n",
    "ax.plot_surface(x, y, z, color='b')\n",
    "plt.show()"
   ]
  },
  {
   "cell_type": "markdown",
   "metadata": {},
   "source": [
    "## 3. Rotating the plate around the $x$-axis\n",
    "\n",
    "**We continue with the easiest form of rotation, namely the rotation around the $x$-axis.** This corresponds to an Euler pole location at $0^\\circ$ latitude ($90^\\circ$ colatitude) and $0^\\circ$ longitude. Denoting the rotation angle by $\\alpha$, the rotation around the $x$-axis changes the original coordinates of a point at the surface, $(x, y, z)$, into the new coordinates\n",
    "\n",
    "\\begin{align}\n",
    "x_\\text{rot} & = x\\,,\\\\\n",
    "y_\\text{rot} & = y\\,\\cos\\alpha - z\\,\\sin\\alpha\\,,\\\\\n",
    "z_\\text{rot} & = y\\,\\sin\\alpha + z\\,\\cos\\alpha\\,.\n",
    "\\end{align}"
   ]
  },
  {
   "cell_type": "code",
   "execution_count": null,
   "metadata": {
    "collapsed": true
   },
   "outputs": [],
   "source": [
    "# Initialize the rotated coordinates of points within the plate.\n",
    "x_rot=np.zeros(np.shape(x))\n",
    "y_rot=np.zeros(np.shape(y))\n",
    "z_rot=np.zeros(np.shape(z))\n",
    "\n",
    "# Choose a rotation angle.\n",
    "alpha=-50.0*np.pi/180.0\n",
    "\n",
    "# Rotate the points within the original plate.\n",
    "for i in range(len(phi)):\n",
    "    for j in range(len(theta)):\n",
    "        \n",
    "        x_rot[i,j]=x[i,j]\n",
    "        y_rot[i,j]=np.cos(alpha)*y[i,j]-np.sin(alpha)*z[i,j]\n",
    "        z_rot[i,j]=np.sin(alpha)*y[i,j]+np.cos(alpha)*z[i,j]\n",
    "\n",
    "# Plot the spherical coordinate system.       \n",
    "fig=plt.figure(figsize=(18, 16))\n",
    "ax=fig.gca(projection='3d')\n",
    "plot_sphere()\n",
    "\n",
    "# Plot the x-axis for visual orientation.\n",
    "ax.plot((-1.2,1.2),(0.0,0.0),(0.0,0.0),'k',linewidth=1.5)\n",
    "\n",
    "# Plot the original and rotated positions of the plate.\n",
    "ax.plot_surface(x, y, z, color='b')\n",
    "ax.plot_surface(x_rot, y_rot, z_rot, color='r')\n",
    "plt.title('original (blue), rotated (red)')\n",
    "plt.show()"
   ]
  },
  {
   "cell_type": "markdown",
   "metadata": {},
   "source": [
    "## 4. Rotation around an arbitrarily oriented axis\n",
    "\n",
    "**A point at the surface of a sphere may be rotated around some arbitrary axis.** We represent this axis by a unit vector $\\mathbf{a}=(a_1, a_2, a_3)$, i.e., a vector of length $1$. Again denoting the rotation angle by $\\alpha$, the rotation around the $\\mathbf{a}$-axis changes the original coordinates of a point at the surface, $(x, y, z)$, into the new coordinates\n",
    "\n",
    "\\begin{align}\n",
    "x_\\text{rot} & = \\left[ \\cos\\alpha + (1-\\cos\\alpha) a_1^2 \\right]\\,x + \\left[ (1-\\cos\\alpha) a_1 a_2 - a_3 \\sin\\alpha \\right]\\,y + \\left[ (1-\\cos\\alpha) a_1 a_3 + a_2\\sin\\alpha \\right]\\,z\\,,\\\\\n",
    "y_\\text{rot} & = \\left[ (1-\\cos\\alpha) a_1 a_2 + a_3 \\sin\\alpha \\right]\\,x + \\left[ \\cos\\alpha + (1-\\cos\\alpha) a_2^2 \\right]\\,y + \\left[ (1-\\cos\\alpha) a_2 a_3 - a_1\\sin\\alpha \\right]\\,z\\,,\\\\\n",
    "z_\\text{rot} & = \\left[ (1-\\cos\\alpha) a_1 a_3 - a_2 \\sin\\alpha \\right]\\,x + \\left[ (1-\\cos\\alpha) a_2 a_3 + a_1 \\sin\\alpha \\right]\\,y + \\left[ \\cos\\alpha + (1-\\cos\\alpha) a_3^2 \\right]\\,z\\,.\\\\\n",
    "\\end{align}"
   ]
  },
  {
   "cell_type": "code",
   "execution_count": null,
   "metadata": {
    "collapsed": true
   },
   "outputs": [],
   "source": [
    "# Initialize the rotated coordinates of points within the plate.\n",
    "x_rot=np.zeros(np.shape(x))\n",
    "y_rot=np.zeros(np.shape(y))\n",
    "z_rot=np.zeros(np.shape(z))\n",
    "\n",
    "# Choose a rotation angle.\n",
    "alpha=-50.0*np.pi/180.0\n",
    "\n",
    "# Choose a rotation axis (directional cosines (not yet normalised)).\n",
    "a_1=0.5\n",
    "a_2=0.4\n",
    "a_3=0.3\n",
    "\n",
    "# Ensure that length of rotation axis is $1$.\n",
    "l=np.sqrt(a_1**2+a_2**2+a_3**2)\n",
    "a_1=a_1/l\n",
    "a_2=a_2/l\n",
    "a_3=a_3/l\n",
    "\n",
    "# Precompute factors in the rotation equation.\n",
    "rxx=np.cos(alpha) + (1.0-np.cos(alpha))*a_1**2\n",
    "rxy=(1.0-np.cos(alpha))*a_1*a_2 - a_3*np.sin(alpha)\n",
    "rxz=(1.0-np.cos(alpha))*a_1*a_3 + a_2*np.sin(alpha)\n",
    "ryx=(1.0-np.cos(alpha))*a_1*a_2 + a_3*np.sin(alpha)\n",
    "ryy=np.cos(alpha) + (1.0-np.cos(alpha))*a_2**2\n",
    "ryz=(1.0-np.cos(alpha))*a_2*a_3 - a_1*np.sin(alpha)\n",
    "rzx=(1.0-np.cos(alpha))*a_1*a_3 - a_2*np.sin(alpha)\n",
    "rzy=(1.0-np.cos(alpha))*a_2*a_3 + a_1*np.sin(alpha)\n",
    "rzz=np.cos(alpha) + (1.0-np.cos(alpha))*a_3**2\n",
    "\n",
    "# Rotate the points within the original plate.\n",
    "for i in range(len(phi)):\n",
    "    for j in range(len(theta)):\n",
    "        \n",
    "        x_rot[i,j]=rxx*x[i,j]+rxy*y[i,j]+rxz*z[i,j]\n",
    "        y_rot[i,j]=ryx*x[i,j]+ryy*y[i,j]+ryz*z[i,j]\n",
    "        z_rot[i,j]=rzx*x[i,j]+rzy*y[i,j]+rzz*z[i,j]\n",
    "\n",
    "# Plot the spherical coordinate system.       \n",
    "fig=plt.figure(figsize=(18, 16))\n",
    "ax=fig.gca(projection='3d')\n",
    "plot_sphere()\n",
    "\n",
    "# Plot the x-axis for visual orientation.\n",
    "ax.plot((0.0,a_1),(0.0,a_2),(0.0,a_3),'k',linewidth=1.5)\n",
    "\n",
    "# Plot the original and rotated positions of the plate.\n",
    "ax.plot_surface(x, y, z, color='b')\n",
    "ax.plot_surface(x_rot, y_rot, z_rot, color='r')\n",
    "plt.title('original (blue), rotated (red)')\n",
    "plt.show()  "
   ]
  },
  {
   "cell_type": "markdown",
   "metadata": {},
   "source": [
    "## 5. Exercises"
   ]
  },
  {
   "cell_type": "markdown",
   "metadata": {},
   "source": [
    "1) What is the Euler pole location (latitude and longitude) for the rotation axis in point 4?\n",
    "\n",
    "2) From the rotation equations under point 4, deduce the special cases where the rotation axis is (a) parallel to the $y$-axis and (b) parallel to the $z$-axis.\n",
    "\n",
    "3) Implement a second plate covering the area between *lat_min=-60.0*, *lat_max=-30.0*, *lon_min=10.0*, *lon_max=30.0*. Let the plate rotate around an Euler pole located in your hometown. After which rotation angle does it collide with the original plate (if it collides at all)?"
   ]
  }
 ],
 "metadata": {
  "kernelspec": {
   "display_name": "Python 2",
   "language": "python",
   "name": "python2"
  },
  "language_info": {
   "codemirror_mode": {
    "name": "ipython",
    "version": 2
   },
   "file_extension": ".py",
   "mimetype": "text/x-python",
   "name": "python",
   "nbconvert_exporter": "python",
   "pygments_lexer": "ipython2",
   "version": "2.7.11"
  }
 },
 "nbformat": 4,
 "nbformat_minor": 2
}

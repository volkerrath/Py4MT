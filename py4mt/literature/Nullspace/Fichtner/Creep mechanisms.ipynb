{
 "cells": [
  {
   "cell_type": "markdown",
   "metadata": {},
   "source": [
    "# Dislocation and diffusion creep\n",
    "\n",
    "In this exercise we study the relative importance of the two deformation mechanisms dislocation creep and diffusion creep, which depends primarily on pressure, temperature and grain size.\n",
    "\n",
    "For simplicity, we consider dislocation and diffusion creep in olivine, which is a major constituent mineral of the Earth's upper mantle. Both deformation mechanisms can be described by the rheological equation\n",
    "\n",
    "$\\dot{\\varepsilon} = A \\left( \\frac{\\sigma}{\\mu} \\right)^n \\left( \\frac{b}{d} \\right)^m e^{-(E+pV)/RT} $\n",
    "\n",
    "where $\\dot{\\varepsilon}$ is strain rate, $A$ is a scaling factor, $\\sigma$ is stress, $\\mu$ is shear modulus (taken to be 81 GPa), $n$ is the stress exponent, $m$ is the grain size exponent, $b$ is the length of the so-called Burgers vector (0.5 nm for olivine), $d$ is grain size, $E$ is activation energy, $V$ is activation volume, $T$ is temperature, $p$ is pressure, and $R$ is the gas constant (8.3144598 J mol$^{−1}$ K$^{−1}$). For the two different deformation mechanisms, we adopt the following values, determined experimentally for dry olivine (see Karato, Geophys. Res. Lett. 19, 1992):\n",
    "\n",
    "**Dislocation creep**: $A=3.5\\cdot 10^{22}$ s$^{-1}$, $n=3.5$, $m=0$, $E=540\\cdot 10^{3}$ J mol$^{-1}$, $V=20 \\cdot 10^{-6}$ m$^3$ mol$^{-1}$.\n",
    "\n",
    "**Diffusion creep**: $A=8.7\\cdot 10^{15}$ s$^{-1}$, $n=1.0$, $m=2.5$, $E=300\\cdot 10^{3}$ J mol$^{-1}$, $V=6 \\cdot 10^{-6}$ m$^3$ mol$^{-1}$.\n",
    "\n",
    "'Dry' means that the olivine is not polluted by hydrogen atoms. When hydrogen is present (so-called wet olivin), the activation energies and volumes typically drop significantly, thus leading to larger strain rates for a given stress."
   ]
  },
  {
   "cell_type": "markdown",
   "metadata": {},
   "source": [
    "## 0. Import Python packages"
   ]
  },
  {
   "cell_type": "code",
   "execution_count": null,
   "metadata": {
    "collapsed": true
   },
   "outputs": [],
   "source": [
    "import numpy as np\n",
    "import matplotlib.pyplot as plt"
   ]
  },
  {
   "cell_type": "markdown",
   "metadata": {},
   "source": [
    "## 1. Setup\n",
    "\n",
    "**We start by initializing all necessary variables with some plausible values.** Then we compute strain rate for dislocation and for diffusion creep."
   ]
  },
  {
   "cell_type": "code",
   "execution_count": null,
   "metadata": {},
   "outputs": [],
   "source": [
    "# set parameters for dislocation creep\n",
    "A_dis=3.5e22\n",
    "n_dis=3.5\n",
    "m_dis=0.0\n",
    "E_dis=540.0e3\n",
    "V_dis=20.0e-6\n",
    "\n",
    "# set parameters for diffusion creep\n",
    "A_dif=8.7e15\n",
    "n_dif=1.0\n",
    "m_dif=2.5\n",
    "E_dif=300.0e3\n",
    "V_dif=6.0e-6\n",
    "\n",
    "# set parameters valid for both dislocation and diffusion creep\n",
    "mu=81.0e6\n",
    "b=0.5e-9\n",
    "R=8.3144598\n",
    "\n",
    "d=2.0e-3 # grain size in m\n",
    "p=10.0e9 # pressure in Pa (10 GPa corresponds to around 300 km depth in the Earth)\n",
    "T=1600.0 # temperature in K (1600 K is a good approximation for depths between around 200 and several hundred km depth.)\n",
    "sigma=4.5e6 # stress in Pa, a value far below the yield stress\n",
    "\n",
    "# compute strain rate\n",
    "epsilon_dis=A_dis*(sigma/mu)**n_dis * (b/d)**m_dis * np.exp(-(E_dis+p*V_dis)/(R*T))\n",
    "epsilon_dif=A_dif*(sigma/mu)**n_dif * (b/d)**m_dif * np.exp(-(E_dif+p*V_dif)/(R*T))\n",
    "\n",
    "print('dislocation creep strain rate: %g 1/s' % (epsilon_dis))\n",
    "print('diffusion creep strain rate: %g 1/s\\n' % (epsilon_dif))"
   ]
  },
  {
   "cell_type": "markdown",
   "metadata": {},
   "source": [
    "## 2. Dependence on pressure\n",
    "\n",
    "**In the next step, we study the pressure (i.e. depth) dependence of strain rate.** For this we let pressure $p$ vary within a range of values, keeping all the other parameters fixed."
   ]
  },
  {
   "cell_type": "code",
   "execution_count": null,
   "metadata": {},
   "outputs": [],
   "source": [
    "# set a range of pressure values\n",
    "p=1.0e9*np.arange(0.0,100.0,1.0)\n",
    "\n",
    "# compute strain rate\n",
    "epsilon_dis=A_dis*(sigma/mu)**n_dis * (b/d)**m_dis * np.exp(-(E_dis+p*V_dis)/(R*T))\n",
    "epsilon_dif=A_dif*(sigma/mu)**n_dif * (b/d)**m_dif * np.exp(-(E_dif+p*V_dif)/(R*T))\n",
    "\n",
    "# plot\n",
    "plt.semilogy(p,epsilon_dis,'k--')\n",
    "plt.semilogy(p,epsilon_dif,'k')\n",
    "plt.xlabel('p [Pa]')\n",
    "plt.ylabel('strain rate [1/s]')\n",
    "plt.title('dislocation creep (dashed), diffusion creep (solid)')\n",
    "plt.show()"
   ]
  },
  {
   "cell_type": "markdown",
   "metadata": {
    "collapsed": true
   },
   "source": [
    "# 3. Exercises\n",
    "\n",
    "1) Looking at the plot produced in part 2, explain why the strain rate for dislocation creep decreases more rapidly than the strain rate for diffusion creep. Above which pressure does diffusion creep become the dominant deformation mechanism?\n",
    "\n",
    "2) To study the grain size dependence, set the pressure $p$ to 20 GPa and let $d$ vary between $10^{-5}$ and $10^{-1}$ m. Plot the strain rates for diffusion and dislocation creep as a function of grain size $d$. Below which grain size is diffusion creep the dominant deformation mechanism?\n",
    "\n",
    "3) **Optional**: Combining exercises 1) and 2), produce a 2D map showing the pressure and grain size ranges where either diffusion or dislocation creep dominate."
   ]
  }
 ],
 "metadata": {
  "kernelspec": {
   "display_name": "Python 3",
   "language": "python",
   "name": "python3"
  },
  "language_info": {
   "codemirror_mode": {
    "name": "ipython",
    "version": 3
   },
   "file_extension": ".py",
   "mimetype": "text/x-python",
   "name": "python",
   "nbconvert_exporter": "python",
   "pygments_lexer": "ipython3",
   "version": "3.6.3"
  }
 },
 "nbformat": 4,
 "nbformat_minor": 2
}

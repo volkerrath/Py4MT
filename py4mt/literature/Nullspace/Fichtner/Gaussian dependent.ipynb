{
 "cells": [
  {
   "cell_type": "markdown",
   "metadata": {},
   "source": [
    "# Drawing samples from a Gaussian with nondiagonal covariance matrix"
   ]
  },
  {
   "cell_type": "markdown",
   "metadata": {},
   "source": [
    "## 0. Import Python packages"
   ]
  },
  {
   "cell_type": "code",
   "execution_count": 77,
   "metadata": {
    "collapsed": true
   },
   "outputs": [],
   "source": [
    "import numpy as np\n",
    "import matplotlib.pyplot as plt\n",
    "\n",
    "plt.rcParams[\"font.family\"] = \"serif\"\n",
    "plt.rcParams.update({'font.size': 20})"
   ]
  },
  {
   "cell_type": "markdown",
   "metadata": {},
   "source": [
    "# 1. Compute and plot probability density"
   ]
  },
  {
   "cell_type": "code",
   "execution_count": 89,
   "metadata": {},
   "outputs": [],
   "source": [
    "# Inverse covariance matrix.\n",
    "Cinv=np.array([[2.0, 0.0],[0.0, 1.0]])\n",
    "\n",
    "# Axes for plotting.\n",
    "x=np.linspace(-5.0,5.0,100)\n",
    "y=np.linspace(-5.0,5.0,100)\n",
    "x,y=np.meshgrid(x,y)\n",
    "\n",
    "# Compute probability density (negative log for plotting).\n",
    "p=0.5*(Cinv[0][0]*x**2+Cinv[1][1]*y**2+2.0*Cinv[0][1]*x*y)\n",
    "\n",
    "plt.pcolor(x,y,p,cmap='binary')\n",
    "plt.colorbar()\n",
    "plt.contour(x,y,p,colors='k',alpha=0.5)\n",
    "plt.xlabel(r'$m_1$')\n",
    "plt.ylabel(r'$m_2$')\n",
    "plt.savefig(\"gaussian_independent.pdf\", bbox_inches='tight')\n",
    "plt.close()\n",
    "#plt.show()"
   ]
  },
  {
   "cell_type": "markdown",
   "metadata": {},
   "source": [
    "# 2. Compute Cholesky decomposition and its inverse"
   ]
  },
  {
   "cell_type": "code",
   "execution_count": 88,
   "metadata": {},
   "outputs": [],
   "source": [
    "L=np.linalg.cholesky(Cinv)\n",
    "Linv=np.linalg.inv(L)"
   ]
  },
  {
   "cell_type": "markdown",
   "metadata": {},
   "source": [
    "# 3. Draw samples"
   ]
  },
  {
   "cell_type": "code",
   "execution_count": 87,
   "metadata": {},
   "outputs": [],
   "source": [
    "plt.pcolor(x,y,p,cmap='binary')\n",
    "plt.colorbar()\n",
    "plt.contour(x,y,p,colors='k',alpha=0.5)\n",
    "plt.xlabel(r'$m_1$')\n",
    "plt.ylabel(r'$m_2$')\n",
    "#plt.axis('equal')\n",
    "\n",
    "for k in range(1,1000):\n",
    "    s=np.random.randn(2)\n",
    "    s=Linv.transpose().dot(s)\n",
    "    plt.plot(s[0],s[1],'rx')\n",
    "\n",
    "plt.savefig(\"gaussian_independent_samples.pdf\", bbox_inches='tight')\n",
    "plt.close()\n",
    "#plt.show()"
   ]
  }
 ],
 "metadata": {
  "kernelspec": {
   "display_name": "Python 3",
   "language": "python",
   "name": "python3"
  },
  "language_info": {
   "codemirror_mode": {
    "name": "ipython",
    "version": 3
   },
   "file_extension": ".py",
   "mimetype": "text/x-python",
   "name": "python",
   "nbconvert_exporter": "python",
   "pygments_lexer": "ipython3",
   "version": "3.6.3"
  }
 },
 "nbformat": 4,
 "nbformat_minor": 2
}

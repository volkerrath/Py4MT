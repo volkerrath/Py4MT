{
 "cells": [
  {
   "cell_type": "code",
   "execution_count": null,
   "id": "eba2725b",
   "metadata": {},
   "outputs": [],
   "source": [
    "import os\n",
    "import sys\n",
    "import warnings\n",
    "import time"
   ]
  },
  {
   "cell_type": "code",
   "execution_count": null,
   "id": "c65e3d3d",
   "metadata": {},
   "outputs": [],
   "source": [
    "from sys import exit as error\n",
    "from datetime import datetime"
   ]
  },
  {
   "cell_type": "code",
   "execution_count": null,
   "id": "454c07d6",
   "metadata": {},
   "outputs": [],
   "source": [
    "import numpy as np\n",
    "import gdal\n",
    "import scipy as sc\n",
    "import vtk\n",
    "import pyvista as pv\n",
    "import pyvistaqt as pvqt\n",
    "import discretize\n",
    "import tarfile\n",
    "import pylab as pl\n",
    "from time import sleep"
   ]
  },
  {
   "cell_type": "code",
   "execution_count": null,
   "id": "fbf1b26d",
   "metadata": {
    "lines_to_next_cell": 2
   },
   "outputs": [],
   "source": [
    "mypath = [\"/home/vrath/Py4MT/py4mt/modules/\",\n",
    "          \"/home/vrath/Py4MT/py4mt/scripts/\"]\n",
    "for pth in mypath:\n",
    "    if pth not in sys.path:\n",
    "        sys.path.insert(0,pth)"
   ]
  },
  {
   "cell_type": "code",
   "execution_count": null,
   "id": "ccf93997",
   "metadata": {},
   "outputs": [],
   "source": [
    "import modem as mod\n",
    "import util as utl\n",
    "from version import versionstrg"
   ]
  },
  {
   "cell_type": "code",
   "execution_count": null,
   "id": "8f113d57",
   "metadata": {
    "lines_to_next_cell": 2
   },
   "outputs": [],
   "source": [
    "Strng, _ = versionstrg()\n",
    "now = datetime.now()\n",
    "print(\"\\n\\n\"+Strng)\n",
    "print(\"Image processing on model\"+\"\\n\"+\"\".join(\"Date \" + now.strftime(\"%m/%d/%Y, %H:%M:%S\")))\n",
    "print(\"\\n\\n\")"
   ]
  },
  {
   "cell_type": "code",
   "execution_count": null,
   "id": "af39772e",
   "metadata": {},
   "outputs": [],
   "source": [
    "warnings.simplefilter(action=\"ignore\", category=FutureWarning)"
   ]
  },
  {
   "cell_type": "code",
   "execution_count": null,
   "id": "798e9dc8",
   "metadata": {},
   "outputs": [],
   "source": [
    "rhoair = 1.e17"
   ]
  },
  {
   "cell_type": "code",
   "execution_count": null,
   "id": "ffc280b9",
   "metadata": {},
   "outputs": [],
   "source": [
    "total = 0"
   ]
  },
  {
   "cell_type": "code",
   "execution_count": null,
   "id": "0022d4f8",
   "metadata": {
    "lines_to_next_cell": 2
   },
   "outputs": [],
   "source": [
    "PFile = r\"/home/vrath/Py4MT/py4mt/data/ANN21_Jacobian/Ann21_T\"\n",
    "DFile = r\"/home/vrath/Py4MT/py4mt/data/ANN21_Jacobian/Ann21_T3.dat\"\n",
    "MFile = r\"/home/vrath/Py4MT/py4mt/data/ANN21_Jacobian/Ann21_Prior100_T_NLCG_033.rho\"\n",
    "SFile = r\"/home/vrath/Py4MT/py4mt/data/ANN21_Jacobian/Ann21_Prior100_T-Z3.sns\""
   ]
  },
  {
   "cell_type": "code",
   "execution_count": null,
   "id": "046eacc9",
   "metadata": {},
   "outputs": [],
   "source": [
    "start = time.time()\n",
    "dx, dy, dz, rho, reference = mod.read_model(MFile, trans=\"LOG10\")\n",
    "elapsed = time.time() - start\n",
    "total = total + elapsed\n",
    "print(\"Used %7.4f s for reading model from %s \" % (elapsed, MFile))\n",
    "print(\"ModEM reference is \"+str(reference))\n",
    "print(\"Min/max rho = \"+str(np.min(rho))+\"/\"+str(np.max(rho)))"
   ]
  },
  {
   "cell_type": "code",
   "execution_count": null,
   "id": "2cf3f415",
   "metadata": {},
   "outputs": [],
   "source": [
    "start = time.time()\n",
    "dx, dy, dz, sns, reference = mod.read_model(SFile, trans=\"LOG10\")\n",
    "elapsed = time.time() - start\n",
    "total = total + elapsed\n",
    "print(\"Used %7.4f s for reading model from %s \" % (elapsed, SFile))"
   ]
  },
  {
   "cell_type": "code",
   "execution_count": null,
   "id": "f73eb949",
   "metadata": {
    "lines_to_next_cell": 2
   },
   "outputs": [],
   "source": [
    "start = time.time()\n",
    "Site, Comp, Data, Head = mod.read_data(DFile)\n",
    "elapsed = time.time() - start\n",
    "total = total + elapsed\n",
    "print(\"Used %7.4f s for reading data from %s \" % (elapsed, DFile))"
   ]
  },
  {
   "cell_type": "code",
   "execution_count": null,
   "id": "0e99fe9c",
   "metadata": {},
   "outputs": [],
   "source": [
    "Bounds = [-5.,5., -5.,5., -1. ,3.]\n",
    "Scale =1.e-3"
   ]
  },
  {
   "cell_type": "code",
   "execution_count": null,
   "id": "e3ed3346",
   "metadata": {},
   "outputs": [],
   "source": [
    "x, y, z = mod.cells3d(dx, dy, dz, reference=reference)"
   ]
  },
  {
   "cell_type": "code",
   "execution_count": null,
   "id": "1fdc6464",
   "metadata": {},
   "outputs": [],
   "source": [
    "x, y, z, rho = mod.clip_model(x, y, z, rho, pad = [12, 12, 10])\n",
    "x, y, z  = Scale*x, Scale*y, -Scale*z\n",
    "xm, ym, zm = np.meshgrid(x, y, z)"
   ]
  },
  {
   "cell_type": "code",
   "execution_count": null,
   "id": "c94102c7",
   "metadata": {},
   "outputs": [],
   "source": [
    "rho[rho>15.] = np.nan"
   ]
  },
  {
   "cell_type": "code",
   "execution_count": null,
   "id": "4e6b66f8",
   "metadata": {},
   "outputs": [],
   "source": [
    "pv.set_plot_theme(\"document\")"
   ]
  },
  {
   "cell_type": "code",
   "execution_count": null,
   "id": "fc3bf816",
   "metadata": {
    "lines_to_next_cell": 2
   },
   "outputs": [],
   "source": [
    "cmap = pl.cm.get_cmap(\"viridis\",128)\n",
    "dargs = dict(cmap=cmap, clim=[1.4, 2.6])"
   ]
  },
  {
   "cell_type": "code",
   "execution_count": null,
   "id": "b9095c6a",
   "metadata": {},
   "outputs": [],
   "source": [
    "mod = pv.RectilinearGrid(xm, ym, zm)\n",
    "mod.cell_arrays[\"resistivity\"] = rho.flatten('F')"
   ]
  },
  {
   "cell_type": "markdown",
   "id": "1c30508e",
   "metadata": {},
   "source": [
    "contours = mod.contour(np.linspace(1.5, 2.5, 6))"
   ]
  },
  {
   "cell_type": "code",
   "execution_count": null,
   "id": "d4c7aab5",
   "metadata": {},
   "outputs": [],
   "source": [
    "p = pv.Plotter(window_size=[1024, 768])\n",
    "_ = p.add_mesh(mod.outline(), color=\"k\")\n",
    "# p.add_mesh(contours, opacity=0.25, clim=[1.4, 2.6])\n",
    "p.show_grid()\n",
    "slices = mod.slice_orthogonal(x=0, y=0, z=-1.)\n",
    "# _ = p.add_mesh(mod, scalars=\"resistivity\")\n",
    "_ = p.add_mesh(slices, scalars=\"resistivity\", **dargs)\n",
    "p.add_title(\"Annecy\")\n",
    "p.add_axes()\n",
    "p.show(screenshot='my_image.png',auto_close=True)\n",
    "p.close()"
   ]
  },
  {
   "cell_type": "markdown",
   "id": "44f472c3",
   "metadata": {},
   "source": [
    "slices = mod.slice_orthogonal()"
   ]
  },
  {
   "cell_type": "markdown",
   "id": "64ce787e",
   "metadata": {},
   "source": [
    "slices.plot(cmap=cmap)"
   ]
  }
 ],
 "metadata": {
  "jupytext": {
   "cell_metadata_filter": "-all",
   "formats": "py,ipynb",
   "main_language": "python"
  }
 },
 "nbformat": 4,
 "nbformat_minor": 5
}

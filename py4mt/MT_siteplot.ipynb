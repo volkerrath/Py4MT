{
 "cells": [
  {
   "cell_type": "code",
   "execution_count": null,
   "id": "regulation-finance",
   "metadata": {},
   "outputs": [],
   "source": [
    "\"\"\"\n",
    "This script constructs a list of edifiles in a given directory, and produces \n",
    "plots for all of them. \n",
    "\n",
    "@author: sb & vr oct 2019\n",
    "\n",
    "\"\"\""
   ]
  },
  {
   "cell_type": "markdown",
   "id": "breathing-patio",
   "metadata": {},
   "source": [
    "Import required modules"
   ]
  },
  {
   "cell_type": "code",
   "execution_count": null,
   "id": "concrete-pregnancy",
   "metadata": {},
   "outputs": [],
   "source": [
    "import os\n",
    "import numpy as np\n",
    "from mtpy.core.mt import MT"
   ]
  },
  {
   "cell_type": "markdown",
   "id": "direct-extreme",
   "metadata": {},
   "source": [
    "Graphical paramter. Determine the plot formats produced, \n",
    "and the required resolution: "
   ]
  },
  {
   "cell_type": "code",
   "execution_count": null,
   "id": "stable-microwave",
   "metadata": {},
   "outputs": [],
   "source": [
    "plot_pdf=True\n",
    "plot_png=True\n",
    "plot_eps=False"
   ]
  },
  {
   "cell_type": "code",
   "execution_count": null,
   "id": "chicken-twenty",
   "metadata": {},
   "outputs": [],
   "source": [
    "dpi = 400"
   ]
  },
  {
   "cell_type": "markdown",
   "id": "neural-reduction",
   "metadata": {},
   "source": [
    "What should be plotted?\n",
    "1 = yx and xy; 2 = all 4 components\n",
    "3 = off diagonal + determinant"
   ]
  },
  {
   "cell_type": "code",
   "execution_count": null,
   "id": "familiar-contact",
   "metadata": {},
   "outputs": [],
   "source": [
    "plot_z = 2\n",
    "no_err = True\n",
    "# Plot tipper?\n",
    "# 'y' or 'n', followed by 'r','i', or 'ri', for real part, imaginary part, or both, respectively."
   ]
  },
  {
   "cell_type": "code",
   "execution_count": null,
   "id": "raising-action",
   "metadata": {},
   "outputs": [],
   "source": [
    "plot_t = 'yri' #'yri'"
   ]
  },
  {
   "cell_type": "markdown",
   "id": "native-antenna",
   "metadata": {},
   "source": [
    "Plot phase tensor?\n",
    "'y' or 'n'"
   ]
  },
  {
   "cell_type": "code",
   "execution_count": null,
   "id": "encouraging-soviet",
   "metadata": {
    "lines_to_next_cell": 2
   },
   "outputs": [],
   "source": [
    "plot_p  = 'y'"
   ]
  },
  {
   "cell_type": "code",
   "execution_count": null,
   "id": "tutorial-field",
   "metadata": {},
   "outputs": [],
   "source": [
    "PerLimits = (0.0001,1.) #AMT\n",
    "# PerLimits = (0.001,100000.) #BBMT\n",
    "# PerLimits = (0.00003,10000.) #AMT+BBMT\n",
    "RhoLimits = (0.1 ,10000.)\n",
    "PhiLimits = (-180.,180.)\n",
    "Tiplimits = (-.5,0.5)\n",
    "# Define the path to your EDI-files:\n",
    "# edi_in_dir = r'/home/vrath/RRV_work/edi_work/Edited/'\n",
    "edi_in_dir = r'/home/vrath/Desktop/MauTopo/MauEdi/'\n",
    "# r'/home/vrath/MauTopo/MauTopo500_edi/'\n",
    "# r'/home/vrath/RRV_work/edifiles_in/'\n",
    "# edi_in_dir =  r'/home/vrath/RRV_work/edifiles_r1500m_bbmt/'\n",
    "print(' Edifiles read from: %s' % edi_in_dir)"
   ]
  },
  {
   "cell_type": "markdown",
   "id": "funky-importance",
   "metadata": {
    "lines_to_next_cell": 2
   },
   "source": [
    "Define the path for saving  plots:"
   ]
  },
  {
   "cell_type": "code",
   "execution_count": null,
   "id": "another-southeast",
   "metadata": {},
   "outputs": [],
   "source": [
    "plots_dir = edi_in_dir+'data_plots/' \n",
    "# plots_dir = r'/home/vrath/RRV_work/edifiles_in/' \n",
    "print(' Plots written to: %s' % plots_dir)\n",
    "if not os.path.isdir(plots_dir):\n",
    "    print(' File: %s does not exist, but will be created' % plots_dir)\n",
    "    os.mkdir(plots_dir)"
   ]
  },
  {
   "cell_type": "markdown",
   "id": "leading-survivor",
   "metadata": {},
   "source": [
    "No changes required after this line!"
   ]
  },
  {
   "cell_type": "markdown",
   "id": "charged-trout",
   "metadata": {
    "lines_to_next_cell": 2
   },
   "source": [
    "Construct list of EDI-files:"
   ]
  },
  {
   "cell_type": "code",
   "execution_count": null,
   "id": "arctic-tracy",
   "metadata": {},
   "outputs": [],
   "source": [
    "edi_files=[]\n",
    "files= os.listdir(edi_in_dir) \n",
    "for entry in files:\n",
    "   # print(entry)\n",
    "   if entry.endswith('.edi') and not entry.startswith('.'):\n",
    "            edi_files.append(entry)"
   ]
  },
  {
   "cell_type": "markdown",
   "id": "detailed-laser",
   "metadata": {
    "lines_to_next_cell": 2
   },
   "source": [
    "Enter loop for plotting"
   ]
  },
  {
   "cell_type": "code",
   "execution_count": null,
   "id": "assured-commitment",
   "metadata": {},
   "outputs": [],
   "source": [
    "for filename in edi_files :\n",
    "    print('\\n \\n \\n reading data from '+filename)\n",
    "    name, ext = os.path.splitext(filename)"
   ]
  },
  {
   "cell_type": "markdown",
   "id": "ideal-engineering",
   "metadata": {},
   "source": [
    "Create an MT object "
   ]
  },
  {
   "cell_type": "code",
   "execution_count": null,
   "id": "challenging-discrimination",
   "metadata": {},
   "outputs": [],
   "source": [
    "    file_i = edi_in_dir+filename\n",
    "    mt_obj = MT(file_i)\n",
    "    print(' site %s at :  % 10.6f % 10.6f' % (name, mt_obj.lat, mt_obj.lon))\n",
    "    \n",
    "    if no_err is True:\n",
    "        # mt_obj.Z.z_err = 0.0001*np.ones_like(np.real(mt_obj.Z.z))\n",
    "        # mt_obj.Tipper.tipper_err = 0.0001*np.ones_like(np.real(mt_obj.Tipper.tipper))\n",
    "        mt_obj.Z.z_err = 0.0001*np.real(mt_obj.Z.z)\n",
    "        mt_obj.Tipper.tipper_err = 0.0001*np.real(mt_obj.Tipper.tipper)\n",
    "        \n",
    "        \n",
    "    plot_obj = mt_obj.plot_mt_response(plot_num=plot_z,\n",
    "                                     plot_tipper = plot_t,\n",
    "                                     plot_pt = plot_p,\n",
    "                                     x_limits = PerLimits,\n",
    "                                     res_limits=RhoLimits, \n",
    "                                     phase_limits=PhiLimits,\n",
    "                                     tipper_limits =Tiplimits,\n",
    "                                     no_err = True\n",
    "    )"
   ]
  },
  {
   "cell_type": "markdown",
   "id": "fixed-shelter",
   "metadata": {},
   "source": [
    "Finally save figure"
   ]
  },
  {
   "cell_type": "code",
   "execution_count": null,
   "id": "piano-minister",
   "metadata": {},
   "outputs": [],
   "source": [
    "    if plot_png:\n",
    "        plot_obj.save_plot(os.path.join(plots_dir,name+\".png\"),file_format='png',fig_dpi=dpi)\n",
    "    if plot_pdf:\n",
    "        plot_obj.save_plot(os.path.join(plots_dir,name+\".pdf\"),file_format='pdf',fig_dpi=dpi)\n",
    "    if plot_eps:\n",
    "        plot_obj.save_plot(os.path.join(plots_dir,name+\".eps\"),file_format='eps',fig_dpi=dpi)"
   ]
  },
  {
   "cell_type": "code",
   "execution_count": null,
   "id": "grand-surgery",
   "metadata": {},
   "outputs": [],
   "source": [
    "        "
   ]
  },
  {
   "cell_type": "code",
   "execution_count": null,
   "id": "developing-deployment",
   "metadata": {},
   "outputs": [],
   "source": [
    "  "
   ]
  }
 ],
 "metadata": {
  "jupytext": {
   "cell_metadata_filter": "-all",
   "encoding": "# -*- coding: utf-8 -*-",
   "formats": "py:light,ipynb"
  },
  "kernelspec": {
   "display_name": "Python 3",
   "language": "python",
   "name": "python3"
  }
 },
 "nbformat": 4,
 "nbformat_minor": 5
}

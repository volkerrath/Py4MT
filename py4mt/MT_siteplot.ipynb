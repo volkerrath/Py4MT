{
 "cells": [
  {
   "cell_type": "code",
   "execution_count": null,
   "id": "e0cb29c6",
   "metadata": {},
   "outputs": [],
   "source": [
    "\"\"\"\n",
    "This script constructs a list of edifiles in a given directory, and produces\n",
    "plots for all of them.\n",
    "\n",
    "@author: sb & vr oct 2019\n",
    "\n",
    "\"\"\""
   ]
  },
  {
   "cell_type": "markdown",
   "id": "022a4782",
   "metadata": {},
   "source": [
    "Import required modules"
   ]
  },
  {
   "cell_type": "code",
   "execution_count": null,
   "id": "31e31161",
   "metadata": {},
   "outputs": [],
   "source": [
    "import os\n",
    "import numpy as np\n",
    "from mtpy.core.mt import MT"
   ]
  },
  {
   "cell_type": "markdown",
   "id": "46af0941",
   "metadata": {},
   "source": [
    "Graphical paramter. Determine the plot formats produced,\n",
    "and the required resolution:"
   ]
  },
  {
   "cell_type": "code",
   "execution_count": null,
   "id": "5499301a",
   "metadata": {},
   "outputs": [],
   "source": [
    "plot_pdf = True\n",
    "plot_png = True\n",
    "plot_eps = False"
   ]
  },
  {
   "cell_type": "code",
   "execution_count": null,
   "id": "b679f3a7",
   "metadata": {},
   "outputs": [],
   "source": [
    "dpi = 400"
   ]
  },
  {
   "cell_type": "markdown",
   "id": "0bb39485",
   "metadata": {},
   "source": [
    "What should be plotted?\n",
    "1 = yx and xy; 2 = all 4 components\n",
    "3 = off diagonal + determinant"
   ]
  },
  {
   "cell_type": "code",
   "execution_count": null,
   "id": "dc1825f8",
   "metadata": {},
   "outputs": [],
   "source": [
    "plot_z = 2\n",
    "no_err = True\n",
    "# Plot tipper?\n",
    "# 'y' or 'n', followed by 'r','i', or 'ri', for real part, imaginary part, or both, respectively."
   ]
  },
  {
   "cell_type": "code",
   "execution_count": null,
   "id": "03b0774e",
   "metadata": {},
   "outputs": [],
   "source": [
    "plot_t = 'yri'  # 'yri'"
   ]
  },
  {
   "cell_type": "markdown",
   "id": "147e7543",
   "metadata": {},
   "source": [
    "Plot phase tensor?\n",
    "'y' or 'n'"
   ]
  },
  {
   "cell_type": "code",
   "execution_count": null,
   "id": "b8d7e348",
   "metadata": {
    "lines_to_next_cell": 2
   },
   "outputs": [],
   "source": [
    "plot_p = 'y'"
   ]
  },
  {
   "cell_type": "code",
   "execution_count": null,
   "id": "6ff2245b",
   "metadata": {},
   "outputs": [],
   "source": [
    "PerLimits = (0.0001, 1.)  # AMT\n",
    "# PerLimits = (0.001,100000.) #BBMT\n",
    "# PerLimits = (0.00003,10000.) #AMT+BBMT\n",
    "RhoLimits = (0.1, 10000.)\n",
    "PhiLimits = (-180., 180.)\n",
    "Tiplimits = (-.5, 0.5)\n",
    "# Define the path to your EDI-files:\n",
    "# edi_in_dir = r'/home/vrath/RRV_work/edi_work/Edited/'\n",
    "edi_in_dir = r'/home/vrath/Desktop/MauTopo/MauEdi/'\n",
    "# r'/home/vrath/MauTopo/MauTopo500_edi/'\n",
    "# r'/home/vrath/RRV_work/edifiles_in/'\n",
    "# edi_in_dir =  r'/home/vrath/RRV_work/edifiles_r1500m_bbmt/'\n",
    "print(' Edifiles read from: %s' % edi_in_dir)"
   ]
  },
  {
   "cell_type": "markdown",
   "id": "a4dfc56d",
   "metadata": {
    "lines_to_next_cell": 2
   },
   "source": [
    "Define the path for saving  plots:"
   ]
  },
  {
   "cell_type": "code",
   "execution_count": null,
   "id": "666571dd",
   "metadata": {},
   "outputs": [],
   "source": [
    "plots_dir = edi_in_dir + 'data_plots/'\n",
    "# plots_dir = r'/home/vrath/RRV_work/edifiles_in/'\n",
    "print(' Plots written to: %s' % plots_dir)\n",
    "if not os.path.isdir(plots_dir):\n",
    "    print(' File: %s does not exist, but will be created' % plots_dir)\n",
    "    os.mkdir(plots_dir)"
   ]
  },
  {
   "cell_type": "markdown",
   "id": "7c39e28a",
   "metadata": {},
   "source": [
    "No changes required after this line!"
   ]
  },
  {
   "cell_type": "markdown",
   "id": "8fa650bd",
   "metadata": {
    "lines_to_next_cell": 2
   },
   "source": [
    "Construct list of EDI-files:"
   ]
  },
  {
   "cell_type": "code",
   "execution_count": null,
   "id": "1c152418",
   "metadata": {},
   "outputs": [],
   "source": [
    "edi_files = []\n",
    "files = os.listdir(edi_in_dir)\n",
    "for entry in files:\n",
    "    # print(entry)\n",
    "    if entry.endswith('.edi') and not entry.startswith('.'):\n",
    "        edi_files.append(entry)"
   ]
  },
  {
   "cell_type": "markdown",
   "id": "1a73bfc2",
   "metadata": {
    "lines_to_next_cell": 2
   },
   "source": [
    "Enter loop for plotting"
   ]
  },
  {
   "cell_type": "code",
   "execution_count": null,
   "id": "2e58eb6a",
   "metadata": {},
   "outputs": [],
   "source": [
    "for filename in edi_files:\n",
    "    print('\\n \\n \\n reading data from ' + filename)\n",
    "    name, ext = os.path.splitext(filename)"
   ]
  },
  {
   "cell_type": "markdown",
   "id": "acd66829",
   "metadata": {},
   "source": [
    "Create an MT object"
   ]
  },
  {
   "cell_type": "code",
   "execution_count": null,
   "id": "9df51bef",
   "metadata": {},
   "outputs": [],
   "source": [
    "    file_i = edi_in_dir + filename\n",
    "    mt_obj = MT(file_i)\n",
    "    print(' site %s at :  % 10.6f % 10.6f' % (name, mt_obj.lat, mt_obj.lon))\n",
    "\n",
    "    if no_err is True:\n",
    "        # mt_obj.Z.z_err = 0.0001*np.ones_like(np.real(mt_obj.Z.z))\n",
    "        # mt_obj.Tipper.tipper_err = 0.0001*np.ones_like(np.real(mt_obj.Tipper.tipper))\n",
    "        mt_obj.Z.z_err = 0.0001 * np.real(mt_obj.Z.z)\n",
    "        mt_obj.Tipper.tipper_err = 0.0001 * np.real(mt_obj.Tipper.tipper)\n",
    "\n",
    "    plot_obj = mt_obj.plot_mt_response(plot_num=plot_z,\n",
    "                                       plot_tipper=plot_t,\n",
    "                                       plot_pt=plot_p,\n",
    "                                       x_limits=PerLimits,\n",
    "                                       res_limits=RhoLimits,\n",
    "                                       phase_limits=PhiLimits,\n",
    "                                       tipper_limits=Tiplimits,\n",
    "                                       no_err=True\n",
    "                                       )"
   ]
  },
  {
   "cell_type": "markdown",
   "id": "94e5aea9",
   "metadata": {},
   "source": [
    "Finally save figure"
   ]
  },
  {
   "cell_type": "code",
   "execution_count": null,
   "id": "cbe6feab",
   "metadata": {},
   "outputs": [],
   "source": [
    "    if plot_png:\n",
    "        plot_obj.save_plot(\n",
    "            os.path.join(\n",
    "                plots_dir,\n",
    "                name + \".png\"),\n",
    "            file_format='png',\n",
    "            fig_dpi=dpi)\n",
    "    if plot_pdf:\n",
    "        plot_obj.save_plot(\n",
    "            os.path.join(\n",
    "                plots_dir,\n",
    "                name + \".pdf\"),\n",
    "            file_format='pdf',\n",
    "            fig_dpi=dpi)\n",
    "    if plot_eps:\n",
    "        plot_obj.save_plot(\n",
    "            os.path.join(\n",
    "                plots_dir,\n",
    "                name + \".eps\"),\n",
    "            file_format='eps',\n",
    "            fig_dpi=dpi)"
   ]
  }
 ],
 "metadata": {
  "jupytext": {
   "cell_metadata_filter": "-all",
   "encoding": "# -*- coding: utf-8 -*-",
   "formats": "py,ipynb"
  },
  "kernelspec": {
   "display_name": "Python 3",
   "language": "python",
   "name": "python3"
  }
 },
 "nbformat": 4,
 "nbformat_minor": 5
}

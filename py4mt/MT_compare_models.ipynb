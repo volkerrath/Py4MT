{
 "cells": [
  {
   "cell_type": "code",
   "execution_count": null,
   "id": "03f2ec30",
   "metadata": {},
   "outputs": [],
   "source": [
    "\"\"\"\n",
    "Created on Fri Sep 11 15:41:25 2020\n",
    "\n",
    "@author: vrath\n",
    "\"\"\"\n",
    "# Import required modules"
   ]
  },
  {
   "cell_type": "code",
   "execution_count": null,
   "id": "4b35b4ac",
   "metadata": {},
   "outputs": [],
   "source": [
    "import os\n",
    "import sys\n",
    "from sys import exit as error\n",
    "# import struct\n",
    "import time\n",
    "from datetime import datetime\n",
    "import warnings"
   ]
  },
  {
   "cell_type": "code",
   "execution_count": null,
   "id": "3e76ab79",
   "metadata": {},
   "outputs": [],
   "source": [
    "import numpy as np"
   ]
  },
  {
   "cell_type": "code",
   "execution_count": null,
   "id": "0f755266",
   "metadata": {},
   "outputs": [],
   "source": [
    "mypath = [\"/home/vrath/Py4MT/py4mt/modules/\",\n",
    "          \"/home/vrath/Py4MT/py4mt/scripts/\"]\n",
    "for pth in mypath:\n",
    "    if pth not in sys.path:\n",
    "        sys.path.insert(0,pth)"
   ]
  },
  {
   "cell_type": "code",
   "execution_count": null,
   "id": "10cdad3a",
   "metadata": {},
   "outputs": [],
   "source": [
    "import modules\n",
    "import modules.util as utl\n",
    "import modules.modem as mod\n",
    "import modules.inv\n",
    "from version import versionstrg"
   ]
  },
  {
   "cell_type": "code",
   "execution_count": null,
   "id": "537b8ea2",
   "metadata": {},
   "outputs": [],
   "source": [
    "Strng, _ = versionstrg()\n",
    "now = datetime.now()\n",
    "print(\"\\n\\n\"+Strng)\n",
    "print(\"Nullspace Shuttle\"+\"\\n\"+\"\".join(\"Date \" + now.strftime(\"%m/%d/%Y, %H:%M:%S\")))\n",
    "print(\"\\n\\n\")"
   ]
  },
  {
   "cell_type": "code",
   "execution_count": null,
   "id": "70d0d7d1",
   "metadata": {
    "lines_to_next_cell": 2
   },
   "outputs": [],
   "source": [
    "warnings.simplefilter(action=\"ignore\", category=FutureWarning)"
   ]
  },
  {
   "cell_type": "code",
   "execution_count": null,
   "id": "d37f1204",
   "metadata": {},
   "outputs": [],
   "source": [
    "Data_tmp = '.TMP'"
   ]
  },
  {
   "cell_type": "code",
   "execution_count": null,
   "id": "992d2cda",
   "metadata": {},
   "outputs": [],
   "source": [
    "M_In1 = r'/home/vrath/work/MaurienneJCN/MaurPrior.rho'\n",
    "M_In2 = r'/home/vrath/work/MaurienneJCN/MaurPrior.rho'"
   ]
  },
  {
   "cell_type": "code",
   "execution_count": null,
   "id": "e6f193af",
   "metadata": {
    "lines_to_next_cell": 2
   },
   "outputs": [],
   "source": [
    "M_Out_Dif = 'CompareMod_Diff.rho'\n",
    "M_Out_Crg = 'CompareMod_CrossGrad.rho'"
   ]
  },
  {
   "cell_type": "code",
   "execution_count": null,
   "id": "ce7e2248",
   "metadata": {},
   "outputs": [],
   "source": [
    "dx, dy, dz, R1, ref = mod.read_model(M_In1, out=True)\n",
    "dx, dy, dz, R2, ref = mod.read_model(M_In2, out=True)"
   ]
  },
  {
   "cell_type": "code",
   "execution_count": null,
   "id": "2b79a20e",
   "metadata": {},
   "outputs": [],
   "source": [
    "r1 = np.log10(R1)\n",
    "r2 = np.log10(R2)"
   ]
  },
  {
   "cell_type": "code",
   "execution_count": null,
   "id": "ea06f6f4",
   "metadata": {},
   "outputs": [],
   "source": [
    "rdiff = r2 - r1"
   ]
  },
  {
   "cell_type": "code",
   "execution_count": null,
   "id": "944578bd",
   "metadata": {},
   "outputs": [],
   "source": [
    "mod.write_model(M_Out_Dif, dx=dx, dy=dy, dz=dz, rho=rdiff,\n",
    "         reference=ref, trans=\"LINEAR\", out=True)"
   ]
  },
  {
   "cell_type": "markdown",
   "id": "f63a79d3",
   "metadata": {},
   "source": [
    "g1x,g1y,g1z = np.gradient(r1)\n",
    "ng1 = np.sqrt(g1x*g1x + g1y*g1y + g1z*g1z)"
   ]
  },
  {
   "cell_type": "markdown",
   "id": "c92044da",
   "metadata": {},
   "source": [
    "g2x,g2y,g2z = np.gradient(r2)\n",
    "ng2 = np.sqrt(g2x*g1x + g2y*g1y + g2z*g2z)"
   ]
  },
  {
   "cell_type": "markdown",
   "id": "1950399f",
   "metadata": {},
   "source": [
    "print(np.shape(ng2))"
   ]
  },
  {
   "cell_type": "code",
   "execution_count": null,
   "id": "e2634a41",
   "metadata": {},
   "outputs": [],
   "source": []
  },
  {
   "cell_type": "markdown",
   "id": "ec1a00d8",
   "metadata": {},
   "source": [
    "Rcg = inv.crossgrad(dx, dy, dz, R1, R2)"
   ]
  },
  {
   "cell_type": "markdown",
   "id": "139e1df3",
   "metadata": {},
   "source": [
    "writeMod(MCrg, dx=dx, dy=dy, dz=dz, rho=Rcrg,\n",
    "         reference=ref, trans=\"LINEAR\", out=True)"
   ]
  }
 ],
 "metadata": {
  "jupytext": {
   "cell_metadata_filter": "-all",
   "encoding": "# -*- coding: utf-8 -*-",
   "executable": "/usr/bin/env python3",
   "formats": "py:light,ipynb",
   "main_language": "python"
  }
 },
 "nbformat": 4,
 "nbformat_minor": 5
}

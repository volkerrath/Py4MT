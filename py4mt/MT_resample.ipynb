{
 "cells": [
  {
   "cell_type": "code",
   "execution_count": null,
   "metadata": {
    "lines_to_next_cell": 0
   },
   "outputs": [],
   "source": []
  },
  {
   "cell_type": "code",
   "execution_count": null,
   "metadata": {},
   "outputs": [],
   "source": [
    "# -*- coding: utf-8 -*-\n",
    "\"\"\"\n",
    "Created on Wed Nov 21 17:54:41 2018\n",
    "\n",
    "@author: sb & vr oct 2019\n",
    "'''\n",
    "\n",
    "\"\"\"\n",
    "from mtpy.core.mt import MT\n",
    "from mtpy.utils.calculator import get_period_list\n",
    "import os\n",
    "import numpy as np"
   ]
  },
  {
   "cell_type": "code",
   "execution_count": null,
   "metadata": {},
   "outputs": [],
   "source": [
    "interp_type='slinear'\n",
    "#interp_types = ['linear', 'nearest', 'zero', 'slinear', 'quadratic', 'cubic']\n",
    "interp_pdec=5"
   ]
  },
  {
   "cell_type": "code",
   "execution_count": null,
   "metadata": {},
   "outputs": [],
   "source": [
    "# Define the path to your edi files\n",
    "edi_dir = './edifiles_bbmt_roi/'\n",
    "print(' Edifiles read from: %s' % edi_dir)"
   ]
  },
  {
   "cell_type": "code",
   "execution_count": null,
   "metadata": {},
   "outputs": [],
   "source": [
    "edi_files=[]\n",
    "files= os.listdir(edi_dir) \n",
    "for entry in files:\n",
    "   # print(entry)\n",
    "   if entry.endswith('.edi') and not entry.endswith('.'):\n",
    "            edi_files.append(entry)"
   ]
  },
  {
   "cell_type": "code",
   "execution_count": null,
   "metadata": {
    "lines_to_next_cell": 2
   },
   "outputs": [],
   "source": [
    "# Define the path for saving  plots\n",
    "newedi_dir = './edifiles_bbmt_resampled/' #edi_dir #'./plots_synth/'"
   ]
  },
  {
   "cell_type": "code",
   "execution_count": null,
   "metadata": {},
   "outputs": [],
   "source": [
    "for filename in edi_files :\n",
    "    print('  \\n reading data from '+filename)\n",
    "    name, ext = os.path.splitext(filename)\n",
    "    # Create an MT object \n",
    "    file_i = edi_dir+filename\n",
    "    mt_obj = MT(file_i)  \n",
    "    print('Size of Z list :',np.shape(mt_obj.Z.z))\n",
    "    freq = mt_obj.Z.freq\n",
    "        \n",
    "    \n",
    "    \n",
    "    maxfreq = np.max(freq)\n",
    "    minfreq = np.min(freq)\n",
    "    print('MinFreq: '+str(minfreq)+'   MaxFreq: '+str(maxfreq))\n",
    "    test_freq_list = 1./get_period_list(1e-3,1e3,interp_pdec) # pdec periods per decade from 0.0001 to 100000 s\n",
    "    new_freq_list  = np.select(test_freq_list<=maxfreq, test_freq_list>=minfreq,test_freq_list)\n",
    "       \n",
    "    print('Size of old Freq list :',np.size(test_freq_list)) \n",
    "    print('Size of new Freq list :',np.size(new_freq_list)) \n",
    "    # create new Z and Tipper objects containing interpolated data\n",
    "    new_Z_obj, new_Tipper_obj = mt_obj.interpolate(new_freq_list,interp_type=interp_type)"
   ]
  },
  {
   "cell_type": "code",
   "execution_count": null,
   "metadata": {
    "lines_to_next_cell": 2
   },
   "outputs": [],
   "source": [
    "#    pt_obj = mt_obj.plot_mt_response(plot_num=1, # 1 = yx and xy; 2 = all 4 components\n",
    "#    # 3 = off diagonal + determinant\n",
    "#    plot_tipper = 'yri',\n",
    "#    plot_pt = 'y' # plot phase tensor 'y' or 'n'f\n",
    "#    )\n",
    "#    pt_obj.save_plot(os.path.join(save_path,name+\".pdf\"), fig_dpi=400)    \n",
    "    mt_obj.write_mt_file(save_dir=newedi_dir, \n",
    "                    fn_basename= name, \n",
    "                    file_type='edi', # edi or xml format\n",
    "                    new_Z_obj=new_Z_obj, # provide a z object to update the data\n",
    "                    new_Tipper_obj=new_Tipper_obj, # provide a tipper object to update the data\n",
    "                    longitude_format='LONG', # write longitudes as 'LON' or 'LONG'\n",
    "                    latlon_format='dd' # write as decimal degrees (any other input\n",
    "                                       # will write as degrees minutes seconds\n",
    "                    )         "
   ]
  }
 ],
 "metadata": {
  "jupytext": {
   "cell_metadata_filter": "-all",
   "formats": "ipynb,py",
   "main_language": "python"
  }
 },
 "nbformat": 4,
 "nbformat_minor": 2
}

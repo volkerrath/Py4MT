{
 "cells": [
  {
   "cell_type": "code",
   "execution_count": null,
   "id": "invalid-religious",
   "metadata": {},
   "outputs": [],
   "source": [
    "\"\"\"\n",
    "Reads ModEM model, reads ModEM's Jacobian, does fancy things.\n",
    "\n",
    "Created on Sun Jan 17 15:09:34 2021\n",
    "\n",
    "@author: vrath jan 2021\n",
    "\n",
    "\"\"\""
   ]
  },
  {
   "cell_type": "markdown",
   "id": "complimentary-stevens",
   "metadata": {},
   "source": [
    "Import required modules"
   ]
  },
  {
   "cell_type": "code",
   "execution_count": null,
   "id": "caring-puppy",
   "metadata": {
    "lines_to_next_cell": 2
   },
   "outputs": [],
   "source": [
    "import os\n",
    "import sys\n",
    "from sys import exit as error\n",
    "# import struct\n",
    "import time"
   ]
  },
  {
   "cell_type": "code",
   "execution_count": null,
   "id": "loaded-carry",
   "metadata": {},
   "outputs": [],
   "source": [
    "import numpy as np\n",
    "import math  as ma\n",
    "import netCDF4 as nc"
   ]
  },
  {
   "cell_type": "code",
   "execution_count": null,
   "id": "upset-functionality",
   "metadata": {},
   "outputs": [],
   "source": [
    "from sys import exit as error\n",
    "from modules.modem import *"
   ]
  },
  {
   "cell_type": "code",
   "execution_count": null,
   "id": "human-wagon",
   "metadata": {},
   "outputs": [],
   "source": [
    "#import readJac, writeJacNC, readDat, writeDatNC, sparsifyJac, readMod, rsvd\n",
    "rhoair = 1.e+17"
   ]
  },
  {
   "cell_type": "code",
   "execution_count": null,
   "id": "equipped-service",
   "metadata": {},
   "outputs": [],
   "source": [
    "total = 0\n",
    "ModFile_in  = r'/home/vrath/work/MT/Annecy/ImageProc/In/ANN20_02_PT_NLCG_016'\n",
    "ModFile_out = r'/home/vrath/work/MT/Annecy/ImageProc/Out/ANN20_02_PT_NLCG_016_nse'"
   ]
  },
  {
   "cell_type": "code",
   "execution_count": null,
   "id": "premium-length",
   "metadata": {},
   "outputs": [],
   "source": [
    "geocenter = [45.938251,     6.084900]\n",
    "utm_x, utm_y = proj_latlon_to_utm(geocenter[0],geocenter[1],utm_zone =32631)\n",
    "utmcenter =  [utm_x,utm_y, 0.]"
   ]
  },
  {
   "cell_type": "code",
   "execution_count": null,
   "id": "dietary-quantity",
   "metadata": {},
   "outputs": [],
   "source": [
    "ssamples = 10000"
   ]
  },
  {
   "cell_type": "code",
   "execution_count": null,
   "id": "editorial-recipe",
   "metadata": {},
   "outputs": [],
   "source": []
  },
  {
   "cell_type": "code",
   "execution_count": null,
   "id": "vocal-defense",
   "metadata": {},
   "outputs": [],
   "source": [
    "body= ['ellipsoid', 'add', 0.,    0., 0., 3000., 1000., 2000., 1000.,  0., 0., 30.]"
   ]
  },
  {
   "cell_type": "code",
   "execution_count": null,
   "id": "initial-corporation",
   "metadata": {},
   "outputs": [],
   "source": [
    "normalize_err = True\n",
    "normalize_max = True\n",
    "calcsens = True"
   ]
  },
  {
   "cell_type": "code",
   "execution_count": null,
   "id": "confirmed-spanish",
   "metadata": {},
   "outputs": [],
   "source": [
    "JacFile = r'/home/vrath/work/MT/Jacobians/Maurienne/Maur_PT.jac'\n",
    "DatFile = r'/home/vrath/work/MT/Jacobians/Maurienne/Maur_PT.dat'\n",
    "ModFile = r'/home/vrath/work/MT/Jacobians/Maurienne//Maur_PT_R500_NLCG_016.rho'\n",
    "SnsFile = r'/home/vrath/work/MT/Jacobians/Maurienne/Maur_PT_R500_NLCG_016.sns'"
   ]
  },
  {
   "cell_type": "code",
   "execution_count": null,
   "id": "established-leisure",
   "metadata": {
    "lines_to_next_cell": 2
   },
   "outputs": [],
   "source": [
    "total = 0."
   ]
  },
  {
   "cell_type": "code",
   "execution_count": null,
   "id": "continued-quilt",
   "metadata": {},
   "outputs": [],
   "source": [
    "start = time.time()\n",
    "dx, dy, dz, rho, reference = readMod(ModFile)\n",
    "elapsed = (time.time() - start)\n",
    "total = total + elapsed\n",
    "print (' Used %7.4f s for reading model from %s ' % (elapsed,DatFile))"
   ]
  },
  {
   "cell_type": "code",
   "execution_count": null,
   "id": "confirmed-confirmation",
   "metadata": {},
   "outputs": [],
   "source": []
  },
  {
   "cell_type": "code",
   "execution_count": null,
   "id": "practical-button",
   "metadata": {},
   "outputs": [],
   "source": []
  },
  {
   "cell_type": "code",
   "execution_count": null,
   "id": "center-induction",
   "metadata": {},
   "outputs": [],
   "source": []
  },
  {
   "cell_type": "code",
   "execution_count": null,
   "id": "seasonal-prevention",
   "metadata": {
    "lines_to_next_cell": 2
   },
   "outputs": [],
   "source": []
  },
  {
   "cell_type": "code",
   "execution_count": null,
   "id": "religious-latitude",
   "metadata": {},
   "outputs": [],
   "source": [
    "nb     = np.shape(bodies)"
   ]
  },
  {
   "cell_type": "code",
   "execution_count": null,
   "id": "brave-jackson",
   "metadata": {},
   "outputs": [],
   "source": [
    "# smoother=['gaussian',0.5]\n",
    "smoother=['uniform',3]\n",
    "total = 0\n",
    "start = time.time()"
   ]
  },
  {
   "cell_type": "code",
   "execution_count": null,
   "id": "understanding-translation",
   "metadata": {},
   "outputs": [],
   "source": [
    "dx, dy, dz, rho, reference = readMod(ModFile_in+'.rho',out = True)\n",
    "# writeMod(ModFile_out+'.rho', dx, dy, dz, rho,reference,out = True)\n",
    "elapsed = (time.time() - start)\n",
    "total = total + elapsed\n",
    "print (' Used %7.4f s for reading model from %s ' % (elapsed,ModFile_in+'.rho'))"
   ]
  },
  {
   "cell_type": "code",
   "execution_count": null,
   "id": "happy-surprise",
   "metadata": {},
   "outputs": [],
   "source": [
    "air = rho > rhoair/100."
   ]
  },
  {
   "cell_type": "code",
   "execution_count": null,
   "id": "announced-czech",
   "metadata": {},
   "outputs": [],
   "source": [
    "rho = prepare_mod(rho,rhoair=rhoair)"
   ]
  },
  {
   "cell_type": "code",
   "execution_count": null,
   "id": "laden-appendix",
   "metadata": {},
   "outputs": [],
   "source": [
    "for ibody in range(nb[0]):\n",
    "    body = bodies[ibody]\n",
    "    rhonew = insert_body(dx,dy,dz,rho,body,smooth=smoother)\n",
    "    rhonew[air] = rhoair\n",
    "    Modout =ModFile_out+'_'+body[0]+str(ibody)+'_'+smoother[0]+'.rho'\n",
    "    writeMod(Modout, dx, dy, dz, rhonew,reference,out = True)\n",
    "\n",
    "    elapsed = (time.time() - start)\n",
    "    print (' Used %7.4f s for processing/writing model to %s ' % (elapsed,Modout))\n",
    "    print('\\n')"
   ]
  },
  {
   "cell_type": "code",
   "execution_count": null,
   "id": "wireless-resource",
   "metadata": {},
   "outputs": [],
   "source": []
  },
  {
   "cell_type": "code",
   "execution_count": null,
   "id": "isolated-supplement",
   "metadata": {
    "lines_to_next_cell": 2
   },
   "outputs": [],
   "source": [
    "total = total + elapsed\n",
    "print (' Total time used:  %f s ' % (total))"
   ]
  }
 ],
 "metadata": {
  "jupytext": {
   "cell_metadata_filter": "-all",
   "encoding": "# -*- coding: utf-8 -*-",
   "executable": "/usr/bin/env python3",
   "formats": "py:light,ipynb",
   "main_language": "python"
  }
 },
 "nbformat": 4,
 "nbformat_minor": 5
}

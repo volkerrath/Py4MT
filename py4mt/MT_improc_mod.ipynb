{
 "cells": [
  {
   "cell_type": "code",
   "execution_count": null,
   "id": "absent-reality",
   "metadata": {},
   "outputs": [],
   "source": [
    "\"\"\"\n",
    "Reads ModEM model, does fancy improc things.\n",
    "\n",
    "@author: vr july 2020\n",
    "\n",
    "Created on Tue Jul  7 16:59:01 2020\n",
    "\n",
    "@author: vrath\n",
    "\n",
    "\"\"\""
   ]
  },
  {
   "cell_type": "markdown",
   "id": "compressed-african",
   "metadata": {},
   "source": [
    "Import required modules"
   ]
  },
  {
   "cell_type": "code",
   "execution_count": null,
   "id": "future-freeware",
   "metadata": {
    "lines_to_next_cell": 2
   },
   "outputs": [],
   "source": [
    "import os\n",
    "import sys\n",
    "from sys import exit as error\n",
    "# import struct\n",
    "import time"
   ]
  },
  {
   "cell_type": "code",
   "execution_count": null,
   "id": "lucky-money",
   "metadata": {},
   "outputs": [],
   "source": [
    "import numpy as np\n",
    "import math  as ma\n",
    "import netCDF4 as nc"
   ]
  },
  {
   "cell_type": "code",
   "execution_count": null,
   "id": "union-finish",
   "metadata": {},
   "outputs": [],
   "source": [
    "from sys import exit as error\n",
    "from modules.modem import *"
   ]
  },
  {
   "cell_type": "code",
   "execution_count": null,
   "id": "sharing-algeria",
   "metadata": {},
   "outputs": [],
   "source": [
    "#import readJac, writeJacNC, readDat, writeDatNC, sparsifyJac, readMod, rsvd\n",
    "rhoair = 1.e+17"
   ]
  },
  {
   "cell_type": "code",
   "execution_count": null,
   "id": "auburn-torture",
   "metadata": {},
   "outputs": [],
   "source": [
    "total = 0\n",
    "ModFile_in  = r'/home/vrath/work/MT/Annecy/ImageProc/In/ANN20_02_PT_NLCG_016'\n",
    "ModFile_out = r'/home/vrath/work/MT/Annecy/ImageProc/Out/ANN20_02_PT_NLCG_016_ImProc'"
   ]
  },
  {
   "cell_type": "code",
   "execution_count": null,
   "id": "stretch-morrison",
   "metadata": {},
   "outputs": [],
   "source": [
    "action = 'anidiff'"
   ]
  },
  {
   "cell_type": "code",
   "execution_count": null,
   "id": "veterinary-colonial",
   "metadata": {
    "lines_to_next_cell": 2
   },
   "outputs": [],
   "source": [
    "if   action == 'medfilt':\n",
    "    ksize = 3\n",
    "    bmode =  'nearest'   #'reflect'\n",
    "    maxit = 3\n",
    "elif action == 'anidiff':\n",
    "    maxit = 50\n",
    "    fopt  = 1"
   ]
  },
  {
   "cell_type": "code",
   "execution_count": null,
   "id": "allied-webster",
   "metadata": {},
   "outputs": [],
   "source": [
    "start = time.time()\n",
    "dx, dy, dz, rho, reference = readMod(ModFile_in+'.rho',out = True)\n",
    "writeMod(ModFile_out+'.rho', dx, dy, dz, rho,reference,out = True)\n",
    "elapsed = (time.time() - start)\n",
    "total = total + elapsed\n",
    "print (' Used %7.4f s for reading model from %s ' % (elapsed,ModFile_in+'.rho'))"
   ]
  },
  {
   "cell_type": "code",
   "execution_count": null,
   "id": "sustained-replica",
   "metadata": {},
   "outputs": [],
   "source": [
    "air = rho > rhoair/100.\n",
    "# prepare extended area of filter action (air)\n",
    "rho = prepare_mod(rho,rhoair=rhoair)"
   ]
  },
  {
   "cell_type": "code",
   "execution_count": null,
   "id": "intimate-airline",
   "metadata": {},
   "outputs": [],
   "source": [
    "start = time.time()\n",
    "if action == 'medfilt':\n",
    "    rhonew = medfilt3D(rho, kernel_size=ksize, boundary_mode=bmode,maxiter=maxit)\n",
    "    rhonew[air] = rhoair\n",
    "    Modout =ModFile_out+'_mediankernel'+str(kersiz)+'_'+str(maxit)+'.rho'\n",
    "    writeMod(Modout, dx, dy, dz, rhonew,reference,out = True)\n",
    "    elapsed = (time.time() - start)\n",
    "    print (' Used %7.4f s for processing/writing model to %s ' % (elapsed,Modout))"
   ]
  },
  {
   "cell_type": "code",
   "execution_count": null,
   "id": "acute-bishop",
   "metadata": {
    "lines_to_next_cell": 2
   },
   "outputs": [],
   "source": [
    "elif action == 'anidiff':\n",
    "    rhonew = anidiff3D(rho,ckappa=20, dgamma=0.24,foption=fopt, maxiter =maxit,Out=True,Plot=True)\n",
    "    rhonew[air] = rhoair\n",
    "    Modout =ModFile_out+'_anisodiff'+str(fopt)+'-'+str(maxit)+'.rho'\n",
    "    writeMod(Modout, dx, dy, dz, rhonew,reference,out = True)\n",
    "    elapsed = (time.time() - start)\n",
    "    print (' Used %7.4f s for processing/writing model to %s ' % (elapsed,Modout))"
   ]
  },
  {
   "cell_type": "code",
   "execution_count": null,
   "id": "scheduled-dayton",
   "metadata": {},
   "outputs": [],
   "source": [
    "total = total + elapsed\n",
    "print (' Total time used:  %f s ' % (total))"
   ]
  }
 ],
 "metadata": {
  "jupytext": {
   "cell_metadata_filter": "-all",
   "encoding": "# -*- coding: utf-8 -*-",
   "executable": "/usr/bin/env python3",
   "formats": "py:light,ipynb",
   "main_language": "python"
  }
 },
 "nbformat": 4,
 "nbformat_minor": 5
}

{
 "cells": [
  {
   "cell_type": "code",
   "execution_count": null,
   "id": "155ecea9",
   "metadata": {},
   "outputs": [],
   "source": [
    "\"\"\"\n",
    "Reads ModEM model, does fancy improc things.\n",
    "\n",
    "@author: vr july 2020\n",
    "\n",
    "@author: vrath  Feb 2021\n",
    "\n",
    "\"\"\""
   ]
  },
  {
   "cell_type": "markdown",
   "id": "86f2298e",
   "metadata": {},
   "source": [
    "Import required modules"
   ]
  },
  {
   "cell_type": "code",
   "execution_count": null,
   "id": "e74359af",
   "metadata": {},
   "outputs": [],
   "source": [
    "import os\n",
    "import sys\n",
    "from sys import exit as error\n",
    "import time\n",
    "from datetime import datetime\n",
    "import warnings"
   ]
  },
  {
   "cell_type": "code",
   "execution_count": null,
   "id": "cdc3c43e",
   "metadata": {
    "lines_to_next_cell": 2
   },
   "outputs": [],
   "source": [
    "import numpy as np\n",
    "import math as ma\n",
    "import netCDF4 as nc"
   ]
  },
  {
   "cell_type": "code",
   "execution_count": null,
   "id": "6d1492c1",
   "metadata": {},
   "outputs": [],
   "source": [
    "import vtk\n",
    "import pyvista as pv\n",
    "import PVGeo as pvg"
   ]
  },
  {
   "cell_type": "code",
   "execution_count": null,
   "id": "a30a074d",
   "metadata": {},
   "outputs": [],
   "source": [
    "mypath = [\"/home/vrath/Py4MT/py4mt/modules/\", \"/home/vrath/Py4MT/py4mt/scripts/\"]\n",
    "for pth in mypath:\n",
    "    if pth not in sys.path:\n",
    "        sys.path.insert(0, pth)"
   ]
  },
  {
   "cell_type": "code",
   "execution_count": null,
   "id": "3fa7f5e1",
   "metadata": {},
   "outputs": [],
   "source": [
    "import modem as mod\n",
    "from version import versionstrg"
   ]
  },
  {
   "cell_type": "code",
   "execution_count": null,
   "id": "6ef8cf64",
   "metadata": {
    "lines_to_next_cell": 2
   },
   "outputs": [],
   "source": [
    "Strng, _ = versionstrg()\n",
    "now = datetime.now()\n",
    "print(\"\\n\\n\"+Strng)\n",
    "print(\"Image processing on model\"+\"\\n\"+\"\".join(\"Date \" + now.strftime(\"%m/%d/%Y, %H:%M:%S\")))\n",
    "print(\"\\n\\n\")"
   ]
  },
  {
   "cell_type": "code",
   "execution_count": null,
   "id": "ee0b25a7",
   "metadata": {},
   "outputs": [],
   "source": [
    "warnings.simplefilter(action=\"ignore\", category=FutureWarning)"
   ]
  },
  {
   "cell_type": "code",
   "execution_count": null,
   "id": "1f727f69",
   "metadata": {},
   "outputs": [],
   "source": [
    "rhoair = 1.e17"
   ]
  },
  {
   "cell_type": "code",
   "execution_count": null,
   "id": "f53ef2f0",
   "metadata": {},
   "outputs": [],
   "source": [
    "total = 0\n",
    "ModFile_in = r\"/home/vrath/work/MT/Annecy/ImageProc/In/ANN20_02_PT_NLCG_016\"\n",
    "ModFile_out = r\"/home/vrath/work/MT/Annecy/ImageProc/Out/ANN20_02_PT_NLCG_016_ImProc\""
   ]
  },
  {
   "cell_type": "code",
   "execution_count": null,
   "id": "6dd28219",
   "metadata": {},
   "outputs": [],
   "source": [
    "action = \"anidiff\""
   ]
  },
  {
   "cell_type": "code",
   "execution_count": null,
   "id": "937da421",
   "metadata": {
    "lines_to_next_cell": 2
   },
   "outputs": [],
   "source": [
    "if action == \"medfilt\":\n",
    "    ksize = 3\n",
    "    bmode = \"nearest\"  # 'reflect'\n",
    "    maxit = 3\n",
    "elif action == \"anidiff\":\n",
    "    maxit = 50\n",
    "    fopt = 1"
   ]
  },
  {
   "cell_type": "code",
   "execution_count": null,
   "id": "40ef66c1",
   "metadata": {},
   "outputs": [],
   "source": [
    "start = time.time()\n",
    "dx, dy, dz, rho, reference = mod.readMod(ModFile_in + \".rho\", out=True)\n",
    "mod.writeMod(ModFile_out + \".rho\", dx, dy, dz, rho, reference, out=True)\n",
    "elapsed = time.time() - start\n",
    "total = total + elapsed\n",
    "print(\" Used %7.4f s for reading model from %s \"\n",
    "      % (elapsed, ModFile_in + \".rho\"))"
   ]
  },
  {
   "cell_type": "code",
   "execution_count": null,
   "id": "96cab6ef",
   "metadata": {},
   "outputs": [],
   "source": [
    "air = rho > rhoair / 100.\n",
    "# prepare extended area of filter action (air)\n",
    "rho = mod.prepare_mod(rho, rhoair=rhoair)"
   ]
  },
  {
   "cell_type": "code",
   "execution_count": null,
   "id": "f10f18ef",
   "metadata": {},
   "outputs": [],
   "source": [
    "start = time.time()\n",
    "if action == \"medfilt\":\n",
    "    rhonew = mod.medfilt3D(rho,\n",
    "                           kernel_size=ksize,\n",
    "                           boundary_mode=bmode, maxiter=maxit)\n",
    "    rhonew[air] = rhoair\n",
    "    Modout = ModFile_out+\"_mediankernel\"+str(ksize)+\"_\"+str(maxit)+\".rho\"\n",
    "    mod.writeMod(Modout, dx, dy, dz, rhonew, reference, out=True)\n",
    "    elapsed = time.time() - start\n",
    "    print(\n",
    "        \" Used %7.4f s for processing/writing model to %s \"\n",
    "        % (elapsed, Modout))"
   ]
  },
  {
   "cell_type": "code",
   "execution_count": null,
   "id": "b45ac607",
   "metadata": {
    "lines_to_next_cell": 2
   },
   "outputs": [],
   "source": [
    "elif action == \"anidiff\":\n",
    "    rhonew = mod.anidiff3D(\n",
    "        rho,\n",
    "        ckappa=20, dgamma=0.24, foption=fopt, maxiter=maxit,\n",
    "        Out=True, Plot=True)\n",
    "    rhonew[air] = rhoair\n",
    "    Modout = ModFile_out + \"_anisodiff\" + str(fopt) + \"-\" + str(maxit) + \".rho\"\n",
    "    mod.writeMod(Modout, dx, dy, dz, rhonew, reference, out=True)\n",
    "    elapsed = time.time() - start\n",
    "    print(\" Used %7.4f s for processing/writing model to %s \"\n",
    "          % (elapsed, Modout))"
   ]
  },
  {
   "cell_type": "code",
   "execution_count": null,
   "id": "8ac77c27",
   "metadata": {},
   "outputs": [],
   "source": [
    "total = total + elapsed\n",
    "print(\" Total time used:  %f s \" % (total))"
   ]
  }
 ],
 "metadata": {
  "jupytext": {
   "cell_metadata_filter": "-all",
   "encoding": "# -*- coding: utf-8 -*-",
   "executable": "/usr/bin/env python3",
   "formats": "py,ipynb",
   "main_language": "python"
  }
 },
 "nbformat": 4,
 "nbformat_minor": 5
}

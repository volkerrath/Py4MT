{
 "cells": [
  {
   "cell_type": "code",
   "execution_count": null,
   "id": "cf0d6f74",
   "metadata": {},
   "outputs": [],
   "source": [
    "\"\"\"\n",
    "Reads ModEM model, does fancy improc things.\n",
    "\n",
    "@author: vr july 2020\n",
    "\n",
    "@author: vrath  Feb 2021\n",
    "\n",
    "\"\"\""
   ]
  },
  {
   "cell_type": "markdown",
   "id": "86467a26",
   "metadata": {},
   "source": [
    "Import required modules"
   ]
  },
  {
   "cell_type": "code",
   "execution_count": null,
   "id": "2c6da661",
   "metadata": {},
   "outputs": [],
   "source": [
    "import os\n",
    "import sys\n",
    "from sys import exit as error\n",
    "import time\n",
    "from datetime import datetime\n",
    "import warnings"
   ]
  },
  {
   "cell_type": "code",
   "execution_count": null,
   "id": "687aec9f",
   "metadata": {
    "lines_to_next_cell": 2
   },
   "outputs": [],
   "source": [
    "import numpy as np\n",
    "import math as ma\n",
    "import netCDF4 as nc"
   ]
  },
  {
   "cell_type": "code",
   "execution_count": null,
   "id": "46dcfd56",
   "metadata": {},
   "outputs": [],
   "source": [
    "import vtk\n",
    "import pyvista as pv\n",
    "import PVGeo as pvg"
   ]
  },
  {
   "cell_type": "code",
   "execution_count": null,
   "id": "ef51f722",
   "metadata": {},
   "outputs": [],
   "source": [
    "mypath = [\"/home/vrath/Py4MT/py4mt/modules/\", \"/home/vrath/Py4MT/py4mt/scripts/\"]\n",
    "for pth in mypath:\n",
    "    if pth not in sys.path:\n",
    "        sys.path.insert(0, pth)"
   ]
  },
  {
   "cell_type": "code",
   "execution_count": null,
   "id": "0b697eb5",
   "metadata": {},
   "outputs": [],
   "source": [
    "import modem as mod\n",
    "from version import versionstrg"
   ]
  },
  {
   "cell_type": "code",
   "execution_count": null,
   "id": "c006d0f0",
   "metadata": {
    "lines_to_next_cell": 2
   },
   "outputs": [],
   "source": [
    "Strng, _ = versionstrg()\n",
    "now = datetime.now()\n",
    "print(\"\\n\\n\"+Strng)\n",
    "print(\"Image processing on model\"+\"\\n\"+\"\".join(\"Date \" + now.strftime(\"%m/%d/%Y, %H:%M:%S\")))\n",
    "print(\"\\n\\n\")"
   ]
  },
  {
   "cell_type": "code",
   "execution_count": null,
   "id": "4b23687b",
   "metadata": {},
   "outputs": [],
   "source": [
    "warnings.simplefilter(action=\"ignore\", category=FutureWarning)"
   ]
  },
  {
   "cell_type": "code",
   "execution_count": null,
   "id": "e24cc50c",
   "metadata": {},
   "outputs": [],
   "source": [
    "rhoair = 1.e17"
   ]
  },
  {
   "cell_type": "code",
   "execution_count": null,
   "id": "8104866d",
   "metadata": {},
   "outputs": [],
   "source": [
    "total = 0\n",
    "ModFile_in = r\"/home/vrath/work/MT/Annecy/ImageProc/In/ANN20_02_PT_NLCG_016\"\n",
    "ModFile_out = r\"/home/vrath/work/MT/Annecy/ImageProc/Out/ANN20_02_PT_NLCG_016_ImProc\""
   ]
  },
  {
   "cell_type": "code",
   "execution_count": null,
   "id": "352681bd",
   "metadata": {},
   "outputs": [],
   "source": [
    "action = \"anidiff\""
   ]
  },
  {
   "cell_type": "code",
   "execution_count": null,
   "id": "d9418389",
   "metadata": {
    "lines_to_next_cell": 2
   },
   "outputs": [],
   "source": [
    "if action == \"medfilt\":\n",
    "    ksize = 3\n",
    "    bmode = \"nearest\"  # 'reflect'\n",
    "    maxit = 3\n",
    "elif action == \"anidiff\":\n",
    "    maxit = 50\n",
    "    fopt = 1"
   ]
  },
  {
   "cell_type": "code",
   "execution_count": null,
   "id": "d1dfe689",
   "metadata": {},
   "outputs": [],
   "source": [
    "start = time.time()\n",
    "dx, dy, dz, rho, reference = mod.readMod(ModFile_in + \".rho\", out=True)\n",
    "mod.writeMod(ModFile_out + \".rho\", dx, dy, dz, rho, reference, out=True)\n",
    "elapsed = time.time() - start\n",
    "total = total + elapsed\n",
    "print(\" Used %7.4f s for reading model from %s \"\n",
    "      % (elapsed, ModFile_in + \".rho\"))"
   ]
  },
  {
   "cell_type": "code",
   "execution_count": null,
   "id": "5ebfa503",
   "metadata": {},
   "outputs": [],
   "source": [
    "air = rho > rhoair / 100.\n",
    "# prepare extended area of filter action (air)\n",
    "rho = mod.prepare_mod(rho, rhoair=rhoair)"
   ]
  },
  {
   "cell_type": "code",
   "execution_count": null,
   "id": "428bbe2f",
   "metadata": {},
   "outputs": [],
   "source": [
    "start = time.time()\n",
    "if action == \"medfilt\":\n",
    "    rhonew = mod.medfilt3D(rho,\n",
    "                           kernel_size=ksize,\n",
    "                           boundary_mode=bmode, maxiter=maxit)\n",
    "    rhonew[air] = rhoair\n",
    "    Modout = ModFile_out+\"_mediankernel\"+str(ksize)+\"_\"+str(maxit)+\".rho\"\n",
    "    mod.writeMod(Modout, dx, dy, dz, rhonew, reference, out=True)\n",
    "    elapsed = time.time() - start\n",
    "    print(\n",
    "        \" Used %7.4f s for processing/writing model to %s \"\n",
    "        % (elapsed, Modout))"
   ]
  },
  {
   "cell_type": "code",
   "execution_count": null,
   "id": "6be1db0c",
   "metadata": {
    "lines_to_next_cell": 2
   },
   "outputs": [],
   "source": [
    "elif action == \"anidiff\":\n",
    "    rhonew = mod.anidiff3D(\n",
    "        rho,\n",
    "        ckappa=20, dgamma=0.24, foption=fopt, maxiter=maxit,\n",
    "        Out=True, Plot=True)\n",
    "    rhonew[air] = rhoair\n",
    "    Modout = ModFile_out + \"_anisodiff\" + str(fopt) + \"-\" + str(maxit) + \".rho\"\n",
    "    mod.writeMod(Modout, dx, dy, dz, rhonew, reference, out=True)\n",
    "    elapsed = time.time() - start\n",
    "    print(\" Used %7.4f s for processing/writing model to %s \"\n",
    "          % (elapsed, Modout))"
   ]
  },
  {
   "cell_type": "code",
   "execution_count": null,
   "id": "2226e8e5",
   "metadata": {},
   "outputs": [],
   "source": [
    "total = total + elapsed\n",
    "print(\" Total time used:  %f s \" % (total))"
   ]
  }
 ],
 "metadata": {
  "jupytext": {
   "cell_metadata_filter": "-all",
   "encoding": "# -*- coding: utf-8 -*-",
   "executable": "/usr/bin/env python3",
   "formats": "py,ipynb",
   "main_language": "python"
  }
 },
 "nbformat": 4,
 "nbformat_minor": 5
}

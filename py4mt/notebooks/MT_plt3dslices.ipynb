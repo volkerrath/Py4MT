{
 "cells": [
  {
   "cell_type": "code",
   "execution_count": null,
   "id": "3d836cd1",
   "metadata": {},
   "outputs": [],
   "source": [
    "import os\n",
    "import sys\n",
    "import warnings\n",
    "import time"
   ]
  },
  {
   "cell_type": "code",
   "execution_count": null,
   "id": "601edadb",
   "metadata": {},
   "outputs": [],
   "source": [
    "from sys import exit as error\n",
    "from datetime import datetime"
   ]
  },
  {
   "cell_type": "code",
   "execution_count": null,
   "id": "803f7f62",
   "metadata": {
    "lines_to_next_cell": 2
   },
   "outputs": [],
   "source": [
    "import numpy as np\n",
    "import gdal\n",
    "import scipy as sc\n",
    "import vtk\n",
    "import pyvista as pv\n",
    "import pyvistaqt as pvqt\n",
    "import discretize\n",
    "import tarfile\n",
    "import pylab as pl\n",
    "from time import sleep"
   ]
  },
  {
   "cell_type": "code",
   "execution_count": null,
   "id": "a608764a",
   "metadata": {
    "lines_to_next_cell": 2
   },
   "outputs": [],
   "source": [
    "PY4MT_ROOT = os.environ[\"PY4MT_ROOT\"]\n",
    "mypath = [PY4MT_ROOT+\"/py4mt/modules/\", PY4MT_ROOT+\"/py4mt/scripts/\"]\n",
    "for pth in mypath:\n",
    "    if pth not in sys.path:\n",
    "        sys.path.insert(0,pth)"
   ]
  },
  {
   "cell_type": "code",
   "execution_count": null,
   "id": "6daffa01",
   "metadata": {},
   "outputs": [],
   "source": [
    "import modem as mod\n",
    "import util as utl\n",
    "from version import versionstrg"
   ]
  },
  {
   "cell_type": "code",
   "execution_count": null,
   "id": "06189e21",
   "metadata": {
    "lines_to_next_cell": 2
   },
   "outputs": [],
   "source": [
    "Strng, _ = versionstrg()\n",
    "now = datetime.now()\n",
    "print(\"\\n\\n\"+Strng)\n",
    "print(\"Image processing on model\"+\"\\n\"+\"\".join(\"Date \" + now.strftime(\"%m/%d/%Y, %H:%M:%S\")))\n",
    "print(\"\\n\\n\")"
   ]
  },
  {
   "cell_type": "code",
   "execution_count": null,
   "id": "33683b37",
   "metadata": {},
   "outputs": [],
   "source": [
    "warnings.simplefilter(action=\"ignore\", category=FutureWarning)"
   ]
  },
  {
   "cell_type": "code",
   "execution_count": null,
   "id": "2dfad985",
   "metadata": {},
   "outputs": [],
   "source": [
    "rhoair = 1.e17"
   ]
  },
  {
   "cell_type": "code",
   "execution_count": null,
   "id": "e3179874",
   "metadata": {},
   "outputs": [],
   "source": [
    "total = 0"
   ]
  },
  {
   "cell_type": "code",
   "execution_count": null,
   "id": "c37759fa",
   "metadata": {
    "lines_to_next_cell": 2
   },
   "outputs": [],
   "source": [
    "PFile = r\"/home/vrath/Py4MT/py4mt/data/ANN21_Jacobian/Ann21_T\"\n",
    "DFile = r\"/home/vrath/Py4MT/py4mt/data/ANN21_Jacobian/Ann21_T3.dat\"\n",
    "MFile = r\"/home/vrath/Py4MT/py4mt/data/ANN21_Jacobian/Ann21_Prior100_T_NLCG_033.rho\"\n",
    "SFile = r\"/home/vrath/Py4MT/py4mt/data/ANN21_Jacobian/Ann21_Prior100_T-Z3.sns\""
   ]
  },
  {
   "cell_type": "code",
   "execution_count": null,
   "id": "ec73742f",
   "metadata": {},
   "outputs": [],
   "source": [
    "start = time.time()\n",
    "dx, dy, dz, rho, reference = mod.read_model(MFile, trans=\"LOG10\")\n",
    "elapsed = time.time() - start\n",
    "total = total + elapsed\n",
    "print(\"Used %7.4f s for reading model from %s \" % (elapsed, MFile))\n",
    "print(\"ModEM reference is \"+str(reference))\n",
    "print(\"Min/max rho = \"+str(np.min(rho))+\"/\"+str(np.max(rho)))"
   ]
  },
  {
   "cell_type": "code",
   "execution_count": null,
   "id": "80e52202",
   "metadata": {},
   "outputs": [],
   "source": [
    "start = time.time()\n",
    "dx, dy, dz, sns, reference = mod.read_model(SFile, trans=\"LOG10\")\n",
    "elapsed = time.time() - start\n",
    "total = total + elapsed\n",
    "print(\"Used %7.4f s for reading model from %s \" % (elapsed, SFile))"
   ]
  },
  {
   "cell_type": "code",
   "execution_count": null,
   "id": "344653c9",
   "metadata": {
    "lines_to_next_cell": 2
   },
   "outputs": [],
   "source": [
    "start = time.time()\n",
    "Site, Comp, Data, Head = mod.read_data(DFile)\n",
    "elapsed = time.time() - start\n",
    "total = total + elapsed\n",
    "print(\"Used %7.4f s for reading data from %s \" % (elapsed, DFile))"
   ]
  },
  {
   "cell_type": "code",
   "execution_count": null,
   "id": "5b90e846",
   "metadata": {},
   "outputs": [],
   "source": [
    "Bounds = [-5.,5., -5.,5., -1. ,3.]\n",
    "Scale =1.e-3"
   ]
  },
  {
   "cell_type": "code",
   "execution_count": null,
   "id": "700da0ad",
   "metadata": {},
   "outputs": [],
   "source": [
    "x, y, z = mod.cells3d(dx, dy, dz, reference=reference)"
   ]
  },
  {
   "cell_type": "code",
   "execution_count": null,
   "id": "57614b60",
   "metadata": {},
   "outputs": [],
   "source": [
    "x, y, z, rho = mod.clip_model(x, y, z, rho, pad = [12, 12, 10])\n",
    "x, y, z  = Scale*x, Scale*y, -Scale*z\n",
    "xm, ym, zm = np.meshgrid(x, y, z)"
   ]
  },
  {
   "cell_type": "code",
   "execution_count": null,
   "id": "b6d22954",
   "metadata": {},
   "outputs": [],
   "source": [
    "rho[rho>15.] = np.nan"
   ]
  },
  {
   "cell_type": "code",
   "execution_count": null,
   "id": "978730f6",
   "metadata": {},
   "outputs": [],
   "source": [
    "pv.set_plot_theme(\"document\")"
   ]
  },
  {
   "cell_type": "code",
   "execution_count": null,
   "id": "aca638ff",
   "metadata": {
    "lines_to_next_cell": 2
   },
   "outputs": [],
   "source": [
    "cmap = pl.cm.get_cmap(\"viridis\",128)\n",
    "dargs = dict(cmap=cmap, clim=[1.4, 2.6])"
   ]
  },
  {
   "cell_type": "code",
   "execution_count": null,
   "id": "31202ffb",
   "metadata": {},
   "outputs": [],
   "source": [
    "mod = pv.RectilinearGrid(xm, ym, zm)\n",
    "mod.cell_arrays[\"resistivity\"] = rho.flatten('F')"
   ]
  },
  {
   "cell_type": "markdown",
   "id": "37b0cb02",
   "metadata": {},
   "source": [
    "contours = mod.contour(np.linspace(1.5, 2.5, 6))"
   ]
  },
  {
   "cell_type": "code",
   "execution_count": null,
   "id": "4ebb39a7",
   "metadata": {},
   "outputs": [],
   "source": [
    "p = pv.Plotter(window_size=[1024, 768])\n",
    "_ = p.add_mesh(mod.outline(), color=\"k\")\n",
    "# p.add_mesh(contours, opacity=0.25, clim=[1.4, 2.6])\n",
    "p.show_grid()\n",
    "slices = mod.slice_orthogonal(x=0, y=0, z=-1.)\n",
    "# _ = p.add_mesh(mod, scalars=\"resistivity\")\n",
    "_ = p.add_mesh(slices, scalars=\"resistivity\", **dargs)\n",
    "p.add_title(\"Annecy\")\n",
    "p.add_axes()\n",
    "p.show(screenshot='my_image.png',auto_close=True)\n",
    "p.close()"
   ]
  },
  {
   "cell_type": "markdown",
   "id": "ccc27f7b",
   "metadata": {},
   "source": [
    "slices = mod.slice_orthogonal()"
   ]
  },
  {
   "cell_type": "markdown",
   "id": "b3fd1712",
   "metadata": {},
   "source": [
    "slices.plot(cmap=cmap)"
   ]
  }
 ],
 "metadata": {
  "jupytext": {
   "cell_metadata_filter": "-all",
   "formats": "py,ipynb",
   "main_language": "python"
  }
 },
 "nbformat": 4,
 "nbformat_minor": 5
}

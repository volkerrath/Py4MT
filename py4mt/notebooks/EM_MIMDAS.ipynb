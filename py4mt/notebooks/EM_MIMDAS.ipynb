{
 "cells": [
  {
   "cell_type": "code",
   "execution_count": null,
   "id": "de5da5ae",
   "metadata": {},
   "outputs": [],
   "source": [
    "import os\n",
    "import sys\n",
    "import warnings"
   ]
  },
  {
   "cell_type": "code",
   "execution_count": null,
   "id": "a08524bf",
   "metadata": {},
   "outputs": [],
   "source": [
    "from sys import exit as error\n",
    "from datetime import datetime"
   ]
  },
  {
   "cell_type": "code",
   "execution_count": null,
   "id": "31f40146",
   "metadata": {
    "lines_to_next_cell": 2
   },
   "outputs": [],
   "source": [
    "import numpy as np"
   ]
  },
  {
   "cell_type": "code",
   "execution_count": null,
   "id": "8c2ab546",
   "metadata": {},
   "outputs": [],
   "source": [
    "import matplotlib as mpl\n",
    "import matplotlib.pyplot as plt\n",
    "# from cycler import cycler"
   ]
  },
  {
   "cell_type": "code",
   "execution_count": null,
   "id": "cd86fe3d",
   "metadata": {},
   "outputs": [],
   "source": []
  },
  {
   "cell_type": "code",
   "execution_count": null,
   "id": "890a702d",
   "metadata": {},
   "outputs": [],
   "source": [
    "mypath = [\"/home/vrath/Py4MT/py4mt/modules/\",\n",
    "          \"/home/vrath/Py4MT/py4mt/scripts/\"]\n",
    "for pth in mypath:\n",
    "    if pth not in sys.path:\n",
    "        sys.path.insert(0,pth)"
   ]
  },
  {
   "cell_type": "code",
   "execution_count": null,
   "id": "af0ab184",
   "metadata": {},
   "outputs": [],
   "source": [
    "import util as utl\n",
    "import mimdas as mim\n",
    "from version import versionstrg"
   ]
  },
  {
   "cell_type": "code",
   "execution_count": null,
   "id": "6131dd0b",
   "metadata": {},
   "outputs": [],
   "source": [
    "warnings.simplefilter(action=\"ignore\", category=FutureWarning)"
   ]
  },
  {
   "cell_type": "code",
   "execution_count": null,
   "id": "29ed21e7",
   "metadata": {},
   "outputs": [],
   "source": [
    "# rans = np.random.default_rng()\n",
    "RanState= None #110652\n",
    "RanGen =np.random.PCG64()\n",
    "rans = np.random.default_rng(RanGen)"
   ]
  },
  {
   "cell_type": "code",
   "execution_count": null,
   "id": "c0e85ffd",
   "metadata": {},
   "outputs": [],
   "source": [
    "Strng, _ = versionstrg()\n",
    "now = datetime.now()\n",
    "print(\"\\n\"+Strng)\n",
    "print(\"Read and transform MIMDAS CSEM data\"+\"\\n\"\n",
    "      +\"\".join(\"Date \" + now.strftime(\"%m/%d/%Y, %H:%M:%S\")))\n",
    "print(\"\\n\")"
   ]
  },
  {
   "cell_type": "code",
   "execution_count": null,
   "id": "068ef293",
   "metadata": {
    "lines_to_next_cell": 2
   },
   "outputs": [],
   "source": [
    "ident = str(rans.integers(1,10000)).zfill(5)\n",
    "DataDir =   r\"/home/vrath/Py4MT/py4mt/MIMDAS/\"\n",
    "DataFile = DataDir+r\"Block1.dat\"\n",
    "ModemDir = DataDir\n",
    "ModemFile = ModemDir+r\"Block1_ModEM_\"+ident+\".dat\"\n",
    "ModemName = \"B01\"\n",
    "ModemHead = (\"# MIMDAS data for Block1\"+\"\\n\"\n",
    "             +\"\".join(\"# Date \" + now.strftime(\"%m/%d/%Y, %H:%M:%S\"))+\"\\n\"\n",
    "             +\"Identifier: \"+ident+\"\\n\")\n",
    "PlotDir = DataDir+\"Plots/\"\n",
    "PlotFile = r\"Block1_ModEM_\"+ident\n",
    "PlotFormat = [\".pdf\", \".png\", \".svg\"]"
   ]
  },
  {
   "cell_type": "code",
   "execution_count": null,
   "id": "edc1a1fc",
   "metadata": {},
   "outputs": [],
   "source": [
    "print(' Plots written to: %s' % PlotDir)\n",
    "if not os.path.isdir(PlotDir):\n",
    "    print(' File: %s does not exist, but will be created' % PlotDir)\n",
    "    os.mkdir(PlotDir)"
   ]
  },
  {
   "cell_type": "code",
   "execution_count": null,
   "id": "7e46d402",
   "metadata": {},
   "outputs": [],
   "source": [
    "\"\"\"\n",
    "Parameters for generating random set of transmitters.\n",
    "\"\"\"\n",
    "NSample =9\n",
    "MinDist =(400., 100.)\n",
    "d_margin = 0.01\n",
    "RanMeth = \"con\""
   ]
  },
  {
   "cell_type": "code",
   "execution_count": null,
   "id": "69d13a7f",
   "metadata": {
    "lines_to_next_cell": 2
   },
   "outputs": [],
   "source": [
    "RanStatFile = DataDir+\"RanStat\"+ident+\".npz\"\n",
    "np.savez(RanStatFile, RanState=rans)"
   ]
  },
  {
   "cell_type": "code",
   "execution_count": null,
   "id": "5310754d",
   "metadata": {},
   "outputs": [],
   "source": [
    "\"\"\"\n",
    "Coefficents for error function. Error model including\n",
    "multiplicative and additive noise, following Brodie (2015).\n",
    "\"\"\"\n",
    "Err_mul, Err_add = 0.05, 0."
   ]
  },
  {
   "cell_type": "code",
   "execution_count": null,
   "id": "497250af",
   "metadata": {},
   "outputs": [],
   "source": [
    "FreqBase =np.array([range(1, 104, 2)])*25./256\n",
    "Freq_single = [FreqBase[0,0]]\n",
    "# Freq_dec2 = Freq[range(0, 52, 2)]\n",
    "# print(np.shape(Freq_dec2))\n",
    "# Freq_dec3 = Freq[range(0, 52, 3)]\n",
    "# print(np.shape(Freq_dec3))\n",
    "# Freq_dec4 = Freq[range(0, 52, 4)]\n",
    "# print(np.shape(Freq_dec4))\n",
    "# Freq_dec5 = Freq[range(0, 52, 5)]\n",
    "# print(np.shape(Freq_dec5))"
   ]
  },
  {
   "cell_type": "code",
   "execution_count": null,
   "id": "0c141eb2",
   "metadata": {
    "lines_to_next_cell": 2
   },
   "outputs": [],
   "source": [
    "Freq = Freq_single\n",
    "print(\"Frequencies (Hz):\")\n",
    "print(Freq)"
   ]
  },
  {
   "cell_type": "code",
   "execution_count": null,
   "id": "285c8284",
   "metadata": {},
   "outputs": [],
   "source": [
    "\"\"\"\n",
    "Set graphics parameter\n",
    "\"\"\"\n",
    "# print(plt.style.available)\n",
    "plt.style.use(\"seaborn-paper\")\n",
    "mpl.rcParams[\"figure.dpi\"] = 600\n",
    "mpl.rcParams[\"axes.linewidth\"] = 0.5\n",
    "Fontsize = 10\n",
    "Labelsize = Fontsize\n",
    "Linewidth= 2\n",
    "Markersize = 4\n",
    "# Grey = 0.7\n",
    "# Lcycle  = (cycler(\"linestyle\", [\"-\", \"--\", \":\", \"-.\"])\n",
    "#           * cycler(\"color\", [\"r\", \"g\", \"b\", \"y\"]))\n",
    "# Ccycle =  cycler(\"color\", [\"r\", \"g\", \"b\", \"y\"])\n",
    "cm = 1/2.54  # centimeters in inches"
   ]
  },
  {
   "cell_type": "code",
   "execution_count": null,
   "id": "84efaf27",
   "metadata": {},
   "outputs": [],
   "source": [
    "\"\"\"\n",
    "Get reference point UTM coordinates\n",
    "\"\"\"\n",
    "Lat = -34.173965\n",
    "Lon = 148.737549\n",
    "EPSG,_ = utl.get_utm_list(Lat, Lon)\n",
    "UTMx, UTMy = utl.proj_latlon_to_utm(Lat, Lon, utm_zone=EPSG)\n",
    "print (\"\\n\")\n",
    "print (\"Reference Point (WGS84):  \"+str(Lat)+\"   \"+str(Lon))\n",
    "print (\"Reference Point (UTM)  :  \"+str(np.around(UTMx,1))+\"   \"+str(np.around(UTMy,1)))\n",
    "print (\"\\n\")"
   ]
  },
  {
   "cell_type": "code",
   "execution_count": null,
   "id": "fdf89325",
   "metadata": {},
   "outputs": [],
   "source": [
    "\"\"\"\n",
    "Read data\n",
    "\"\"\"\n",
    "D, H = mim.read_csem_data(DataFile)\n",
    "nD = np.shape(D)"
   ]
  },
  {
   "cell_type": "code",
   "execution_count": null,
   "id": "5c5117c1",
   "metadata": {},
   "outputs": [],
   "source": [
    "D[:,0:4]=D[:,0:4]-UTMx\n",
    "D[:,4:8]=D[:,4:8]-UTMy"
   ]
  },
  {
   "cell_type": "code",
   "execution_count": null,
   "id": "f0bfb097",
   "metadata": {},
   "outputs": [],
   "source": [
    "RXx = 0.5*(D[:,2]+D[:,3])\n",
    "RXy = 0.5*(D[:,6]+D[:,7])\n",
    "RXz = 5.\n",
    "maxRXx = np.max(RXx)\n",
    "minRXx = np.min(RXx)\n",
    "maxRXy = np.max(RXy)\n",
    "minRXy = np.min(RXy)\n",
    "print(\"Rx area:   \"+str(np.around(minRXx,1))+\" - \"+str(np.around(maxRXx,1))\n",
    "      +\" / \"\n",
    "      +str(np.around(minRXy,1))+\" - \"+str(np.around(maxRXy,1)))"
   ]
  },
  {
   "cell_type": "code",
   "execution_count": null,
   "id": "d69eb6ad",
   "metadata": {},
   "outputs": [],
   "source": []
  },
  {
   "cell_type": "code",
   "execution_count": null,
   "id": "69b49547",
   "metadata": {},
   "outputs": [],
   "source": [
    "TXx = D[:,0]\n",
    "TXy = D[:,4]\n",
    "TXz = 5.\n",
    "maxTXx = np.max(TXx)\n",
    "minTXx = np.min(TXx)\n",
    "maxTXy = np.max(TXy)\n",
    "minTXy = np.min(TXy)"
   ]
  },
  {
   "cell_type": "code",
   "execution_count": null,
   "id": "08bc653f",
   "metadata": {},
   "outputs": [],
   "source": [
    "print(\"Tx area:   \"+str(np.around(minTXx,1))+\" - \"+str(np.around(maxTXx,1))\n",
    "      +\" / \"\n",
    "      +str(np.around(minTXy,1))+\" - \"+str(np.around(maxTXy,1)))"
   ]
  },
  {
   "cell_type": "code",
   "execution_count": null,
   "id": "fab2f8a1",
   "metadata": {},
   "outputs": [],
   "source": [
    "ReDat =D[:,15::2]\n",
    "ImDat =D[:,16::2]"
   ]
  },
  {
   "cell_type": "code",
   "execution_count": null,
   "id": "de14b875",
   "metadata": {
    "lines_to_next_cell": 2
   },
   "outputs": [],
   "source": [
    "\"\"\"\n",
    "generate transmitter subset\n",
    "\n",
    "\"\"\"\n",
    "if RanMeth[0].lower() == \"c\":\n",
    "    Ind_s, TXx_s, TXy_s = mim.get_randomTX_constr(TXx,TXy,\n",
    "                            Nsamples=NSample,\n",
    "                            Ranstate=rans,\n",
    "                            Mindist=MinDist)\n",
    "else:\n",
    "    Ind_s, TXx_s, TXy_s = mim.get_randomTX_simple(TXx, TXy,\n",
    "                            Nsamples=NSample,\n",
    "                            Ranstate=rans)"
   ]
  },
  {
   "cell_type": "code",
   "execution_count": null,
   "id": "3de8603b",
   "metadata": {},
   "outputs": [],
   "source": [
    "fig, ax = plt.subplots() #figsize = (16*cm, 16*cm))\n",
    "ax.scatter(RXx,RXy, s=(Markersize+2)**2, c =\"r\")\n",
    "ax.scatter(TXx,TXy, s=Markersize**2, c =\"b\")\n",
    "# ax.scatter(xtest, ytest, s=Markersize**2, c=\"g\", marker=\"+\")\n",
    "ax.scatter(TXx_s,TXy_s,s=(Markersize+4)**2, c=\"g\", marker=\"x\")\n",
    "ax.legend([\"RX\", \"TX\",\"TxR\"])\n",
    "ax.set_title(\"MIMDAS set \"+ident)\n",
    "ax.tick_params(labelsize=Labelsize-1)\n",
    "ax.set_ylabel(\"UTM$_y$\", fontsize=Fontsize)\n",
    "ax.set_xlabel(\"UTM$_x$\", fontsize=Fontsize)\n",
    "ax.grid(\"major\", \"both\", linestyle=\"-\", linewidth=0.5)\n",
    "ax.axis('equal')"
   ]
  },
  {
   "cell_type": "code",
   "execution_count": null,
   "id": "11f9c732",
   "metadata": {},
   "outputs": [],
   "source": [
    "for F in PlotFormat:\n",
    "        plt.savefig(PlotDir+PlotFile+F, dpi=400)"
   ]
  },
  {
   "cell_type": "code",
   "execution_count": null,
   "id": "a6aeb488",
   "metadata": {
    "lines_to_next_cell": 2
   },
   "outputs": [],
   "source": [
    "plt.show()\n",
    "plt.close(fig)"
   ]
  },
  {
   "cell_type": "code",
   "execution_count": null,
   "id": "1093dfe6",
   "metadata": {
    "lines_to_next_cell": 2
   },
   "outputs": [],
   "source": [
    "nFreq = np.shape(Freq)[0]\n",
    "nRX = np.shape(RXx)[0]\n",
    "nTX = np.shape(TXx_s)[0]"
   ]
  },
  {
   "cell_type": "code",
   "execution_count": null,
   "id": "9abae893",
   "metadata": {
    "lines_to_next_cell": 2
   },
   "outputs": [],
   "source": [
    "DataBlock = np.zeros((1,11))\n",
    "for ifr in np.arange(nFreq):\n",
    "    Per= 1./Freq[ifr]\n",
    "    print(\"Write  Freq = \"+str(Freq[ifr])+\"    Per = \"+str(Per))\n",
    "    for itx in np.arange(nTX):\n",
    "        indx = np.where((TXx==TXx_s[itx]) & (TXy==TXy_s[itx]))\n",
    "        nind = np.size(indx)\n",
    "        if nind>0:\n",
    "            Rxi = RXx[indx].reshape(nind,1)\n",
    "            Ryi = RXy[indx].reshape(nind,1)\n",
    "            Rzi = 5.*np.ones_like(Rxi)\n",
    "\n",
    "            Txi = TXx_s[itx]*np.ones_like(Rxi)\n",
    "            Tyi = TXy_s[itx]*np.ones_like(Rxi)\n",
    "            Tzi = 5.*np.ones_like(Rxi)\n",
    "\n",
    "            P = Per*np.ones_like(Rxi)\n",
    "            ReD = ReDat[indx, ifr].reshape(nind,1)\n",
    "            ImD = ImDat[indx, ifr].reshape(nind,1)\n",
    "            Amp = np.sqrt(ReD**2+ImD**2)\n",
    "            Err = mim.error_model(Amp, Err_mul, Err_add)\n",
    "            Nam0 = (ModemName\n",
    "            +\"F\"+str(ifr).zfill(2)\n",
    "            +\"T\"+str(itx).zfill(2))\n",
    "            Nam = []\n",
    "            for irx in np.arange(np.size(Rxi)):\n",
    "                Nam.append(Nam0+\"R\"+str(irx).zfill(2))\n",
    "            Nam = np.asarray(Nam,dtype=object).reshape(nind,1)\n",
    "\n",
    "            Datai=np.concatenate((P,Txi,Tyi,Tzi,Nam,Rxi,Ryi,Rzi,ReD,ImD,Err),\n",
    "                                 axis=1)\n",
    "\n",
    "            DataBlock = np.append(DataBlock,Datai,axis=0)"
   ]
  },
  {
   "cell_type": "code",
   "execution_count": null,
   "id": "724e2d98",
   "metadata": {},
   "outputs": [],
   "source": [
    "DataBlock = np.delete(DataBlock,0,axis = 0)\n",
    "mim.write_csem_data(DatFile=ModemFile,\n",
    "                    Dat=DataBlock,\n",
    "                    Head=ModemHead)"
   ]
  }
 ],
 "metadata": {
  "jupytext": {
   "cell_metadata_filter": "-all",
   "formats": "py,ipynb",
   "main_language": "python"
  }
 },
 "nbformat": 4,
 "nbformat_minor": 5
}

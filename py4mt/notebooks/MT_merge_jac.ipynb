{
 "cells": [
  {
   "cell_type": "code",
   "execution_count": null,
   "id": "67c95fa2",
   "metadata": {},
   "outputs": [],
   "source": [
    "\"\"\"\n",
    "Reads ModEM's Jacobian, does fancy things.\n",
    "\n",
    "@author: vrath   Feb 2021\n",
    "\n",
    "\"\"\""
   ]
  },
  {
   "cell_type": "markdown",
   "id": "a748d14b",
   "metadata": {},
   "source": [
    "Import required modules"
   ]
  },
  {
   "cell_type": "code",
   "execution_count": null,
   "id": "2dae27d8",
   "metadata": {},
   "outputs": [],
   "source": [
    "import os\n",
    "import sys"
   ]
  },
  {
   "cell_type": "code",
   "execution_count": null,
   "id": "cadb0022",
   "metadata": {
    "lines_to_next_cell": 2
   },
   "outputs": [],
   "source": [
    "# import struct\n",
    "import time\n",
    "from datetime import datetime\n",
    "import warnings\n",
    "from sys import exit as error"
   ]
  },
  {
   "cell_type": "code",
   "execution_count": null,
   "id": "86168867",
   "metadata": {
    "lines_to_next_cell": 2
   },
   "outputs": [],
   "source": [
    "import numpy as np\n",
    "import numpy.linalg as npl\n",
    "import scipy.linalg as spl\n",
    "import scipy.sparse as scp\n",
    "import netCDF4 as nc"
   ]
  },
  {
   "cell_type": "code",
   "execution_count": null,
   "id": "1c2953af",
   "metadata": {
    "lines_to_next_cell": 2
   },
   "outputs": [],
   "source": [
    "import vtk\n",
    "import pyvista as pv\n",
    "import PVGeo as pvg"
   ]
  },
  {
   "cell_type": "code",
   "execution_count": null,
   "id": "7b5ede0f",
   "metadata": {
    "lines_to_next_cell": 2
   },
   "outputs": [],
   "source": [
    "mypath = [\"/home/vrath/Py4MT/py4mt/modules/\", \"/home/vrath/Py4MT/py4mt/scripts/\"]\n",
    "for pth in mypath:\n",
    "    if pth not in sys.path:\n",
    "        sys.path.insert(0,pth)"
   ]
  },
  {
   "cell_type": "code",
   "execution_count": null,
   "id": "30121148",
   "metadata": {},
   "outputs": [],
   "source": [
    "import jacproc as jac\n",
    "import modem as mod\n",
    "from version import versionstrg"
   ]
  },
  {
   "cell_type": "code",
   "execution_count": null,
   "id": "b777641b",
   "metadata": {},
   "outputs": [],
   "source": [
    "Strng, _ = versionstrg()\n",
    "now = datetime.now()\n",
    "print(\"\\n\\n\"+Strng)\n",
    "print(\"Merge & Sparsify \"+\"\\n\"+\"\".join(\"Date \" + now.strftime(\"%m/%d/%Y, %H:%M:%S\")))\n",
    "print(\"\\n\\n\")"
   ]
  },
  {
   "cell_type": "code",
   "execution_count": null,
   "id": "83885576",
   "metadata": {},
   "outputs": [],
   "source": []
  },
  {
   "cell_type": "code",
   "execution_count": null,
   "id": "e4e6059a",
   "metadata": {},
   "outputs": [],
   "source": [
    "rng = np.random.default_rng()\n",
    "nan = np.nan"
   ]
  },
  {
   "cell_type": "code",
   "execution_count": null,
   "id": "82bc8097",
   "metadata": {
    "lines_to_next_cell": 2
   },
   "outputs": [],
   "source": [
    "normalize_err = True\n",
    "normalize_max = True\n",
    "sparse_first= True"
   ]
  },
  {
   "cell_type": "code",
   "execution_count": null,
   "id": "f3f8b562",
   "metadata": {},
   "outputs": [],
   "source": [
    "MFile = r\"/home/vrath/work/MT/Jacobians/Annecy2021/ANN25a_bestjac/Ann25_best_ZPT.rho\""
   ]
  },
  {
   "cell_type": "code",
   "execution_count": null,
   "id": "a5637299",
   "metadata": {
    "lines_to_next_cell": 2
   },
   "outputs": [],
   "source": [
    "JFile = [r\"/home/vrath/work/MT/Jacobians/Annecy2021/ANN25a_bestjac/Ann25_T.jac\",\n",
    "         r\"/home/vrath/work/MT/Jacobians/Annecy2021/ANN25a_bestjac/Ann25_P.jac\",]"
   ]
  },
  {
   "cell_type": "code",
   "execution_count": null,
   "id": "3b2c641e",
   "metadata": {},
   "outputs": [],
   "source": [
    "DFile = [r\"/home/vrath/work/MT/Jacobians/Annecy2021/ANN25a_bestjac/Ann25_best_T.dat\",\n",
    "         r\"/home/vrath/work/MT/Jacobians/Annecy2021/ANN25a_bestjac/Ann25_best_P.dat\",]"
   ]
  },
  {
   "cell_type": "code",
   "execution_count": null,
   "id": "741ee172",
   "metadata": {},
   "outputs": [],
   "source": [
    "SFile = [r\"/home/vrath/work/MT/Jacobians/Annecy2021/ANN25a_bestjac/Ann25_best_T.sns\",\n",
    "         r\"/home/vrath/work/MT/Jacobians/Annecy2021/ANN25a_bestjac/Ann25_best_P.sns\",]"
   ]
  },
  {
   "cell_type": "code",
   "execution_count": null,
   "id": "f2056222",
   "metadata": {},
   "outputs": [],
   "source": []
  },
  {
   "cell_type": "code",
   "execution_count": null,
   "id": "4d792783",
   "metadata": {
    "lines_to_next_cell": 2
   },
   "outputs": [],
   "source": [
    "total = 0.0"
   ]
  },
  {
   "cell_type": "code",
   "execution_count": null,
   "id": "a9a79010",
   "metadata": {
    "lines_to_next_cell": 2
   },
   "outputs": [],
   "source": [
    "start = time.time()\n",
    "dx, dy, dz, rho, reference = mod.read_model(MFile, trans=\"log10\")\n",
    "elapsed = time.time() - start\n",
    "total = total + elapsed\n",
    "print(\" Used %7.4f s for reading model from %s \" % (elapsed, DFile))"
   ]
  },
  {
   "cell_type": "code",
   "execution_count": null,
   "id": "7ebb06fd",
   "metadata": {},
   "outputs": [],
   "source": [
    "if np.size(DFile) != np.size(JFile):\n",
    "    error(\"Data file number not equal Jac file number! Exit.\")\n",
    "nF = np.size(DFile)"
   ]
  },
  {
   "cell_type": "code",
   "execution_count": null,
   "id": "34f69db7",
   "metadata": {
    "lines_to_next_cell": 2
   },
   "outputs": [],
   "source": [
    "for f in np.arange(nF):\n",
    "    start = time.time()\n",
    "    print(\"Reading Data from \"+JFile[f])\n",
    "    Data, Site, Freq, Comp, Head = mod.read_data_jac(DFile[f])\n",
    "    elapsed = time.time() - start\n",
    "    print(\" Used %7.4f s for reading Data from %s \" % (elapsed, JFile))\n",
    "    total = total + elapsed\n",
    "\n",
    "    start = time.time()\n",
    "    print(\"Reading Jacobian from \"+JFile[f])\n",
    "    Jac = mod.read_jac(JFile[f])\n",
    "    elapsed = time.time() - start\n",
    "    print(\" Used %7.4f s for reading Jacobian from %s \" % (elapsed, JFile))\n",
    "    total = total + elapsed"
   ]
  },
  {
   "cell_type": "markdown",
   "id": "0d53a7e5",
   "metadata": {},
   "source": [
    "start = time.time()\n",
    "Jac = mod.read_jac(JFile)\n",
    "elapsed = time.time() - start\n",
    "total = total + elapsed\n",
    "print(\" Used %7.4f s for reading Jacobian from %s \" % (elapsed, JFile))"
   ]
  },
  {
   "cell_type": "markdown",
   "id": "19555120",
   "metadata": {
    "lines_to_next_cell": 2
   },
   "source": [
    "# print(np.shape(Data))\n",
    "# print(np.shape(Jac))"
   ]
  },
  {
   "cell_type": "markdown",
   "id": "a6527c08",
   "metadata": {
    "lines_to_next_cell": 2
   },
   "source": [
    "if normalize_err:\n",
    "    start = time.time()\n",
    "    dsh = np.shape(Data)\n",
    "    err = np.reshape(Data[:, 7], (dsh[0], 1))\n",
    "    Jac = jac.normalize_jac(Jac, err)\n",
    "    elapsed = time.time() - start\n",
    "    total = total + elapsed\n",
    "    print(\" Used %7.4f s for normalizing Jacobian from %s \" % (elapsed, JFile))"
   ]
  },
  {
   "cell_type": "markdown",
   "id": "3baf0252",
   "metadata": {
    "lines_to_next_cell": 2
   },
   "source": [
    "start = time.time()\n",
    "name, ext = os.path.splitext(JFile)\n",
    "NCFile = name + \"_jac.nc\"\n",
    "mod.write_jac_ncd(NCFile, Jac, Data, Site, Comp)\n",
    "elapsed = time.time() - start\n",
    "total = total + elapsed\n",
    "print(\" Used %7.4f s for writing Jacobian to %s \" % (elapsed, NCFile))"
   ]
  },
  {
   "cell_type": "markdown",
   "id": "ba1af426",
   "metadata": {},
   "source": [
    "start = time.time()\n",
    "Js = jac.sparsify_jac(Jac,sparse_thresh=1.e-6)\n",
    "elapsed = time.time() - start\n",
    "total = total + elapsed\n",
    "print(\" Used %7.4f s for sparsifying Jacobian from %s \" % (elapsed, JFile))"
   ]
  },
  {
   "cell_type": "markdown",
   "id": "912bddae",
   "metadata": {},
   "source": [
    "mu = 0.0\n",
    "sigma = 0.5\n",
    "r = rho.flat\n",
    "nproj = 1000"
   ]
  },
  {
   "cell_type": "markdown",
   "id": "147b39e4",
   "metadata": {},
   "source": [
    "rank_results = []\n",
    "for rank in [100, 200, 300, 400, 500, 1000]:\n",
    "    start = time.time()\n",
    "    U, S, Vt = jac.rsvd(Jac.T, rank, n_oversamples=0, n_subspace_iters=0)\n",
    "    elapsed = time.time() - start\n",
    "    print(\n",
    "        \"Used %7.4f s for calculating k = %i SVD from %s \" % (elapsed, rank, JFile)\n",
    "    )"
   ]
  },
  {
   "cell_type": "markdown",
   "id": "98b4449b",
   "metadata": {},
   "source": [
    "    D = U@scp.diags(S[:])@Vt - Jac.T"
   ]
  },
  {
   "cell_type": "markdown",
   "id": "8626fca7",
   "metadata": {},
   "source": [
    "    x_op = np.random.normal(size=np.shape(D)[1])\n",
    "    n_op = npl.norm(D@x_op)/npl.norm(x_op)\n",
    "    j_op = npl.norm(Jac.T@x_op)/npl.norm(x_op)\n",
    "    print(\" Op-norm J_k = \"+str(n_op)+\", explains \"+str(100. - n_op*100./j_op)+\"% of J_full\")"
   ]
  },
  {
   "cell_type": "markdown",
   "id": "d257681b",
   "metadata": {},
   "source": [
    "    kk= [rank, n_op, j_op, 100. - n_op*100./j_op]"
   ]
  },
  {
   "cell_type": "markdown",
   "id": "61354a7e",
   "metadata": {},
   "source": [
    "    rank_results.append(kk)"
   ]
  },
  {
   "cell_type": "markdown",
   "id": "8d3e9a2a",
   "metadata": {},
   "source": [
    "Fileout = r\"Rank_Results.npz\"\n",
    "np.savez_compressed(Fileout,\n",
    "                    rank_results=rank_results\n",
    ")"
   ]
  },
  {
   "cell_type": "markdown",
   "id": "07268158",
   "metadata": {},
   "source": [
    "rank = 500\n",
    "thresh_results = []\n",
    "for thresh in [1.e-2, 1.e-4, 1.e-6, 1.e-8]:\n",
    "    start = time.time()"
   ]
  },
  {
   "cell_type": "markdown",
   "id": "640e9b22",
   "metadata": {},
   "source": [
    "    Js = jac.sparsify_jac(Jac,sparse_thresh=thresh)"
   ]
  },
  {
   "cell_type": "markdown",
   "id": "53c6c8b6",
   "metadata": {},
   "source": [
    "    U, S, Vt = jac.rsvd(Js.T, rank, n_oversamples=0, n_subspace_iters=0)\n",
    "    elapsed = time.time() - start\n",
    "    print(\n",
    "        \"Used %7.4f s for thresg = %g SVD from %s \" % (elapsed, thresh, JFile)\n",
    "    )"
   ]
  },
  {
   "cell_type": "markdown",
   "id": "7e991ad1",
   "metadata": {},
   "source": [
    "    D = U@scp.diags(S[:])@Vt - Js.T"
   ]
  },
  {
   "cell_type": "markdown",
   "id": "ffb8a799",
   "metadata": {},
   "source": [
    "    x_op = np.random.normal(size=np.shape(D)[1])\n",
    "    n_op = npl.norm(D@x_op)/npl.norm(x_op)\n",
    "    j_op = npl.norm(Js.T@x_op)/npl.norm(x_op)\n",
    "    print(\" Op-norm J_thresh = \"+str(n_op)+\", explains \"+str(100. - n_op*100./j_op)+\"% of J_full\")"
   ]
  },
  {
   "cell_type": "markdown",
   "id": "6664f8f6",
   "metadata": {},
   "source": [
    "    kk= [rank, n_op, j_op, 100. - n_op*100./j_op]"
   ]
  },
  {
   "cell_type": "markdown",
   "id": "caa362d3",
   "metadata": {},
   "source": [
    "    thresh_results.append(kk)"
   ]
  },
  {
   "cell_type": "markdown",
   "id": "5743db15",
   "metadata": {},
   "source": [
    "Fileout = r\"Sparse_Results.npz\"\n",
    "np.savez_compressed(Fileout,\n",
    "                    thresh_results=thresh_results\n",
    ")"
   ]
  },
  {
   "cell_type": "code",
   "execution_count": null,
   "id": "4476585a",
   "metadata": {},
   "outputs": [],
   "source": []
  },
  {
   "cell_type": "markdown",
   "id": "29125dec",
   "metadata": {},
   "source": [
    "# for rank in [50, 100, 200, 400, 1000]:\n",
    "#     start = time.time()\n",
    "#     U, S, Vt = jac.rsvd(Jac.T, rank, n_oversamples=0, n_subspace_iters=0)\n",
    "#     elapsed = time.time() - start\n",
    "#     print(\n",
    "#         \" Used %7.4f s for calculating k = %i  SVD from %s \" % (elapsed, rank, JFile)\n",
    "#     )\n",
    "#     # print(U.shape)\n",
    "#     # print(S.shape)\n",
    "#     # print(Vt.shape)\n",
    "#     s = time.time()\n",
    "#     m = r + np.random.normal(mu, sigma, size=np.shape(r))\n",
    "#     t = time.time() - s\n",
    "#     print(\" Used %7.4f s for generating m  \" % (t))"
   ]
  },
  {
   "cell_type": "markdown",
   "id": "edb94be2",
   "metadata": {},
   "source": [
    "#     s = time.time()\n",
    "#     for proj in range(nproj):\n",
    "#         p = jac.projectMod(m, U)"
   ]
  },
  {
   "cell_type": "markdown",
   "id": "591f77fa",
   "metadata": {},
   "source": [
    "#     t = time.time() - s\n",
    "#     print(\" Used %7.4f s for %i projections\" % (t, nproj))"
   ]
  },
  {
   "cell_type": "markdown",
   "id": "38f6e24a",
   "metadata": {},
   "source": [
    "# total = total + elapsed\n",
    "# print(\" Total time used:  %f s \" % (total))"
   ]
  }
 ],
 "metadata": {
  "jupytext": {
   "cell_metadata_filter": "-all",
   "encoding": "# -*- coding: utf-8 -*-",
   "executable": "/usr/bin/env python3",
   "formats": "py,ipynb",
   "main_language": "python"
  }
 },
 "nbformat": 4,
 "nbformat_minor": 5
}

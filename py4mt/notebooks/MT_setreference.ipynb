{
 "cells": [
  {
   "cell_type": "code",
   "execution_count": null,
   "id": "c56a7551",
   "metadata": {},
   "outputs": [],
   "source": [
    "import os\n",
    "import sys\n",
    "import warnings\n",
    "import time"
   ]
  },
  {
   "cell_type": "code",
   "execution_count": null,
   "id": "368fa66e",
   "metadata": {},
   "outputs": [],
   "source": [
    "from sys import exit as error\n",
    "from datetime import datetime"
   ]
  },
  {
   "cell_type": "code",
   "execution_count": null,
   "id": "d95dd08d",
   "metadata": {
    "lines_to_next_cell": 2
   },
   "outputs": [],
   "source": [
    "import numpy as np\n",
    "# import gdal\n",
    "# import scipy as sc\n",
    "# import vtk\n",
    "# import pyvista as pv\n",
    "# import pyvistaqt as pvqt\n",
    "# import discretize\n",
    "# import tarfile\n",
    "# import pylab as pl\n",
    "# from time import sleep"
   ]
  },
  {
   "cell_type": "code",
   "execution_count": null,
   "id": "7f3a5ade",
   "metadata": {},
   "outputs": [],
   "source": [
    "PY4MT_ROOT = os.environ[\"PY4MT_ROOT\"]\n",
    "mypath = [PY4MT_ROOT+\"/py4mt/modules/\", PY4MT_ROOT+\"/py4mt/scripts/\"]\n",
    "for pth in mypath:\n",
    "    if pth not in sys.path:\n",
    "        sys.path.insert(0,pth)"
   ]
  },
  {
   "cell_type": "code",
   "execution_count": null,
   "id": "fda1abb6",
   "metadata": {},
   "outputs": [],
   "source": []
  },
  {
   "cell_type": "code",
   "execution_count": null,
   "id": "20177998",
   "metadata": {},
   "outputs": [],
   "source": [
    "import modem as mod\n",
    "import util as utl\n",
    "from version import versionstrg"
   ]
  },
  {
   "cell_type": "code",
   "execution_count": null,
   "id": "43b50a78",
   "metadata": {
    "lines_to_next_cell": 2
   },
   "outputs": [],
   "source": [
    "Strng, _ = versionstrg()\n",
    "now = datetime.now()\n",
    "print(\"\\n\\n\"+Strng)\n",
    "print(\"Set new reference\"+\"\\n\"+\"\".join(\"Date \" + now.strftime(\"%m/%d/%Y, %H:%M:%S\")))\n",
    "print(\"\\n\\n\")"
   ]
  },
  {
   "cell_type": "code",
   "execution_count": null,
   "id": "fe7e8e60",
   "metadata": {},
   "outputs": [],
   "source": [
    "warnings.simplefilter(action=\"ignore\", category=FutureWarning)"
   ]
  },
  {
   "cell_type": "code",
   "execution_count": null,
   "id": "7edd426a",
   "metadata": {},
   "outputs": [],
   "source": [
    "rhoair = 1.e17"
   ]
  },
  {
   "cell_type": "code",
   "execution_count": null,
   "id": "96826959",
   "metadata": {},
   "outputs": [],
   "source": [
    "total = 0"
   ]
  },
  {
   "cell_type": "code",
   "execution_count": null,
   "id": "aebcb1c7",
   "metadata": {},
   "outputs": [],
   "source": [
    "OFile = r\"/home/vrath/work/MT/Fogo/final_inversions/ZZT_100s/fogo_modem_data_zzt_3pc_003_100s_edited\"\n",
    "PFile = r\"/home/vrath/work/MT/Fogo/final_inversions/ZZT_100s/run7_NLCG_035\"\n",
    "MFile = r\"/home/vrath/work/MT/Fogo/final_inversions/ZZT_100s/run7_NLCG_035\"\n",
    "# PFile = r\"/home/vrath/work/MT/Fogo/final_inversions/PTT_100s/run3_NLCG_039\"\n",
    "# OFile = r\"/home/vrath/work/MT/Fogo/final_inversions/PTT_100s/fogo_modem_phaset_tip_100s_data\"\n",
    "# MFile = r\"/home/vrath/work/MT/Fogo/final_inversions/PTT_100s/run3_NLCG_039\"\n",
    "\"\"\"\n",
    "\n",
    "\"\"\"\n",
    "EPSG = 5015\n",
    "ReferenceType = \"Site\""
   ]
  },
  {
   "cell_type": "code",
   "execution_count": null,
   "id": "cc033e86",
   "metadata": {},
   "outputs": [],
   "source": [
    "if ReferenceType.lower()[0:3] == \"sit\":\n",
    "\n",
    "    SiteReference = \"FOG933A\"\n",
    "    # values from edi file\n",
    "    longitude = -25.46609\n",
    "    latitude  =  37.76242\n",
    "    elevation = 566.\n",
    "\n",
    "\n",
    "    NewReferenceMod = [409426.000, 412426.000, 350.0+elevation]\n",
    "    NewReferenceGeo = [37.76242, -25.46609, 350.0+elevation]\n",
    "\n",
    "    utm_x, utm_y = utl.proj_latlon_to_utm(longitude, latitude, utm_zone=EPSG)\n",
    "\n",
    "    addstr = \"_Refsite_\"+SiteReference+\".dat\""
   ]
  },
  {
   "cell_type": "code",
   "execution_count": null,
   "id": "baa13f63",
   "metadata": {
    "lines_to_next_cell": 2
   },
   "outputs": [],
   "source": [
    "elif ReferenceType.lower()[0:3] == \"cen\":\n",
    "    error(\"Center reference not yet implemented! Exit.\")\n",
    "    addstr =\"_RefCenter.dat\""
   ]
  },
  {
   "cell_type": "code",
   "execution_count": null,
   "id": "940f4f34",
   "metadata": {
    "lines_to_next_cell": 2
   },
   "outputs": [],
   "source": [
    "else:\n",
    "    error(\"Reference type \"+ReferenceType+\" does not exist! Exit\")"
   ]
  },
  {
   "cell_type": "code",
   "execution_count": null,
   "id": "ebe799d4",
   "metadata": {},
   "outputs": [],
   "source": [
    "start = time.time()\n",
    "dx, dy, dz, rho, refer = mod.read_model(MFile+\".rho\")"
   ]
  },
  {
   "cell_type": "code",
   "execution_count": null,
   "id": "9c3bf5bf",
   "metadata": {},
   "outputs": [],
   "source": [
    "print(\"ModEM reference is \"+str(refer))\n",
    "print(\"Min/max rho = \"+str(np.min(rho))+\"/\"+str(np.max(rho)))\n",
    "print('New reference will be set.')"
   ]
  },
  {
   "cell_type": "code",
   "execution_count": null,
   "id": "8ed4afac",
   "metadata": {},
   "outputs": [],
   "source": [
    "refer = [-NewReferenceMod[0],-NewReferenceMod[1], NewReferenceMod[2]]\n",
    "mod.write_model(ModFile=MFile+addstr,\n",
    "                dx=dx, dy=dy, dz=dz, rho=rho, reference=refer,\n",
    "                out=True)\n",
    "elapsed = time.time() - start\n",
    "print(\"Used %7.4f s for processing model from %s \" % (elapsed, MFile))"
   ]
  },
  {
   "cell_type": "code",
   "execution_count": null,
   "id": "98172742",
   "metadata": {},
   "outputs": [],
   "source": [
    "start = time.time()\n",
    "for FF in [OFile, PFile]:\n",
    "\n",
    "    Site, Comp, Data, Head = mod.read_data(FF+\".dat\")\n",
    "\n",
    "    Data[:,1] = NewReferenceGeo[0]\n",
    "    Data[:,2] = NewReferenceGeo[1]\n",
    "    Data[:,5] = Data[:,5]-NewReferenceGeo[2]\n",
    "\n",
    "    Data[:,3] = Data[:,3] - NewReferenceMod[0]\n",
    "    Data[:,4] = Data[:,4] - NewReferenceMod[1]\n",
    "\n",
    "    print(\"New reference will be set in %s\" % (FF))\n",
    "    hlin = 0\n",
    "    nhead = len(Head)\n",
    "    nblck = int(nhead/8)\n",
    "    print(str(nblck)+\" blocks will be written.\")\n",
    "\n",
    "\n",
    "    for ib in np.arange(nblck):\n",
    "        blockheader = Head[hlin:hlin+8]\n",
    "        print(\"Original: %s\" % blockheader[6].replace(\"\\n\",\"\"))\n",
    "        blockheader[6] = \"> \"+str(NewReferenceGeo[0])+\"  \"+str(NewReferenceGeo[1])+\"\\n\"\n",
    "        print(\"New     : %s\" % blockheader[6].replace(\"\\n\",\"\"))\n",
    "        Head[hlin:hlin+8] = blockheader\n",
    "        hlin = hlin+8\n",
    "\n",
    "    mod.write_data(DatFile=FF+addstr,\n",
    "               Dat=Data, Site=Site, Comp=Comp, Head=Head, out=True)"
   ]
  },
  {
   "cell_type": "code",
   "execution_count": null,
   "id": "5a57501b",
   "metadata": {},
   "outputs": [],
   "source": [
    "elapsed = time.time() - start\n",
    "print(\"Used %7.4f s for processing data files\" % (elapsed))"
   ]
  }
 ],
 "metadata": {
  "jupytext": {
   "cell_metadata_filter": "-all",
   "formats": "py,ipynb",
   "main_language": "python"
  }
 },
 "nbformat": 4,
 "nbformat_minor": 5
}

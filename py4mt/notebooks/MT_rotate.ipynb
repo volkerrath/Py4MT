{
 "cells": [
  {
   "cell_type": "code",
   "execution_count": null,
   "id": "0a4e3f3f",
   "metadata": {},
   "outputs": [],
   "source": [
    "\"\"\"\n",
    "Rotate imedance tensor (Z) and tipper (T)\n",
    "by potentially different angles into NS/EW coordinate system\n",
    "\n",
    "@author: sb & vr Jan 2020\n",
    "\n",
    "\"\"\""
   ]
  },
  {
   "cell_type": "markdown",
   "id": "78d0dc71",
   "metadata": {},
   "source": [
    "Import required modules"
   ]
  },
  {
   "cell_type": "code",
   "execution_count": null,
   "id": "23f4f9c3",
   "metadata": {},
   "outputs": [],
   "source": [
    "import os\n",
    "from mtpy.core.mt import MT\n",
    "import numpy as np"
   ]
  },
  {
   "cell_type": "code",
   "execution_count": null,
   "id": "294efc1e",
   "metadata": {},
   "outputs": [],
   "source": [
    "PY4MT_ROOT = os.environ[\"PY4MT_ROOT\"]\n",
    "mypath = [PY4MT_ROOT+\"/py4mt/modules/\", PY4MT_ROOT+\"/py4mt/scripts/\"]\n",
    "for pth in mypath:\n",
    "    if pth not in sys.path:\n",
    "        sys.path.insert(0,pth)"
   ]
  },
  {
   "cell_type": "code",
   "execution_count": null,
   "id": "63d6dfdf",
   "metadata": {},
   "outputs": [],
   "source": []
  },
  {
   "cell_type": "markdown",
   "id": "b791cda9",
   "metadata": {},
   "source": [
    "Define the path to your EDI-files:"
   ]
  },
  {
   "cell_type": "code",
   "execution_count": null,
   "id": "cbc409a4",
   "metadata": {},
   "outputs": [],
   "source": [
    "# edi_in_dir = 'edifiles_bbmt_roi_corrected/'\n",
    "edi_in_dir = 'test/'\n",
    "print(' Edifiles read from: %s' % edi_in_dir)"
   ]
  },
  {
   "cell_type": "markdown",
   "id": "d09e2597",
   "metadata": {},
   "source": [
    "Define the path anf appended string for saved EDI-files:"
   ]
  },
  {
   "cell_type": "code",
   "execution_count": null,
   "id": "3caff4f3",
   "metadata": {},
   "outputs": [],
   "source": [
    "# edi_out_dir= 'edifiles_bbmt_roigeo0/'\n",
    "edi_out_dir = edi_in_dir\n",
    "print(' Edifiles written to: %s' % edi_out_dir)\n",
    "if not os.path.isdir(edi_out_dir):\n",
    "    print(' File: %s does not exist, but will be created' % edi_out_dir)\n",
    "    os.mkdir(edi_out_dir)"
   ]
  },
  {
   "cell_type": "code",
   "execution_count": null,
   "id": "6955fd6d",
   "metadata": {},
   "outputs": [],
   "source": [
    "out_string = '_geo0'"
   ]
  },
  {
   "cell_type": "markdown",
   "id": "75fc7321",
   "metadata": {},
   "source": [
    "This example brings both angles to the normal (measurement) coordinate\n",
    "system, i. e., afterwards the ZROT and TROT fields in tehe EDI-files are\n",
    "both zero. Here Z_angle and T_angle are the rotation angles from the\n",
    "input EDI-file. _rot=('-1.*Z_angle') and T_rot=('-1.*T_angle'), where\n",
    "Z_angle has been obtained from the corresponding mt_obj as\n",
    "Z_angle=mt_obj.Z.rotation_angle."
   ]
  },
  {
   "cell_type": "markdown",
   "id": "017ccb81",
   "metadata": {
    "lines_to_next_cell": 2
   },
   "source": [
    "Z_rot=('-1.*Z_angle')\n",
    "T_rot=('-1.*T_angle')"
   ]
  },
  {
   "cell_type": "markdown",
   "id": "df0d7975",
   "metadata": {},
   "source": [
    "Rotate to geographic N:"
   ]
  },
  {
   "cell_type": "code",
   "execution_count": null,
   "id": "77d55407",
   "metadata": {},
   "outputs": [],
   "source": [
    "Z_rot = ('-10.2*np.ones(np.shape(Z_angle))')\n",
    "T_rot = ('-10.2*np.ones(np.shape(T_angle))')"
   ]
  },
  {
   "cell_type": "markdown",
   "id": "f7c631e1",
   "metadata": {},
   "source": [
    "Both:"
   ]
  },
  {
   "cell_type": "markdown",
   "id": "3da19cfc",
   "metadata": {
    "lines_to_next_cell": 2
   },
   "source": [
    "Z_rot=('-1.*Z_angle-10.2*np.ones(np.shape(Z_angle))')\n",
    "T_rot=('-1.*T_angle-10.2*np.ones(np.shape(T_angle))')"
   ]
  },
  {
   "cell_type": "markdown",
   "id": "514a79e8",
   "metadata": {
    "lines_to_next_cell": 2
   },
   "source": [
    "As the actual call is done using the 'eval' function, this script can\n",
    "also be used to do rotations of different kind, e.g. when using a rotated\n",
    "coordinate system for modelling. In this case to rotate from the zero system\n",
    "to a sytem rotated 40 degrees clockwise, the string would look like\n",
    "'40.*np.ones(shape(Z_angle))'  or simpler '40.' for Z and T. When correcting\n",
    "for declination, i.e., from geomagnetic to geographic north, it should be\n",
    "the negative value of the # declination obtained for the time of acquisition\n",
    "and geographic position at\n",
    "https://www.ngdc.noaa.gov/geomag/calculators/magcalc.shtml)."
   ]
  },
  {
   "cell_type": "markdown",
   "id": "7c2860cd",
   "metadata": {},
   "source": [
    "No changes required after this line!"
   ]
  },
  {
   "cell_type": "markdown",
   "id": "3a6db85b",
   "metadata": {
    "lines_to_next_cell": 2
   },
   "source": [
    "Construct list of EDI-files:"
   ]
  },
  {
   "cell_type": "code",
   "execution_count": null,
   "id": "80816029",
   "metadata": {},
   "outputs": [],
   "source": [
    "edi_files = []\n",
    "# input EDI-file. As the actual call is dine using the 'eval' function,\n",
    "files = os.listdir(edi_in_dir)\n",
    "for entry in files:\n",
    "    # print(entry)\n",
    "    if entry.endswith('.edi') and not entry.startswith('.'):\n",
    "        edi_files.append(entry)\n",
    "ns = np.size(edi_files)"
   ]
  },
  {
   "cell_type": "markdown",
   "id": "d6cf94e0",
   "metadata": {},
   "source": [
    "Enter loop:"
   ]
  },
  {
   "cell_type": "code",
   "execution_count": null,
   "id": "c7e0fa3b",
   "metadata": {},
   "outputs": [],
   "source": [
    "for filename in edi_files:\n",
    "    print('\\n Reading data from ' + edi_in_dir + filename)\n",
    "    name, ext = os.path.splitext(filename)"
   ]
  },
  {
   "cell_type": "markdown",
   "id": "b73fa243",
   "metadata": {},
   "source": [
    "Create an MT object"
   ]
  },
  {
   "cell_type": "code",
   "execution_count": null,
   "id": "93156ee4",
   "metadata": {
    "lines_to_next_cell": 2
   },
   "outputs": [],
   "source": [
    "    file_in = edi_in_dir + filename\n",
    "    mt_obj = MT(file_in)\n",
    "    print(' site %s at :  % 10.6f % 10.6f' % (name, mt_obj.lat, mt_obj.lon))\n",
    "\n",
    "    Z_angle = mt_obj.Z.rotation_angle\n",
    "    T_angle = mt_obj.Tipper.rotation_angle\n",
    "\n",
    "    Z_rot_angle = eval(Z_rot)\n",
    "    T_rot_angle = eval(T_rot)\n",
    "\n",
    "    mt_obj.Z.rotate(Z_rot_angle)\n",
    "    mt_obj.Tipper.rotate(T_rot_angle)"
   ]
  },
  {
   "cell_type": "markdown",
   "id": "a927d43c",
   "metadata": {},
   "source": [
    "Write a new edi file:"
   ]
  },
  {
   "cell_type": "code",
   "execution_count": null,
   "id": "312ab898",
   "metadata": {},
   "outputs": [],
   "source": [
    "    file_out = name + out_string + ext\n",
    "    print('Writing data to ' + edi_out_dir + file_out)\n",
    "    mt_obj.write_mt_file(\n",
    "        save_dir=edi_out_dir,\n",
    "        fn_basename=file_out,\n",
    "        file_type='edi',\n",
    "        new_Z_obj=mt_obj.Z,\n",
    "        new_Tipper_obj=mt_obj.Tipper,\n",
    "        longitude_format='LONG',\n",
    "        latlon_format='dd'\n",
    "    )"
   ]
  }
 ],
 "metadata": {
  "jupytext": {
   "cell_metadata_filter": "-all",
   "encoding": "# -*- coding: utf-8 -*-",
   "formats": "py,ipynb"
  },
  "kernelspec": {
   "display_name": "Python 3",
   "language": "python",
   "name": "python3"
  }
 },
 "nbformat": 4,
 "nbformat_minor": 5
}

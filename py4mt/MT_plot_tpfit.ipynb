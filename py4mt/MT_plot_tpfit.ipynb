{
 "cells": [
  {
   "cell_type": "code",
   "execution_count": null,
   "id": "1e5e6249",
   "metadata": {},
   "outputs": [],
   "source": [
    "import os\n",
    "import sys\n",
    "import warnings\n",
    "import time"
   ]
  },
  {
   "cell_type": "code",
   "execution_count": null,
   "id": "71a5c2bd",
   "metadata": {},
   "outputs": [],
   "source": [
    "from sys import exit as error\n",
    "from datetime import datetime"
   ]
  },
  {
   "cell_type": "code",
   "execution_count": null,
   "id": "26d45d82",
   "metadata": {},
   "outputs": [],
   "source": [
    "import numpy as np\n",
    "import matplotlib as mpl\n",
    "import matplotlib.pyplot as plt\n",
    "from cycler import cycler\n",
    "import pyproj as proj"
   ]
  },
  {
   "cell_type": "code",
   "execution_count": null,
   "id": "ed2ab9a8",
   "metadata": {},
   "outputs": [],
   "source": [
    "mypath = [\"/home/vrath/Py4MT/py4mt/modules/\",\n",
    "          \"/home/vrath/Py4MT/py4mt/scripts/\"]\n",
    "for pth in mypath:\n",
    "    if pth not in sys.path:\n",
    "        sys.path.insert(0,pth)"
   ]
  },
  {
   "cell_type": "code",
   "execution_count": null,
   "id": "abc24623",
   "metadata": {},
   "outputs": [],
   "source": [
    "import mtplots as mtp"
   ]
  },
  {
   "cell_type": "markdown",
   "id": "2406930f",
   "metadata": {},
   "source": [
    "import gdal\n",
    "import scipy as sc\n",
    "import vtk\n",
    "import pyvista as pv\n",
    "import pyvistaqt as pvqt\n",
    "import discretize\n",
    "import tarfile\n",
    "import pylab as pl\n",
    "from time import sleep"
   ]
  },
  {
   "cell_type": "code",
   "execution_count": null,
   "id": "594665ab",
   "metadata": {},
   "outputs": [],
   "source": [
    "import mtplots as mtp\n",
    "import modem as mod\n",
    "import util as utl\n",
    "from version import versionstrg"
   ]
  },
  {
   "cell_type": "code",
   "execution_count": null,
   "id": "03b7583a",
   "metadata": {
    "lines_to_next_cell": 2
   },
   "outputs": [],
   "source": [
    "Strng, _ = versionstrg()\n",
    "now = datetime.now()\n",
    "print(\"\\n\\n\"+Strng)\n",
    "print(\"Plot Magnetic tranfer function fit\"+\"\\n\"+\"\".join(\"Date \" + now.strftime(\"%m/%d/%Y, %H:%M:%S\")))\n",
    "print(\"\\n\\n\")"
   ]
  },
  {
   "cell_type": "code",
   "execution_count": null,
   "id": "d7e239c8",
   "metadata": {},
   "outputs": [],
   "source": [
    "warnings.simplefilter(action=\"ignore\", category=FutureWarning)"
   ]
  },
  {
   "cell_type": "code",
   "execution_count": null,
   "id": "1f610e14",
   "metadata": {},
   "outputs": [],
   "source": []
  },
  {
   "cell_type": "code",
   "execution_count": null,
   "id": "21aaa86e",
   "metadata": {},
   "outputs": [],
   "source": [
    "PredFile = r\"/home/vrath/work/MT/Fogo/final_inversions/PTT_100s/run3_NLCG_039_Refsite_FOG933A\"\n",
    "ObsvFile = r\"/home/vrath/work/MT/Fogo/final_inversions/PTT_100s/fogo_modem_phaset_tip_100s_data_Refsite_FOG933A\""
   ]
  },
  {
   "cell_type": "code",
   "execution_count": null,
   "id": "6f938e10",
   "metadata": {},
   "outputs": [],
   "source": [
    "PerLimits = (0.001, 100.)\n",
    "TpLimits = (-1., 1.)"
   ]
  },
  {
   "cell_type": "code",
   "execution_count": null,
   "id": "202128f9",
   "metadata": {},
   "outputs": [],
   "source": [
    "PlotFormat = [\".pdf\", \".png\"]\n",
    "PlotFile = PredFile+\"_T_\""
   ]
  },
  {
   "cell_type": "code",
   "execution_count": null,
   "id": "5432ad70",
   "metadata": {},
   "outputs": [],
   "source": [
    "\"\"\"\n",
    "\n",
    "required virtual size\n",
    "\"\"\"\n",
    "EPSG = 5015"
   ]
  },
  {
   "cell_type": "code",
   "execution_count": null,
   "id": "4624ab65",
   "metadata": {},
   "outputs": [],
   "source": [
    "start = time.time()"
   ]
  },
  {
   "cell_type": "code",
   "execution_count": null,
   "id": "537308fd",
   "metadata": {},
   "outputs": [],
   "source": [
    "FF = ObsvFile\n",
    "SiteObs, CompObs, DataObs, HeadObs = mod.read_data(FF+\".dat\")\n",
    "obs_rdat = DataObs[:, 6]\n",
    "obs_idat = DataObs[:, 7]\n",
    "obs_err = DataObs[:, 8]\n",
    "obs_per = DataObs[:, 0]\n",
    "obs_cmp = CompObs\n",
    "obs_sit = SiteObs\n",
    "lat = DataObs[:,1]\n",
    "lon = DataObs[:,2]\n",
    "x = DataObs[:,3]\n",
    "y = DataObs[:,4]\n",
    "z = DataObs[:,5]"
   ]
  },
  {
   "cell_type": "code",
   "execution_count": null,
   "id": "aea5be40",
   "metadata": {},
   "outputs": [],
   "source": [
    "FF = PredFile\n",
    "SiteCal, CompCal, DataCal, HeadCal = mod.read_data(FF+\".dat\")\n",
    "cal_rdat = DataCal[:, 6]\n",
    "cal_idat = DataCal[:, 7]\n",
    "cal_per = DataCal[:, 0]\n",
    "cal_cmp = CompCal\n",
    "cal_sit = SiteCal"
   ]
  },
  {
   "cell_type": "code",
   "execution_count": null,
   "id": "05c84b5d",
   "metadata": {
    "lines_to_next_cell": 2
   },
   "outputs": [],
   "source": [
    "np.shape(cal_per)"
   ]
  },
  {
   "cell_type": "code",
   "execution_count": null,
   "id": "e6504b10",
   "metadata": {
    "lines_to_next_cell": 2
   },
   "outputs": [],
   "source": [
    "# Determine graphical parameter.\n",
    "# print(plt.style.available)\n",
    "plt.style.use('seaborn-paper')\n",
    "mpl.rcParams[\"figure.dpi\"] = 400\n",
    "mpl.rcParams['axes.linewidth'] = 0.5\n",
    "Fontsize = 10\n",
    "Labelsize = Fontsize\n",
    "Linewidth= 1\n",
    "Grey = 0.7\n",
    "Lcycle =Lcycle = (cycler('linestyle', ['-', '--', ':', '-.'])\n",
    "          * cycler('color', ['r', 'g', 'b', 'y']))\n",
    "mpl.rcParams[\"figure.dpi\"] = 400\n",
    "mpl.rcParams['axes.linewidth'] = 0.5"
   ]
  },
  {
   "cell_type": "code",
   "execution_count": null,
   "id": "f475fa68",
   "metadata": {},
   "outputs": [],
   "source": [
    "Sites = np.unique(SiteObs)"
   ]
  },
  {
   "cell_type": "code",
   "execution_count": null,
   "id": "a25f0fea",
   "metadata": {},
   "outputs": [],
   "source": [
    "for s in Sites:\n",
    "    print(\"Plotting site: \"+s)\n",
    "    site = (obs_sit==s)\n",
    "    test = ((obs_cmp==\"TX\") | (obs_cmp==\"TY\")) & (obs_sit==s)\n",
    "\n",
    "    if np.any(test) == True:\n",
    "        site_lon = lon[site][0]\n",
    "        site_lat = lat[site][0]\n",
    "        site_utmx, site_utmy = utl.proj_latlon_to_utm(site_lat, site_lon, utm_zone=EPSG)\n",
    "        site_utmx = int(np.round(site_utmx))\n",
    "        site_utmy = int(np.round(site_utmy))\n",
    "        site_elev = z[site][0]\n",
    "\n",
    "        cmp =\"TX\"\n",
    "        cmpo = np.where((obs_cmp==cmp) & (obs_sit==s))\n",
    "        Tpxro = obs_rdat[cmpo]\n",
    "        Tpxio = obs_idat[cmpo]\n",
    "        Tpxe = obs_err[cmpo]\n",
    "        Perxo = obs_per[cmpo]\n",
    "        cmpc = np.where((cal_cmp==cmp) & (cal_sit==s))\n",
    "        Tpxrc = cal_rdat[cmpc]\n",
    "        Tpxic = cal_idat[cmpc]\n",
    "        Perxc  = cal_per[cmpc]\n",
    "\n",
    "        cmp =\"TY\"\n",
    "        cmpo = np.where((obs_cmp==cmp) & (obs_sit==s))\n",
    "        Tpyro = obs_rdat[cmpo]\n",
    "        Tpyio = obs_idat[cmpo]\n",
    "        Tpye = obs_err[cmpo]\n",
    "        Peryo = obs_per[cmpo]\n",
    "        cmpc = np.where((cal_cmp==cmp) & (cal_sit==s))\n",
    "        Tpyrc = cal_rdat[cmpc]\n",
    "        Tpyic = cal_idat[cmpc]\n",
    "        Peryc = cal_per[cmpc]\n",
    "\n",
    "\n",
    "        cm = 1/2.54  # centimeters in inches\n",
    "        fig, axes = plt.subplots(2,1)   #, figsize = (12*cm, 12*cm))\n",
    "        fig.suptitle(r\"Site: \"+s\n",
    "                     +\"\\nLat: \"+str(site_lat)+\"   Lon: \"+str(site_lon)\n",
    "                     +\"\\nUTMX: \"+str(site_utmx)+\"   UTMY: \"+str(site_utmy)\n",
    "                     +\" (EPSG=\"+str(EPSG)+\")  \\nElev: \"+ str(abs(site_elev))+\" m\",\n",
    "                     ha=\"left\", x=0.1,fontsize=Fontsize-1)\n",
    "\n",
    "        axes[0,0].plot(Perxc.flat, Tpxrc.flat, color=\"r\",linestyle=\":\")\n",
    "        axes[0,0].errorbar(Perxo,Tpxro, yerr=Tpxe,\n",
    "                                linestyle=\"\",\n",
    "                                marker=\"o\",\n",
    "                                color=\"r\",\n",
    "                                lw=0.99,\n",
    "                                markersize=3)\n",
    "        axes[0,0].plot(Perxc, Tpxic, \":b\")\n",
    "        axes[0,0].errorbar(Perxo,Tpxio, yerr=Tpxe,\n",
    "                                linestyle=\"\",\n",
    "                                marker=\"o\",\n",
    "                                color=\"b\",\n",
    "                                lw=0.99,\n",
    "                                markersize=3)\n",
    "        axes[0,0].set_xscale(\"log\")\n",
    "        axes[0,0].set_xlim(PerLimits)\n",
    "        axes[0,0].legend([\"predicted\", \"observed\"])\n",
    "        axes[0,0].xaxis.set_ticklabels([])\n",
    "        axes[0,0].tick_params(labelsize=Labelsize-1)\n",
    "        axes[0,0].set_ylabel(\"Tpy\", fontsize=Fontsize)\n",
    "        axes[0,0].grid(\"major\", \"both\", linestyle=\":\", lw=0.5)\n",
    "\n",
    "\n",
    "        axes[0,1].plot(Peryc, Tpyrc, \":r\")\n",
    "        axes[0,1].errorbar(Peryo,Tpyro, yerr=Tpxe,\n",
    "                                linestyle=\"\",\n",
    "                                marker=\"o\",\n",
    "                                color=\"r\",\n",
    "                                lw=0.99,\n",
    "                                markersize=3)\n",
    "        axes[0,1].plot(Peryc, Tpyic, \":b\")\n",
    "        axes[0,1].errorbar(Peryc,Tpxio, yerr=Tpxe,\n",
    "                                linestyle=\"\",\n",
    "                                marker=\"o\",\n",
    "                                color=\"b\",\n",
    "                                lw=0.99,\n",
    "                                markersize=3)\n",
    "\n",
    "        axes[0,1].set_xscale(\"log\")\n",
    "        axes[0,1].set_xlim(PerLimits)\n",
    "        axes[0,1].legend([\"predicted\", \"observed\"])\n",
    "        axes[0,1].xaxis.set_ticklabels([])\n",
    "        axes[0,1].tick_params(labelsize=Labelsize-1)\n",
    "        axes[0,1].set_ylabel(\"Tpx\", fontsize=Fontsize)\n",
    "        axes[0,1].grid(\"major\", \"both\", linestyle=\":\", lw=0.5)\n",
    "\n",
    "\n",
    "\n",
    "        fig.tight_layout()\n",
    "\n",
    "        for F in PlotFormat:\n",
    "            plt.savefig(PlotFile+s+F, dpi=400)\n",
    "\n",
    "\n",
    "        plt.show()\n",
    "        plt.close(fig)\n",
    "    else:\n",
    "        print(\"No Tipper for site \"+s+\"!\")"
   ]
  }
 ],
 "metadata": {
  "jupytext": {
   "cell_metadata_filter": "-all",
   "formats": "py,ipynb",
   "main_language": "python"
  }
 },
 "nbformat": 4,
 "nbformat_minor": 5
}

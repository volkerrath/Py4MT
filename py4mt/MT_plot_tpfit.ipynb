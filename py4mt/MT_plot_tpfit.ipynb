{
 "cells": [
  {
   "cell_type": "code",
   "execution_count": null,
   "id": "29ceaab4",
   "metadata": {},
   "outputs": [],
   "source": [
    "import os\n",
    "import sys\n",
    "import warnings\n",
    "import time"
   ]
  },
  {
   "cell_type": "code",
   "execution_count": null,
   "id": "87a7b836",
   "metadata": {},
   "outputs": [],
   "source": [
    "from sys import exit as error\n",
    "from datetime import datetime"
   ]
  },
  {
   "cell_type": "code",
   "execution_count": null,
   "id": "07ecff17",
   "metadata": {},
   "outputs": [],
   "source": [
    "import numpy as np\n",
    "import matplotlib as mpl\n",
    "import matplotlib.pyplot as plt\n",
    "from cycler import cycler\n",
    "import pyproj as proj"
   ]
  },
  {
   "cell_type": "code",
   "execution_count": null,
   "id": "91ffb998",
   "metadata": {},
   "outputs": [],
   "source": [
    "mypath = [\"/home/vrath/Py4MT/py4mt/modules/\",\n",
    "          \"/home/vrath/Py4MT/py4mt/scripts/\"]\n",
    "for pth in mypath:\n",
    "    if pth not in sys.path:\n",
    "        sys.path.insert(0,pth)"
   ]
  },
  {
   "cell_type": "code",
   "execution_count": null,
   "id": "90123e44",
   "metadata": {},
   "outputs": [],
   "source": [
    "import mtplots as mtp"
   ]
  },
  {
   "cell_type": "markdown",
   "id": "f0cd2216",
   "metadata": {},
   "source": [
    "import gdal\n",
    "import scipy as sc\n",
    "import vtk\n",
    "import pyvista as pv\n",
    "import pyvistaqt as pvqt\n",
    "import discretize\n",
    "import tarfile\n",
    "import pylab as pl\n",
    "from time import sleep"
   ]
  },
  {
   "cell_type": "code",
   "execution_count": null,
   "id": "6b21cd46",
   "metadata": {},
   "outputs": [],
   "source": [
    "import mtplots as mtp\n",
    "import modem as mod\n",
    "import util as utl\n",
    "from version import versionstrg"
   ]
  },
  {
   "cell_type": "code",
   "execution_count": null,
   "id": "e03cdbeb",
   "metadata": {
    "lines_to_next_cell": 2
   },
   "outputs": [],
   "source": [
    "Strng, _ = versionstrg()\n",
    "now = datetime.now()\n",
    "print(\"\\n\\n\"+Strng)\n",
    "print(\"Plot Magnetic transfer function (tipper) fit\"+\"\\n\"+\"\".join(\"Date \" + now.strftime(\"%m/%d/%Y, %H:%M:%S\")))\n",
    "print(\"\\n\\n\")"
   ]
  },
  {
   "cell_type": "code",
   "execution_count": null,
   "id": "cb5e48bf",
   "metadata": {},
   "outputs": [],
   "source": [
    "warnings.simplefilter(action=\"ignore\", category=FutureWarning)"
   ]
  },
  {
   "cell_type": "code",
   "execution_count": null,
   "id": "5ee28ba0",
   "metadata": {},
   "outputs": [],
   "source": [
    "WorkDir =  r\"/home/vrath/work/MT/Annecy/ANN26/\"\n",
    "PredFile = r\"/home/vrath/work/MT/Annecy/ANN26/Ann26_ZoPT_200_Alpha04_NLCG_017\"\n",
    "ObsvFile = r\"/home/vrath/work/MT/Annecy/ANN26/Ann26_ZoPT\"\n",
    "PlotDir = WorkDir + 'Plots/'"
   ]
  },
  {
   "cell_type": "code",
   "execution_count": null,
   "id": "d45fbcce",
   "metadata": {
    "lines_to_next_cell": 2
   },
   "outputs": [],
   "source": [
    "print(' Plots written to: %s' % PlotDir)\n",
    "if not os.path.isdir(PlotDir):\n",
    "    print(' File: %s does not exist, but will be created' % PlotDir)\n",
    "    os.mkdir(PlotDir)"
   ]
  },
  {
   "cell_type": "code",
   "execution_count": null,
   "id": "003b8bb6",
   "metadata": {},
   "outputs": [],
   "source": [
    "PerLimits = (0.00005, 3.)\n",
    "TpLimits = (-.5, 0.5)\n",
    "ShowErrors = True\n",
    "ShowRMS = True"
   ]
  },
  {
   "cell_type": "code",
   "execution_count": null,
   "id": "3592897f",
   "metadata": {
    "lines_to_next_cell": 2
   },
   "outputs": [],
   "source": [
    "PlotFormat = [\".pdf\", \".png\", \".svg\"]\n",
    "PlotFile = \"Annecy26_Tp_Alpha04\"\n",
    "PdfCatalog = True\n",
    "if not \".pdf\" in PlotFormat:\n",
    "    error(\" No pdfs generated. No catalog possible!\")\n",
    "    PdfCatalog = False\n",
    "PdfCName = PlotFile"
   ]
  },
  {
   "cell_type": "code",
   "execution_count": null,
   "id": "c0a48067",
   "metadata": {},
   "outputs": [],
   "source": [
    "\"\"\"\n",
    "\n",
    "required virtual size\n",
    "\"\"\"\n",
    "EPSG = 5015"
   ]
  },
  {
   "cell_type": "code",
   "execution_count": null,
   "id": "c89c3399",
   "metadata": {},
   "outputs": [],
   "source": [
    "start = time.time()"
   ]
  },
  {
   "cell_type": "code",
   "execution_count": null,
   "id": "72da8901",
   "metadata": {},
   "outputs": [],
   "source": [
    "FF = ObsvFile\n",
    "SiteObs, CompObs, DataObs, HeadObs = mod.read_data(FF+\".dat\")\n",
    "obs_rdat = DataObs[:, 6]\n",
    "obs_idat = DataObs[:, 7]\n",
    "obs_err = DataObs[:, 8]\n",
    "obs_per = DataObs[:, 0]\n",
    "obs_cmp = CompObs\n",
    "obs_sit = SiteObs\n",
    "lat = DataObs[:,1]\n",
    "lon = DataObs[:,2]\n",
    "x = DataObs[:,3]\n",
    "y = DataObs[:,4]\n",
    "z = DataObs[:,5]"
   ]
  },
  {
   "cell_type": "code",
   "execution_count": null,
   "id": "587af974",
   "metadata": {
    "lines_to_next_cell": 2
   },
   "outputs": [],
   "source": [
    "FF = PredFile\n",
    "SiteCal, CompCal, DataCal, HeadCal = mod.read_data(FF+\".dat\")\n",
    "cal_rdat = DataCal[:, 6]\n",
    "cal_idat = DataCal[:, 7]\n",
    "cal_per = DataCal[:, 0]\n",
    "cal_cmp = CompCal\n",
    "cal_sit = SiteCal"
   ]
  },
  {
   "cell_type": "code",
   "execution_count": null,
   "id": "71f06968",
   "metadata": {},
   "outputs": [],
   "source": [
    "# Determine graphical parameter.\n",
    "# print(plt.style.available)\n",
    "plt.style.use(\"seaborn-paper\")\n",
    "mpl.rcParams[\"figure.dpi\"] = 400\n",
    "mpl.rcParams[\"axes.linewidth\"] = 0.5\n",
    "Fontsize = 10\n",
    "Labelsize = Fontsize\n",
    "Linewidth= 2\n",
    "Markersize = 4\n",
    "Grey = 0.7\n",
    "Lcycle =Lcycle = (cycler(\"linestyle\", [\"-\", \"--\", \":\", \"-.\"])\n",
    "          * cycler(\"color\", [\"r\", \"g\", \"b\", \"y\"]))\n",
    "mpl.rcParams[\"figure.dpi\"] = 400\n",
    "mpl.rcParams[\"axes.linewidth\"] = 0.5"
   ]
  },
  {
   "cell_type": "code",
   "execution_count": null,
   "id": "b8bb9655",
   "metadata": {},
   "outputs": [],
   "source": [
    "Sites = np.unique(SiteObs)"
   ]
  },
  {
   "cell_type": "code",
   "execution_count": null,
   "id": "1d74cd97",
   "metadata": {
    "lines_to_next_cell": 2
   },
   "outputs": [],
   "source": [
    "for s in Sites:\n",
    "    print(\"Plotting site: \"+s)\n",
    "    site = (obs_sit==s)\n",
    "    test = ((obs_cmp==\"TX\") | (obs_cmp==\"TY\")) & (obs_sit==s)\n",
    "\n",
    "    if np.any(test) == True:\n",
    "        site_lon = lon[site][0]\n",
    "        site_lat = lat[site][0]\n",
    "        site_utmx, site_utmy = utl.proj_latlon_to_utm(site_lat, site_lon, utm_zone=EPSG)\n",
    "        site_utmx = int(np.round(site_utmx))\n",
    "        site_utmy = int(np.round(site_utmy))\n",
    "        site_elev = z[site][0]\n",
    "\n",
    "        cmp =\"TX\"\n",
    "        cmpo = np.where((obs_cmp==cmp) & (obs_sit==s))\n",
    "        Tpxro = obs_rdat[cmpo]\n",
    "        Tpxio = obs_idat[cmpo]\n",
    "        Tpxe = obs_err[cmpo]\n",
    "        Perxo = obs_per[cmpo]\n",
    "        indx =np.argsort(Perxo)\n",
    "        Tpxro = Tpxro[indx]\n",
    "        Tpxio = Tpxio[indx]\n",
    "        Perxo=Perxo[indx]\n",
    "        cmpc = np.where((cal_cmp==cmp) & (cal_sit==s))\n",
    "        Tpxrc = cal_rdat[cmpc]\n",
    "        Tpxic = cal_idat[cmpc]\n",
    "        Perxc  = cal_per[cmpc]\n",
    "        indx =np.argsort(Perxc)\n",
    "        Tpxrc = Tpxrc[indx]\n",
    "        Tpxic = Tpxic[indx]\n",
    "        Perxc=Perxc[indx]\n",
    "\n",
    "        if ShowRMS:\n",
    "            RnormTpxr, ResTpxr = utl.calc_resnorm(Tpxro, Tpxrc, Tpxe)\n",
    "            nRMSTpxr, _ = utl.calc_rms(Tpxro, Tpxrc, 1.0/Tpxe)\n",
    "            RnormTpxi, ResTpxi = utl.calc_resnorm(Tpxio, Tpxic, Tpxe)\n",
    "            nRMSTpxi, _ = utl.calc_rms(Tpxio, Tpxic, 1.0/Tpxe)\n",
    "\n",
    "        cmp =\"TY\"\n",
    "        cmpo = np.where((obs_cmp==cmp) & (obs_sit==s))\n",
    "        Tpyro = obs_rdat[cmpo]\n",
    "        Tpyio = obs_idat[cmpo]\n",
    "        Tpye = obs_err[cmpo]\n",
    "        Peryo = obs_per[cmpo]\n",
    "        indx =np.argsort(Peryo)\n",
    "        Tpyro = Tpyro[indx]\n",
    "        Tpyio = Tpyio[indx]\n",
    "        Peryo=Peryo[indx]\n",
    "        cmpc = np.where((cal_cmp==cmp) & (cal_sit==s))\n",
    "        Tpyrc = cal_rdat[cmpc]\n",
    "        Tpyic = cal_idat[cmpc]\n",
    "        Peryc = cal_per[cmpc]\n",
    "        indx =np.argsort(Peryc)\n",
    "        Tpyrc = Tpyrc[indx]\n",
    "        Tpyic = Tpyic[indx]\n",
    "        Peryc=Peryc[indx]\n",
    "\n",
    "        if ShowRMS:\n",
    "            RnormTpyr, ResTpyr = utl.calc_resnorm(Tpyro, Tpyrc, Tpye)\n",
    "            nRMSTpyr, _ = utl.calc_rms(Tpyro, Tpyrc, 1.0/Tpye)\n",
    "            RnormTpyi, ResTpyi = utl.calc_resnorm(Tpyio, Tpyic, Tpye)\n",
    "            nRMSTpyi, _ = utl.calc_rms(Tpyio, Tpyic, 1.0/Tpye)\n",
    "\n",
    "\n",
    "\n",
    "        cm = 1/2.54  # centimeters in inches\n",
    "        fig, axes = plt.subplots(1, 2, figsize = (16*cm, 7*cm), squeeze=False)\n",
    "\n",
    "        fig.suptitle(r\"Site: \"+s\n",
    "                     +\"\\nLat: \"+str(site_lat)+\"   Lon: \"+str(site_lon)\n",
    "                     +\"\\nUTMX: \"+str(site_utmx)+\"   UTMY: \"+str(site_utmy)\n",
    "                     +\" (EPSG=\"+str(EPSG)+\")  \\nElev: \"+ str(abs(site_elev))+\" m\",\n",
    "                     ha=\"left\", x=0.1,fontsize=Fontsize-1)\n",
    "\n",
    "        axes[0,0].plot(Perxc, Tpxrc, color=\"r\",linestyle=\"-\", linewidth=Linewidth)\n",
    "        axes[0,0].errorbar(Perxo,Tpxro, yerr=Tpxe,\n",
    "                                linestyle=\"\",\n",
    "                                marker=\"o\",\n",
    "                                color=\"r\",\n",
    "                                linewidth=Linewidth,\n",
    "                                markersize=Markersize)\n",
    "        axes[0,0].plot(Perxc, Tpxic, color=\"b\",linestyle=\"-\", linewidth=Linewidth)\n",
    "        axes[0,0].errorbar(Perxo,Tpxio, yerr=Tpxe,\n",
    "                                linestyle=\"\",\n",
    "                                marker=\"o\",\n",
    "                                color=\"b\",\n",
    "                                linewidth=Linewidth,\n",
    "                                markersize=Markersize)\n",
    "        axes[0,0].set_xscale(\"log\")\n",
    "        axes[0,0].set_xlim(PerLimits)\n",
    "        if TpLimits != ():\n",
    "            axes[0,0].set_ylim(TpLimits)\n",
    "        axes[0,0].legend([\"real\", \"imag\"])\n",
    "        # axes[0,0].xaxis.set_ticklabels([])\n",
    "        axes[0,0].tick_params(labelsize=Labelsize-1)\n",
    "        axes[0,0].set_ylabel(\"Tpy\", fontsize=Fontsize)\n",
    "        axes[0,0].grid(\"major\", \"both\", linestyle=\":\", linewidth=0.5)\n",
    "        if ShowRMS:\n",
    "            nRMSr = np.around(nRMSTpxr,1)\n",
    "            nRMSi = np.around(nRMSTpxi,1)\n",
    "            StrRMS = \"nRMS = \"+str(nRMSr)+\" | \"+str(nRMSi)\n",
    "            axes[0,0].text(0.05, 0.05,StrRMS,\n",
    "                               transform=axes[0,0].transAxes,\n",
    "                               fontsize = Fontsize-2,\n",
    "                               ha=\"left\", va=\"bottom\",\n",
    "                               bbox={\"pad\": 2, \"facecolor\": \"white\", \"edgecolor\": \"white\" ,\"alpha\": 0.8} )\n",
    "\n",
    "\n",
    "\n",
    "        axes[0,1].plot(Peryc, Tpyrc, color=\"r\",linestyle=\"-\", linewidth=Linewidth)\n",
    "        axes[0,1].errorbar(Peryo,Tpyro, yerr=Tpye,\n",
    "                                linestyle=\"\",\n",
    "                                marker=\"o\",\n",
    "                                color=\"r\",\n",
    "                                linewidth=Linewidth,\n",
    "                                markersize=Markersize)\n",
    "        axes[0,1].plot(Peryc, Tpyic, color=\"b\",linestyle=\"-\", linewidth=Linewidth)\n",
    "        axes[0,1].errorbar(Peryc,Tpyio, yerr=Tpye,\n",
    "                                linestyle=\"\",\n",
    "                                marker=\"o\",\n",
    "                                color=\"b\",\n",
    "                                linewidth=Linewidth,\n",
    "                                markersize=Markersize)\n",
    "\n",
    "        axes[0,1].set_xscale(\"log\")\n",
    "        axes[0,1].set_xlim(PerLimits)\n",
    "        if TpLimits != ():\n",
    "            axes[0,1].set_ylim(TpLimits)\n",
    "        axes[0,1].legend([\"real\", \"imag\"])\n",
    "        # axes[0,1].xaxis.set_ticklabels([])\n",
    "        axes[0,1].tick_params(labelsize=Labelsize-1)\n",
    "        axes[0,1].set_ylabel(\"Tpx\", fontsize=Fontsize)\n",
    "        axes[0,1].grid(\"major\", \"both\", linestyle=\":\", linewidth=0.5)\n",
    "        if ShowRMS:\n",
    "            nRMSr = np.around(nRMSTpyr,1)\n",
    "            nRMSi = np.around(nRMSTpyi,1)\n",
    "            StrRMS = \"nRMS = \"+str(nRMSr)+\" | \"+str(nRMSi)\n",
    "            axes[0,1].text(0.05, 0.05,StrRMS,\n",
    "                               transform=axes[0,1].transAxes,\n",
    "                               fontsize = Fontsize-2,\n",
    "                               ha=\"left\", va=\"bottom\",\n",
    "                               bbox={\"pad\": 2, \"facecolor\": \"white\", \"edgecolor\": \"white\" ,\"alpha\": 0.8} )\n",
    "\n",
    "\n",
    "\n",
    "        fig.tight_layout()\n",
    "\n",
    "        for F in PlotFormat:\n",
    "            plt.savefig(PlotDir+PlotFile+\"_\"+s+F, dpi=400)\n",
    "\n",
    "\n",
    "        plt.show()\n",
    "        plt.close(fig)\n",
    "    else:\n",
    "        print(\"No Tipper for site \"+s+\"!\")"
   ]
  },
  {
   "cell_type": "code",
   "execution_count": null,
   "id": "e124c5f5",
   "metadata": {
    "lines_to_next_cell": 2
   },
   "outputs": [],
   "source": [
    "if PdfCatalog:\n",
    "    utl.make_pdf_catalog(PlotDir, PdfCName)"
   ]
  }
 ],
 "metadata": {
  "jupytext": {
   "cell_metadata_filter": "-all",
   "formats": "py,ipynb",
   "main_language": "python"
  }
 },
 "nbformat": 4,
 "nbformat_minor": 5
}

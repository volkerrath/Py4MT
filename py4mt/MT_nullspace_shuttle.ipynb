{
 "cells": [
  {
   "cell_type": "code",
   "execution_count": null,
   "id": "c103a041",
   "metadata": {},
   "outputs": [],
   "source": [
    "\"\"\"\n",
    "Reads ModEM's Jacobian, does fancy things.\n",
    "\n",
    "@author: vrath   Feb 2021\n",
    "\n",
    "\"\"\""
   ]
  },
  {
   "cell_type": "markdown",
   "id": "7a566ab6",
   "metadata": {},
   "source": [
    "Import required modules"
   ]
  },
  {
   "cell_type": "code",
   "execution_count": null,
   "id": "34c7c662",
   "metadata": {},
   "outputs": [],
   "source": [
    "import os\n",
    "import sys"
   ]
  },
  {
   "cell_type": "code",
   "execution_count": null,
   "id": "3d3263e3",
   "metadata": {
    "lines_to_next_cell": 2
   },
   "outputs": [],
   "source": [
    "# import struct\n",
    "import time\n",
    "from datetime import datetime\n",
    "import warnings"
   ]
  },
  {
   "cell_type": "code",
   "execution_count": null,
   "id": "deba1838",
   "metadata": {
    "lines_to_next_cell": 2
   },
   "outputs": [],
   "source": [
    "import numpy as np\n",
    "import numpy.linalg as npl\n",
    "import scipy.linalg as spl\n",
    "import scipy.sparse as scp\n",
    "import netCDF4 as nc"
   ]
  },
  {
   "cell_type": "code",
   "execution_count": null,
   "id": "659077c6",
   "metadata": {
    "lines_to_next_cell": 2
   },
   "outputs": [],
   "source": [
    "import vtk\n",
    "import pyvista as pv\n",
    "import PVGeo as pvg"
   ]
  },
  {
   "cell_type": "code",
   "execution_count": null,
   "id": "988e3819",
   "metadata": {
    "lines_to_next_cell": 2
   },
   "outputs": [],
   "source": [
    "PY4MT_ROOT = os.environ[\"PY4MT_ROOT\"]\n",
    "mypath = [PY4MT_ROOT+\"/py4mt/modules/\", PY4MT_ROOT+\"/py4mt/scripts/\"]\n",
    "for pth in mypath:\n",
    "    if pth not in sys.path:\n",
    "        sys.path.insert(0,pth)"
   ]
  },
  {
   "cell_type": "code",
   "execution_count": null,
   "id": "e1d8235b",
   "metadata": {},
   "outputs": [],
   "source": [
    "import jacproc as jac\n",
    "import modem as mod\n",
    "from version import versionstrg"
   ]
  },
  {
   "cell_type": "code",
   "execution_count": null,
   "id": "206fc54b",
   "metadata": {},
   "outputs": [],
   "source": [
    "Strng, _ = versionstrg()\n",
    "now = datetime.now()\n",
    "print(\"\\n\\n\"+Strng)\n",
    "print(\"Nullspace Shuttle\"+\"\\n\"+\"\".join(\"Date \" + now.strftime(\"%m/%d/%Y, %H:%M:%S\")))\n",
    "print(\"\\n\\n\")"
   ]
  },
  {
   "cell_type": "code",
   "execution_count": null,
   "id": "d21fc73e",
   "metadata": {},
   "outputs": [],
   "source": [
    "rng = np.random.default_rng()\n",
    "nan = np.nan"
   ]
  },
  {
   "cell_type": "code",
   "execution_count": null,
   "id": "0402fa37",
   "metadata": {},
   "outputs": [],
   "source": [
    "JFile = r\"/home/vrath/Py4MT/py4mt/data/ANN21_Jacobian/Ann21_Prior100_T-T3.jac\"\n",
    "DFile = r\"/home/vrath/Py4MT/py4mt/data/ANN21_Jacobian/Ann21_Prior100_T_NLCG_033.dat\"\n",
    "MFile = r\"/home/vrath/Py4MT/py4mt/data/ANN21_Jacobian/Ann21_Prior100_T_NLCG_033.rho\"\n",
    "SFile = r\"/home/vrath/Py4MT/py4mt/data/ANN21_Jacobian/Ann21_Prior100_T-Z3.sns\""
   ]
  },
  {
   "cell_type": "code",
   "execution_count": null,
   "id": "71364b74",
   "metadata": {},
   "outputs": [],
   "source": [
    "JThresh  = 1.e-4\n",
    "NSingulr = 300\n",
    "NSamples = 1000\n",
    "NBodies  = 32\n",
    "x_bounds = [-3000., 3000.]\n",
    "y_bounds = [-3000., 3000.]\n",
    "z_bounds = [-300., 3000.]\n",
    "rad_bounds = [100.,1000.]\n",
    "res_bounds = [-0.3, 0.3]"
   ]
  },
  {
   "cell_type": "code",
   "execution_count": null,
   "id": "af8c7e3f",
   "metadata": {},
   "outputs": [],
   "source": []
  },
  {
   "cell_type": "code",
   "execution_count": null,
   "id": "254fc692",
   "metadata": {
    "lines_to_next_cell": 2
   },
   "outputs": [],
   "source": [
    "total = 0.0\n",
    "start = time.time()\n",
    "dx, dy, dz, rho, reference = mod.read_model(MFile)\n",
    "elapsed = time.time() - start\n",
    "total = total + elapsed\n",
    "print(\" Used %7.4f s for reading model from %s \" % (elapsed, DFile))"
   ]
  },
  {
   "cell_type": "code",
   "execution_count": null,
   "id": "a9b29cf6",
   "metadata": {},
   "outputs": [],
   "source": [
    "start = time.time()\n",
    "Site, Comp, Data, Head = mod.read_data(DFile)\n",
    "elapsed = time.time() - start\n",
    "total = total + elapsed\n",
    "print(\" Used %7.4f s for reading data from %s \" % (elapsed, DFile))"
   ]
  },
  {
   "cell_type": "code",
   "execution_count": null,
   "id": "459dd03f",
   "metadata": {},
   "outputs": [],
   "source": [
    "start = time.time()\n",
    "Jac = mod.read_jac(JFile)\n",
    "elapsed = time.time() - start\n",
    "total = total + elapsed\n",
    "print(\" Used %7.4f s for reading Jacobian from %s \" % (elapsed, JFile))"
   ]
  },
  {
   "cell_type": "code",
   "execution_count": null,
   "id": "508a0bb6",
   "metadata": {},
   "outputs": [],
   "source": [
    "start = time.time()\n",
    "dsh = np.shape(Data)\n",
    "err = np.reshape(Data[:, 7], (dsh[0], 1))\n",
    "Jac = jac.normalize_jac(Jac, err)\n",
    "elapsed = time.time() - start\n",
    "total = total + elapsed\n",
    "print(\" Used %7.4f s for normalizing Jacobian from %s \" % (elapsed, JFile))"
   ]
  },
  {
   "cell_type": "code",
   "execution_count": null,
   "id": "a0604e96",
   "metadata": {},
   "outputs": [],
   "source": [
    "start = time.time()\n",
    "Js = jac.sparsify_jac(Jac, sparse_thresh=JThresh)\n",
    "elapsed = time.time() - start\n",
    "total = total + elapsed\n",
    "print(\" Used %7.4f s for sparsifying Jacobian from %s \" % (elapsed, JFile))"
   ]
  },
  {
   "cell_type": "code",
   "execution_count": null,
   "id": "eb0f2b74",
   "metadata": {},
   "outputs": [],
   "source": [
    "mu = 0.0\n",
    "sigma = 0.5\n",
    "r = rho.flat\n",
    "nproj = 1000"
   ]
  },
  {
   "cell_type": "code",
   "execution_count": null,
   "id": "f3313359",
   "metadata": {},
   "outputs": [],
   "source": [
    "start = time.time()\n",
    "U, S, Vt = jac.rsvd(Jac.T, rank=NSingulr, n_oversamples=0, n_subspace_iters=0)\n",
    "elapsed = time.time() - start\n",
    "print(\n",
    "    \"Used %7.4f s for calculating k = %i SVD from %s \" % (elapsed, NSingulr, JFile)\n",
    ")"
   ]
  },
  {
   "cell_type": "code",
   "execution_count": null,
   "id": "6fa04924",
   "metadata": {
    "lines_to_next_cell": 2
   },
   "outputs": [],
   "source": [
    "D = U@scp.diags(S[:])@Vt - Jac.T\n",
    "x_op = np.random.normal(size=np.shape(D)[1])\n",
    "n_op = npl.norm(D@x_op)/npl.norm(x_op)\n",
    "j_op = npl.norm(Jac.T@x_op)/npl.norm(x_op)\n",
    "print(\" Op-norm J_k = \"+str(n_op)+\", explains \"\n",
    "      +str(100. - n_op*100./j_op)+\"% of variations\")"
   ]
  },
  {
   "cell_type": "code",
   "execution_count": null,
   "id": "5c3c81c3",
   "metadata": {},
   "outputs": [],
   "source": [
    "# m_avg = 0.\n",
    "# v_avg = 0.\n",
    "# s = time.time()\n",
    "for isample in np.arange(NSamples):\n",
    "\n",
    "    body = [\n",
    "    \"ellipsoid\",\n",
    "    \"add\",\n",
    "    0.,\n",
    "    0.,\n",
    "    0.,\n",
    "    3000.,\n",
    "    1000.,\n",
    "    2000.,\n",
    "    1000.,\n",
    "    0.,\n",
    "    0.,\n",
    "    30.]"
   ]
  },
  {
   "cell_type": "markdown",
   "id": "eed0ec94",
   "metadata": {},
   "source": [
    "m = r + np.random.normal(mu, sigma, size=np.shape(r))\n",
    "    t = time.time() - s\n",
    "    print(\" Used %7.4f s for generating m  \" % (t))"
   ]
  },
  {
   "cell_type": "markdown",
   "id": "6d859ebc",
   "metadata": {},
   "source": [
    "    s = time.time()\n",
    "    for proj in range(nproj):\n",
    "        p = jac.projectMod(m, U)"
   ]
  },
  {
   "cell_type": "markdown",
   "id": "1181ac6d",
   "metadata": {},
   "source": [
    "    t = time.time() - s\n",
    "    print(\" Used %7.4f s for %i projections\" % (t, nproj))"
   ]
  },
  {
   "cell_type": "markdown",
   "id": "8da005c1",
   "metadata": {},
   "source": [
    "total = total + elapsed\n",
    "print(\" Total time used:  %f s \" % (total))"
   ]
  }
 ],
 "metadata": {
  "jupytext": {
   "cell_metadata_filter": "-all",
   "encoding": "# -*- coding: utf-8 -*-",
   "executable": "/usr/bin/env python3",
   "formats": "py,ipynb",
   "main_language": "python"
  }
 },
 "nbformat": 4,
 "nbformat_minor": 5
}

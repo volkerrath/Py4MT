{
 "cells": [
  {
   "cell_type": "code",
   "execution_count": null,
   "metadata": {
    "lines_to_next_cell": 0
   },
   "outputs": [],
   "source": []
  },
  {
   "cell_type": "code",
   "execution_count": null,
   "metadata": {},
   "outputs": [],
   "source": [
    "# -*- coding: utf-8 -*-\n",
    "\"\"\"\n",
    "Resample/interpolate data (Z+T) from a prescribed set of EDI-files.\n",
    "\n",
    "@author: sb & vr dec 2019\n",
    "\n",
    "'''\n",
    "\n",
    "\"\"\""
   ]
  },
  {
   "cell_type": "markdown",
   "metadata": {},
   "source": [
    "Import required modules"
   ]
  },
  {
   "cell_type": "code",
   "execution_count": null,
   "metadata": {},
   "outputs": [],
   "source": [
    "from mtpy.core.mt import MT\n",
    "from mtpy.utils.calculator import get_period_list\n",
    "import os\n",
    "import numpy as np"
   ]
  },
  {
   "cell_type": "markdown",
   "metadata": {},
   "source": [
    "Parameters for interpolation and subsequent resampling. \n",
    "mtpy uses interp1 frm the scypy module, so different methods can be chosen:\n",
    "Posibble options are 'linear', 'nearest', 'zero', 'slinear', 'quadratic', 'cubic'"
   ]
  },
  {
   "cell_type": "code",
   "execution_count": null,
   "metadata": {},
   "outputs": [],
   "source": [
    "interp_type     = 'slinear'"
   ]
  },
  {
   "cell_type": "markdown",
   "metadata": {},
   "source": [
    "This is the resampling rate, give as points per decade. TYpical values ae between 4 and 8."
   ]
  },
  {
   "cell_type": "code",
   "execution_count": null,
   "metadata": {},
   "outputs": [],
   "source": [
    "interp_pdec     = 5"
   ]
  },
  {
   "cell_type": "markdown",
   "metadata": {},
   "source": [
    "period buffer:"
   ]
  },
  {
   "cell_type": "code",
   "execution_count": null,
   "metadata": {},
   "outputs": [],
   "source": [
    "pbuff           = 2"
   ]
  },
  {
   "cell_type": "markdown",
   "metadata": {},
   "source": [
    "Define the path to your EDI-files:"
   ]
  },
  {
   "cell_type": "code",
   "execution_count": null,
   "metadata": {},
   "outputs": [],
   "source": [
    "edi_dir         = './edifiles_test/'\n",
    "print(' Edifiles read from: %s' % edi_dir)"
   ]
  },
  {
   "cell_type": "markdown",
   "metadata": {},
   "source": [
    "Define the path and append string for resampled data:"
   ]
  },
  {
   "cell_type": "code",
   "execution_count": null,
   "metadata": {},
   "outputs": [],
   "source": [
    "edi_out_dir      =  edi_dir\n",
    "print(' Edifiles written to: %s' % edi_out_dir)\n",
    "if not os.path.isdir(edi_out_dir):\n",
    "    print(' File: %s does not exist, but will be created' % edi_out_dir)\n",
    "    os.mkdir(edi_out_dir)"
   ]
  },
  {
   "cell_type": "code",
   "execution_count": null,
   "metadata": {},
   "outputs": [],
   "source": [
    "out_string      = '_interp'"
   ]
  },
  {
   "cell_type": "markdown",
   "metadata": {},
   "source": [
    "Setup frequency lists     "
   ]
  },
  {
   "cell_type": "code",
   "execution_count": null,
   "metadata": {},
   "outputs": [],
   "source": [
    "min_per_test    =  1e-3\n",
    "max_per_test    =  1e4\n",
    "test_freq_list = 1./get_period_list(min_per_test,max_per_test,interp_pdec) "
   ]
  },
  {
   "cell_type": "code",
   "execution_count": null,
   "metadata": {
    "lines_to_next_cell": 2
   },
   "outputs": [],
   "source": [
    "maxfreq = np.max(test_freq_list)\n",
    "minfreq = np.min(test_freq_list)\n",
    "print( 'MinFreqTest: '+str(minfreq)+'   MaxFreqTest: '+str(maxfreq))"
   ]
  },
  {
   "cell_type": "markdown",
   "metadata": {},
   "source": [
    "No changes required after this line!"
   ]
  },
  {
   "cell_type": "markdown",
   "metadata": {},
   "source": [
    "Construct list of EDI-files:"
   ]
  },
  {
   "cell_type": "code",
   "execution_count": null,
   "metadata": {},
   "outputs": [],
   "source": [
    "edi_files=[]\n",
    "files= os.listdir(edi_dir) \n",
    "for entry in files:\n",
    "   if entry.endswith('.edi') and not entry.startswith('.'):\n",
    "            edi_files.append(entry)"
   ]
  },
  {
   "cell_type": "code",
   "execution_count": null,
   "metadata": {},
   "outputs": [],
   "source": [
    "for filename in edi_files :\n",
    "    print('  \\n reading data from '+filename)\n",
    "    name, ext = os.path.splitext(filename)"
   ]
  },
  {
   "cell_type": "markdown",
   "metadata": {},
   "source": [
    "Create an MT object "
   ]
  },
  {
   "cell_type": "code",
   "execution_count": null,
   "metadata": {},
   "outputs": [],
   "source": [
    "    file_i = edi_dir+filename\n",
    "    mt_obj = MT(file_i)  \n",
    "    \n",
    " \n",
    "    freq    = mt_obj.Z.freq"
   ]
  },
  {
   "cell_type": "markdown",
   "metadata": {},
   "source": [
    "Get Impedance data: "
   ]
  },
  {
   "cell_type": "code",
   "execution_count": null,
   "metadata": {},
   "outputs": [],
   "source": [
    "    Z       = mt_obj.Z.z\n",
    "    sZ      = np.shape(Z)\n",
    "    print(' Size of Z list :',sZ)\n",
    "    tmp     = np.reshape(Z,(sZ[0],4))\n",
    "    print(Z[:])"
   ]
  },
  {
   "cell_type": "markdown",
   "metadata": {},
   "source": [
    "Find indices of valid impedance data, i. e., there absolute value is \n",
    "zero. This corresponds to the EMPTY key in EDI."
   ]
  },
  {
   "cell_type": "code",
   "execution_count": null,
   "metadata": {},
   "outputs": [],
   "source": [
    "    idx     = np.where([all(np.abs(row))>0. for row in tmp[:,1:]])\n",
    "    tmpfreq=freq[idx]\n",
    "    \n",
    "    maxfreq = tmpfreq[0]\n",
    "    minfreq = tmpfreq[-1]\n",
    "    print(' Z: MinFreq: '+str(minfreq)+'   MaxFreq: '+str(maxfreq))\n",
    "    \n",
    "    new_freq_list=tmpfreq\n",
    "    new_Z_obj, _ = mt_obj.interpolate(\n",
    "        new_freq_list,\n",
    "        interp_type=interp_type, \n",
    "        period_buffer = pbuff)\n",
    "\n",
    "    new_Z = np.zeros(sZ)"
   ]
  },
  {
   "cell_type": "markdown",
   "metadata": {},
   "source": [
    "Get Tipper data:"
   ]
  },
  {
   "cell_type": "code",
   "execution_count": null,
   "metadata": {
    "lines_to_next_cell": 2
   },
   "outputs": [],
   "source": [
    "    T       = mt_obj.Tipper.tipper\n",
    "    sT      = np.shape(T)\n",
    "    print(' Size of T list :',sT)\n",
    "    tmp     = np.reshape(T,(sT[0],2)) "
   ]
  },
  {
   "cell_type": "markdown",
   "metadata": {},
   "source": [
    "Find indices of valid tipper data, i. e., there absolute value is \n",
    "zero. This corresponds to the EMPTY key in EDI."
   ]
  },
  {
   "cell_type": "code",
   "execution_count": null,
   "metadata": {},
   "outputs": [],
   "source": [
    "    idx     = np.where([all(np.abs(row))>0. for row in tmp[:,1:]])\n",
    "    tmpfreq=freq[idx]\n",
    "    maxfreq = tmpfreq[0]\n",
    "    minfreq = tmpfreq[-1]\n",
    "    print(' T: MinFreq: '+str(minfreq)+'   MaxFreq: '+str(maxfreq))\n",
    "    \n",
    "    new_freq_list=tmpfreq\n",
    "    _ , new_Tipper_obj= mt_obj.interpolate(\n",
    "        new_freq_list,\n",
    "        interp_type=interp_type, \n",
    "        period_buffer = pbuff)\n",
    "    \n",
    "    new_T = np.zeros(sT)\n",
    "        \n",
    "    #    pt_obj = mt_obj.plot_mt_response(plot_num=1, # 1 = yx and xy; 2 = all 4 components\n",
    "    #    # 3 = off diagonal + determinant\n",
    "    #    plot_tipper = 'yri',\n",
    "    #    plot_pt = 'y' # plot phase tensor 'y' or 'n'f\n",
    "    #    )\n",
    "    #    pt_obj.save_plot(os.path.join(save_path,name+\".pdf\"), fig_dpi=400)    "
   ]
  },
  {
   "cell_type": "markdown",
   "metadata": {},
   "source": [
    "Write a new edi file:"
   ]
  },
  {
   "cell_type": "code",
   "execution_count": null,
   "metadata": {},
   "outputs": [],
   "source": [
    "    file_out=name+out_string+ext\n",
    "    \n",
    "    # mt_obj.write_mt_file(save_dir=edi_out_dir, \n",
    "    #                 fn_basename= file_out, \n",
    "    #                 file_type='edi', # edi or xml format\n",
    "    #                 new_Z_obj=new_Z_obj, # provide a z object to update the data\n",
    "    #                 new_Tipper_obj=new_Tipper_obj, # provide a tipper object to update the data\n",
    "    #                 longitude_format='LONG', # write longitudes as 'LON' or 'LONG'\n",
    "    #                 latlon_format='dd' # write as decimal degrees (any other input\n",
    "    #                                     # will write as degrees minutes seconds\n",
    "    #                 )         \n",
    "4"
   ]
  }
 ],
 "metadata": {
  "jupytext": {
   "cell_metadata_filter": "-all",
   "formats": "py,ipynb",
   "main_language": "python"
  }
 },
 "nbformat": 4,
 "nbformat_minor": 4
}

{
 "cells": [
  {
   "cell_type": "code",
   "execution_count": null,
   "id": "based-anime",
   "metadata": {},
   "outputs": [],
   "source": [
    "\"\"\"\n",
    "Read ModEM model, ModEM's Jacobian.\n",
    "\n",
    "Model order reduction by discrete Legendre transform.\n",
    "\n",
    "@author: vrath Feb 2021\n",
    "\n",
    "\"\"\""
   ]
  },
  {
   "cell_type": "markdown",
   "id": "collaborative-value",
   "metadata": {},
   "source": [
    "Import required modules"
   ]
  },
  {
   "cell_type": "code",
   "execution_count": null,
   "id": "lonely-trouble",
   "metadata": {},
   "outputs": [],
   "source": [
    "import os\n",
    "import sys\n",
    "from sys import exit as error\n",
    "import time\n",
    "import warnings"
   ]
  },
  {
   "cell_type": "code",
   "execution_count": null,
   "id": "collaborative-period",
   "metadata": {},
   "outputs": [],
   "source": [
    "import numpy as np\n",
    "import math as ma\n",
    "import netCDF4 as nc\n",
    "import scipy.ndimage as spn\n",
    "import scipy.linalg as spl"
   ]
  },
  {
   "cell_type": "code",
   "execution_count": null,
   "id": "smaller-frame",
   "metadata": {
    "lines_to_next_cell": 2
   },
   "outputs": [],
   "source": [
    "import vtk\n",
    "import pyvista as pv\n",
    "import PVGeo as pvg"
   ]
  },
  {
   "cell_type": "code",
   "execution_count": null,
   "id": "smaller-andrews",
   "metadata": {},
   "outputs": [],
   "source": [
    "mypath = [\"/home/vrath/Py4MT/py4mt/modules/\", \"/home/vrath/Py4MT/py4mt/scripts/\"]\n",
    "for pth in mypath:\n",
    "    if pth not in sys.path:\n",
    "        sys.path.append(pth)"
   ]
  },
  {
   "cell_type": "code",
   "execution_count": null,
   "id": "military-holly",
   "metadata": {},
   "outputs": [],
   "source": [
    "import modules\n",
    "import modem as mod\n",
    "import util as utl"
   ]
  },
  {
   "cell_type": "code",
   "execution_count": null,
   "id": "accomplished-underground",
   "metadata": {
    "lines_to_next_cell": 2
   },
   "outputs": [],
   "source": [
    "warnings.simplefilter(action=\"ignore\", category=FutureWarning)"
   ]
  }
 ],
 "metadata": {
  "jupytext": {
   "cell_metadata_filter": "-all",
   "encoding": "# -*- coding: utf-8 -*-",
   "executable": "/usr/bin/env python3",
   "formats": "py:light,ipynb",
   "main_language": "python"
  }
 },
 "nbformat": 4,
 "nbformat_minor": 5
}

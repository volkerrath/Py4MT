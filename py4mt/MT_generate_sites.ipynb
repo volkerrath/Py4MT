{
 "cells": [
  {
   "cell_type": "code",
   "execution_count": null,
   "metadata": {},
   "outputs": [],
   "source": [
    "\"\"\"\n",
    "generate pseudo dat for forward modelling studies\n",
    "\n",
    "@author: sb & vr July 2020\n",
    "\n",
    "\"\"\""
   ]
  },
  {
   "cell_type": "markdown",
   "metadata": {},
   "source": [
    "Import required modules"
   ]
  },
  {
   "cell_type": "code",
   "execution_count": null,
   "metadata": {
    "lines_to_next_cell": 2
   },
   "outputs": [],
   "source": [
    "import os\n",
    "from mtpy.core.mt import MT\n",
    "import numpy as np"
   ]
  },
  {
   "cell_type": "markdown",
   "metadata": {},
   "source": [
    "Define the path to your EDI-files:"
   ]
  },
  {
   "cell_type": "code",
   "execution_count": null,
   "metadata": {},
   "outputs": [],
   "source": [
    "edi_template = r'/home/vrath/Py4MT/py4mt/M/Template.edi'\n",
    "print(' Edifile template read from: %s' % edi_template)"
   ]
  },
  {
   "cell_type": "markdown",
   "metadata": {},
   "source": [
    "Define the path and appended string for saved EDI-files:"
   ]
  },
  {
   "cell_type": "code",
   "execution_count": null,
   "metadata": {},
   "outputs": [],
   "source": [
    "edi_out_dir=r'/home/vrath/Py4MT/py4mt/M/MauTopo_dense/'\n",
    "print(' Edifiles written to: %s' % edi_out_dir)\n",
    "if not os.path.isdir(edi_out_dir):\n",
    "    print(' File: %s does not exist, but will be created' % edi_out_dir)\n",
    "    os.mkdir(edi_out_dir)"
   ]
  },
  {
   "cell_type": "code",
   "execution_count": null,
   "metadata": {},
   "outputs": [],
   "source": [
    "OutName = ''"
   ]
  },
  {
   "cell_type": "markdown",
   "metadata": {},
   "source": [
    "Construct list of EDI-files:"
   ]
  },
  {
   "cell_type": "code",
   "execution_count": null,
   "metadata": {},
   "outputs": [],
   "source": [
    "small = 0.000001\n",
    "LonLimits = ( 6.275, 6.39)\n",
    "nLon = 31\n",
    "LonStep  = (LonLimits[1] - LonLimits[0])/nLon\n",
    "Lon = np.arange(LonLimits[0],LonLimits[1]+small,LonStep)"
   ]
  },
  {
   "cell_type": "code",
   "execution_count": null,
   "metadata": {},
   "outputs": [],
   "source": [
    "LatLimits = (45.37,45.46)\n",
    "nLat = 31\n",
    "LatStep  = (LatLimits[1] - LatLimits[0])/nLat\n",
    "Lat = np.arange(LatLimits[0],LatLimits[1]+small,LatStep)"
   ]
  },
  {
   "cell_type": "code",
   "execution_count": null,
   "metadata": {},
   "outputs": [],
   "source": []
  },
  {
   "cell_type": "markdown",
   "metadata": {},
   "source": [
    "No changes required after this line!"
   ]
  },
  {
   "cell_type": "code",
   "execution_count": null,
   "metadata": {
    "lines_to_next_cell": 2
   },
   "outputs": [],
   "source": [
    "# Enter loop:\n",
    "nn = -1\n",
    "for latval in Lat:\n",
    "    nn=nn+1\n",
    "    nnstr = str(nn)\n",
    "    mm = -1\n",
    "    print(nnstr)\n",
    "    for lonval in Lon:\n",
    "        mm=mm+1\n",
    "        mmstr = str(mm)\n",
    "        print(mmstr)"
   ]
  },
  {
   "cell_type": "markdown",
   "metadata": {},
   "source": [
    "# Create an MT object "
   ]
  },
  {
   "cell_type": "code",
   "execution_count": null,
   "metadata": {},
   "outputs": [],
   "source": [
    "        file_in = edi_template\n",
    "        mt_tmp = MT(file_in)\n",
    "    \n",
    "        mt_tmp.lat = Lat[nn]\n",
    "        mt_tmp.lon = Lon[mm]\n",
    "        mt_tmp.station = OutName+nnstr+'_'+mmstr\n",
    "    \n",
    "        file_out = OutName+nnstr+'_'+mmstr+'.edi'\n",
    "    \n",
    "        print('\\n Generating '+edi_out_dir+file_out)\n",
    "        print(' site %s at :  % 10.6f % 10.6f' % (mt_tmp.station, mt_tmp.lat, mt_tmp.lon))"
   ]
  },
  {
   "cell_type": "markdown",
   "metadata": {},
   "source": [
    "# Write a new edi file:"
   ]
  },
  {
   "cell_type": "code",
   "execution_count": null,
   "metadata": {},
   "outputs": [],
   "source": [
    "        print('Writing data to '+edi_out_dir+file_out)\n",
    "        mt_tmp.write_mt_file(\n",
    "            save_dir=edi_out_dir,\n",
    "            fn_basename=file_out,\n",
    "            file_type='edi',\n",
    "            longitude_format='LONG',\n",
    "            latlon_format='dd'\n",
    "            )"
   ]
  },
  {
   "cell_type": "code",
   "execution_count": null,
   "metadata": {},
   "outputs": [],
   "source": [
    "  "
   ]
  }
 ],
 "metadata": {
  "jupytext": {
   "cell_metadata_filter": "-all",
   "encoding": "# -*- coding: utf-8 -*-",
   "formats": "py:light,ipynb"
  },
  "kernelspec": {
   "display_name": "Python 3",
   "language": "python",
   "name": "python3"
  }
 },
 "nbformat": 4,
 "nbformat_minor": 4
}

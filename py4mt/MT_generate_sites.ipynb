{
 "cells": [
  {
   "cell_type": "code",
   "execution_count": null,
   "id": "de2a0ccb",
   "metadata": {},
   "outputs": [],
   "source": [
    "\"\"\"\n",
    "generate pseudo dat for forward modelling studies\n",
    "\n",
    "@author: sb & vr July 2020\n",
    "\n",
    "\"\"\""
   ]
  },
  {
   "cell_type": "code",
   "execution_count": null,
   "id": "30037922",
   "metadata": {
    "lines_to_next_cell": 2
   },
   "outputs": [],
   "source": [
    "# Import required modules\n",
    "import os\n",
    "import sys\n",
    "from sys import exit as error\n",
    "import time\n",
    "from datetime import datetime\n",
    "import warnings\n",
    "import csv"
   ]
  },
  {
   "cell_type": "code",
   "execution_count": null,
   "id": "3255b04c",
   "metadata": {},
   "outputs": [],
   "source": [
    "import numpy as np"
   ]
  },
  {
   "cell_type": "code",
   "execution_count": null,
   "id": "92aaa8a0",
   "metadata": {},
   "outputs": [],
   "source": [
    "mypath = [\"/home/vrath/Py4MT/py4mt/modules/\",\n",
    "          \"/home/vrath/Py4MT/py4mt/scripts/\"]\n",
    "for pth in mypath:\n",
    "    if pth not in sys.path:\n",
    "        sys.path.insert(0,pth)\n",
    "# Import required modules"
   ]
  },
  {
   "cell_type": "code",
   "execution_count": null,
   "id": "efdbb643",
   "metadata": {},
   "outputs": [],
   "source": [
    "import util as utl\n",
    "import modem as mod\n",
    "from mtpy.core.mt import MT"
   ]
  },
  {
   "cell_type": "code",
   "execution_count": null,
   "id": "1eec4df7",
   "metadata": {},
   "outputs": [],
   "source": [
    "from version import versionstrg"
   ]
  },
  {
   "cell_type": "code",
   "execution_count": null,
   "id": "0cac265a",
   "metadata": {
    "lines_to_next_cell": 2
   },
   "outputs": [],
   "source": [
    "Strng, _ = versionstrg()\n",
    "now = datetime.now()\n",
    "print(\"\\n\\n\"+Strng)\n",
    "print(\"Generate sites on a mesh (various methods)\"+\"\\n\"+\"\".join(\"Date \" + now.strftime(\"%m/%d/%Y, %H:%M:%S\")))\n",
    "print(\"\\n\\n\")"
   ]
  },
  {
   "cell_type": "code",
   "execution_count": null,
   "id": "382a09b4",
   "metadata": {},
   "outputs": [],
   "source": [
    "edi_gen = 'grid'\n",
    "# # generate site list\n",
    "# LonLimits = ( 6.275, 6.39)\n",
    "# nLon = 31\n",
    "# LatLimits = (45.37,45.46)\n",
    "# nLat = 31\n",
    "LonLimits = (-25.5600, -25.2250)\n",
    "nLon = 36\n",
    "LatLimits = ( 37.6700,  37.8550)\n",
    "nLat = 36"
   ]
  },
  {
   "cell_type": "markdown",
   "id": "f9989eac",
   "metadata": {},
   "source": [
    "edi_gen = 'readcsv'\n",
    "# read site list\n",
    "edi_file = r'/home/vrath/AEM_Limerick/Limerick_pilot.csv'"
   ]
  },
  {
   "cell_type": "markdown",
   "id": "03ed1f58",
   "metadata": {
    "lines_to_next_cell": 2
   },
   "source": [
    "edi_gen = 'readmod'\n",
    "# read site list\n",
    "mod_file = r'/home/vrath/AEM_Limerick/Limerick_pilot_etopo.rho'\n",
    "nx_bnd = 14\n",
    "ny_bnd = 14\n",
    "centerlatlon = ()\n",
    "centermod = ()"
   ]
  },
  {
   "cell_type": "markdown",
   "id": "d58519e4",
   "metadata": {},
   "source": [
    "Define the path to your EDI-template:"
   ]
  },
  {
   "cell_type": "code",
   "execution_count": null,
   "id": "92d9e7ba",
   "metadata": {
    "lines_to_next_cell": 2
   },
   "outputs": [],
   "source": [
    "edi_template = r'/home/vrath/work/MT/MaChaPo/Template.edi'\n",
    "print(' Edifile template read from: %s' % edi_template)"
   ]
  },
  {
   "cell_type": "markdown",
   "id": "b3ac627a",
   "metadata": {},
   "source": [
    "Define the path and appended string for saved EDI-files:"
   ]
  },
  {
   "cell_type": "code",
   "execution_count": null,
   "id": "a4fde8d3",
   "metadata": {},
   "outputs": [],
   "source": [
    "edi_out_dir = r'/home/vrath/work/MT/MaChaPo/EDI1/'\n",
    "print(' Edifiles written to: %s' % edi_out_dir)\n",
    "if not os.path.isdir(edi_out_dir):\n",
    "    print(' File: %s does not exist, but will be created' % edi_out_dir)\n",
    "    os.mkdir(edi_out_dir)"
   ]
  },
  {
   "cell_type": "code",
   "execution_count": null,
   "id": "c8160301",
   "metadata": {
    "lines_to_next_cell": 2
   },
   "outputs": [],
   "source": [
    "OutName = 'SM_Simple'"
   ]
  },
  {
   "cell_type": "markdown",
   "id": "37860db9",
   "metadata": {
    "lines_to_next_cell": 2
   },
   "source": [
    "No changes required after this line!"
   ]
  },
  {
   "cell_type": "markdown",
   "id": "fa34a330",
   "metadata": {},
   "source": [
    "Construct list of EDI-files:"
   ]
  },
  {
   "cell_type": "code",
   "execution_count": null,
   "id": "44355e9f",
   "metadata": {},
   "outputs": [],
   "source": [
    "if edi_gen == 'grid':\n",
    "    # generate site list\n",
    "    Lat, Lon = utl.gen_grid_latlon(LatLimits, nLat, LonLimits, nLon)\n",
    "    nn = -1\n",
    "    for latval in Lat:\n",
    "        nn = nn + 1\n",
    "        nnstr = str(nn)\n",
    "        mm = -1\n",
    "        print(nnstr)\n",
    "        for lonval in Lon:\n",
    "            mm = mm + 1\n",
    "            mmstr = str(mm)\n",
    "            print(mmstr)\n",
    "\n",
    "    # # Create an MT object\n",
    "\n",
    "            file_in = edi_template\n",
    "            mt_tmp = MT(file_in)\n",
    "\n",
    "            mt_tmp.lat = Lat[nn]\n",
    "            mt_tmp.lon = Lon[mm]\n",
    "            mt_tmp.station = OutName + nnstr + '_' + mmstr\n",
    "\n",
    "            file_out = OutName + nnstr + '_' + mmstr + '.edi'\n",
    "\n",
    "            print('\\n Generating ' + edi_out_dir + file_out)\n",
    "            print(\n",
    "                ' site %s at :  % 10.6f % 10.6f' %\n",
    "                (mt_tmp.station, mt_tmp.lat, mt_tmp.lon))\n",
    "\n",
    "    #  Write a new edi file:\n",
    "\n",
    "            print('Writing data to ' + edi_out_dir + file_out)\n",
    "            mt_tmp.write_mt_file(\n",
    "                save_dir=edi_out_dir,\n",
    "                fn_basename=file_out,\n",
    "                file_type='edi',\n",
    "                longitude_format='LONG',\n",
    "                latlon_format='dd'\n",
    "            )"
   ]
  },
  {
   "cell_type": "code",
   "execution_count": null,
   "id": "0adad91f",
   "metadata": {
    "lines_to_next_cell": 2
   },
   "outputs": [],
   "source": [
    "elif edi_gen == 'readcsv':\n",
    "    # read site list\n",
    "    Site = []\n",
    "    Data = []\n",
    "    with open(edi_file) as ef:\n",
    "        for line in ef:\n",
    "            print(line)\n",
    "            d = line.split(',')\n",
    "            Site.append([d[0]])\n",
    "            Data.append([float(d[1]), float(d[2]), float(d[3])])\n",
    "\n",
    "    Site = [item for sublist in Site for item in sublist]\n",
    "    Site = np.asarray(Site, dtype=object)\n",
    "    Data = np.asarray(Data)\n",
    "\n",
    "    Lon = Data[:, 0]\n",
    "    Lat = Data[:, 1]\n",
    "    Elev = Data[:, 2]\n",
    "\n",
    "    # Enter loop:\n",
    "    nn = -1\n",
    "    for place in Site:\n",
    "        # Create an MT object\n",
    "        nn = nn + 1\n",
    "        file_in = edi_template\n",
    "        mt_tmp = MT(file_in)\n",
    "\n",
    "        mt_tmp.lat = Lat[nn]\n",
    "        mt_tmp.lon = Lon[nn]\n",
    "        mt_tmp.station = place\n",
    "\n",
    "        file_out = OutName + '_' + place + '.edi'\n",
    "\n",
    "        print('\\n Generating ' + edi_out_dir + file_out)\n",
    "        print(' site %s at :  % 10.6f % 10.6f' %\n",
    "              (mt_tmp.station, mt_tmp.lat, mt_tmp.lon))\n",
    "\n",
    "    # # Write a new edi file:\n",
    "\n",
    "        print('Writing data to ' + edi_out_dir + file_out)\n",
    "        mt_tmp.write_mt_file(\n",
    "            save_dir=edi_out_dir,\n",
    "            fn_basename=file_out,\n",
    "            file_type='edi',\n",
    "            longitude_format='LONG',\n",
    "            latlon_format='dd'\n",
    "        )"
   ]
  },
  {
   "cell_type": "code",
   "execution_count": null,
   "id": "bde1157c",
   "metadata": {
    "lines_to_next_cell": 2
   },
   "outputs": [],
   "source": [
    "elif edi_gen == 'readmod':\n",
    "    # read site list\n",
    "\n",
    "    dx, dy, dz, rho, reference = mod.readMod(mod_file)\n",
    "\n",
    "    nx = np.shape(dx)[0]\n",
    "    x = np.hstack((0, np.cumsum(dx)))\n",
    "    xreference = 0.5 * (x[0] + x[nx])\n",
    "    x = x - xreference\n",
    "    xc = 0.5 * (x[1:nx + 1] + x[0:nx])\n",
    "\n",
    "    ny = np.shape(dy)[0]\n",
    "    y = np.hstack((0, np.cumsum(dy)))\n",
    "    yreference = 0.5 * (y[0] + y[ny])\n",
    "    y = y - yreference\n",
    "    yc = 0.5 * (y[1:ny + 1] + y[0:ny])\n",
    "\n",
    "    for ii in np.arange(nx_bnd + 1, nx - nx_bnd + 1):\n",
    "\n",
    "        for jj in np.arange(ny_bnd + 1, ny - ny_bnd + 1):\n",
    "\n",
    "            Site = '_' + str(ii) + '_' + str(jj)\n",
    "\n",
    "    for place in Site:\n",
    "        # Create an MT object\n",
    "        nn = nn + 1\n",
    "        file_in = edi_template\n",
    "        mt_tmp = MT(file_in)\n",
    "\n",
    "        mt_tmp.lat = Lat[nn]\n",
    "        mt_tmp.lon = Lon[nn]\n",
    "        mt_tmp.station = place\n",
    "\n",
    "        file_out = OutName + '_' + place + '.edi'\n",
    "\n",
    "        print('\\n Generating ' + edi_out_dir + file_out)\n",
    "        print(' site %s at :  % 10.6f % 10.6f' %\n",
    "              (mt_tmp.station, mt_tmp.lat, mt_tmp.lon))\n",
    "\n",
    "    # # Write a new edi file:\n",
    "\n",
    "        print('Writing data to ' + edi_out_dir + file_out)\n",
    "        mt_tmp.write_mt_file(\n",
    "            save_dir=edi_out_dir,\n",
    "            fn_basename=file_out,\n",
    "            file_type='edi',\n",
    "            longitude_format='LONG',\n",
    "            latlon_format='dd'\n",
    "        )"
   ]
  },
  {
   "cell_type": "code",
   "execution_count": null,
   "id": "aeb91717",
   "metadata": {},
   "outputs": [],
   "source": [
    "else:\n",
    "    print('Error: option ' + edi_gen + ' not implemented. Exit.\\n')\n",
    "    sys.exit(1)"
   ]
  }
 ],
 "metadata": {
  "jupytext": {
   "cell_metadata_filter": "-all",
   "encoding": "# -*- coding: utf-8 -*-",
   "formats": "py,ipynb"
  },
  "kernelspec": {
   "display_name": "Python 3",
   "language": "python",
   "name": "python3"
  }
 },
 "nbformat": 4,
 "nbformat_minor": 5
}

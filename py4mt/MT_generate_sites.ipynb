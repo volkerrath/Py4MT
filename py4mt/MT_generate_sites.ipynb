{
 "cells": [
  {
   "cell_type": "code",
   "execution_count": null,
   "metadata": {},
   "outputs": [],
   "source": [
    "\"\"\"\n",
    "generate pseudo dat for forward modelling studies\n",
    "\n",
    "@author: sb & vr July 2020\n",
    "\n",
    "\"\"\""
   ]
  },
  {
   "cell_type": "markdown",
   "metadata": {},
   "source": [
    "Import required modules"
   ]
  },
  {
   "cell_type": "code",
   "execution_count": null,
   "metadata": {
    "lines_to_next_cell": 2
   },
   "outputs": [],
   "source": [
    "import os\n",
    "import sys\n",
    "import csv\n",
    "import modules.util as utl\n",
    "from mtpy.core.mt import MT\n",
    "import numpy as np"
   ]
  },
  {
   "cell_type": "code",
   "execution_count": null,
   "metadata": {},
   "outputs": [],
   "source": [
    "# edi_gen = 'grid'\n",
    "# # generate site list\n",
    "# LonLimits = ( 6.275, 6.39)\n",
    "# nLon = 31\n",
    "# LatLimits = (45.37,45.46)\n",
    "# nLat = 31 \n",
    "LonLimits = (0,0)\n",
    "nLon = 0\n",
    "LatLimits = (0,0)\n",
    "nLat = 0 "
   ]
  },
  {
   "cell_type": "code",
   "execution_count": null,
   "metadata": {},
   "outputs": [],
   "source": [
    "edi_gen = 'read'\n",
    "# read site list\n",
    "edi_file = r'/home/vrath/AEM_Limerick/Limerick_pilot.csv'"
   ]
  },
  {
   "cell_type": "markdown",
   "metadata": {},
   "source": [
    "Define the path to your EDI-files:"
   ]
  },
  {
   "cell_type": "code",
   "execution_count": null,
   "metadata": {},
   "outputs": [],
   "source": [
    "edi_template = r'/home/vrath/AEM_Limerick/EDI_AMT_template.edi'\n",
    "print(' Edifile template read from: %s' % edi_template)"
   ]
  },
  {
   "cell_type": "markdown",
   "metadata": {},
   "source": [
    "Define the path and appended string for saved EDI-files:"
   ]
  },
  {
   "cell_type": "code",
   "execution_count": null,
   "metadata": {},
   "outputs": [],
   "source": [
    "edi_out_dir=r'/home/vrath/AEM_Limerick/edi/'\n",
    "print(' Edifiles written to: %s' % edi_out_dir)\n",
    "if not os.path.isdir(edi_out_dir):\n",
    "    print(' File: %s does not exist, but will be created' % edi_out_dir)\n",
    "    os.mkdir(edi_out_dir)"
   ]
  },
  {
   "cell_type": "code",
   "execution_count": null,
   "metadata": {
    "lines_to_next_cell": 2
   },
   "outputs": [],
   "source": [
    "OutName = 'Lim'"
   ]
  },
  {
   "cell_type": "markdown",
   "metadata": {
    "lines_to_next_cell": 2
   },
   "source": [
    "No changes required after this line!"
   ]
  },
  {
   "cell_type": "markdown",
   "metadata": {},
   "source": [
    "Construct list of EDI-files:"
   ]
  },
  {
   "cell_type": "code",
   "execution_count": null,
   "metadata": {},
   "outputs": [],
   "source": [
    "if edi_gen == 'grid': \n",
    "    # generate site list\n",
    "    Lat, Lon = utl.gen_grid(LatLimits, nLat, LonLimits, nLon)\n",
    "    nn = -1\n",
    "    for latval in Lat:\n",
    "        nn=nn+1\n",
    "        nnstr = str(nn)\n",
    "        mm = -1\n",
    "        print(nnstr)\n",
    "        for lonval in Lon:\n",
    "            mm=mm+1\n",
    "            mmstr = str(mm)\n",
    "            print(mmstr)\n",
    "    \n",
    "    \n",
    "    # # Create an MT object \n",
    "    \n",
    "            file_in = edi_template\n",
    "            mt_tmp = MT(file_in)\n",
    "        \n",
    "            mt_tmp.lat = Lat[nn]\n",
    "            mt_tmp.lon = Lon[mm]\n",
    "            mt_tmp.station = OutName+nnstr+'_'+mmstr\n",
    "        \n",
    "            file_out = OutName+nnstr+'_'+mmstr+'.edi'\n",
    "        \n",
    "            print('\\n Generating '+edi_out_dir+file_out)\n",
    "            print(' site %s at :  % 10.6f % 10.6f' % (mt_tmp.station, mt_tmp.lat, mt_tmp.lon))\n",
    "    \n",
    "    #  Write a new edi file:\n",
    "    \n",
    "            print('Writing data to '+edi_out_dir+file_out)\n",
    "            mt_tmp.write_mt_file(\n",
    "                save_dir=edi_out_dir,\n",
    "                fn_basename=file_out,\n",
    "                file_type='edi',\n",
    "                longitude_format='LONG',\n",
    "                latlon_format='dd'\n",
    "                )"
   ]
  },
  {
   "cell_type": "code",
   "execution_count": null,
   "metadata": {},
   "outputs": [],
   "source": [
    "elif edi_gen == 'read':\n",
    "    # read site list\n",
    "    Site = []\n",
    "    Data = []\n",
    "    with open(edi_file) as ef:\n",
    "        for line in ef:\n",
    "            print(line)\n",
    "            d = line.split(',')\n",
    "            Site.append([d[0]])               \n",
    "            Data.append([float(d[1]),float(d[2]),float(d[3])])\n",
    "\n",
    "\n",
    "    Site = [item for sublist in Site for item in sublist]\n",
    "    Site = np.asarray(Site,dtype=object)\n",
    "    Data = np.asarray(Data)\n",
    "     \n",
    "    Lon   = Data[:,0]\n",
    "    Lat   = Data[:,1]\n",
    "    Elev  = Data[:,2]\n",
    "\n",
    "\n",
    "\n",
    "    # Enter loop:\n",
    "    nn=-1\n",
    "    for place in Site:\n",
    "    # Create an MT object \n",
    "        nn=nn+1\n",
    "        file_in = edi_template\n",
    "        mt_tmp = MT(file_in)\n",
    "    \n",
    "        mt_tmp.lat = Lat[nn]\n",
    "        mt_tmp.lon = Lon[nn]\n",
    "        mt_tmp.station = place\n",
    "    \n",
    "        file_out = OutName+'_'+place+'.edi'\n",
    "    \n",
    "        print('\\n Generating '+edi_out_dir+file_out)\n",
    "        print(' site %s at :  % 10.6f % 10.6f' % (mt_tmp.station, mt_tmp.lat, mt_tmp.lon))\n",
    "    \n",
    "    # # Write a new edi file:\n",
    "    \n",
    "        print('Writing data to '+edi_out_dir+file_out)\n",
    "        mt_tmp.write_mt_file(\n",
    "            save_dir=edi_out_dir,\n",
    "            fn_basename=file_out,\n",
    "            file_type='edi',\n",
    "            longitude_format='LONG',\n",
    "            latlon_format='dd'\n",
    "            )"
   ]
  },
  {
   "cell_type": "code",
   "execution_count": null,
   "metadata": {},
   "outputs": [],
   "source": []
  },
  {
   "cell_type": "code",
   "execution_count": null,
   "metadata": {},
   "outputs": [],
   "source": [
    "else:\n",
    "    print ('Error: option '+edi_gen+' not implemented. Exit.\\n' )\n",
    "    sys.exit(1)"
   ]
  },
  {
   "cell_type": "code",
   "execution_count": null,
   "metadata": {},
   "outputs": [],
   "source": [
    "    "
   ]
  },
  {
   "cell_type": "code",
   "execution_count": null,
   "metadata": {},
   "outputs": [],
   "source": []
  },
  {
   "cell_type": "code",
   "execution_count": null,
   "metadata": {},
   "outputs": [],
   "source": [
    "  "
   ]
  }
 ],
 "metadata": {
  "jupytext": {
   "cell_metadata_filter": "-all",
   "encoding": "# -*- coding: utf-8 -*-",
   "formats": "py:light,ipynb"
  },
  "kernelspec": {
   "display_name": "Python 3",
   "language": "python",
   "name": "python3"
  }
 },
 "nbformat": 4,
 "nbformat_minor": 4
}

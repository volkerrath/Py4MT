{
 "cells": [
  {
   "cell_type": "code",
   "execution_count": null,
   "metadata": {},
   "outputs": [],
   "source": [
    "\"\"\"\n",
    "Reads ModEM's Jacobian, does fancy things.\n",
    "\n",
    "@author: vr july 2020\n",
    "\n",
    "Created on Tue Jul  7 16:59:01 2020\n",
    "\n",
    "@author: vrath\n",
    "\n",
    "\"\"\""
   ]
  },
  {
   "cell_type": "markdown",
   "metadata": {},
   "source": [
    "Import required modules"
   ]
  },
  {
   "cell_type": "code",
   "execution_count": null,
   "metadata": {
    "lines_to_next_cell": 2
   },
   "outputs": [],
   "source": [
    "import os\n",
    "import sys\n",
    "from sys import exit as error\n",
    "# import struct\n",
    "import time"
   ]
  },
  {
   "cell_type": "code",
   "execution_count": null,
   "metadata": {},
   "outputs": [],
   "source": [
    "import numpy as np\n",
    "import math  as ma\n",
    "import netCDF4 as nc"
   ]
  },
  {
   "cell_type": "code",
   "execution_count": null,
   "metadata": {},
   "outputs": [],
   "source": [
    "from scipy.ndimage import \\\n",
    "    gaussian_filter, laplace, convolve, gaussian_gradient_magnitude,median_filter\n",
    "from scipy.linalg  import norm\n",
    "from sys import exit as error\n",
    "from modules.modem import *\n",
    "from modules.util import shock3d\n",
    "#import readJac, writeJacNC, readDat, writeDatNC, sparsifyJac, readMod, rsvd\n",
    "rhoair = 1.e+17"
   ]
  },
  {
   "cell_type": "code",
   "execution_count": null,
   "metadata": {},
   "outputs": [],
   "source": [
    "total = 0\n",
    "ModFile_in  = r'/home/vrath/work/MT/Annecy/ImageProc/In/ANN20_02_PT_NLCG_016'\n",
    "ModFile_out = r'/home/vrath/work/MT/Annecy/ImageProc/Out/ANN20_02_PT_NLCG_016_ImProc'"
   ]
  },
  {
   "cell_type": "code",
   "execution_count": null,
   "metadata": {},
   "outputs": [],
   "source": [
    "action = 'ellipsoid' # 'box'\n",
    "instances =[[0., 0., 10.,  4., 2., 3.,45., 45., 30.]]\n",
    "ns = np.shape(instances)"
   ]
  },
  {
   "cell_type": "code",
   "execution_count": null,
   "metadata": {
    "lines_to_next_cell": 2
   },
   "outputs": [],
   "source": [
    "smooth = True   #'reflect'"
   ]
  },
  {
   "cell_type": "code",
   "execution_count": null,
   "metadata": {},
   "outputs": [],
   "source": [
    "start = time.time()\n",
    "dx, dy, dz, rho, reference = readMod(ModFile_in+'.rho',out = True)\n",
    "writeMod(ModFile_out+'.rho', dx, dy, dz, rho,reference,out = True)\n",
    "elapsed = (time.time() - start)\n",
    "total = total + elapsed\n",
    "print (' Used %7.4f s for reading model from %s ' % (elapsed,ModFile_in+'.rho'))"
   ]
  },
  {
   "cell_type": "code",
   "execution_count": null,
   "metadata": {},
   "outputs": [],
   "source": [
    "air = rho > rhoair/100."
   ]
  },
  {
   "cell_type": "code",
   "execution_count": null,
   "metadata": {},
   "outputs": [],
   "source": [
    "start = time.time()\n",
    "if action == 'ellipsoid ':\n",
    "\n",
    "    rhonew = median_filter(rho, size=kernel_size, mode = bmode)\n",
    "    rhonew[air] = rhoair\n",
    "    Modout =ModFile_out+'_mediankernel'+str(kersiz)+'_'+bmode+'.rho'\n",
    "    writeMod(Modout, dx, dy, dz, rhonew,reference,out = True)\n",
    "    elapsed = (time.time() - start)\n",
    "    print (' Used %7.4f s for processing/writing model to %s ' % (elapsed,Modout))"
   ]
  },
  {
   "cell_type": "code",
   "execution_count": null,
   "metadata": {
    "lines_to_next_cell": 2
   },
   "outputs": [],
   "source": [
    "elif action == 'shockfilt':\n",
    "    rhonew = shock3d(rho,dt=0.25,maxit=30)\n",
    "    rhonew[air] = rhoair\n",
    "    Modout =ModFile_out+'_shockfilt'+str(maxit)+'.rho'\n",
    "    writeMod(Modout, dx, dy, dz, rhonew,reference,out = True)\n",
    "    elapsed = (time.time() - start)\n",
    "    print (' Used %7.4f s for processing/writing model to %s ' % (elapsed,Modout))"
   ]
  },
  {
   "cell_type": "code",
   "execution_count": null,
   "metadata": {},
   "outputs": [],
   "source": [
    "total = total + elapsed\n",
    "print (' Total time used:  %f s ' % (total))"
   ]
  }
 ],
 "metadata": {
  "jupytext": {
   "cell_metadata_filter": "-all",
   "encoding": "# -*- coding: utf-8 -*-",
   "executable": "/usr/bin/env python3",
   "formats": "py:light,ipynb",
   "main_language": "python"
  }
 },
 "nbformat": 4,
 "nbformat_minor": 4
}

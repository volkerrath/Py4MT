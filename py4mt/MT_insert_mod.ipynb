{
 "cells": [
  {
   "cell_type": "code",
   "execution_count": null,
   "metadata": {},
   "outputs": [],
   "source": [
    "\"\"\"\n",
    "Reads ModEM's Jacobian, does fancy things.\n",
    "\n",
    "@author: vr july 2020\n",
    "\n",
    "Created on Tue Jul  7 16:59:01 2020\n",
    "\n",
    "@author: vrath\n",
    "\n",
    "\"\"\""
   ]
  },
  {
   "cell_type": "markdown",
   "metadata": {},
   "source": [
    "Import required modules"
   ]
  },
  {
   "cell_type": "code",
   "execution_count": null,
   "metadata": {
    "lines_to_next_cell": 2
   },
   "outputs": [],
   "source": [
    "import os\n",
    "import sys\n",
    "from sys import exit as error\n",
    "# import struct\n",
    "import time"
   ]
  },
  {
   "cell_type": "code",
   "execution_count": null,
   "metadata": {},
   "outputs": [],
   "source": [
    "import numpy as np\n",
    "import math  as ma\n",
    "import netCDF4 as nc"
   ]
  },
  {
   "cell_type": "code",
   "execution_count": null,
   "metadata": {},
   "outputs": [],
   "source": [
    "from scipy.ndimage import \\\n",
    "    gaussian_filter, laplace, convolve, gaussian_gradient_magnitude,median_filter\n",
    "from scipy.linalg  import norm\n",
    "from sys import exit as error"
   ]
  },
  {
   "cell_type": "code",
   "execution_count": null,
   "metadata": {
    "lines_to_next_cell": 2
   },
   "outputs": [],
   "source": [
    "from modules.modem import *\n",
    "from modules.util import *\n",
    "#import readJac, writeJacNC, readDat, writeDatNC, sparsifyJac, readMod, rsvd\n",
    "rhoair = 1.e+17"
   ]
  },
  {
   "cell_type": "code",
   "execution_count": null,
   "metadata": {},
   "outputs": [],
   "source": [
    "ModFile_in  = r'/home/vrath/work/MT/Annecy/ImageProc/In/ANN20_02_PT_NLCG_016'\n",
    "ModFile_out = r'/home/vrath/work/MT/Annecy/ImageProc/Out/ANN20_02_PT_NLCG_016_insbody'"
   ]
  },
  {
   "cell_type": "code",
   "execution_count": null,
   "metadata": {},
   "outputs": [],
   "source": [
    "bodies = [['ell', 0., 0., 10.,  4., 2., 3.,45., 45., 30.]]\n",
    "nb     = np.shape(bodies)"
   ]
  },
  {
   "cell_type": "code",
   "execution_count": null,
   "metadata": {},
   "outputs": [],
   "source": [
    "smooth    = True   #'reflect'"
   ]
  },
  {
   "cell_type": "code",
   "execution_count": null,
   "metadata": {},
   "outputs": [],
   "source": [
    "total = 0\n",
    "start = time.time()"
   ]
  },
  {
   "cell_type": "code",
   "execution_count": null,
   "metadata": {},
   "outputs": [],
   "source": [
    "dx, dy, dz, rho, reference = readMod(ModFile_in+'.rho',out = True)\n",
    "# writeMod(ModFile_out+'.rho', dx, dy, dz, rho,reference,out = True)\n",
    "elapsed = (time.time() - start)\n",
    "total = total + elapsed\n",
    "print (' Used %7.4f s for reading model from %s ' % (elapsed,ModFile_in+'.rho'))"
   ]
  },
  {
   "cell_type": "code",
   "execution_count": null,
   "metadata": {},
   "outputs": [],
   "source": [
    "air = rho > rhoair/100."
   ]
  },
  {
   "cell_type": "code",
   "execution_count": null,
   "metadata": {},
   "outputs": [],
   "source": [
    "start = time.time()"
   ]
  },
  {
   "cell_type": "code",
   "execution_count": null,
   "metadata": {
    "lines_to_next_cell": 2
   },
   "outputs": [],
   "source": [
    "for ibody in range(nb[0]):\n",
    "    rhonew = insert_body(rho,bodies)\n",
    "    Modout =ModFile_out+'.rho'\n",
    "    writeMod(Modout, dx, dy, dz, rhonew,reference,out = True)\n",
    "\n",
    "    if bodies[ibody,0][0:3] == 'ell':\n",
    "        rhonew = insert_ellipsoid(rho, size=kernel_size, mode = bmode)\n",
    "        rhonew[air] = rhoair\n",
    "        Modout =ModFile_out+'_mediankernel'+str(kersiz)+'_'+bmode+'.rho'\n",
    "        writeMod(Modout, dx, dy, dz, rhonew,reference,out = True)\n",
    "        elapsed = (time.time() - start)\n",
    "        print (' Used %7.4f s for processing/writing model to %s ' % (elapsed,Modout))\n",
    "\n",
    "    elif bodies[ibody,0][0:3]  == 'box':\n",
    "        rhonew = in_box(rho, size=kernel_size, mode = bmode)\n",
    "        rhonew[air] = rhoair\n",
    "        Modout =ModFile_out+'_shockfilt'+str(maxit)+'.rho'\n",
    "        writeMod(Modout, dx, dy, dz, rhonew,reference,out = True)\n",
    "        elapsed = (time.time() - start)\n",
    "        print (' Used %7.4f s for processing/writing model to %s ' % (elapsed,Modout))"
   ]
  },
  {
   "cell_type": "code",
   "execution_count": null,
   "metadata": {},
   "outputs": [],
   "source": [
    "total = total + elapsed\n",
    "print (' Total time used:  %f s ' % (total))"
   ]
  }
 ],
 "metadata": {
  "jupytext": {
   "cell_metadata_filter": "-all",
   "encoding": "# -*- coding: utf-8 -*-",
   "executable": "/usr/bin/env python3",
   "formats": "py:light,ipynb",
   "main_language": "python"
  }
 },
 "nbformat": 4,
 "nbformat_minor": 4
}

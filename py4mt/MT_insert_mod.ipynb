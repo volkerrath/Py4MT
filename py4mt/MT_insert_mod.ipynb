{
 "cells": [
  {
   "cell_type": "code",
   "execution_count": null,
   "id": "e083ed17",
   "metadata": {},
   "outputs": [],
   "source": [
    "\"\"\"\n",
    "Reads ModEM'smodel file, adds perturbations.\n",
    "\n",
    "Ellipsoids or boxes\n",
    "\n",
    "@author: vr jan 2021\n",
    "\n",
    "\n",
    "\"\"\""
   ]
  },
  {
   "cell_type": "code",
   "execution_count": null,
   "id": "b22e6d16",
   "metadata": {},
   "outputs": [],
   "source": [
    "import os\n",
    "import sys\n",
    "from sys import exit as error\n",
    "import time\n",
    "from datetime import datetime\n",
    "import warnings"
   ]
  },
  {
   "cell_type": "code",
   "execution_count": null,
   "id": "9d0696ef",
   "metadata": {},
   "outputs": [],
   "source": [
    "import numpy as np\n",
    "import netCDF4 as nc\n",
    "import scipy.ndimage as spn\n",
    "import scipy.linalg as spl"
   ]
  },
  {
   "cell_type": "code",
   "execution_count": null,
   "id": "febfcaf9",
   "metadata": {},
   "outputs": [],
   "source": [
    "import vtk\n",
    "import pyvista as pv\n",
    "import PVGeo as pvg\n",
    "import omf\n",
    "import omfvista as ov\n",
    "import gdal"
   ]
  },
  {
   "cell_type": "code",
   "execution_count": null,
   "id": "01d80450",
   "metadata": {},
   "outputs": [],
   "source": [
    "mypath = [\"/home/vrath/Py4MT/py4mt/modules/\",\n",
    "          \"/home/vrath/Py4MT/py4mt/scripts/\"]\n",
    "for pth in mypath:\n",
    "    if pth not in sys.path:\n",
    "        sys.path.insert(0,pth)"
   ]
  },
  {
   "cell_type": "code",
   "execution_count": null,
   "id": "638edb5c",
   "metadata": {},
   "outputs": [],
   "source": [
    "import modules\n",
    "import modem as mod\n",
    "import util as utl\n",
    "from version import versionstrg"
   ]
  },
  {
   "cell_type": "code",
   "execution_count": null,
   "id": "e0da0f49",
   "metadata": {
    "lines_to_next_cell": 2
   },
   "outputs": [],
   "source": [
    "Strng, _ = versionstrg()\n",
    "now = datetime.now()\n",
    "print(\"\\n\\n\"+Strng)\n",
    "print(\"Insert bodies into model\"+\"\\n\"+\"\".join(\"Date \" + now.strftime(\"%m/%d/%Y, %H:%M:%S\")))\n",
    "print(\"\\n\\n\")"
   ]
  },
  {
   "cell_type": "code",
   "execution_count": null,
   "id": "6e904831",
   "metadata": {
    "lines_to_next_cell": 2
   },
   "outputs": [],
   "source": [
    "warnings.simplefilter(action=\"ignore\", category=FutureWarning)"
   ]
  },
  {
   "cell_type": "code",
   "execution_count": null,
   "id": "d29294bc",
   "metadata": {},
   "outputs": [],
   "source": [
    "rhoair = 1.e17"
   ]
  },
  {
   "cell_type": "code",
   "execution_count": null,
   "id": "77ffbdab",
   "metadata": {},
   "outputs": [],
   "source": [
    "ModFile_in = r\"/home/vrath/work/MT/Annecy/ImageProc/In/ANN20_02_PT_NLCG_016\"\n",
    "ModFile_out = r\"/home/vrath/work/MT/Annecy/ImageProc/Out/ANN20_02_PT_NLCG_016_insert\""
   ]
  },
  {
   "cell_type": "code",
   "execution_count": null,
   "id": "ccb70178",
   "metadata": {},
   "outputs": [],
   "source": [
    "geocenter = [45.938251, 6.084900]\n",
    "utm_x, utm_y = utl.proj_latlon_to_utm(geocenter[0], geocenter[1], utm_zone=32631)\n",
    "utmcenter = [utm_x, utm_y, 0.0]"
   ]
  },
  {
   "cell_type": "code",
   "execution_count": null,
   "id": "85d9c9c0",
   "metadata": {},
   "outputs": [],
   "source": [
    "ell = [\"ell\", \"rep\", 0., 0., 0., 3000., 10000., 2000., 1000., 0., 0., 30.]\n",
    "box = [\"box\", \"rep\", 0., 0., 0., 1000., 2000., 1000., 1000., 0., 0., 30.]\n",
    "bodies = [ell, box]\n",
    "nb = np.shape(bodies)\n",
    "# smoother=['gaussian',0.5]\n",
    "smoother = [\"uniform\", 3]\n",
    "total = 0\n",
    "start = time.time()"
   ]
  },
  {
   "cell_type": "code",
   "execution_count": null,
   "id": "f42097b6",
   "metadata": {},
   "outputs": [],
   "source": [
    "dx, dy, dz, rho, reference = mod.readMod(ModFile_in + \".rho\", out=True)\n",
    "# writeMod(ModFile_out+'.rho', dx, dy, dz, rho,reference,out = True)\n",
    "elapsed = time.time() - start\n",
    "total = total + elapsed\n",
    "print(\" Used %7.4f s for reading model from %s \"\n",
    "      % (elapsed, ModFile_in + \".rho\"))"
   ]
  },
  {
   "cell_type": "code",
   "execution_count": null,
   "id": "9c54af79",
   "metadata": {},
   "outputs": [],
   "source": [
    "air = rho > rhoair / 100."
   ]
  },
  {
   "cell_type": "code",
   "execution_count": null,
   "id": "190e6a9a",
   "metadata": {},
   "outputs": [],
   "source": [
    "rho = mod.prepare_mod(rho, rhoair=rhoair)"
   ]
  },
  {
   "cell_type": "code",
   "execution_count": null,
   "id": "3cb3923c",
   "metadata": {
    "lines_to_next_cell": 2
   },
   "outputs": [],
   "source": [
    "for ibody in range(nb[0]):\n",
    "    body = bodies[ibody]\n",
    "    rhonew = mod.insert_body(dx, dy, dz, rho, body, smooth=smoother)\n",
    "    rhonew[air] = rhoair\n",
    "    Modout = ModFile_out+\"_\"+body[0]+str(ibody)+\"_\"+smoother[0]+\".rho\"\n",
    "    mod.writeMod(Modout, dx, dy, dz, rhonew, reference, out=True)\n",
    "\n",
    "    elapsed = time.time() - start\n",
    "    print(\" Used %7.4f s for processing/writing model to %s\"\n",
    "          % (elapsed, Modout))\n",
    "    print(\"\\n\")"
   ]
  },
  {
   "cell_type": "code",
   "execution_count": null,
   "id": "867a6291",
   "metadata": {},
   "outputs": [],
   "source": [
    "total = total + elapsed\n",
    "print(\" Total time used:  %f s \" % (total))"
   ]
  }
 ],
 "metadata": {
  "jupytext": {
   "cell_metadata_filter": "-all",
   "encoding": "# -*- coding: utf-8 -*-",
   "executable": "/usr/bin/env python3",
   "formats": "py,ipynb",
   "main_language": "python"
  }
 },
 "nbformat": 4,
 "nbformat_minor": 5
}

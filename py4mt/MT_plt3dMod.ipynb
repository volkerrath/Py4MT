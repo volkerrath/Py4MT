{
 "cells": [
  {
   "cell_type": "code",
   "execution_count": null,
   "id": "entitled-pressing",
   "metadata": {},
   "outputs": [],
   "source": [
    "import os\n",
    "import sys\n",
    "from sys import exit as error\n",
    "import numpy as np\n",
    "import gdal\n",
    "import scipy as sc\n",
    "import vtk\n",
    "import pyvista as pv\n",
    "import pylab as pl\n",
    "from time import sleep"
   ]
  },
  {
   "cell_type": "code",
   "execution_count": null,
   "id": "overall-player",
   "metadata": {},
   "outputs": [],
   "source": [
    "import modem as mod\n",
    "import util as utl"
   ]
  },
  {
   "cell_type": "code",
   "execution_count": null,
   "id": "analyzed-edgar",
   "metadata": {},
   "outputs": [],
   "source": [
    "def plotsliceMod(dx=None ,dy=None ,dz=None ,rho=None, position=None):\n",
    "    \"\"\"\n",
    "    Plot slices through\n",
    "\n",
    "    Parameters\n",
    "    ----------\n",
    "    dx : float\n",
    "        Cell delta x in m. The default is None.\n",
    "    dy : float\n",
    "        Cell delta z in m. The default is None.\n",
    "    dz : float\n",
    "        Cell delta y in m. The default is None.\n",
    "    rho : float\n",
    "        Resitivity of subsurface in Ohm.m, no log transform.\n",
    "        The default is None.\n",
    "    plane : TYPE, optional\n",
    "        DESCRIPTION. The default is None.\n",
    "\n",
    "    Returns\n",
    "    -------\n",
    "    None.\n",
    "\n",
    "    \"\"\"\n",
    "    fig = pl.figure(figsize=(20, 5.5))\n",
    "\n",
    "    fig.canvas.draw()"
   ]
  },
  {
   "cell_type": "code",
   "execution_count": null,
   "id": "double-proof",
   "metadata": {},
   "outputs": [],
   "source": [
    "def plot3dMod(dx=None, dy=None, dz=None, rho=None, TopoFile=None,\n",
    "              View=None, PlotFile=None, PlotFmt='png'):\n",
    "    \"\"\"\n",
    "    Plot 3d view of ModEM model.\n",
    "\n",
    "    Parameters\n",
    "    ----------\n",
    "    dx : float\n",
    "        Cell delta x in m. The default is None.\n",
    "    dy : float\n",
    "        Cell delta z in m. The default is None.\n",
    "    dz : float\n",
    "        Cell delta y in m. The default is None.\n",
    "    rho : float\n",
    "        Resitivity of subsurface in Ohm.m, no log transform.\n",
    "        The default is None.\n",
    "    TopoFile : TYPE, optional\n",
    "        DESCRIPTION. The default is None.\n",
    "    View : TYPE, optional\n",
    "        DESCRIPTION. The default is None.\n",
    "    PlotFile : TYPE, optional\n",
    "        DESCRIPTION. The default is None.\n",
    "    PlotFmt : TYPE, optional\n",
    "        DESCRIPTION. The default is 'png'.\n",
    "\n",
    "    Returns\n",
    "    -------\n",
    "    None.\n",
    "\n",
    "    \"\"\"\n",
    "    if dx is None or dy is None or dz is None or rho is None:\n",
    "        error('Mesh erroneous! Exit.')\n",
    "\n",
    "    x, y, z = mod.cells3d(dx, dy, dz, otype='n')\n",
    "\n",
    "    xm, ym, zm = np.meshgrid(x, y, z)\n",
    "    grid = pv.StructuredGrid(xm, ym, -zm)\n",
    "\n",
    "    Tile = '/home/vrath/work/MT/N45E006.hgt'\n",
    "    srtm1_0 = gdal.Open(Tile)\n",
    "    myarray = np.array(Tile.GetRasterBand(1).ReadAsArray())"
   ]
  },
  {
   "cell_type": "code",
   "execution_count": null,
   "id": "judicial-flexibility",
   "metadata": {},
   "outputs": [],
   "source": []
  }
 ],
 "metadata": {
  "jupytext": {
   "cell_metadata_filter": "-all",
   "formats": "py:light,ipynb",
   "main_language": "python"
  }
 },
 "nbformat": 4,
 "nbformat_minor": 5
}

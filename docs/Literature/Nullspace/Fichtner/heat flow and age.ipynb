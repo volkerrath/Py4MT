{
 "cells": [
  {
   "cell_type": "markdown",
   "metadata": {},
   "source": [
    "# Heat flow and the age of oceanic lithosphere\n",
    "\n",
    "Heat flow through and the age of oceanic lithosphere are strongly anti-correlated. While heat flow near spreading ridges may exceed 200 mW m$^{-2}$, it is only around 50 mW m$^{-2}$ for oceanic lithosphere older than 100 Ma. In this execise, we will build a simple mathematical model of heat flow vs. age using actual heat flow data compiled by Hasterok et al. (2011)."
   ]
  },
  {
   "cell_type": "markdown",
   "metadata": {},
   "source": [
    "## 0. Import Python packages\n",
    "\n",
    "As usual, we start by importing some Python package for basic math and plotting."
   ]
  },
  {
   "cell_type": "code",
   "execution_count": null,
   "metadata": {
    "collapsed": true
   },
   "outputs": [],
   "source": [
    "import numpy as np\n",
    "import matplotlib.pyplot as plt"
   ]
  },
  {
   "cell_type": "markdown",
   "metadata": {},
   "source": [
    "## 1. Setup\n",
    "\n",
    "First, we write Hasterok et al.'s (2011) heat flow vs. age data into two arrays and produce a simple plot."
   ]
  },
  {
   "cell_type": "code",
   "execution_count": null,
   "metadata": {},
   "outputs": [],
   "source": [
    "# Lithospheric age\n",
    "t=np.array([2.5, 5.0, 7.5, 10.0, 12.5, 15.0, 17.5, 20.0, 22.5, 25.0, 27.5, 30.0, 32.5, 35.0, 37.5, 40.0, 42.5, 45.0, 47.5, 50.0, 52.5, 55.0, 57.5, 60.0, 62.5, 65.0, 67.5, 70.0, 72.5, 75.0, 77.5, 80.0, 82.5, 85.0, 87.5, 90.0, 92.5, 95.0, 97.5, 100.0, 102.5, 105.0, 107.5, 110.0, 112.5, 115.0, 117.5, 120.0, 122.5, 125.0, 127.5, 130.0, 132.5, 135.0, 137.5, 140.0, 142.5, 145.0, 147.5, 150.0, 152.5, 155.0, 157.5, 160.0, 162.5, 165.0, 167.5, 170.0, 172.5, 175.0, 177.5, 180.0])\n",
    "# Heat flow.\n",
    "q=np.array([197.0, 215.0, 110.0, 98.7, 103.0, 89.0, 100.0, 86.8, 88.7, 98.0, 91.0, 85.4, 78.0, 72.5, 78.5, 63.1, 76.4, 63.4, 66.0, 68.0, 64.0, 62.1, 68.2, 64.5, 61.0, 67.0, 57.5, 61.8, 65.8, 63.6, 59.0, 64.3, 70.8, 62.0, 38.9, 53.0, 55.1, 56.8, 57.4, 51.9, 52.5, 51.0, 53.9, 53.2, 55.0, 44.0, 53.2, 45.6, 52.9, 53.7, 49.0, 51.1, 48.4, 48.5, 49.7, 50.0, 47.7, 50.4, 47.7, 51.4, 50.7, 43.1, 45.2, 48.6, 48.7, 43.2, 49.0, 45.2, 51.9, 49.0, 49.5, 49.0])\n",
    "\n",
    "# Plot\n",
    "plt.semilogy(t,q,'ko')\n",
    "plt.ylabel(r'heat flow, q [mW m$^-2$]')\n",
    "plt.xlabel('age [Ma]')\n",
    "plt.show()"
   ]
  },
  {
   "cell_type": "markdown",
   "metadata": {},
   "source": [
    "## 2. Exercises\n",
    "\n",
    "1) Using trial and error, fit a model curve of the form\n",
    "\n",
    "\\begin{equation}\n",
    "q^{model}(t) = a ( 1.0 + e^{-bt} )\n",
    "\\end{equation}\n",
    "\n",
    "to the data. Explain if and why you would exclude certain data points.\n",
    "\n",
    "2) Compute the average difference $\\chi=\\frac{1}{N} \\sum_{i=1}^N |q_i - q^{model}_i|$ between the actual data values and the model.  \n",
    "\n",
    "3) The data show some scatter, thus making the fitting procedure somewhat non-unique and subjective. Find 10 alternative pairs of the parameters $(a, b)$ that fit the data acceptably well. Based on this, provide a rough estimate of the uncertainties of $a$ and $b$.\n",
    "\n",
    "4) **Optional**: Instead of finding acceptable parameters $a$ and $b$ by hand, program a random number generator that tests a large number of potential $a$ and $b$ values, returning those that produce an average difference $\\chi$ that is below a given tolerance.\n"
   ]
  }
 ],
 "metadata": {
  "kernelspec": {
   "display_name": "Python 3",
   "language": "python",
   "name": "python3"
  },
  "language_info": {
   "codemirror_mode": {
    "name": "ipython",
    "version": 3
   },
   "file_extension": ".py",
   "mimetype": "text/x-python",
   "name": "python",
   "nbconvert_exporter": "python",
   "pygments_lexer": "ipython3",
   "version": "3.6.3"
  }
 },
 "nbformat": 4,
 "nbformat_minor": 2
}

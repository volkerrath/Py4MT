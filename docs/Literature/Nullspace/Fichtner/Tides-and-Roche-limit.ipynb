{
 "cells": [
  {
   "cell_type": "markdown",
   "metadata": {},
   "source": [
    "# Tidal acceleration and the Roche limit\n",
    "\n",
    "In this exercise, we first compute and visualize the tidal acceleration excerted by the Moon at the surface of the Earth. For this, we implement equations (3.36) and (3.39). We then replace the Moon by the Sun. This will allow us to compare the lunar and solar tidal accelerations on Earth, and to compute the Earth's Roche limit, i.e., the (hypothetical) distance between Earth and Sun at which the solar tidal acceleration would equal the Earth's own gravity."
   ]
  },
  {
   "cell_type": "markdown",
   "metadata": {},
   "source": [
    "## 0. Import Python packages and define constants\n",
    "\n",
    "We start by importing some essential Python packages and defining some constants, including the gravitational constant, the masses of the Earth and the Moon, and their respective radii."
   ]
  },
  {
   "cell_type": "code",
   "execution_count": null,
   "metadata": {
    "collapsed": true
   },
   "outputs": [],
   "source": [
    "import numpy as np\n",
    "import matplotlib.pyplot as plt\n",
    "\n",
    "G=6.67508e-11 # Gravitational constant\n",
    "\n",
    "m_e=5.9722e24 # Mass of the Earth [kg]\n",
    "m_m=7.3476e22 # Mass of the Moon [kg]\n",
    "\n",
    "r_e=6371.0e3 # Radius of the Earth [m]\n",
    "r_m=1738.0e3 # Radius of the Moon [m]\n",
    "\n",
    "r=384100.0e3 # Earth-Moon distance [m]"
   ]
  },
  {
   "cell_type": "markdown",
   "metadata": {},
   "source": [
    "## 1. Tidal acceleration\n",
    "\n",
    "**As a first step, we compute the tidal acceleration excerted by the Moon on the surface of the Earth.** We define acceleration toward the Moon as positive and away from the Moon as negative."
   ]
  },
  {
   "cell_type": "code",
   "execution_count": null,
   "metadata": {},
   "outputs": [],
   "source": [
    "# Tidal acceleration on the side closer to the Moon.\n",
    "a_close=G*m_m*(1.0/(r-r_e)**2-1.0/r**2)\n",
    "\n",
    "# Tidal acceleration on the side further from the Moon.\n",
    "a_far=G*m_m*(1.0/(r+r_e)**2-1.0/r**2)\n",
    "\n",
    "# Output.\n",
    "print(r'a_close=%g m/s^2' % a_close)\n",
    "print(r'a_far=%g m/s^2' % a_far)"
   ]
  },
  {
   "cell_type": "markdown",
   "metadata": {},
   "source": [
    "## 2. Exercises"
   ]
  },
  {
   "cell_type": "markdown",
   "metadata": {},
   "source": [
    "1) Express the lunar tidal acceleration at the surface of the Earth as a fraction (or percentage) of the Earth's own gravitational acceleration, $g=9.81$ m$/$s$^2$. \n",
    "\n",
    "2) Plot the lunar tidal acceleration at the surface of the Earth as a function of a variable Earth-Moon distance (keeping all other parameters, such as the masses and radii of the Earth and the Moon constant). A double-logarithmic plot is useful here. At which (hypothetical) Earth-Moon distance would the tidal acceleration reach 1 % of $g$?\n",
    "\n",
    "3) With a slight modification, we can compute the tidal acceleration of the Sun on Earth. For this, replace the mass of the Moon by the mass of the Sun (1.989e30 kg), and the Earth-Moon distance by the Earth-Sun distance (149,600,000 km). Compare the solar and lunar tidal accelerations at the surface of the Earth.\n",
    "\n",
    "4) Repeat exercise 2) for this new scenario. At which Earth-Sun distance does the Roche limit occur, i.e., at which Earth-Sun distance would the tidal acceleration of the Sun equal the Earth's own gravitational acceleration?"
   ]
  }
 ],
 "metadata": {
  "kernelspec": {
   "display_name": "Python 3",
   "language": "python",
   "name": "python3"
  },
  "language_info": {
   "codemirror_mode": {
    "name": "ipython",
    "version": 3
   },
   "file_extension": ".py",
   "mimetype": "text/x-python",
   "name": "python",
   "nbconvert_exporter": "python",
   "pygments_lexer": "ipython3",
   "version": "3.6.3"
  }
 },
 "nbformat": 4,
 "nbformat_minor": 2
}

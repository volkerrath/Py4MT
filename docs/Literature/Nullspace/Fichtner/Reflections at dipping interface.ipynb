{
 "cells": [
  {
   "cell_type": "markdown",
   "metadata": {},
   "source": [
    "# Seismic wave reflection at a dipping interface\n",
    "\n",
    "In this exercise we try to estimate the depth $d$, the seismic velocity $\\alpha$, and the dip angle $\\theta$ of a layer using travel time measurements of reflected waves. This travel time is gives by Eq. (6.64) as\n",
    "\n",
    "\\begin{equation}\n",
    "t = \\frac{1}{\\alpha} \\sqrt{x^2 + 4xd\\,\\sin\\theta + 4d^2}\\,,\n",
    "\\end{equation}\n",
    "\n",
    "where $x$ is the measurement position."
   ]
  },
  {
   "cell_type": "markdown",
   "metadata": {},
   "source": [
    "## 0. Import Python packages\n",
    "\n",
    "We first import Python packages for basic calculations and for plotting."
   ]
  },
  {
   "cell_type": "code",
   "execution_count": null,
   "metadata": {
    "collapsed": true
   },
   "outputs": [],
   "source": [
    "import numpy as np\n",
    "import matplotlib.pyplot as plt"
   ]
  },
  {
   "cell_type": "markdown",
   "metadata": {},
   "source": [
    "## 1. Setup\n",
    "\n",
    "**In the absence of real data, we will perform a *synthetic* experiment where data are generated artificially.** For this, we first compute some values for $d$, $\\alpha$ and $\\theta$ randomly. Subsequently, we will try to estimate these values based on the analysis of the resulting travel time measurements."
   ]
  },
  {
   "cell_type": "code",
   "execution_count": null,
   "metadata": {},
   "outputs": [],
   "source": [
    "# Randomly generated depth [m] in the range from 1000 m to 2000 m\n",
    "d=1000.0+1000.0*np.random.rand()\n",
    "\n",
    "# Randomly generated dip angle [rad] in the range from 0 rad to 0.1 rad\n",
    "theta=0.1*np.random.rand()\n",
    "\n",
    "# Randomly generated velocity [m/s] in the range from 2000 m/s to 4000 m/s\n",
    "alpha=2000.0+2000.0*np.random.rand()\n",
    "\n",
    "# Compute and plot travel times as function of distance x\n",
    "x=np.linspace(-500.0,500.0,1000)\n",
    "t=np.sqrt(x**2 + 4.0*x*d*np.sin(theta) + 4.0*d**2)/alpha\n",
    "\n",
    "plt.plot(x,t)\n",
    "plt.ylabel('travel time [s]')\n",
    "plt.xlabel('distance [m]')\n",
    "plt.grid()\n",
    "plt.show()"
   ]
  },
  {
   "cell_type": "markdown",
   "metadata": {},
   "source": [
    "## 2. Exercises\n",
    "\n",
    "1) Using the figure produced above, estimate $d/\\alpha$ from the reflected wave traveltime at $x=0$.\n",
    "\n",
    "2) Using Eq. (6.65) and the estimate of $d/\\alpha$, estimate the dip angle $\\theta$ from the minimum travel time $t_m$.\n",
    "\n",
    "3) Also using Eq. (6.65), you may now estimate the reflector depth $d$ from the distance $x_m$ where the minimum traveltime $t_m$ occurs. Finally, using your initial estimate of $d/\\alpha$, compute an estimate of $\\alpha$.\n",
    "\n",
    "4) Check your estimates by printing the randomly generated values of $d$, $\\theta$ and $\\alpha$."
   ]
  }
 ],
 "metadata": {
  "kernelspec": {
   "display_name": "Python 3",
   "language": "python",
   "name": "python3"
  },
  "language_info": {
   "codemirror_mode": {
    "name": "ipython",
    "version": 3
   },
   "file_extension": ".py",
   "mimetype": "text/x-python",
   "name": "python",
   "nbconvert_exporter": "python",
   "pygments_lexer": "ipython3",
   "version": "3.6.3"
  }
 },
 "nbformat": 4,
 "nbformat_minor": 2
}

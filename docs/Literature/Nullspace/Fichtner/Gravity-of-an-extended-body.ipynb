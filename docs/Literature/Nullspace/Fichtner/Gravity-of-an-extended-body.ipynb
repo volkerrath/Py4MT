{
 "cells": [
  {
   "cell_type": "markdown",
   "metadata": {},
   "source": [
    "# Gravity of an extended body\n",
    "\n",
    "In this exercise, we are interested in the numerical approximation of the gravity of an extended body. The gravitational potential at a point $P$ external to that body is given by Eq. (3.13),\n",
    "\n",
    "\\begin{equation}\n",
    "U_g = -G\\, \\int_x \\int_y \\int_z \\frac{\\rho(x,y,z)}{r(x,y,z)}\\,dx\\,dy\\,dz\\,,\n",
    "\\end{equation}\n",
    "\n",
    "where $G$ is the gravitational constant, $\\rho(x,y,z)$ is the density at some location $(x,y,z)$, and $r(x,y,z)$ is the distance between $(x,y,z)$ and the observation point $P$.\n",
    "\n",
    "To numerically solve the integral, we discretize the spatial domain into evenly-spaced grid points $(x_i, y_i, z_i)$, separated by some small distance $h$. We then obtain an approximation of $U_g$ by summing over all grid points,\n",
    "\n",
    "\\begin{equation}\n",
    "U_g \\approx -G\\,\\sum_i \\frac{\\rho(x_i,y_i,z_i)}{r(x_i,y_i,z_i)}\\,V\\,,\n",
    "\\end{equation}\n",
    "\n",
    "where the small volume $V$ is given by $V=h^3\\approx dx\\,dy\\,dz$. The product $\\rho(x_i,y_i,z_i) V$ equals the mass $m_i$ contained in the small volume $V$. Renaming $r_i=r(x_i,y_i,z_i)$, we may rewrite the above equation as\n",
    "\n",
    "\\begin{equation}\n",
    "U_g \\approx -G\\,\\sum_i \\frac{m_i}{r_i}\\,,\n",
    "\\end{equation}\n",
    "\n",
    "which is identical to equation (3.12) in the text.\n",
    "\n",
    "An approximation that we will make throughout this exercise is that the Earth is contained in a small rectangular box. Though this is obviously not realistic, it greatly simplifies the calculations, while still illustrating the basic principles."
   ]
  },
  {
   "cell_type": "markdown",
   "metadata": {},
   "source": [
    "## 0. Import Python packages and define gravitational constant\n",
    "\n",
    "We start by importing some essential Python packages and defining the gravitational constant."
   ]
  },
  {
   "cell_type": "code",
   "execution_count": null,
   "metadata": {
    "collapsed": true
   },
   "outputs": [],
   "source": [
    "import numpy as np\n",
    "import matplotlib.pyplot as plt\n",
    "\n",
    "G=6.67508e-11"
   ]
  },
  {
   "cell_type": "markdown",
   "metadata": {},
   "source": [
    "## 1. Computational domain and density distribution\n",
    "\n",
    "**As a first step, we set up the computational domain, and we define some density distribution.** For convenience, we limit ourselves to a 2D density distribution, meaning that we ignore the spatial extension of the body in $y$-direction."
   ]
  },
  {
   "cell_type": "code",
   "execution_count": null,
   "metadata": {},
   "outputs": [],
   "source": [
    "# Dimension of the computational domain [m].\n",
    "x_min=-50.0e3\n",
    "x_max=50.0e3\n",
    "z_min=-100.0e3\n",
    "z_max=0.0\n",
    "\n",
    "# Grid spacing [m] and cell volume.\n",
    "h=1.0e3\n",
    "V=h**3\n",
    "\n",
    "nx=np.int((x_max-x_min)/h)\n",
    "nz=np.int((z_max-z_min)/h)\n",
    "\n",
    "# Coordinate axes.\n",
    "x=np.linspace(x_min,x_max,nx)\n",
    "z=np.linspace(z_min,z_max,nz)\n",
    "\n",
    "xv,zv=np.meshgrid(x,z,indexing='ij')\n",
    "\n",
    "# Define some density distribution.\n",
    "rho=np.zeros(np.shape(xv))\n",
    "rho[40:60,40:60]=5500.0\n",
    "\n",
    "# Plot density distribution.\n",
    "plt.pcolor(xv/1000.0,zv/1000.0,rho,cmap='Greys')\n",
    "plt.xlabel('x [km]')\n",
    "plt.ylabel('z [km]')\n",
    "plt.title(r'density distribution [kg$/$m$^3$]')\n",
    "plt.colorbar()\n",
    "plt.show()"
   ]
  },
  {
   "cell_type": "markdown",
   "metadata": {},
   "source": [
    "## 2. Gravitational potential"
   ]
  },
  {
   "cell_type": "markdown",
   "metadata": {},
   "source": [
    "**Based on the setup above, we can compute the gravitational potential at some observation points.** For this, we initially choose a line of closely spaced points located $10$ m above the surface."
   ]
  },
  {
   "cell_type": "code",
   "execution_count": null,
   "metadata": {},
   "outputs": [],
   "source": [
    "# Define observation points.\n",
    "x_obs=x\n",
    "z_obs=10.0*np.ones(nx)\n",
    "\n",
    "# Initialize gravitational potential.\n",
    "U=np.zeros(len(x_obs))\n",
    "\n",
    "# Loop over all observation points.\n",
    "for k in range(len(x_obs)):\n",
    "    \n",
    "    r=np.sqrt((x_obs[k]-xv)**2 + (z_obs[k]-zv)**2)\n",
    "    U[k]=-G*V*np.sum(rho/r)\n",
    "            \n",
    "# Plot gravitational potential.\n",
    "plt.plot(x_obs/1000.0,U)\n",
    "plt.xlabel('x [km]')\n",
    "plt.ylabel(r'$U_g$ [$m^2$/$s^2$]')\n",
    "plt.title('gravitational potential')\n",
    "plt.show()"
   ]
  },
  {
   "cell_type": "markdown",
   "metadata": {},
   "source": [
    "## 3. Alternative density distribution\n",
    "\n",
    "**The previous lines of code are very flexible and may be used to study the gravitational potential of other density distributions.** As an example, we consider a denser version of the square from point 2., but with a low-density inclusion."
   ]
  },
  {
   "cell_type": "code",
   "execution_count": null,
   "metadata": {},
   "outputs": [],
   "source": [
    "# Define some alternative density distribution.\n",
    "rho_alt=np.zeros(np.shape(xv))\n",
    "rho_alt[40:60,40:60]=6000.0\n",
    "rho_alt[45:55,45:55]=5000.0\n",
    "\n",
    "# Plot density distribution.\n",
    "plt.pcolor(xv/1000.0,zv/1000.0,rho_alt,cmap='Greys')\n",
    "plt.xlabel('x [km]')\n",
    "plt.ylabel('z [km]')\n",
    "plt.title(r'density distribution [kg$/$m$^3$]')\n",
    "plt.colorbar()\n",
    "plt.show()\n",
    "\n",
    "# Initialize gravitational potential.\n",
    "U_alt=np.zeros(len(x_obs))\n",
    "\n",
    "# Loop over all observation points.\n",
    "for k in range(len(x_obs)):\n",
    "    \n",
    "    r=np.sqrt((x_obs[k]-xv)**2 + (z_obs[k]-zv)**2)\n",
    "    U_alt[k]=-G*V*np.sum(rho_alt/r)\n",
    "\n",
    "# Plot gravitational potential.\n",
    "plt.plot(x_obs/1000.0,U_alt)\n",
    "plt.xlabel('x [km]')\n",
    "plt.ylabel(r'$U_g$ [$m^2$/$s^2$]')\n",
    "plt.title('gravitational potential')\n",
    "plt.show()"
   ]
  },
  {
   "cell_type": "markdown",
   "metadata": {},
   "source": [
    "## 4. Exercises"
   ]
  },
  {
   "cell_type": "markdown",
   "metadata": {},
   "source": [
    "1) In point 3, modify the density of the inclusion such that the resulting gravity potential resembles the potential from point 2 as closely as possible. For this, plot the difference between the variables *U* and *U_alt*, normalized by the maximum value of *U*. What does your result imply for our ability to distinguish different kinds of density distributions in the Earth?\n",
    "\n",
    "\n",
    "2) Modify the 2D density distribution in order to model the gravity potential for the following geologic settings: (a) a normal fault, (b) a reverse fault, (c) an anticline, (d) a syncline, and (e) a void inside a homogeneous medium.\n",
    "\n",
    "3) Compute the gravitational potential on a 2D grid of observation points above the surface ($z>0$) and plot the equipotential surface using the *plt.contour* function.\n",
    "\n",
    "4) **Optional:** Modify the above computation of the gravitational potential for a 2D body so that a 3D-extended body can be considered. (You may need to be careful not to exceed the storage capacity of your computer.)"
   ]
  }
 ],
 "metadata": {
  "kernelspec": {
   "display_name": "Python 3",
   "language": "python",
   "name": "python3"
  },
  "language_info": {
   "codemirror_mode": {
    "name": "ipython",
    "version": 3
   },
   "file_extension": ".py",
   "mimetype": "text/x-python",
   "name": "python",
   "nbconvert_exporter": "python",
   "pygments_lexer": "ipython3",
   "version": "3.6.3"
  }
 },
 "nbformat": 4,
 "nbformat_minor": 2
}
